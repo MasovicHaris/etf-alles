{
 "cells": [
  {
   "cell_type": "markdown",
   "metadata": {},
   "source": [
    "#### Metode i primjena vjestacke inteligencije\n",
    "#### Laboratorijska vjezba 5\n",
    "#### Student: Masovic Haris\n",
    "#### Index: 1689/17993"
   ]
  },
  {
   "cell_type": "markdown",
   "metadata": {},
   "source": [
    "## 0. Dependencies"
   ]
  },
  {
   "cell_type": "code",
   "execution_count": 1,
   "metadata": {},
   "outputs": [
    {
     "name": "stdout",
     "output_type": "stream",
     "text": [
      "Requirement already satisfied: matplotlib in /Library/Frameworks/Python.framework/Versions/3.8/lib/python3.8/site-packages (3.3.2)\n",
      "Requirement already satisfied: python-dateutil>=2.1 in /Library/Frameworks/Python.framework/Versions/3.8/lib/python3.8/site-packages (from matplotlib) (2.8.1)\n",
      "Requirement already satisfied: cycler>=0.10 in /Library/Frameworks/Python.framework/Versions/3.8/lib/python3.8/site-packages (from matplotlib) (0.10.0)\n",
      "Requirement already satisfied: pyparsing!=2.0.4,!=2.1.2,!=2.1.6,>=2.0.3 in /Library/Frameworks/Python.framework/Versions/3.8/lib/python3.8/site-packages (from matplotlib) (2.4.7)\n",
      "Requirement already satisfied: certifi>=2020.06.20 in /Library/Frameworks/Python.framework/Versions/3.8/lib/python3.8/site-packages (from matplotlib) (2020.6.20)\n",
      "Requirement already satisfied: numpy>=1.15 in /Library/Frameworks/Python.framework/Versions/3.8/lib/python3.8/site-packages (from matplotlib) (1.18.5)\n",
      "Requirement already satisfied: pillow>=6.2.0 in /Library/Frameworks/Python.framework/Versions/3.8/lib/python3.8/site-packages (from matplotlib) (8.0.1)\n",
      "Requirement already satisfied: kiwisolver>=1.0.1 in /Library/Frameworks/Python.framework/Versions/3.8/lib/python3.8/site-packages (from matplotlib) (1.3.1)\n",
      "Requirement already satisfied: six>=1.5 in /Library/Frameworks/Python.framework/Versions/3.8/lib/python3.8/site-packages (from python-dateutil>=2.1->matplotlib) (1.15.0)\n",
      "\u001b[33mWARNING: You are using pip version 20.1.1; however, version 20.2.4 is available.\n",
      "You should consider upgrading via the '/Library/Frameworks/Python.framework/Versions/3.8/bin/python3.8 -m pip install --upgrade pip' command.\u001b[0m\n"
     ]
    }
   ],
   "source": [
    "import sys\n",
    "\n",
    "!{sys.executable} -m pip install matplotlib"
   ]
  },
  {
   "cell_type": "markdown",
   "metadata": {},
   "source": [
    "## 2. Dataset: Reuters"
   ]
  },
  {
   "cell_type": "markdown",
   "metadata": {},
   "source": [
    "### 2.1 Ucitavanje dataset-a"
   ]
  },
  {
   "cell_type": "code",
   "execution_count": 2,
   "metadata": {},
   "outputs": [],
   "source": [
    "from keras.datasets import reuters\n",
    "\n",
    "(train_data, train_labels), (test_data, test_labels) = reuters.load_data(num_words=10000)"
   ]
  },
  {
   "cell_type": "markdown",
   "metadata": {},
   "source": [
    "#### 2.1.1 Koliko novosti ima u `train_data`, a koliko u `test_data`?"
   ]
  },
  {
   "cell_type": "code",
   "execution_count": 3,
   "metadata": {},
   "outputs": [
    {
     "name": "stdout",
     "output_type": "stream",
     "text": [
      "Broj novosti u train_data 8982\n",
      "Broj novosti u test_data 2246\n"
     ]
    }
   ],
   "source": [
    "print(*['Broj novosti u train_data', len(train_data)])\n",
    "print(*['Broj novosti u test_data', len(test_data)])"
   ]
  },
  {
   "cell_type": "markdown",
   "metadata": {},
   "source": [
    "#### 2.1.2 Izlistajte vrijednosti iz `train_data[0]`."
   ]
  },
  {
   "cell_type": "code",
   "execution_count": 4,
   "metadata": {},
   "outputs": [
    {
     "name": "stdout",
     "output_type": "stream",
     "text": [
      "[1, 2, 2, 8, 43, 10, 447, 5, 25, 207, 270, 5, 3095, 111, 16, 369, 186, 90, 67, 7, 89, 5, 19, 102, 6, 19, 124, 15, 90, 67, 84, 22, 482, 26, 7, 48, 4, 49, 8, 864, 39, 209, 154, 6, 151, 6, 83, 11, 15, 22, 155, 11, 15, 7, 48, 9, 4579, 1005, 504, 6, 258, 6, 272, 11, 15, 22, 134, 44, 11, 15, 16, 8, 197, 1245, 90, 67, 52, 29, 209, 30, 32, 132, 6, 109, 15, 17, 12]\n"
     ]
    }
   ],
   "source": [
    "print(train_data[0])"
   ]
  },
  {
   "cell_type": "markdown",
   "metadata": {},
   "source": [
    "#### 2.1.3 Za prvih 15 sekvenci isprintati: a) broj elemenata u sekvenci, b) kojoj klasi pripada, c) maksimalan i d) minimalan indeks u sekvenci. U izvjestaju napisati kod koji ste koristili za ovaj zadatak, kao i rezultate. Primjer rezultata dat je u ispisu ispod. (Koristiti for petlju.)"
   ]
  },
  {
   "cell_type": "code",
   "execution_count": 5,
   "metadata": {},
   "outputs": [
    {
     "name": "stdout",
     "output_type": "stream",
     "text": [
      "Broj elemenata u sekvenci train_data[0] je: (87,), a klasa je: 3\n",
      "Najveci index u sekvenci je: 4579\n",
      "Najmanji index u sekvenci je: 1\n",
      "Broj elemenata u sekvenci train_data[1] je: (56,), a klasa je: 4\n",
      "Najveci index u sekvenci je: 7511\n",
      "Najmanji index u sekvenci je: 1\n",
      "Broj elemenata u sekvenci train_data[2] je: (139,), a klasa je: 3\n",
      "Najveci index u sekvenci je: 4514\n",
      "Najmanji index u sekvenci je: 1\n",
      "Broj elemenata u sekvenci train_data[3] je: (224,), a klasa je: 4\n",
      "Najveci index u sekvenci je: 9691\n",
      "Najmanji index u sekvenci je: 1\n",
      "Broj elemenata u sekvenci train_data[4] je: (101,), a klasa je: 4\n",
      "Najveci index u sekvenci je: 8295\n",
      "Najmanji index u sekvenci je: 1\n",
      "Broj elemenata u sekvenci train_data[5] je: (116,), a klasa je: 4\n",
      "Najveci index u sekvenci je: 3234\n",
      "Najmanji index u sekvenci je: 1\n",
      "Broj elemenata u sekvenci train_data[6] je: (100,), a klasa je: 4\n",
      "Najveci index u sekvenci je: 9474\n",
      "Najmanji index u sekvenci je: 1\n",
      "Broj elemenata u sekvenci train_data[7] je: (100,), a klasa je: 3\n",
      "Najveci index u sekvenci je: 6675\n",
      "Najmanji index u sekvenci je: 1\n",
      "Broj elemenata u sekvenci train_data[8] je: (82,), a klasa je: 3\n",
      "Najveci index u sekvenci je: 4297\n",
      "Najmanji index u sekvenci je: 1\n",
      "Broj elemenata u sekvenci train_data[9] je: (106,), a klasa je: 16\n",
      "Najveci index u sekvenci je: 8181\n",
      "Najmanji index u sekvenci je: 1\n",
      "Broj elemenata u sekvenci train_data[10] je: (31,), a klasa je: 3\n",
      "Najveci index u sekvenci je: 4795\n",
      "Najmanji index u sekvenci je: 1\n",
      "Broj elemenata u sekvenci train_data[11] je: (59,), a klasa je: 3\n",
      "Najveci index u sekvenci je: 9376\n",
      "Najmanji index u sekvenci je: 1\n",
      "Broj elemenata u sekvenci train_data[12] je: (65,), a klasa je: 4\n",
      "Najveci index u sekvenci je: 7112\n",
      "Najmanji index u sekvenci je: 1\n",
      "Broj elemenata u sekvenci train_data[13] je: (316,), a klasa je: 4\n",
      "Najveci index u sekvenci je: 9149\n",
      "Najmanji index u sekvenci je: 1\n",
      "Broj elemenata u sekvenci train_data[14] je: (527,), a klasa je: 19\n",
      "Najveci index u sekvenci je: 9949\n",
      "Najmanji index u sekvenci je: 1\n"
     ]
    }
   ],
   "source": [
    "import numpy as np\n",
    "\n",
    "for i in range(0, 15):\n",
    "    print('Broj elemenata u sekvenci train_data[{0}] je: ({1},), a klasa je: {2}'.format(i, len(train_data[i]), train_labels[i]))\n",
    "    print(*['Najveci index u sekvenci je:', np.max(train_data[i])])\n",
    "    print(*['Najmanji index u sekvenci je:', np.min(train_data[i])])"
   ]
  },
  {
   "cell_type": "markdown",
   "metadata": {},
   "source": [
    "#### 2.1.4 Koji opseg vrijednosti se nalazi u `train_labels` (min, max), a koji u `test_labels`?"
   ]
  },
  {
   "cell_type": "code",
   "execution_count": 6,
   "metadata": {},
   "outputs": [
    {
     "name": "stdout",
     "output_type": "stream",
     "text": [
      "Opseg vrijednosti za trazene labele:\n",
      "\n",
      "train_labels opseg (min,max): (0,45)\n",
      "test_labels opseg (min,max): (0,45)\n"
     ]
    }
   ],
   "source": [
    "import numpy as np\n",
    "\n",
    "print('Opseg vrijednosti za trazene labele:')\n",
    "print('')\n",
    "print(*['train_labels opseg (min,max):', '({0},{1})'.format(np.min(train_labels), np.max(train_labels))])\n",
    "print(*['test_labels opseg (min,max):', '({0},{1})'.format(np.min(test_labels), np.max(test_labels))])"
   ]
  },
  {
   "cell_type": "markdown",
   "metadata": {},
   "source": [
    "#### 2.1.5 Koja sekvenca ima najveci indeks u datom dataset-u? To ne mora biti broj vezan za num words. Korisiti numpy paket (import numpy as np)."
   ]
  },
  {
   "cell_type": "code",
   "execution_count": 7,
   "metadata": {},
   "outputs": [
    {
     "name": "stdout",
     "output_type": "stream",
     "text": [
      "Najveci index unutar liste lista: 9975\n"
     ]
    }
   ],
   "source": [
    "import numpy as np \n",
    "\n",
    "print(*['Najveci index unutar liste lista:', np.max(np.max(train_data))])"
   ]
  },
  {
   "cell_type": "markdown",
   "metadata": {},
   "source": [
    "#### 2.1.6 Na stanici `https://keras.io/datasets/` mozete naci sve parametre koje mozete korisiti u pozivu funkcije `load_data()`. Objasnite svaki od parametara (9).\n",
    "\n",
    "- `path` - putanja gdje ce se kesirati podaci (u odnosu na relativnu putanju `~/.keras/dataset`).\n",
    "- `num_words` - predstavlja broj najcesce koristenih rijeci koje ce biti uzete u razmatranje, a ako se ne posalje broj, defaultna vrijednost je da uzme sve rijeci.\n",
    "- `skip_top` - parametar koji govori koliko top N najvise frekventnih rijeci da se preskoci u uzimanju, default je nula.\n",
    "- `maxlen` - predstavlja maximalnu duzinu sekvence koja da se koristi, ako sekvenca postoji bice skracena, ukoliko se ne posalje nista, nema skracivanja.\n",
    "- `test_split` - decimalni broj izmedju 0 i 1 koji govori kolika frakcija da se uzme za testne podatke, po defaultu je 20-80 ratio tj. 20% da se uzimaju kao testni podaci.\n",
    "- `seed` - parametar koji se koristi za mijesanje ponavljajucih podataka.\n",
    "- `start_char` - parametar koji odredjuje karakter kojim je definisan pocetak sekvence.\n",
    "- `oov_char` - parametar kojim odredjuje karakter kojim ce biti zamijenjene rijeci koje su izbacene na osnovu `num_words` ili `skip_top` opcija.\n",
    "- `index_from` - parametar koji odredjuje rijeci kojecće se ideksirati, tj. rijeci vece ili jednake indeksu `index_from` ce biti indeksirane."
   ]
  },
  {
   "cell_type": "markdown",
   "metadata": {},
   "source": [
    "### 2.2 Rjecnik Reuters dataset-a"
   ]
  },
  {
   "cell_type": "code",
   "execution_count": 8,
   "metadata": {},
   "outputs": [
    {
     "name": "stdout",
     "output_type": "stream",
     "text": [
      "? ? ? said as a result of its december acquisition of space co it expects earnings per share in 1987 of 1 15 to 1 30 dlrs per share up from 70 cts in 1986 the company said pretax net should rise to nine to 10 mln dlrs from six mln dlrs in 1986 and rental operation revenues to 19 to 22 mln dlrs from 12 5 mln dlrs it said cash flow per share this year should be 2 50 to three dlrs reuter 3\n"
     ]
    }
   ],
   "source": [
    "word_index = reuters.get_word_index()\n",
    "\n",
    "reverse_word_index = dict([(value, key) for (key, value) in word_index.items()])\n",
    "\n",
    "decoded_review = ' '.join([reverse_word_index.get(i - 3, '?') for i in train_data[0]])\n",
    "\n",
    "print(decoded_review)"
   ]
  },
  {
   "cell_type": "markdown",
   "metadata": {},
   "source": [
    "#### 2.2.1 Za prvih 15 sekvenci u `train_data` dekodirati novosti i odrediti kojoj kategoriji pripadaju."
   ]
  },
  {
   "cell_type": "code",
   "execution_count": 9,
   "metadata": {},
   "outputs": [
    {
     "name": "stdout",
     "output_type": "stream",
     "text": [
      "Novost 0 je u kategoriji: 3\n",
      "? ? ? said as a result of its december acquisition of space co it expects earnings per share in 1...\n",
      "Novost 1 je u kategoriji: 4\n",
      "? generale de banque sa lt ? br and lt heller overseas corp of chicago have each taken 50 pct sta...\n",
      "Novost 2 je u kategoriji: 3\n",
      "? shr 3 28 dlrs vs 22 cts shr diluted 2 99 dlrs vs 22 cts net 46 0 mln vs 3 328 000 avg shrs 14 0...\n",
      "Novost 3 je u kategoriji: 4\n",
      "? the farmers home administration the u s agriculture department's farm lending arm could lose ab...\n",
      "Novost 4 je u kategoriji: 4\n",
      "? seton co said its board has received a proposal from chairman and chief executive officer phili...\n",
      "Novost 5 je u kategoriji: 4\n",
      "? the u s agriculture department estimated canada's 1986 87 wheat crop at 31 85 mln tonnes vs 31 ...\n",
      "Novost 6 je u kategoriji: 4\n",
      "? lt qintex america ltd said it is again extending its offer of 13 dlrs a share for 3 3 mln princ...\n",
      "Novost 7 je u kategoriji: 3\n",
      "? shr 49 cts vs 39 cts net 886 937 vs 892 323 revs 25 9 mln vs 23 7 mln year shr 1 78 dlr vs 1 34...\n",
      "Novost 8 je u kategoriji: 3\n",
      "? oper shr 23 cts vs 77 cts oper net 5 255 179 vs 17 6 mln revs 37 8 mln vs 73 7 mln note cash fl...\n",
      "Novost 9 je u kategoriji: 16\n",
      "? lt aramco corp has accepted japanese ? to lift a higher proportion of arab heavy crude oil unde...\n",
      "Novost 10 je u kategoriji: 3\n",
      "? period ended december 31 shr profit 11 cts vs loss 24 cts net profit 224 271 vs loss 511 349 re...\n",
      "Novost 11 je u kategoriji: 3\n",
      "? lt international thomson organisation ltd said it will report financial results in u s funds ra...\n",
      "Novost 12 je u kategoriji: 4\n",
      "? ? corp said it reached an agreement in principal covering the acquisition of the company by pri...\n",
      "Novost 13 je u kategoriji: 4\n",
      "? federal reserve board governor robert heller said the banking system could be strengthened by p...\n",
      "Novost 14 je u kategoriji: 19\n",
      "? the dollar is expected to decline further in coming days as ? ? about the effectiveness of last...\n"
     ]
    }
   ],
   "source": [
    "def return_formatted_review(string, width=100):\n",
    "    if len(string) > width:\n",
    "        string = string[:width-3] + '...'\n",
    "    return \"{0:<{1}s}\".format(string, width)\n",
    "\n",
    "for i in range(0, 15):\n",
    "    decoded_review = ' '.join([reverse_word_index.get(i - 3, '?') for i in train_data[i]])\n",
    "    print(*['Novost', i, 'je u kategoriji:', train_labels[i]])\n",
    "    print(return_formatted_review(decoded_review))"
   ]
  },
  {
   "cell_type": "markdown",
   "metadata": {},
   "source": [
    "#### 2.2.2 Za 10 nasumicnih (random) novosti iz citavog dataset-a izvrsiti dekodiranje, te ih isprintati na ekran, po uzoru na kod dat ispod, zajedno sa informacijom o grupi kojoj pripadaju. U ispisu su koristene \"...\" radi zauzimanja manjeg prostora. Koristiti naredbu randint(0, nekibroj), pri cemu je nekibroj maksimalan broj sekvenci u skupu `train_data`."
   ]
  },
  {
   "cell_type": "code",
   "execution_count": 10,
   "metadata": {},
   "outputs": [
    {
     "name": "stdout",
     "output_type": "stream",
     "text": [
      "Novost ID 4132 je definisana kao: \"? ? ? said as a result of its decembe...\". Rijec je o novosti iz grupe 19.\n",
      "Novost ID 8728 je definisana kao: \"? generale de banque sa lt ? br and l...\". Rijec je o novosti iz grupe 40.\n",
      "Novost ID 1381 je definisana kao: \"? shr 3 28 dlrs vs 22 cts shr diluted...\". Rijec je o novosti iz grupe 38.\n",
      "Novost ID 7207 je definisana kao: \"? the farmers home administration the...\". Rijec je o novosti iz grupe 3.\n",
      "Novost ID 8322 je definisana kao: \"? seton co said its board has receive...\". Rijec je o novosti iz grupe 4.\n",
      "Novost ID 2652 je definisana kao: \"? the u s agriculture department esti...\". Rijec je o novosti iz grupe 3.\n",
      "Novost ID 1643 je definisana kao: \"? lt qintex america ltd said it is ag...\". Rijec je o novosti iz grupe 19.\n",
      "Novost ID 3815 je definisana kao: \"? shr 49 cts vs 39 cts net 886 937 vs...\". Rijec je o novosti iz grupe 3.\n",
      "Novost ID 5001 je definisana kao: \"? oper shr 23 cts vs 77 cts oper net ...\". Rijec je o novosti iz grupe 3.\n",
      "Novost ID 4975 je definisana kao: \"? lt aramco corp has accepted japanes...\". Rijec je o novosti iz grupe 19.\n"
     ]
    }
   ],
   "source": [
    "import numpy as np\n",
    "\n",
    "random_numbers = np.random.randint(0, len(train_data), size = 10)\n",
    "\n",
    "# u slucaju da ne zelite skracenu varijantu stringa, samo ispisati `decoded_review`\n",
    "\n",
    "for i in range(0, len(random_numbers)):\n",
    "    decoded_review = ' '.join([reverse_word_index.get(i - 3, '?') for i in train_data[i]])\n",
    "    print('Novost ID {0} je definisana kao: \\\"{1}\\\". Rijec je o novosti iz grupe {2}.'\n",
    "          .format(random_numbers[i], return_formatted_review(decoded_review, 40), train_labels[random_numbers[i]]))\n"
   ]
  },
  {
   "cell_type": "markdown",
   "metadata": {},
   "source": [
    "### 2.3 Organizacija podataka"
   ]
  },
  {
   "cell_type": "code",
   "execution_count": 11,
   "metadata": {},
   "outputs": [],
   "source": [
    "def vectorize_sequences(sequences, dimension=10000):\n",
    "    results = np.zeros((len(sequences), dimension))\n",
    "    for i, sequence in enumerate(sequences):\n",
    "        results[i, sequence] = 1.\n",
    "    return results\n",
    "\n",
    "def to_one_hot(labels, dimension=46):\n",
    "    results = np.zeros((len(labels), dimension))\n",
    "    for i, label in enumerate(labels):\n",
    "        results[i, label] = 1.\n",
    "    return results"
   ]
  },
  {
   "cell_type": "markdown",
   "metadata": {},
   "source": [
    "#### 2.3.1 Detaljno objasnite kako navedeni kodovi rade i da li postoje razlike medu njima.\n",
    "\n",
    "- Funkcija `vectorize_sequences` definise sekvencu od `dimension` broja elemenata, koji imaju vrijednost ili `1.` ili `0.`. Ukoliko je vrijednost `1.` onda se indeks nalazi u odredjenoj sekveni koja je proslijedjena kroz prvi parametar, u protivnom se ne nalazi.\n",
    "- Prvo se u varijablu `results` definisu sve nule kroz uredjeni par `(len(sequences), dimension)`, onda prolaskom kroz sve sekvence, dodijeljuje se za svaku sekvencu enumeracija i postavlja se vrijednost na `1.`. Na kraju se vraca matrica `results`.\n",
    "- Kada je u pitanju funkcija `to_one_hot` mozemo primijeniti isti opis i za nju, samo umjesto `sequences` koristimo varijablu `labels`.\n",
    "- Razlike izmedju ove 2 funkcije nema osim defaultnog `dimension` parametra."
   ]
  },
  {
   "cell_type": "markdown",
   "metadata": {},
   "source": [
    "#### 2.3.2 Primijenite funkciju `vectorize_sequences()` na podatke iz skupa za treniranje i testiranje. Rezultate funkcije snimite u varijable `x_train` i `x_test`. Ovdje je dovoljno napisati koristeni kod."
   ]
  },
  {
   "cell_type": "code",
   "execution_count": 12,
   "metadata": {},
   "outputs": [],
   "source": [
    "data_size = 10000\n",
    "\n",
    "x_train = vectorize_sequences(train_data, data_size)\n",
    "x_test = vectorize_sequences(test_data, data_size)\n",
    "\n",
    "y_train = np.asarray(train_labels).astype('float32')\n",
    "y_test = np.asarray(test_labels).astype('float32')"
   ]
  },
  {
   "cell_type": "markdown",
   "metadata": {},
   "source": [
    "#### 2.3.3 Utvrdite koja vrsta elemenata je snimljena u `x_train`, a koja u `y_train` (vektor, skalar, int, float i td). Napisite naredbe koje ste koristili.\n",
    "\n",
    "- Koristene naredbe su naredba `type` i naredna `.dtype`.\n",
    "- Vidimo, na osnovu koda ispod, da su i `x_train` i `y_train` tipa numpy array `numpy.ndarray`, a elementi unutar array-a su `float64` u slucaju `x_train`, odnosno `float32` u slucaju `float32`."
   ]
  },
  {
   "cell_type": "code",
   "execution_count": 13,
   "metadata": {},
   "outputs": [
    {
     "name": "stdout",
     "output_type": "stream",
     "text": [
      "x_train <class 'numpy.ndarray'> tip elemenata float64\n",
      "y_train <class 'numpy.ndarray'> tip elemenata float32\n"
     ]
    }
   ],
   "source": [
    "print(*['x_train', type(x_train), 'tip elemenata', x_train.dtype])\n",
    "print(*['y_train', type(y_train), 'tip elemenata', y_train.dtype])"
   ]
  },
  {
   "cell_type": "markdown",
   "metadata": {},
   "source": [
    "#### 2.3.4 Za prvih 15 sekvenci isprintati: a) broj elemenata u sekvenci, b) vrijednosti elemenata (skraceni broj elemenata je dovoljan)."
   ]
  },
  {
   "cell_type": "code",
   "execution_count": 14,
   "metadata": {},
   "outputs": [
    {
     "name": "stdout",
     "output_type": "stream",
     "text": [
      "Za x_train[0], broj elemenata u sekvenci je: 10000\n",
      "Elementi u ovoj sekvenci: [0. 1. 1. ... 0. 0. 0.]\n",
      "Za x_train[1], broj elemenata u sekvenci je: 10000\n",
      "Elementi u ovoj sekvenci: [0. 1. 1. ... 0. 0. 0.]\n",
      "Za x_train[2], broj elemenata u sekvenci je: 10000\n",
      "Elementi u ovoj sekvenci: [0. 1. 1. ... 0. 0. 0.]\n",
      "Za x_train[3], broj elemenata u sekvenci je: 10000\n",
      "Elementi u ovoj sekvenci: [0. 1. 1. ... 0. 0. 0.]\n",
      "Za x_train[4], broj elemenata u sekvenci je: 10000\n",
      "Elementi u ovoj sekvenci: [0. 1. 1. ... 0. 0. 0.]\n",
      "Za x_train[5], broj elemenata u sekvenci je: 10000\n",
      "Elementi u ovoj sekvenci: [0. 1. 0. ... 0. 0. 0.]\n",
      "Za x_train[6], broj elemenata u sekvenci je: 10000\n",
      "Elementi u ovoj sekvenci: [0. 1. 0. ... 0. 0. 0.]\n",
      "Za x_train[7], broj elemenata u sekvenci je: 10000\n",
      "Elementi u ovoj sekvenci: [0. 1. 1. ... 0. 0. 0.]\n",
      "Za x_train[8], broj elemenata u sekvenci je: 10000\n",
      "Elementi u ovoj sekvenci: [0. 1. 1. ... 0. 0. 0.]\n",
      "Za x_train[9], broj elemenata u sekvenci je: 10000\n",
      "Elementi u ovoj sekvenci: [0. 1. 1. ... 0. 0. 0.]\n",
      "Za x_train[10], broj elemenata u sekvenci je: 10000\n",
      "Elementi u ovoj sekvenci: [0. 1. 0. ... 0. 0. 0.]\n",
      "Za x_train[11], broj elemenata u sekvenci je: 10000\n",
      "Elementi u ovoj sekvenci: [0. 1. 0. ... 0. 0. 0.]\n",
      "Za x_train[12], broj elemenata u sekvenci je: 10000\n",
      "Elementi u ovoj sekvenci: [0. 1. 1. ... 0. 0. 0.]\n",
      "Za x_train[13], broj elemenata u sekvenci je: 10000\n",
      "Elementi u ovoj sekvenci: [0. 1. 1. ... 0. 0. 0.]\n",
      "Za x_train[14], broj elemenata u sekvenci je: 10000\n",
      "Elementi u ovoj sekvenci: [0. 1. 1. ... 0. 0. 0.]\n",
      "y_train, broj elemenata: 8982 elementi: [ 3.  4.  3. ... 25.  3. 25.]\n"
     ]
    }
   ],
   "source": [
    "for i in range(0, 15):\n",
    "    print(*['Za x_train[{0}], broj elemenata u sekvenci je:'.format(i), len(x_train[i])])\n",
    "    print(*['Elementi u ovoj sekvenci:', x_train[i]])\n",
    "    \n",
    "print(*['y_train, broj elemenata:', len(y_train), 'elementi:', y_train])"
   ]
  },
  {
   "cell_type": "markdown",
   "metadata": {},
   "source": [
    "#### 2.3.5 Primijenite funkciju `to_one_hot()` na podatke iz labela za treniranje i testiranje. Rezultate funkcije snimite u varijable `one_hot_train_labels` i `one_hot_test_labels`."
   ]
  },
  {
   "cell_type": "code",
   "execution_count": 15,
   "metadata": {},
   "outputs": [],
   "source": [
    "dimension_size = 46\n",
    "\n",
    "one_hot_train_labels = to_one_hot(train_labels, dimension_size)\n",
    "one_hot_test_labels = to_one_hot(test_labels, dimension_size)"
   ]
  },
  {
   "cell_type": "markdown",
   "metadata": {},
   "source": [
    "#### 2.3.6 Za 15 nasumicnih (random) sekvenci isprintati: a) staru labelu, b) zatim provjeriti da li je na tom indeksu zapisana ‘1’, kao i to da li je u dva okolna elementa u vektora napisana ‘0’."
   ]
  },
  {
   "cell_type": "code",
   "execution_count": 16,
   "metadata": {},
   "outputs": [
    {
     "name": "stdout",
     "output_type": "stream",
     "text": [
      "Za novost id: 3040 stara labela je: 3.0\n",
      "Nova labela je: 1.0 i ona je jednaka 1. za novost id: True\n",
      "Element prije je jednak 0.: True\n",
      "Element poslije je jednak 0.: True\n",
      "\n",
      "Za novost id: 3531 stara labela je: 4.0\n",
      "Nova labela je: 1.0 i ona je jednaka 1. za novost id: True\n",
      "Element prije je jednak 0.: True\n",
      "Element poslije je jednak 0.: True\n",
      "\n",
      "Za novost id: 5367 stara labela je: 3.0\n",
      "Nova labela je: 1.0 i ona je jednaka 1. za novost id: True\n",
      "Element prije je jednak 0.: True\n",
      "Element poslije je jednak 0.: True\n",
      "\n",
      "Za novost id: 3959 stara labela je: 3.0\n",
      "Nova labela je: 1.0 i ona je jednaka 1. za novost id: True\n",
      "Element prije je jednak 0.: True\n",
      "Element poslije je jednak 0.: True\n",
      "\n",
      "Za novost id: 1654 stara labela je: 29.0\n",
      "Nova labela je: 1.0 i ona je jednaka 1. za novost id: True\n",
      "Element prije je jednak 0.: True\n",
      "Element poslije je jednak 0.: True\n",
      "\n",
      "Za novost id: 7344 stara labela je: 29.0\n",
      "Nova labela je: 1.0 i ona je jednaka 1. za novost id: True\n",
      "Element prije je jednak 0.: True\n",
      "Element poslije je jednak 0.: True\n",
      "\n",
      "Za novost id: 325 stara labela je: 10.0\n",
      "Nova labela je: 1.0 i ona je jednaka 1. za novost id: True\n",
      "Element prije je jednak 0.: True\n",
      "Element poslije je jednak 0.: True\n",
      "\n",
      "Za novost id: 5146 stara labela je: 3.0\n",
      "Nova labela je: 1.0 i ona je jednaka 1. za novost id: True\n",
      "Element prije je jednak 0.: True\n",
      "Element poslije je jednak 0.: True\n",
      "\n",
      "Za novost id: 1645 stara labela je: 4.0\n",
      "Nova labela je: 1.0 i ona je jednaka 1. za novost id: True\n",
      "Element prije je jednak 0.: True\n",
      "Element poslije je jednak 0.: True\n",
      "\n",
      "Za novost id: 4576 stara labela je: 11.0\n",
      "Nova labela je: 1.0 i ona je jednaka 1. za novost id: True\n",
      "Element prije je jednak 0.: True\n",
      "Element poslije je jednak 0.: True\n",
      "\n",
      "Za novost id: 8760 stara labela je: 3.0\n",
      "Nova labela je: 1.0 i ona je jednaka 1. za novost id: True\n",
      "Element prije je jednak 0.: True\n",
      "Element poslije je jednak 0.: True\n",
      "\n",
      "Za novost id: 7620 stara labela je: 3.0\n",
      "Nova labela je: 1.0 i ona je jednaka 1. za novost id: True\n",
      "Element prije je jednak 0.: True\n",
      "Element poslije je jednak 0.: True\n",
      "\n",
      "Za novost id: 4356 stara labela je: 3.0\n",
      "Nova labela je: 1.0 i ona je jednaka 1. za novost id: True\n",
      "Element prije je jednak 0.: True\n",
      "Element poslije je jednak 0.: True\n",
      "\n",
      "Za novost id: 8491 stara labela je: 11.0\n",
      "Nova labela je: 1.0 i ona je jednaka 1. za novost id: True\n",
      "Element prije je jednak 0.: True\n",
      "Element poslije je jednak 0.: True\n",
      "\n",
      "Za novost id: 1835 stara labela je: 3.0\n",
      "Nova labela je: 1.0 i ona je jednaka 1. za novost id: True\n",
      "Element prije je jednak 0.: True\n",
      "Element poslije je jednak 0.: True\n",
      "\n"
     ]
    }
   ],
   "source": [
    "import numpy as np\n",
    "\n",
    "def random_15_elements(new_labels, old_labels): \n",
    "    random_numbers = np.random.randint(0, len(train_data), size = 15)\n",
    "\n",
    "    for i in range(0, len(random_numbers)):\n",
    "        index = random_numbers[i]\n",
    "        class_value = int(old_labels[index])\n",
    "        \n",
    "        array_for_index = new_labels[index]\n",
    "        binary_value = array_for_index[class_value]\n",
    "        \n",
    "        print(*['Za novost id:', index, 'stara labela je:', old_labels[index]])\n",
    "        print(*['Nova labela je:', binary_value, 'i ona je jednaka 1. za novost id:', binary_value == 1.])\n",
    "\n",
    "        length = len(array_for_index)    \n",
    "        \n",
    "        if class_value != 0:\n",
    "            index_before = array_for_index[class_value - 1]\n",
    "            print('Element prije je jednak 0.:', index_before == 0.)\n",
    "        if class_value != length - 1:\n",
    "            index_after = array_for_index[class_value + 1]\n",
    "            print('Element poslije je jednak 0.:', index_after == 0.)\n",
    "\n",
    "        print('')\n",
    "\n",
    "random_15_elements(one_hot_train_labels, y_train)"
   ]
  },
  {
   "cell_type": "markdown",
   "metadata": {},
   "source": [
    "#### 2.3.7 Zamijeniti funkciju to one hot sa funkcijom `to_categorical` u uraditi opet prethodni zadatak."
   ]
  },
  {
   "cell_type": "code",
   "execution_count": 17,
   "metadata": {},
   "outputs": [
    {
     "name": "stdout",
     "output_type": "stream",
     "text": [
      "Za novost id: 287 stara labela je: 4.0\n",
      "Nova labela je: 1.0 i ona je jednaka 1. za novost id: True\n",
      "Element prije je jednak 0.: True\n",
      "Element poslije je jednak 0.: True\n",
      "\n",
      "Za novost id: 744 stara labela je: 16.0\n",
      "Nova labela je: 1.0 i ona je jednaka 1. za novost id: True\n",
      "Element prije je jednak 0.: True\n",
      "Element poslije je jednak 0.: True\n",
      "\n",
      "Za novost id: 7708 stara labela je: 4.0\n",
      "Nova labela je: 1.0 i ona je jednaka 1. za novost id: True\n",
      "Element prije je jednak 0.: True\n",
      "Element poslije je jednak 0.: True\n",
      "\n",
      "Za novost id: 7342 stara labela je: 1.0\n",
      "Nova labela je: 1.0 i ona je jednaka 1. za novost id: True\n",
      "Element prije je jednak 0.: True\n",
      "Element poslije je jednak 0.: True\n",
      "\n",
      "Za novost id: 358 stara labela je: 3.0\n",
      "Nova labela je: 1.0 i ona je jednaka 1. za novost id: True\n",
      "Element prije je jednak 0.: True\n",
      "Element poslije je jednak 0.: True\n",
      "\n",
      "Za novost id: 1299 stara labela je: 4.0\n",
      "Nova labela je: 1.0 i ona je jednaka 1. za novost id: True\n",
      "Element prije je jednak 0.: True\n",
      "Element poslije je jednak 0.: True\n",
      "\n",
      "Za novost id: 1624 stara labela je: 4.0\n",
      "Nova labela je: 1.0 i ona je jednaka 1. za novost id: True\n",
      "Element prije je jednak 0.: True\n",
      "Element poslije je jednak 0.: True\n",
      "\n",
      "Za novost id: 1869 stara labela je: 41.0\n",
      "Nova labela je: 1.0 i ona je jednaka 1. za novost id: True\n",
      "Element prije je jednak 0.: True\n",
      "Element poslije je jednak 0.: True\n",
      "\n",
      "Za novost id: 6927 stara labela je: 16.0\n",
      "Nova labela je: 1.0 i ona je jednaka 1. za novost id: True\n",
      "Element prije je jednak 0.: True\n",
      "Element poslije je jednak 0.: True\n",
      "\n",
      "Za novost id: 4944 stara labela je: 4.0\n",
      "Nova labela je: 1.0 i ona je jednaka 1. za novost id: True\n",
      "Element prije je jednak 0.: True\n",
      "Element poslije je jednak 0.: True\n",
      "\n",
      "Za novost id: 3073 stara labela je: 4.0\n",
      "Nova labela je: 1.0 i ona je jednaka 1. za novost id: True\n",
      "Element prije je jednak 0.: True\n",
      "Element poslije je jednak 0.: True\n",
      "\n",
      "Za novost id: 1892 stara labela je: 3.0\n",
      "Nova labela je: 1.0 i ona je jednaka 1. za novost id: True\n",
      "Element prije je jednak 0.: True\n",
      "Element poslije je jednak 0.: True\n",
      "\n",
      "Za novost id: 8410 stara labela je: 4.0\n",
      "Nova labela je: 1.0 i ona je jednaka 1. za novost id: True\n",
      "Element prije je jednak 0.: True\n",
      "Element poslije je jednak 0.: True\n",
      "\n",
      "Za novost id: 2530 stara labela je: 3.0\n",
      "Nova labela je: 1.0 i ona je jednaka 1. za novost id: True\n",
      "Element prije je jednak 0.: True\n",
      "Element poslije je jednak 0.: True\n",
      "\n",
      "Za novost id: 1168 stara labela je: 1.0\n",
      "Nova labela je: 1.0 i ona je jednaka 1. za novost id: True\n",
      "Element prije je jednak 0.: True\n",
      "Element poslije je jednak 0.: True\n",
      "\n"
     ]
    }
   ],
   "source": [
    "from keras.utils import to_categorical\n",
    "\n",
    "to_categorical_train_labels = to_categorical(train_labels)\n",
    "to_categorical_test_labels = to_categorical(test_labels)\n",
    "\n",
    "random_15_elements(to_categorical_train_labels, y_train)\n",
    "\n",
    "y_train = to_categorical_train_labels\n",
    "y_test = to_categorical_test_labels"
   ]
  },
  {
   "cell_type": "markdown",
   "metadata": {},
   "source": [
    "## 3. Definisanje neuronske mreze"
   ]
  },
  {
   "cell_type": "markdown",
   "metadata": {},
   "source": [
    "### 3.1 Podesavanje slojeva"
   ]
  },
  {
   "cell_type": "markdown",
   "metadata": {},
   "source": [
    "#### 3.1.1 Ako ulazni vektor ima 10,000 elemenata, i takvih vektora ima 200, a sloj ima 64 izlaza, koja je dimenzija matrice W1? Koristiti se informacijama sa predavanja.\n",
    "\n",
    "- Dimenzija matrice W druge ce biti `10000x64` odnosno `640k`."
   ]
  },
  {
   "cell_type": "markdown",
   "metadata": {},
   "source": [
    "### 3.2 Arhitektura mreze"
   ]
  },
  {
   "cell_type": "markdown",
   "metadata": {},
   "source": [
    "#### 3.2.1 Napisati kod za definisanje arhitekture mreze."
   ]
  },
  {
   "cell_type": "code",
   "execution_count": 18,
   "metadata": {},
   "outputs": [],
   "source": [
    "from keras import models\n",
    "from keras import layers\n",
    "\n",
    "model = models.Sequential()\n",
    "model.add(layers.Dense(64, activation='relu', input_shape=(10000,)))\n",
    "model.add(layers.Dense(64, activation='relu'))\n",
    "model.add(layers.Dense(46, activation='softmax'))"
   ]
  },
  {
   "cell_type": "markdown",
   "metadata": {},
   "source": [
    "#### 3.2.2 Napisati kod za definisanje optimizatora, funkcije gubitka i mjere tacnosti."
   ]
  },
  {
   "cell_type": "code",
   "execution_count": 19,
   "metadata": {},
   "outputs": [],
   "source": [
    "model.compile(optimizer='rmsprop', loss='categorical_crossentropy', metrics=['accuracy'])"
   ]
  },
  {
   "cell_type": "markdown",
   "metadata": {},
   "source": [
    "#### 3.2.3 Objasnite kako radi `categorical_crossentropy` i zasto se koristi za ovaj primjer. (Koristi Keras dokumentaciju za pronalazenje odgovora na ovo pitanje ili preporucenu knjigu.)\n",
    "\n",
    "`categorical_crossentropy` racuna funkciju gubitka na sljedeci nacin:\n",
    "\n",
    "\\begin{equation*}\n",
    "Gubitak = \\sum_{i=1}^k{y_i * log(y_i)}\n",
    "\\end{equation*}\n",
    "\n",
    "- `y` predstavlja niz skalara, dok `k` predstavlja koliko izlaza imamo za nas problem.\n",
    "- Ovakav nacin racunanja gubitka omogucava dobru mjeru koliko su dvije diskretne distribucije vjerovatnoce razlicite za dva elementa, sto znaci da u slucaju da specifican `i` unutar `y` niza je jednak 1, to znaci da samo taj skalar unutar niza se \"desava\" odnosno ima najvecu vrijednost.\n",
    "- U nasem primjeru ovo je veoma pogodno jer imamo `46` klasifikacija, pri cemu nam je na izlazu potreban samo jedan tip od tih `46`."
   ]
  },
  {
   "cell_type": "markdown",
   "metadata": {},
   "source": [
    "#### 3.2.4 Objasnite zasto koristimo softmax. Objasnite dimenzionalnost izlaznog nivoa.\n",
    "\n",
    "- Posto je u pitanju `multiclass` problem, tj. 1 entry moze imati `46` varijanti izlaza, da bi se na odredjeni nacin znalo koji ulaz pripada kojem izlazu, to se moze rijesiti vjerovatnocom. Softmax daje na svom izlazu vjerovatnoce da odredjeni entry pripada odredjenim klasama, a suma mora biti jednaka `1`. Zbog ovog se koristi softmax. \n",
    "- Dimenzionalnost izlaznog nivoa je `46`, jer imamo toliko klasifikacija."
   ]
  },
  {
   "cell_type": "markdown",
   "metadata": {},
   "source": [
    "### 3.3 Validacija modela"
   ]
  },
  {
   "cell_type": "markdown",
   "metadata": {},
   "source": [
    "#### 3.3.1 Koje naredbe cete koristiti za izdvajanje 1,000 uzoraka iz originalnog skupa za treniranje?"
   ]
  },
  {
   "cell_type": "code",
   "execution_count": 20,
   "metadata": {},
   "outputs": [],
   "source": [
    "x_val = x_train[:1000]\n",
    "partial_x_train = x_train[1000:]"
   ]
  },
  {
   "cell_type": "markdown",
   "metadata": {},
   "source": [
    "#### 3.3.2 Koje naredbe cete koristiti za kodiranje labela za novonastale podatke?"
   ]
  },
  {
   "cell_type": "code",
   "execution_count": 21,
   "metadata": {},
   "outputs": [],
   "source": [
    "y_val = y_train[:1000]\n",
    "partial_y_train = y_train[1000:]"
   ]
  },
  {
   "cell_type": "markdown",
   "metadata": {},
   "source": [
    "### 3.4 Treniranje modela"
   ]
  },
  {
   "cell_type": "code",
   "execution_count": 22,
   "metadata": {},
   "outputs": [
    {
     "name": "stdout",
     "output_type": "stream",
     "text": [
      "Epoch 1/20\n",
      "16/16 [==============================] - 0s 21ms/step - loss: 2.5004 - accuracy: 0.5242 - val_loss: 1.6585 - val_accuracy: 0.6310\n",
      "Epoch 2/20\n",
      "16/16 [==============================] - 0s 13ms/step - loss: 1.3672 - accuracy: 0.7031 - val_loss: 1.2653 - val_accuracy: 0.7270\n",
      "Epoch 3/20\n",
      "16/16 [==============================] - 0s 13ms/step - loss: 1.0170 - accuracy: 0.7823 - val_loss: 1.1079 - val_accuracy: 0.7670\n",
      "Epoch 4/20\n",
      "16/16 [==============================] - 0s 13ms/step - loss: 0.8077 - accuracy: 0.8252 - val_loss: 1.0187 - val_accuracy: 0.7790\n",
      "Epoch 5/20\n",
      "16/16 [==============================] - 0s 13ms/step - loss: 0.6490 - accuracy: 0.8601 - val_loss: 0.9463 - val_accuracy: 0.8100\n",
      "Epoch 6/20\n",
      "16/16 [==============================] - 0s 13ms/step - loss: 0.5213 - accuracy: 0.8896 - val_loss: 0.9187 - val_accuracy: 0.8080\n",
      "Epoch 7/20\n",
      "16/16 [==============================] - 0s 14ms/step - loss: 0.4222 - accuracy: 0.9123 - val_loss: 0.9119 - val_accuracy: 0.8190\n",
      "Epoch 8/20\n",
      "16/16 [==============================] - 0s 14ms/step - loss: 0.3432 - accuracy: 0.9263 - val_loss: 0.8848 - val_accuracy: 0.8200\n",
      "Epoch 9/20\n",
      "16/16 [==============================] - 0s 14ms/step - loss: 0.2835 - accuracy: 0.9382 - val_loss: 0.9388 - val_accuracy: 0.8060\n",
      "Epoch 10/20\n",
      "16/16 [==============================] - 0s 14ms/step - loss: 0.2388 - accuracy: 0.9454 - val_loss: 0.9075 - val_accuracy: 0.8180\n",
      "Epoch 11/20\n",
      "16/16 [==============================] - 0s 14ms/step - loss: 0.2078 - accuracy: 0.9499 - val_loss: 0.9249 - val_accuracy: 0.8140\n",
      "Epoch 12/20\n",
      "16/16 [==============================] - 0s 13ms/step - loss: 0.1812 - accuracy: 0.9515 - val_loss: 0.9320 - val_accuracy: 0.8140\n",
      "Epoch 13/20\n",
      "16/16 [==============================] - 0s 14ms/step - loss: 0.1631 - accuracy: 0.9546 - val_loss: 0.9605 - val_accuracy: 0.8160\n",
      "Epoch 14/20\n",
      "16/16 [==============================] - 0s 12ms/step - loss: 0.1472 - accuracy: 0.9562 - val_loss: 0.9639 - val_accuracy: 0.8120\n",
      "Epoch 15/20\n",
      "16/16 [==============================] - 0s 14ms/step - loss: 0.1364 - accuracy: 0.9582 - val_loss: 1.0102 - val_accuracy: 0.8050\n",
      "Epoch 16/20\n",
      "16/16 [==============================] - 0s 13ms/step - loss: 0.1340 - accuracy: 0.9572 - val_loss: 1.0150 - val_accuracy: 0.8050\n",
      "Epoch 17/20\n",
      "16/16 [==============================] - 0s 13ms/step - loss: 0.1232 - accuracy: 0.9569 - val_loss: 1.0591 - val_accuracy: 0.7980\n",
      "Epoch 18/20\n",
      "16/16 [==============================] - 0s 14ms/step - loss: 0.1169 - accuracy: 0.9582 - val_loss: 1.0561 - val_accuracy: 0.7970\n",
      "Epoch 19/20\n",
      "16/16 [==============================] - 0s 13ms/step - loss: 0.1129 - accuracy: 0.9568 - val_loss: 1.1092 - val_accuracy: 0.7900\n",
      "Epoch 20/20\n",
      "16/16 [==============================] - 0s 13ms/step - loss: 0.1086 - accuracy: 0.9593 - val_loss: 1.0719 - val_accuracy: 0.8030\n"
     ]
    }
   ],
   "source": [
    "reuters_model = model.fit(partial_x_train, partial_y_train, epochs=20, batch_size=512, validation_data=(x_val, y_val))"
   ]
  },
  {
   "cell_type": "markdown",
   "metadata": {},
   "source": [
    "#### 3.4.1 Nacrtajte grafikone na kojima ce biti prikazani podaci o gubitku kod treniranja i validacije u odnosu na broj epoha."
   ]
  },
  {
   "cell_type": "code",
   "execution_count": 23,
   "metadata": {},
   "outputs": [
    {
     "name": "stdout",
     "output_type": "stream",
     "text": [
      "Dict keys: dict_keys(['loss', 'accuracy', 'val_loss', 'val_accuracy'])\n"
     ]
    },
    {
     "data": {
      "image/png": "[encoded data removed]",
      "text/plain": [
       "<Figure size 432x288 with 1 Axes>"
      ]
     },
     "metadata": {
      "needs_background": "light"
     },
     "output_type": "display_data"
    }
   ],
   "source": [
    "import matplotlib.pyplot as plt\n",
    "\n",
    "history_dict = reuters_model.history\n",
    "print(*['Dict keys:', history_dict.keys()])\n",
    "\n",
    "loss_values = history_dict['loss']\n",
    "val_loss_values = history_dict['val_loss']\n",
    "acc = history_dict['accuracy']\n",
    "val_acc_values = history_dict['val_accuracy']\n",
    "\n",
    "epochs = range(1, len(acc) + 1)\n",
    "plt.plot(epochs, loss_values, 'bo', label='Training loss')\n",
    "plt.plot(epochs, val_loss_values, 'b', label='Validation loss')\n",
    "plt.title('Training and validation loss')\n",
    "plt.xlabel('Epochs')\n",
    "plt.ylabel('Loss')\n",
    "plt.legend()\n",
    "plt.show()"
   ]
  },
  {
   "cell_type": "markdown",
   "metadata": {},
   "source": [
    "#### 3.4.2 Nacrtajte grafikone na kojima ce biti prikazani podaci o tacnosti kod treniranja i validacije u odnosu na broj epoha."
   ]
  },
  {
   "cell_type": "code",
   "execution_count": 24,
   "metadata": {},
   "outputs": [
    {
     "data": {
      "image/png": "[encoded data removed]",
      "text/plain": [
       "<Figure size 432x288 with 1 Axes>"
      ]
     },
     "metadata": {
      "needs_background": "light"
     },
     "output_type": "display_data"
    }
   ],
   "source": [
    "plt.clf()\n",
    "plt.plot(epochs, acc, 'bo', label='Training acc')\n",
    "plt.plot(epochs, val_acc_values, 'b', label='Validation acc')\n",
    "plt.title('Training and validation accuracy')\n",
    "plt.xlabel('Epochs')\n",
    "plt.ylabel('Accuracy')\n",
    "plt.legend()\n",
    "plt.show()"
   ]
  },
  {
   "cell_type": "markdown",
   "metadata": {},
   "source": [
    "#### 3.4.3 Nakon koje epohe model ulazi u overfitting?\n",
    "\n",
    "- Nakon 7 epohe model ulazi u overfitting."
   ]
  },
  {
   "cell_type": "markdown",
   "metadata": {},
   "source": [
    "#### 3.4.4 Ponovo pokrenuti treniranje mreze u odnosu na prethodni odgovor i ponovo izvrsiti mjerenje."
   ]
  },
  {
   "cell_type": "code",
   "execution_count": 25,
   "metadata": {},
   "outputs": [
    {
     "name": "stdout",
     "output_type": "stream",
     "text": [
      "Epoch 1/7\n",
      "16/16 [==============================] - 0s 18ms/step - loss: 0.1074 - accuracy: 0.9569 - val_loss: 1.1100 - val_accuracy: 0.7910\n",
      "Epoch 2/7\n",
      "16/16 [==============================] - 0s 13ms/step - loss: 0.1094 - accuracy: 0.9568 - val_loss: 1.1262 - val_accuracy: 0.8060\n",
      "Epoch 3/7\n",
      "16/16 [==============================] - 0s 14ms/step - loss: 0.1034 - accuracy: 0.9593 - val_loss: 1.1246 - val_accuracy: 0.8060\n",
      "Epoch 4/7\n",
      "16/16 [==============================] - 0s 14ms/step - loss: 0.1045 - accuracy: 0.9563 - val_loss: 1.0957 - val_accuracy: 0.7950\n",
      "Epoch 5/7\n",
      "16/16 [==============================] - 0s 14ms/step - loss: 0.1016 - accuracy: 0.9582 - val_loss: 1.1344 - val_accuracy: 0.8010\n",
      "Epoch 6/7\n",
      "16/16 [==============================] - 0s 13ms/step - loss: 0.0991 - accuracy: 0.9597 - val_loss: 1.1639 - val_accuracy: 0.7980\n",
      "Epoch 7/7\n",
      "16/16 [==============================] - 0s 12ms/step - loss: 0.1007 - accuracy: 0.9584 - val_loss: 1.1942 - val_accuracy: 0.7990\n"
     ]
    }
   ],
   "source": [
    "reuters_model_7_epoch = model.fit(partial_x_train, partial_y_train, epochs=7, batch_size=512, validation_data=(x_val, y_val))"
   ]
  },
  {
   "cell_type": "markdown",
   "metadata": {},
   "source": [
    "#### 3.4.5 Zatim izvrsiti mjerenja na testnom skupu koristeci funkciju `model.evaluate()`. Objasnite razliku izmedu funkcije `model.evaluate()` i `model.predict()`.\n",
    "\n",
    "- Razlika izmedju `model.evaluate` i `model.predict` je sto `model.evaluate` testira vrijednosti i racuna funkciju gubitka za sve klase koje su trazene, i vraca listu gubitaka i metrika u jednoj vrijendosti. `model.predict` samo predvidja odnosno testira izlaz modela u zavisnosti od ulaznih podataka. Izlazne vrijednosti ove dvije funkcije su razlicite jer ne racunaju iste stvari.\n"
   ]
  },
  {
   "cell_type": "code",
   "execution_count": 26,
   "metadata": {},
   "outputs": [
    {
     "name": "stdout",
     "output_type": "stream",
     "text": [
      "32/32 [==============================] - 0s 1ms/step - loss: 1.1942 - accuracy: 0.7990\n",
      "Validacija - tacnost:  0.7990000247955322 a gubitak: 1.1941951513290405\n"
     ]
    }
   ],
   "source": [
    "val_loss, val_acc = model.evaluate(x_val, y_val)\n",
    "\n",
    "print(*['Validacija - tacnost: ', val_acc, 'a gubitak:', val_loss])"
   ]
  },
  {
   "cell_type": "markdown",
   "metadata": {},
   "source": [
    "#### 3.4.6 Ponovo izmjeriti tacnost i funkciju gubitka i uporediti sa prethodnim mjerenjima.\n",
    "\n",
    "- Poredeci sa prethodnim graficima, vidimo da najbolju tacnost i najmanji gubitak ostvarujemo pri kraju `7` epohe."
   ]
  },
  {
   "cell_type": "code",
   "execution_count": 27,
   "metadata": {},
   "outputs": [
    {
     "name": "stdout",
     "output_type": "stream",
     "text": [
      "Dict keys: dict_keys(['loss', 'accuracy', 'val_loss', 'val_accuracy'])\n"
     ]
    },
    {
     "data": {
      "image/png": "[encoded data removed]",
      "text/plain": [
       "<Figure size 432x288 with 1 Axes>"
      ]
     },
     "metadata": {
      "needs_background": "light"
     },
     "output_type": "display_data"
    }
   ],
   "source": [
    "import matplotlib.pyplot as plt\n",
    "\n",
    "history_dict = reuters_model_7_epoch.history\n",
    "print(*['Dict keys:', history_dict.keys()])\n",
    "\n",
    "loss_values = history_dict['loss']\n",
    "val_loss_values = history_dict['val_loss']\n",
    "acc = history_dict['accuracy']\n",
    "val_acc_values = history_dict['val_accuracy']\n",
    "\n",
    "epochs = range(1, len(acc) + 1)\n",
    "plt.plot(epochs, loss_values, 'bo', label='Training loss')\n",
    "plt.plot(epochs, val_loss_values, 'b', label='Validation loss')\n",
    "plt.title('Training and validation loss')\n",
    "plt.xlabel('Epochs')\n",
    "plt.ylabel('Loss')\n",
    "plt.legend()\n",
    "plt.show()"
   ]
  },
  {
   "cell_type": "code",
   "execution_count": 28,
   "metadata": {},
   "outputs": [
    {
     "data": {
      "image/png": "[encoded data removed]",
      "text/plain": [
       "<Figure size 432x288 with 1 Axes>"
      ]
     },
     "metadata": {
      "needs_background": "light"
     },
     "output_type": "display_data"
    }
   ],
   "source": [
    "plt.clf()\n",
    "plt.plot(epochs, acc, 'bo', label='Training acc')\n",
    "plt.plot(epochs, val_acc_values, 'b', label='Validation acc')\n",
    "plt.title('Training and validation accuracy')\n",
    "plt.xlabel('Epochs')\n",
    "plt.ylabel('Accuracy')\n",
    "plt.legend()\n",
    "plt.show()"
   ]
  },
  {
   "cell_type": "markdown",
   "metadata": {},
   "source": [
    "### 3.5 Testiranje modela na testnim podacima"
   ]
  },
  {
   "cell_type": "code",
   "execution_count": 29,
   "metadata": {},
   "outputs": [],
   "source": [
    "predictions = model.predict(x_test)"
   ]
  },
  {
   "cell_type": "markdown",
   "metadata": {},
   "source": [
    "#### 3.5.1 Koja je dimenzionalnost jedne predikcije (bilo koje)?\n",
    "\n",
    "- Dimenzionalnost je 46."
   ]
  },
  {
   "cell_type": "markdown",
   "metadata": {},
   "source": [
    "#### 3.5.2 Koja je suma vrijednosti iz jedne predikcije (bilo koje)? Da li je to slucaj i sa ostalim predikcijama? Zasto je to tako?\n",
    "\n",
    "- Suma vrijednosti bilo koje predikcije je 1.\n",
    "- To je slucaj sa svim predikcijama.\n",
    "- Zato sto softmax na svom izlazu za svaku klasu daje 46 vrijednosti koje sumarno predstavljaju jedinicu, ali za svaku predstavljaju pripadnost te predikcije za tu klasu."
   ]
  },
  {
   "cell_type": "markdown",
   "metadata": {},
   "source": [
    "#### 3.5.3 Za prvih 10 predikcija iz skupa `x_test` naci indeks sa najvecoj vjerovatnocom (korisiti numpy i argmax). Da li je to u skladu sa dostupnim oznakama (labelama)?"
   ]
  },
  {
   "cell_type": "code",
   "execution_count": 30,
   "metadata": {},
   "outputs": [
    {
     "name": "stdout",
     "output_type": "stream",
     "text": [
      "Novost ID: 0 stvarna labela: 4 predicted labela: 4\n",
      "? ? ? oil and gas partnership said it completed the sale of interests in two major oil and gas fi...\n",
      "\n",
      "Novost ID: 1 stvarna labela: 5 predicted labela: 1\n",
      "? grain traders said they were still awaiting results of yesterday's u k intervention feed wheat ...\n",
      "\n",
      "Novost ID: 2 stvarna labela: 10 predicted labela: 10\n",
      "? philippine sugar production in the 1987 88 crop year ending august has been set at 1 6 mln tonn...\n",
      "\n",
      "Novost ID: 3 stvarna labela: 4 predicted labela: 13\n",
      "? strong south ? winds were keeping many vessels trapped in the ice off the finnish and swedish c...\n",
      "\n",
      "Novost ID: 4 stvarna labela: 3 predicted labela: 3\n",
      "? period ended january 31 shr 22 cts vs 16 cts net 518 564 vs 374 198 revs 2 090 724 vs 1 614 079...\n",
      "\n",
      "Novost ID: 5 stvarna labela: 4 predicted labela: 4\n",
      "? ? ? oil and gas partnership said it completed the sale of interests in two major oil and gas fi...\n",
      "\n",
      "Novost ID: 6 stvarna labela: 4 predicted labela: 4\n",
      "? ? ? oil and gas partnership said it completed the sale of interests in two major oil and gas fi...\n",
      "\n",
      "Novost ID: 7 stvarna labela: 4 predicted labela: 4\n",
      "? ? ? oil and gas partnership said it completed the sale of interests in two major oil and gas fi...\n",
      "\n",
      "Novost ID: 8 stvarna labela: 4 predicted labela: 4\n",
      "? ? ? oil and gas partnership said it completed the sale of interests in two major oil and gas fi...\n",
      "\n",
      "Novost ID: 9 stvarna labela: 4 predicted labela: 4\n",
      "? ? ? oil and gas partnership said it completed the sale of interests in two major oil and gas fi...\n",
      "\n"
     ]
    }
   ],
   "source": [
    "import numpy as np\n",
    "\n",
    "prvih_deset = predictions[:10]\n",
    "\n",
    "for i, item in enumerate(prvih_deset):\n",
    "    max_index = np.argmax(item)\n",
    "\n",
    "    predicted_label = np.argmax(predictions[max_index])\n",
    "\n",
    "    real_label = np.argmax(y_test[max_index])\n",
    "\n",
    "    decoded_max = ' '.join([reverse_word_index.get(i - 3, '?') for i in test_data[max_index]])\n",
    "\n",
    "    print(*['Novost ID:', i, 'stvarna labela:', real_label, 'predicted labela:', predicted_label])\n",
    "    print(return_formatted_review(decoded_max, 100))\n",
    "    print('')"
   ]
  },
  {
   "cell_type": "markdown",
   "metadata": {},
   "source": [
    "#### 3.5.4 Koliko novosti ima maksimalnu vjerovatnocu vecu od 0.5?"
   ]
  },
  {
   "cell_type": "code",
   "execution_count": 31,
   "metadata": {},
   "outputs": [
    {
     "name": "stdout",
     "output_type": "stream",
     "text": [
      "Broj novosti sa vjerovatnocom vecom od 0.5: 2129\n"
     ]
    }
   ],
   "source": [
    "import numpy as np\n",
    "\n",
    "print(*['Broj novosti sa vjerovatnocom vecom od 0.5:', np.count_nonzero(predictions > 0.5)])"
   ]
  },
  {
   "cell_type": "markdown",
   "metadata": {},
   "source": [
    "#### 3.5.5 Koja je tacnost nad testnim skupom podataka, a koliki je gubitak?"
   ]
  },
  {
   "cell_type": "code",
   "execution_count": 32,
   "metadata": {},
   "outputs": [
    {
     "name": "stdout",
     "output_type": "stream",
     "text": [
      "71/71 [==============================] - 0s 1ms/step - loss: 1.4103 - accuracy: 0.7774\n",
      "Test - tacnost:  0.7773820161819458 a gubitak: 1.4103102684020996\n"
     ]
    }
   ],
   "source": [
    "test_loss, test_acc = model.evaluate(x_test, y_test)\n",
    "\n",
    "print(*['Test - tacnost: ', test_acc, 'a gubitak:', test_loss])"
   ]
  },
  {
   "cell_type": "markdown",
   "metadata": {},
   "source": [
    "## 4. Dalja eksperimentiranja"
   ]
  },
  {
   "cell_type": "code",
   "execution_count": 33,
   "metadata": {},
   "outputs": [
    {
     "name": "stdout",
     "output_type": "stream",
     "text": [
      "Validacija - tacnost:  0.7990000247955322 a gubitak: 1.1941951513290405\n",
      "Test - tacnost:  0.7773820161819458 a gubitak: 1.4103102684020996\n"
     ]
    }
   ],
   "source": [
    "print(*['Validacija - tacnost: ', val_acc, 'a gubitak:', val_loss])\n",
    "print(*['Test - tacnost: ', test_acc, 'a gubitak:', test_loss])"
   ]
  },
  {
   "cell_type": "markdown",
   "metadata": {},
   "source": [
    "#### 4.0.1 Modifikovati postojeci model mreze na nacin da u drugom sloju koristite 4 skrivene procesne jedinice. Koja je tacnost ovog modela i gubitak? Uporedite sa originalnim modelom.\n",
    "\n",
    "- Poredeci sa orginalnim modelom, tacnost je smanjena, a gubitak povecan bilo validacijski dataset ili testni dataset. Kod je dat ispod."
   ]
  },
  {
   "cell_type": "code",
   "execution_count": 34,
   "metadata": {},
   "outputs": [
    {
     "name": "stdout",
     "output_type": "stream",
     "text": [
      "Epoch 1/7\n",
      "16/16 [==============================] - 0s 18ms/step - loss: 3.5415 - accuracy: 0.0108 - val_loss: 3.2798 - val_accuracy: 0.0340\n",
      "Epoch 2/7\n",
      "16/16 [==============================] - 0s 12ms/step - loss: 3.0889 - accuracy: 0.1378 - val_loss: 2.9517 - val_accuracy: 0.2360\n",
      "Epoch 3/7\n",
      "16/16 [==============================] - 0s 13ms/step - loss: 2.7241 - accuracy: 0.2539 - val_loss: 2.6457 - val_accuracy: 0.2530\n",
      "Epoch 4/7\n",
      "16/16 [==============================] - 0s 12ms/step - loss: 2.3754 - accuracy: 0.3017 - val_loss: 2.3380 - val_accuracy: 0.3710\n",
      "Epoch 5/7\n",
      "16/16 [==============================] - 0s 12ms/step - loss: 2.0140 - accuracy: 0.5583 - val_loss: 2.0045 - val_accuracy: 0.6140\n",
      "Epoch 6/7\n",
      "16/16 [==============================] - 0s 13ms/step - loss: 1.6846 - accuracy: 0.6366 - val_loss: 1.7646 - val_accuracy: 0.6260\n",
      "Epoch 7/7\n",
      "16/16 [==============================] - 0s 14ms/step - loss: 1.4561 - accuracy: 0.6538 - val_loss: 1.6479 - val_accuracy: 0.6250\n",
      "32/32 [==============================] - 0s 1ms/step - loss: 1.6479 - accuracy: 0.6250\n",
      "71/71 [==============================] - 0s 1ms/step - loss: 1.7306 - accuracy: 0.6126\n",
      "\n",
      "Validacija - tacnost:  0.625 a gubitak: 1.6478742361068726\n",
      "Test - tacnost:  0.6126446723937988 a gubitak: 1.7306132316589355\n"
     ]
    }
   ],
   "source": [
    "from keras import models\n",
    "from keras import layers\n",
    "\n",
    "model = models.Sequential()\n",
    "model.add(layers.Dense(64, activation='relu', input_shape=(10000,)))\n",
    "model.add(layers.Dense(4, activation='relu'))\n",
    "model.add(layers.Dense(46, activation='softmax'))\n",
    "\n",
    "model.compile(optimizer='rmsprop', loss='categorical_crossentropy', metrics=['accuracy'])\n",
    "\n",
    "reuters_model = model.fit(partial_x_train, partial_y_train, epochs=7, batch_size=512, validation_data=(x_val, y_val))\n",
    "\n",
    "val_loss, val_acc = model.evaluate(x_val, y_val)\n",
    "test_loss, test_acc = model.evaluate(x_test, y_test)\n",
    "\n",
    "print('')\n",
    "print(*['Validacija - tacnost: ', val_acc, 'a gubitak:', val_loss])\n",
    "print(*['Test - tacnost: ', test_acc, 'a gubitak:', test_loss])"
   ]
  },
  {
   "cell_type": "markdown",
   "metadata": {},
   "source": [
    "#### 4.0.2 U modelu ste koristili dva skrivena sloja. Pokusajte koristiti jedan ili tri skrivena sloja i utvrdite kako to utice na tacnost kod validacijskog i testnog skupa.\n",
    "\n",
    "- Koristena su tri skrivena sloja, tacnost je povecana, a gubitak je smanjen i za validacijski i za testni dataset. Kod je dat ispod."
   ]
  },
  {
   "cell_type": "code",
   "execution_count": 35,
   "metadata": {},
   "outputs": [
    {
     "name": "stdout",
     "output_type": "stream",
     "text": [
      "Epoch 1/7\n",
      "16/16 [==============================] - 0s 20ms/step - loss: 2.9524 - accuracy: 0.4682 - val_loss: 1.8849 - val_accuracy: 0.6440\n",
      "Epoch 2/7\n",
      "16/16 [==============================] - 0s 13ms/step - loss: 1.5172 - accuracy: 0.6991 - val_loss: 1.3223 - val_accuracy: 0.7050\n",
      "Epoch 3/7\n",
      "16/16 [==============================] - 0s 14ms/step - loss: 1.1112 - accuracy: 0.7580 - val_loss: 1.1971 - val_accuracy: 0.7230\n",
      "Epoch 4/7\n",
      "16/16 [==============================] - 0s 13ms/step - loss: 0.8983 - accuracy: 0.7978 - val_loss: 1.0909 - val_accuracy: 0.7600\n",
      "Epoch 5/7\n",
      "16/16 [==============================] - 0s 13ms/step - loss: 0.7279 - accuracy: 0.8428 - val_loss: 1.0775 - val_accuracy: 0.7760\n",
      "Epoch 6/7\n",
      "16/16 [==============================] - 0s 13ms/step - loss: 0.5882 - accuracy: 0.8728 - val_loss: 1.0012 - val_accuracy: 0.7850\n",
      "Epoch 7/7\n",
      "16/16 [==============================] - 0s 14ms/step - loss: 0.4836 - accuracy: 0.8934 - val_loss: 0.9577 - val_accuracy: 0.8070\n",
      "32/32 [==============================] - 0s 1ms/step - loss: 0.9577 - accuracy: 0.8070\n",
      "71/71 [==============================] - 0s 947us/step - loss: 1.0362 - accuracy: 0.7823\n",
      "\n",
      "Validacija - tacnost:  0.8069999814033508 a gubitak: 0.9576625823974609\n",
      "Test - tacnost:  0.7822796106338501 a gubitak: 1.036231517791748\n"
     ]
    }
   ],
   "source": [
    "from keras import models\n",
    "from keras import layers\n",
    "\n",
    "model = models.Sequential()\n",
    "model.add(layers.Dense(64, activation='relu', input_shape=(10000,)))\n",
    "model.add(layers.Dense(64, activation='relu'))\n",
    "model.add(layers.Dense(64, activation='relu'))\n",
    "model.add(layers.Dense(46, activation='softmax'))\n",
    "\n",
    "model.compile(optimizer='rmsprop', loss='categorical_crossentropy', metrics=['accuracy'])\n",
    "\n",
    "reuters_model = model.fit(partial_x_train, partial_y_train, epochs=7, batch_size=512, validation_data=(x_val, y_val))\n",
    "\n",
    "val_loss, val_acc = model.evaluate(x_val, y_val)\n",
    "test_loss, test_acc = model.evaluate(x_test, y_test)\n",
    "\n",
    "print('')\n",
    "print(*['Validacija - tacnost: ', val_acc, 'a gubitak:', val_loss])\n",
    "print(*['Test - tacnost: ', test_acc, 'a gubitak:', test_loss])"
   ]
  },
  {
   "cell_type": "markdown",
   "metadata": {},
   "source": [
    "#### 4.0.3 Pokusajte koristiti slojeve s vise skrivenih jedinica ili manje skrivenih jedinica, na primjer 32, 128 i 256 jedinice. Utvrdite kako to utice na tacnost kod validacijskog i testnog skupa.\n",
    "\n",
    "- Povecan je broj skrivenih jedinica u drugom sloju, tacnost je povecana, a gubitak je smanjen i za validacijski i za testni dataset. Kod je dat ispod."
   ]
  },
  {
   "cell_type": "code",
   "execution_count": 39,
   "metadata": {},
   "outputs": [
    {
     "name": "stdout",
     "output_type": "stream",
     "text": [
      "Epoch 1/7\n",
      "16/16 [==============================] - 0s 20ms/step - loss: 2.5494 - accuracy: 0.5338 - val_loss: 1.6205 - val_accuracy: 0.6540\n",
      "Epoch 2/7\n",
      "16/16 [==============================] - 0s 13ms/step - loss: 1.3271 - accuracy: 0.7234 - val_loss: 1.2280 - val_accuracy: 0.7480\n",
      "Epoch 3/7\n",
      "16/16 [==============================] - 0s 13ms/step - loss: 0.9671 - accuracy: 0.7959 - val_loss: 1.0989 - val_accuracy: 0.7780\n",
      "Epoch 4/7\n",
      "16/16 [==============================] - 0s 13ms/step - loss: 0.7457 - accuracy: 0.8404 - val_loss: 0.9677 - val_accuracy: 0.8000\n",
      "Epoch 5/7\n",
      "16/16 [==============================] - 0s 13ms/step - loss: 0.5782 - accuracy: 0.8776 - val_loss: 0.9301 - val_accuracy: 0.8090\n",
      "Epoch 6/7\n",
      "16/16 [==============================] - 0s 13ms/step - loss: 0.4532 - accuracy: 0.9028 - val_loss: 0.9095 - val_accuracy: 0.8090\n",
      "Epoch 7/7\n",
      "16/16 [==============================] - 0s 13ms/step - loss: 0.3556 - accuracy: 0.9251 - val_loss: 0.9428 - val_accuracy: 0.8000\n",
      "32/32 [==============================] - 0s 1ms/step - loss: 0.9428 - accuracy: 0.8000\n",
      "71/71 [==============================] - 0s 1ms/step - loss: 1.0054 - accuracy: 0.7792\n",
      "\n",
      "Validacija - tacnost:  0.800000011920929 a gubitak: 0.9428267478942871\n",
      "Test - tacnost:  0.7791629433631897 a gubitak: 1.0053821802139282\n"
     ]
    }
   ],
   "source": [
    "from keras import models\n",
    "from keras import layers\n",
    "\n",
    "model = models.Sequential()\n",
    "model.add(layers.Dense(64, activation='relu', input_shape=(10000,)))\n",
    "model.add(layers.Dense(128, activation='relu'))\n",
    "model.add(layers.Dense(46, activation='softmax'))\n",
    "\n",
    "model.compile(optimizer='rmsprop', loss='categorical_crossentropy', metrics=['accuracy'])\n",
    "\n",
    "reuters_model = model.fit(partial_x_train, partial_y_train, epochs=7, batch_size=512, validation_data=(x_val, y_val))\n",
    "\n",
    "val_loss, val_acc = model.evaluate(x_val, y_val)\n",
    "test_loss, test_acc = model.evaluate(x_test, y_test)\n",
    "\n",
    "print('')\n",
    "print(*['Validacija - tacnost: ', val_acc, 'a gubitak:', val_loss])\n",
    "print(*['Test - tacnost: ', test_acc, 'a gubitak:', test_loss])"
   ]
  }
 ],
 "metadata": {
  "kernelspec": {
   "display_name": "Python 3",
   "language": "python",
   "name": "python3"
  },
  "language_info": {
   "codemirror_mode": {
    "name": "ipython",
    "version": 3
   },
   "file_extension": ".py",
   "mimetype": "text/x-python",
   "name": "python",
   "nbconvert_exporter": "python",
   "pygments_lexer": "ipython3",
   "version": "3.8.5"
  }
 },
 "nbformat": 4,
 "nbformat_minor": 4
}
