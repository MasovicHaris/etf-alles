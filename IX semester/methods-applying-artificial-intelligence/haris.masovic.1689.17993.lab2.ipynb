{
 "cells": [
  {
   "cell_type": "markdown",
   "metadata": {},
   "source": [
    "#### Metode i primjena vjestacke inteligencije\n",
    "#### Laboratorijska vjezba 2\n",
    "#### Student: Masovic Haris\n",
    "#### Index: 1689/17993"
   ]
  },
  {
   "cell_type": "markdown",
   "metadata": {},
   "source": [
    "## 0. Dependencies"
   ]
  },
  {
   "cell_type": "code",
   "execution_count": 1,
   "metadata": {},
   "outputs": [
    {
     "name": "stdout",
     "output_type": "stream",
     "text": [
      "Requirement already satisfied: tabletext in /Library/Frameworks/Python.framework/Versions/3.8/lib/python3.8/site-packages (0.1)\n",
      "\u001b[33mWARNING: You are using pip version 20.1.1; however, version 20.2.4 is available.\n",
      "You should consider upgrading via the '/Library/Frameworks/Python.framework/Versions/3.8/bin/python3.8 -m pip install --upgrade pip' command.\u001b[0m\n"
     ]
    }
   ],
   "source": [
    "import sys\n",
    "\n",
    "!{sys.executable} -m pip install tabletext\n"
   ]
  },
  {
   "cell_type": "markdown",
   "metadata": {},
   "source": [
    "## 2. KNN algoritam"
   ]
  },
  {
   "cell_type": "markdown",
   "metadata": {},
   "source": [
    "### 2.1 Implementacija KNN algoritma"
   ]
  },
  {
   "cell_type": "code",
   "execution_count": 6,
   "metadata": {},
   "outputs": [
    {
     "name": "stdout",
     "output_type": "stream",
     "text": [
      "\n",
      "Euclid distance - Classification results:\n",
      "\n",
      "┌─────────┬───┬───┬───┐\n",
      "│ Query/K │ 1 │ 3 │ 5 │\n",
      "├─────────┼───┼───┼───┤\n",
      "│      33 │ 1 │ 1 │ 1 │\n",
      "├─────────┼───┼───┼───┤\n",
      "│      50 │ 1 │ 1 │ 1 │\n",
      "├─────────┼───┼───┼───┤\n",
      "│      80 │ 0 │ 0 │ 0 │\n",
      "└─────────┴───┴───┴───┘\n",
      "\n",
      "Euclid distance - Regression results:\n",
      "\n",
      "┌─────────┬────────┬────────────────────┬─────────┐\n",
      "│ Query/K │      1 │                  3 │       5 │\n",
      "├─────────┼────────┼────────────────────┼─────────┤\n",
      "│   150.4 │ 51.58  │ 53.96333333333333  │ 65.958  │\n",
      "├─────────┼────────┼────────────────────┼─────────┤\n",
      "│   173.4 │ 69.43  │ 80.72333333333334  │ 80.838  │\n",
      "├─────────┼────────┼────────────────────┼─────────┤\n",
      "│   190.3 │ 150.22 │ 114.94666666666666 │ 129.752 │\n",
      "└─────────┴────────┴────────────────────┴─────────┘\n",
      "\n",
      "Manhattan distance - Classification results:\n",
      "\n",
      "┌─────────┬───┬───┬───┐\n",
      "│ Query/K │ 1 │ 3 │ 5 │\n",
      "├─────────┼───┼───┼───┤\n",
      "│      33 │ 1 │ 1 │ 1 │\n",
      "├─────────┼───┼───┼───┤\n",
      "│      50 │ 1 │ 1 │ 1 │\n",
      "├─────────┼───┼───┼───┤\n",
      "│      80 │ 0 │ 0 │ 0 │\n",
      "└─────────┴───┴───┴───┘\n",
      "\n",
      "Manhattan distance - Regression results:\n",
      "\n",
      "┌─────────┬────────┬────────────────────┬─────────┐\n",
      "│ Query/K │      1 │                  3 │       5 │\n",
      "├─────────┼────────┼────────────────────┼─────────┤\n",
      "│   150.4 │ 51.58  │ 53.96333333333333  │ 65.958  │\n",
      "├─────────┼────────┼────────────────────┼─────────┤\n",
      "│   173.4 │ 69.43  │ 80.72333333333334  │ 80.838  │\n",
      "├─────────┼────────┼────────────────────┼─────────┤\n",
      "│   190.3 │ 150.22 │ 114.94666666666666 │ 129.752 │\n",
      "└─────────┴────────┴────────────────────┴─────────┘\n",
      "\n",
      "Chebyshev distance - Classification results:\n",
      "\n",
      "┌─────────┬───┬───┬───┐\n",
      "│ Query/K │ 1 │ 3 │ 5 │\n",
      "├─────────┼───┼───┼───┤\n",
      "│      33 │ 1 │ 1 │ 1 │\n",
      "├─────────┼───┼───┼───┤\n",
      "│      50 │ 1 │ 1 │ 1 │\n",
      "├─────────┼───┼───┼───┤\n",
      "│      80 │ 0 │ 0 │ 0 │\n",
      "└─────────┴───┴───┴───┘\n",
      "\n",
      "Chebyshev distance - Regression results:\n",
      "\n",
      "┌─────────┬────────┬────────────────────┬─────────┐\n",
      "│ Query/K │      1 │                  3 │       5 │\n",
      "├─────────┼────────┼────────────────────┼─────────┤\n",
      "│   150.4 │ 51.58  │ 53.96333333333333  │ 65.958  │\n",
      "├─────────┼────────┼────────────────────┼─────────┤\n",
      "│   173.4 │ 69.43  │ 80.72333333333334  │ 80.838  │\n",
      "├─────────┼────────┼────────────────────┼─────────┤\n",
      "│   190.3 │ 150.22 │ 114.94666666666666 │ 129.752 │\n",
      "└─────────┴────────┴────────────────────┴─────────┘\n"
     ]
    }
   ],
   "source": [
    "from collections import Counter\n",
    "from tabletext import to_text\n",
    "import math\n",
    "\n",
    "# set True to show logs\n",
    "SHOW_LOGS = False\n",
    "\n",
    "# 2.1.9\n",
    "classification_data = [\n",
    "    [34, 1], \n",
    "    [66, 0], \n",
    "    [76, 0], \n",
    "    [51, 1], \n",
    "    [91, 0], \n",
    "    [56, 1], \n",
    "    [46, 1], \n",
    "    [31, 1], \n",
    "    [21, 1],\n",
    "    [63, 0], \n",
    "    [94, 0], \n",
    "    [81, 0], \n",
    "    [65, 0], \n",
    "    [18, 1], \n",
    "    [25, 1]\n",
    "]\n",
    "\n",
    "# 2.1.12\n",
    "regression_data = [\n",
    "    [159.2, 64.32], \n",
    "    [189.1, 96.92], \n",
    "    [148.8, 51.58], \n",
    "    [201.8, 103.49], \n",
    "    [191.1, 150.22],\n",
    "    [169.2, 85.54], \n",
    "    [153.2, 45.99], \n",
    "    [170.3, 69.43], \n",
    "    [199.5, 200.43], \n",
    "    [188.7, 97.7], \n",
    "    [165.5, 87.2], \n",
    "    [134.6, 80.7]\n",
    "]\n",
    "\n",
    "\n",
    "def knn(data, query, k, distance_func, choice_func):\n",
    "    # print(*[type(data), type(query), type(k), type(distance_func), type(choice_func)])\n",
    "    neighbor_distances_and_indices = []\n",
    "    \n",
    "    for index, example in enumerate(data):\n",
    "        distance = distance_func(example[:-1], query)\n",
    "        \n",
    "        neighbor_distances_and_indices.append((distance, index))\n",
    "    \n",
    "    sorted_neighbor_distances_and_indices = sorted(neighbor_distances_and_indices)\n",
    "    \n",
    "    k_nearest_distances_and_indices = sorted_neighbor_distances_and_indices[:k]\n",
    "    \n",
    "    k_nearest_labels = [data[i][1] for distance, i in k_nearest_distances_and_indices]\n",
    "\n",
    "    return k_nearest_distances_and_indices , choice_func(k_nearest_labels)\n",
    "\n",
    "def mean(labels):\n",
    "    return sum(labels) / len(labels)\n",
    "\n",
    "def mode(labels):\n",
    "    return Counter(labels).most_common(1)[0][0]\n",
    "\n",
    "def neka_distance(point1, point2):\n",
    "    sum_squared_distance = 0\n",
    "    for i in range(len(point1)):\n",
    "        sum_squared_distance += math.pow(point1[i] - point2[i], 2)\n",
    "    return math.sqrt(sum_squared_distance)\n",
    "\n",
    "def manhattan_distance(point1, point2):\n",
    "    sum_squared_distance = 0\n",
    "    for i in range(len(point1)):\n",
    "        sum_squared_distance += abs(point1[i] - point2[i])\n",
    "    return math.sqrt(sum_squared_distance)\n",
    "\n",
    "def chebyshev_distance(point1, point2):\n",
    "    max_distance = 0\n",
    "    for i in range(len(point1)):\n",
    "        abs_difference = abs(point1[i] - point2[i])\n",
    "        if abs_difference > max_distance:\n",
    "            max_distance = abs_difference\n",
    "    return max_distance\n",
    "\n",
    "def write_results(header, data, queries, k_values, distance_fun, choice_fun):\n",
    "    if SHOW_LOGS == True:\n",
    "        print('')\n",
    "        print(*[header, 'logs:'])\n",
    "        print('')\n",
    "    \n",
    "    header_table = ['Query/K'] + k_values\n",
    "    table = [header_table]\n",
    "    \n",
    "    for item in queries: \n",
    "        row = [item]\n",
    "        for k in k_values:\n",
    "            results, choice = knn(data, [item], k, distance_fun, choice_fun)\n",
    "            row.append(str(choice))\n",
    "            if SHOW_LOGS == True:\n",
    "                print(*['query:', item, 'k:', k, 'result:', (results, choice)])\n",
    "        table.append(row)\n",
    "        \n",
    "    print('')\n",
    "    print(*[header, 'results:'])\n",
    "    print('')\n",
    "    \n",
    "    return table\n",
    "\n",
    "def main():\n",
    "    # 2.1.10\n",
    "    classification_query = [33, 50, 80]\n",
    "    # 2.1.13\n",
    "    regression_query = [150.4, 173.4, 190.3]\n",
    "    \n",
    "    # 2.1.10\n",
    "    # 2.1.13\n",
    "    k_values = [1, 3, 5]\n",
    "    \n",
    "    c_result = write_results('Euclid distance - Classification', classification_data, classification_query, k_values, neka_distance, mode)\n",
    "    \n",
    "    # 2.1.10 - testiranje\n",
    "    print(to_text(c_result))\n",
    "    \n",
    "    r_result = write_results('Euclid distance - Regression', regression_data, regression_query, k_values, neka_distance, mean)\n",
    "    \n",
    "    # 2.1.13 - testiranje\n",
    "    print(to_text(r_result))\n",
    "    \n",
    "    # 2.1.15 - manhattan distanca\n",
    "    manhattan_c_result = write_results('Manhattan distance - Classification', classification_data, classification_query, k_values, manhattan_distance, mode)\n",
    "    \n",
    "    print(to_text(manhattan_c_result))\n",
    "    \n",
    "    manhattan_r_result = write_results('Manhattan distance - Regression', regression_data, regression_query, k_values, manhattan_distance, mean)\n",
    "    \n",
    "    print(to_text(manhattan_r_result))\n",
    "    \n",
    "    # 2.1.15 - chebyshev distanca\n",
    "    chebyshev_c_result = write_results('Chebyshev distance - Classification', classification_data, classification_query, k_values, chebyshev_distance, mode)\n",
    "    \n",
    "    print(to_text(chebyshev_c_result))\n",
    "    \n",
    "    chebyshev_r_result = write_results('Chebyshev distance - Regression', regression_data, regression_query, k_values, chebyshev_distance, mean)\n",
    "    \n",
    "    print(to_text(chebyshev_r_result))\n",
    "    \n",
    "\n",
    "if __name__ == '__main__':\n",
    "    main()"
   ]
  },
  {
   "cell_type": "markdown",
   "metadata": {},
   "source": [
    "#### 2.1.1 Objasnite koji parametri se salju funkciji knn() na ulazu. O kojoj strukturi i vrsti podataka je rijec (skalar, vektor, int, float, itd.) ??\n",
    "\n",
    "- Parametar `data` predstavlja listu koja sadrzi elemente tipa `[podatak, labela]`, odnosno nase inicijalne podatke navedene u vjezbi, a takoder ukoliko iskorstimo funkciju `type` dobicemo da je to tip liste, odnosno `<class 'list'>`.\n",
    "- Parametar `query` takodjer predstavlja listu, ovaj parametar predstavlja vrijednost koja je nama od znacaja bilo za regresiju ili klasifikaciju. Na osnovu te vrijednosti ce se racunati udaljenosti elemenata u skupu podataka. Gledajuci funkciju inicijalni postavljenu `neka_distance` vidimo da ovaj tip mora biti lista, jer u protivnom ce se desiti greska, tako da ce se vrijednosti slati kao `[vrijednost]` u kodu.\n",
    "- Parametar `k` predstavlja neki cijeli broj `<class 'int'>` koji govori koliko najblizih slusjeda uzeti za nasu predefinisanu `query` tacku i na osnovu njih ce se klasificirati ili regresija uraditi.\n",
    "- Parametar `distance_func` je tip funkcije odnosno `<class 'function'>`. Ova funkcija predstavlja funkciju koja ce se koristiti za racunanje udaljenosti elemenata iz `data` skupa u odnosu na `query` parametar.\n",
    "- Parametar `choice_func` je tip funkcije odnosno `<class 'function'>`. Ova funkcija se koristi za finalni odabir predikcije za `query` parametar. Za slucaj klasifikacije koristiti ce se `mode` funkcija, dok za slucaj regresije koristiti ce se `mean` funkcija."
   ]
  },
  {
   "cell_type": "markdown",
   "metadata": {},
   "source": [
    "#### 2.1.2 Objasnite sta funkcija knn() vraca na izlazu?\n",
    "\n",
    "Funkcija `knn()` na izlazu vraca dvije vrijednosti:\n",
    "- `k_nearest_distances_and_indices`, sto predstavlja listu koja se sastoji od objekata tipa `tuple`. Velicina ove liste predstavlja `k`, i to su vrijednosti koje imaju najmanju udaljenost od `query` parametra,\n",
    "- predikcija za `query` podatak kad je u pitanju klasifikacija, odnosno u slucaju regresije predstavlja kilograme za poslani `query`."
   ]
  },
  {
   "cell_type": "markdown",
   "metadata": {},
   "source": [
    "#### 2.1.3 Kako se izracunava distanca u datom primjeru? Identifikujte o kojoj distanci je rijec (na osnovu informacija datim na predavanjima).\n",
    "\n",
    "- U datom primjeru distanca se izracunava kao kvadratni korijen sume koja se dobije sabiranjem kvadrata razlike izmedju svih tacaka u `data` skupu i `query` tacke. U pitanju je euklidska distanca. "
   ]
  },
  {
   "cell_type": "markdown",
   "metadata": {},
   "source": [
    "#### 2.1.4 Koja struktura se koristi za `neighbor_distances_and_indices` ?\n",
    "\n",
    "- `neighbor_distances_and_indices` predstavlja listu objekata tipa `tuple`."
   ]
  },
  {
   "cell_type": "markdown",
   "metadata": {},
   "source": [
    "#### 2.1.5 Kako su podaci organizovani u strukturi `neighbor_distances_and_indices` ?\n",
    "\n",
    "- Posto je u pitanju lista `tuple`-ova, prvi element objekta predstavlja distancu koju smo dobili racunanjem distance svih ``` distance = distance_func(example[:-1], query) ``` dok drugi element objekta predstavlja index u strukturi (0, 1, 2..)."
   ]
  },
  {
   "cell_type": "markdown",
   "metadata": {},
   "source": [
    "#### 2.1.6 Koliko elemenata ce imati struktura `neighbor_distances_and indices`?\n",
    "- Kad je u pitanju klasifikacija, pocetni dataset ima 15 elemenata, shodno time ce i navedena struktura imati toliko, a u slucaju regresije biti ce 12 elemanata."
   ]
  },
  {
   "cell_type": "markdown",
   "metadata": {},
   "source": [
    "#### 2.1.7 Koji algoritam se koristi za sortiranje elemenata unutar ove strukture?\n",
    "\n",
    "- Algoritam za sortiranje koji je realizovan u `sorted` funkciji se naziva [Timsort](https://en.wikipedia.org/wiki/Timsort). Sortiranje je bazirano na prvom elementu tj. distanci i finalni rezultat je defaultni rastuci poredak."
   ]
  },
  {
   "cell_type": "markdown",
   "metadata": {},
   "source": [
    "#### 2.1.8 Koja vrijednost ce biti zapisana u varijablu `k_nearest_distances_and_indices` ?\n",
    "\n",
    "- U ovu varijablu ce biti upisano prvih `k` elemenata iz `sorted_neighbor_distances_and indices` varijable, tj. prvih `k` elemenata koji imaju najmanju euklidsku distancu."
   ]
  },
  {
   "cell_type": "markdown",
   "metadata": {},
   "source": [
    "#### 2.1.9 Definisati strukturu podataka classification data, a potom u nju spremiti podatke iz tabele 1. Svaki red u ovoj strukturi ce imati dva elementa, na primjer: [34, 1], [66, 0], itd.\n",
    "\n",
    "- Uradjeno i u kodu postavljen komentar `# 2.1.9`."
   ]
  },
  {
   "cell_type": "markdown",
   "metadata": {},
   "source": [
    "#### 2.1.10 Sekvencijalno definisati sljedece tri vrijednosti: 1) 33, 2) 50 i 3) 80 u varijablu `classification_query`, a potom sekvencijalno izvrsiti testiranje algoritama na izlazu. Za sva tri slucaja, definisati da je K: a) 1, b) 3 i c) 5, kao sto je prikazano u tabeli 3.\n",
    "\n",
    "- Uradjeno i u kodu postavljeno `# 2.1.10` gdje treba da bude."
   ]
  },
  {
   "cell_type": "markdown",
   "metadata": {},
   "source": [
    "#### 2.1.11 Za jedan od prethodnih slucaja (npr. Query=33 i K=3) matematickim putem pokazati kako se izracunava izlazna vrijednost."
   ]
  },
  {
   "cell_type": "code",
   "execution_count": 3,
   "metadata": {},
   "outputs": [
    {
     "name": "stdout",
     "output_type": "stream",
     "text": [
      "[[34, 1], [66, 0], [76, 0], [51, 1], [91, 0], [56, 1], [46, 1], [31, 1], [21, 1], [63, 0], [94, 0], [81, 0], [65, 0], [18, 1], [25, 1]]\n"
     ]
    }
   ],
   "source": [
    "print(classification_data)"
   ]
  },
  {
   "cell_type": "markdown",
   "metadata": {},
   "source": [
    "- Za racunanje cemo koristit euklidsku distancu, a formula koja se koristi je sljedeca:\n",
    "\n",
    "\\begin{equation*}\n",
    "distanca = \\sqrt{\\sum_{i=1}^k{(x_i - y_i)^2}}\n",
    "\\end{equation*}\n",
    "\n",
    "- Shodno time imamo, gledajuci u `classification_data` dataset:\n",
    "\\begin{equation*}\n",
    "distanca\\ (34) = \\sqrt{(34 - 33)^2} = \\textbf{1}\n",
    "\\end{equation*}\n",
    "\\begin{equation*}\n",
    "distanca\\ (66) = \\sqrt{(66 - 33)^2} = 33\n",
    "\\end{equation*}\n",
    "\\begin{equation*}\n",
    "distanca\\ (76) = \\sqrt{(76 - 33)^2} = 43\n",
    "\\end{equation*}\n",
    "\\begin{equation*}\n",
    "distanca\\ (51) = 18\n",
    "\\end{equation*}\n",
    "\\begin{equation*}\n",
    "distanca\\ (91) = 58\n",
    "\\end{equation*}\n",
    "\\begin{equation*}\n",
    "distanca\\ (56) = 23\n",
    "\\end{equation*}\n",
    "\\begin{equation*}\n",
    "distanca\\ (46) = 13\n",
    "\\end{equation*}\n",
    "\\begin{equation*}\n",
    "distanca\\ (31) = \\textbf{2}\n",
    "\\end{equation*}\n",
    "\\begin{equation*}\n",
    "distanca\\ (21) = 12\n",
    "\\end{equation*}\n",
    "\\begin{equation*}\n",
    "distanca\\ (63) = 30\n",
    "\\end{equation*}\n",
    "\\begin{equation*}\n",
    "distanca\\ (94) = 61\n",
    "\\end{equation*}\n",
    "\\begin{equation*}\n",
    "distanca\\ (81) = 48\n",
    "\\end{equation*}\n",
    "\\begin{equation*}\n",
    "distanca\\ (65) = 32\n",
    "\\end{equation*}\n",
    "\\begin{equation*}\n",
    "distanca\\ (18) = 15\n",
    "\\end{equation*}\n",
    "\\begin{equation*}\n",
    "distanca\\ (25) = \\textbf{8}\n",
    "\\end{equation*}\n",
    "\n",
    "\n",
    "- Vidimo da za `k=3` imamo da su osobe od 34, 33, 25 godina najblize `query=33` vrijednosti. Sve tri osobe imaju labelu 1, tj. sve tri osobe vole jabuku u smoothie-ju shodno time mozemo zakljuciti da i ta osoba sa 33 godine pripada skupini `1` po `mode` funkciji."
   ]
  },
  {
   "cell_type": "markdown",
   "metadata": {},
   "source": [
    "#### 2.1.12 Definisati strukturu podataka `regression_data` i u nju spremiti podatke iz tabele 2.\n",
    "\n",
    "- Uradjeno i u kodu postavljeno `# 2.1.12` gdje treba da bude."
   ]
  },
  {
   "cell_type": "markdown",
   "metadata": {},
   "source": [
    "#### 2.1.13 Sekvencijalno definisati sljedece tri 1) 150.4, 2)173.4 i 3) 190.3 vrijednosti u varijablu regression query, a potom sekvencijalno testirati  sta ce algoritam dati na izlazu. Za sva tri slucaja definisati da je K: a) 1, b) 3 i c) 5, kao sto je prikazano u tabeli 4.\n",
    "\n",
    "- Uradjeno i u kodu postavljeno `# 2.1.13` gdje treba da bude."
   ]
  },
  {
   "cell_type": "markdown",
   "metadata": {},
   "source": [
    "#### 2.1.14. Za jedan od prethodnih slucaja (npr. Query=150.4 i K=3) matematickim putem pokazati kako se izracunava izlazna vrijednost."
   ]
  },
  {
   "cell_type": "code",
   "execution_count": 4,
   "metadata": {},
   "outputs": [
    {
     "name": "stdout",
     "output_type": "stream",
     "text": [
      "[[159.2, 64.32], [189.1, 96.92], [148.8, 51.58], [201.8, 103.49], [191.1, 150.22], [169.2, 85.54], [153.2, 45.99], [170.3, 69.43], [199.5, 200.43], [188.7, 97.7], [165.5, 87.2], [134.6, 80.7]]\n"
     ]
    }
   ],
   "source": [
    "print(regression_data)"
   ]
  },
  {
   "cell_type": "markdown",
   "metadata": {},
   "source": [
    "- Za racunanje cemo koristit euklidsku distancu, a formula koja se koristi je sljedeca:\n",
    "\n",
    "\\begin{equation*}\n",
    "distanca = \\sqrt{\\sum_{i=1}^k{(x_i - y_i)^2}}\n",
    "\\end{equation*}\n",
    "\n",
    "\n",
    "- Shodno time imamo, gledajuci u `classification_data` dataset:\n",
    "\\begin{equation*}\n",
    "distanca\\ (159.2) = \\sqrt{(159.2 - 150.4)^2} = \\textbf{8.799999999999983}\n",
    "\\end{equation*}\n",
    "\\begin{equation*}\n",
    "distanca\\ (189.1) = \\sqrt{(189.1 - 150.4)^2} = 38.69999999999999\n",
    "\\end{equation*}\n",
    "\\begin{equation*}\n",
    "distanca\\ (148.8) = \\sqrt{(148.8 - 150.4)^2} = \\textbf{1.5999999999999943}\n",
    "\\end{equation*}\n",
    "\\begin{equation*}\n",
    "distanca\\ (201.8) = 51.400000000000006\n",
    "\\end{equation*}\n",
    "\\begin{equation*}\n",
    "distanca\\ (191.1) = 40.69999999999999\n",
    "\\end{equation*}\n",
    "\\begin{equation*}\n",
    "distanca\\ (169.2) = 18.799999999999983\n",
    "\\end{equation*}\n",
    "\\begin{equation*}\n",
    "distanca\\ (153.2) = \\textbf{2.799999999999983}\n",
    "\\end{equation*}\n",
    "\\begin{equation*}\n",
    "distanca\\ (170.3) = 19.900000000000006\n",
    "\\end{equation*}\n",
    "\\begin{equation*}\n",
    "distanca\\ (199.5) = 49.099999999999994\n",
    "\\end{equation*}\n",
    "\\begin{equation*}\n",
    "distanca\\ (188.7) = 38.29999999999998\n",
    "\\end{equation*}\n",
    "\\begin{equation*}\n",
    "distanca\\ (165.5) = 15.099999999999994\n",
    "\\end{equation*}\n",
    "\\begin{equation*}\n",
    "distanca\\ (134.6) = 15.800000000000011\n",
    "\\end{equation*}\n",
    "\n",
    "\n",
    "- Za svaku najmanju vrijendnost mozemo procitati visine. Za te visine mozemo uzeti kilaze i shdno time po `mean` funkciji imamo finalno predikciju kilaze za `Query=150.4`:\n",
    "\n",
    "\\begin{equation*}\n",
    "    \\frac{64.32 + 51.58 + 45.99}{3 } = 53.96 kg\n",
    "\\end{equation*}\n"
   ]
  },
  {
   "cell_type": "markdown",
   "metadata": {},
   "source": [
    "#### 2.1.15 Analizirati sta se desava za slucaj izlaznih vrijednosti KNN algoritma kada se izvrse sva testiranja nad prethodno spomenutim skupovima podataka s drugom metrikom za izracunavanje udaljenosti izmedu podataka. Da li je algoritam i u ovom slucaju vratio iste rezultate kao i za prethodni slucaj uzete metrike (distance) za izracunavanje udaljenosti? Sta se desava s rezultatima algoritma ako se upotrijebi neka treca metrika za izracunavanje udaljenosti izmedu tacaka? (Napomena: Za svaku uzetu metriku za izracunavanje udaljenosti potrebno je izvrsiti sva potrebna testiranja).\n",
    "\n",
    "Uveli smo nove dvije funckije distance:\n",
    "- Manhattan distancu\n",
    "\n",
    "\\begin{equation*}\n",
    "distanca = \\sum_{i=1}^k{\\lvert (x_i - y_i) \\rvert}\n",
    "\\end{equation*}\n",
    "\n",
    "- Chebyshev distancu\n",
    "\n",
    "\\begin{equation*}\n",
    "distanca = \\max_{i}^k{\\lvert (x_i - y_i) \\rvert}\n",
    "\\end{equation*}\n",
    "\n",
    "\n",
    "Finalno mozemo zakljuciti:\n",
    "- Bez obzira na koju od navedene 3 metrike (`euclid`, `manhattan`, `chebyshev`), rezultati su ostali isti.\n",
    "- Naravno rezultati distanci tj. medju-rezultati su se izmijenili (moze se vidjeti ukoliko kazemo `SHOW_LOGS=True`), medjutim finalne vrijednosti su i dalje ostale iste."
   ]
  },
  {
   "cell_type": "markdown",
   "metadata": {},
   "source": [
    "#### 2.1.16 Uporedite testove u odnosu na dosad izmjerene vrijednosti. Kakve zakljucke mozete izvesti? Da li algoritam u svim slucajevima vratio iste rezultate? Zasto?\n",
    "\n",
    "- Mozemo zakljuciti da koristenjem bilo koje od 3 navedene distance, algoritam vrati iste rezultate. To naravno zavisi od samih podataka, a sve 3 distance racunaju udaljenost najblizih elemenata na dobar nacin podjednako.\n",
    "- U slucaju da je drugaciji dataset, takav da moze uticati na udaljenosti izmedju tacaka po formulama distance, tada bi se mogla desiti drugacija klasifikacija/predikcija, jer naravno su drugaciji susjedi (drugaciji raspored) kod posmatrane `query` tacke odnosno drugaciji je pocetni dataset."
   ]
  }
 ],
 "metadata": {
  "kernelspec": {
   "display_name": "Python 3",
   "language": "python",
   "name": "python3"
  },
  "language_info": {
   "codemirror_mode": {
    "name": "ipython",
    "version": 3
   },
   "file_extension": ".py",
   "mimetype": "text/x-python",
   "name": "python",
   "nbconvert_exporter": "python",
   "pygments_lexer": "ipython3",
   "version": "3.8.5"
  }
 },
 "nbformat": 4,
 "nbformat_minor": 4
}
