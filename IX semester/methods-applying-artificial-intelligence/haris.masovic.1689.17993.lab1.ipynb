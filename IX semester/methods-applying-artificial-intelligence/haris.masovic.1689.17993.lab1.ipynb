{
 "cells": [
  {
   "cell_type": "markdown",
   "metadata": {},
   "source": [
    "#### Metode i primjena vjestacke inteligencije\n",
    "#### Laboratorijska vjezba 1\n",
    "#### Student: Masovic Haris\n",
    "#### Index: 1689/17993"
   ]
  },
  {
   "cell_type": "markdown",
   "metadata": {},
   "source": [
    "## 3. Klasifikacija rukom pisanih cifri"
   ]
  },
  {
   "cell_type": "markdown",
   "metadata": {},
   "source": [
    "### 3.1 Ucitavanje podataka"
   ]
  },
  {
   "cell_type": "code",
   "execution_count": 57,
   "metadata": {},
   "outputs": [
    {
     "name": "stdout",
     "output_type": "stream",
     "text": [
      "-- Train set\n",
      "\n",
      "Oblik seta podataka train_images je formata (n, px, px): (60000, 28, 28)\n",
      "Prva vrijednost predstavlja broj slika u skupu, dok druga i treca vrijednost predstavljaju rezoluciju.\n",
      "\n",
      "Velicina skupa train_labels: 60000\n",
      "Sami prikaz train_labels skupa (pogledati threshold comment):\n",
      "[5 0 4 ... 5 6 8]\n",
      "\n",
      "Element train_images type: uint8\n",
      "Svaki element np niza kojim su kodirane slike zauzima: 1 byte\n",
      "Citav skup u memoriji zauzima: 47040000 bajta u memoriji.\n",
      "\n",
      "-- Test set\n",
      "\n",
      "Oblik seta podataka test_images je formata (n, px, px): (10000, 28, 28)\n",
      "Prva vrijednost predstavlja broj slika u skupu, dok druga i treca vrijednost predstavljaju rezoluciju.\n",
      "\n",
      "Velicina skupa test_labels: 10000\n",
      "Sami prikaz test_labels skupa (pogledati threshold comment):\n",
      "[7 2 1 ... 4 5 6]\n",
      "\n",
      "Element test_images type: uint8\n",
      "Svaki element np niza kojim su kodirane slike zauzima: 1 byte\n",
      "Citav skup u memoriji zauzima: 7840000 bajta u memoriji.\n",
      "\n"
     ]
    }
   ],
   "source": [
    "import keras\n",
    "from keras.datasets import mnist\n",
    "\n",
    "# py3 notebook\n",
    "\n",
    "# ukljuciti za full prikaz podataka\n",
    "# np.set_printoptions(threshold=np.inf)\n",
    "\n",
    "(train_images, train_labels), (test_images, test_labels) = mnist.load_data()\n",
    "\n",
    "#### train set\n",
    "print('-- Train set')\n",
    "print('')\n",
    "print(*['Oblik seta podataka train_images je formata (n, px, px):', train_images.shape])\n",
    "print('Prva vrijednost predstavlja broj slika u skupu, dok druga i treca vrijednost predstavljaju rezoluciju.')\n",
    "print('')\n",
    "\n",
    "## train labels\n",
    "\n",
    "print(*['Velicina skupa train_labels:', len(train_labels)])\n",
    "print('Sami prikaz train_labels skupa (pogledati threshold comment):')\n",
    "print(train_labels)\n",
    "print(\"\")\n",
    "\n",
    "## info - train_images\n",
    "\n",
    "print(*['Element train_images type:', train_images.dtype])\n",
    "print(*['Svaki element np niza kojim su kodirane slike zauzima:', train_images.itemsize, \"byte\"])\n",
    "print(*['Citav skup u memoriji zauzima:', train_images.nbytes, \"bajta u memoriji.\"])\n",
    "print(\"\")\n",
    "\n",
    "\n",
    "#### test set\n",
    "print('-- Test set')\n",
    "print('')\n",
    "print(*['Oblik seta podataka test_images je formata (n, px, px):', test_images.shape])\n",
    "print('Prva vrijednost predstavlja broj slika u skupu, dok druga i treca vrijednost predstavljaju rezoluciju.')\n",
    "print('')\n",
    "\n",
    "## test labels\n",
    "\n",
    "print(*['Velicina skupa test_labels:', len(test_labels)])\n",
    "print('Sami prikaz test_labels skupa (pogledati threshold comment):')\n",
    "print(test_labels)\n",
    "print(\"\")\n",
    "\n",
    "## info - test_images\n",
    "\n",
    "print(*['Element test_images type:', test_images.dtype])\n",
    "print(*['Svaki element np niza kojim su kodirane slike zauzima:', test_images.itemsize, \"byte\"])\n",
    "print(*['Citav skup u memoriji zauzima:', test_images.nbytes, \"bajta u memoriji.\"])\n",
    "print(\"\")"
   ]
  },
  {
   "cell_type": "markdown",
   "metadata": {},
   "source": [
    "#### 3.1.1 Koliko slika ima u skupu za treniranje?\n",
    "\n",
    "- U skupu za trenitranje se nalazi 60000 slika."
   ]
  },
  {
   "cell_type": "markdown",
   "metadata": {},
   "source": [
    "#### 3.1.2 Koja je rezolucija slika?\n",
    "\n",
    "- Slike su predstavljene kao np (numpy) niz, poziv nad `.shape` naredbom daje nam broj slika i informacije o samim slikama. Rezolucija slika je 28x28 pixela. "
   ]
  },
  {
   "cell_type": "markdown",
   "metadata": {},
   "source": [
    "#### 3.1.3 Kojeg tipa su osnovne informacije unutar slika? i koliko bita zauzimaju u memoriji?\n",
    "\n",
    "- Osnovnu informaciju o slikama mozemo saznati pomocu `.dtype` naredbe. A to jeste da je `uint8` tip podataka.\n",
    "- Broj bita koje slike zauzimaju u memorije mozemo saznati pomocu `.itemsize` naredbe. Svaki element u nizu zauzima 1 `byte` odnosno 8 bita.\n"
   ]
  },
  {
   "cell_type": "markdown",
   "metadata": {},
   "source": [
    "#### 3.1.4 Koliko prostora ce citav skup zauzeti u memoriji?\n",
    "\n",
    "- Ovo mozemo saznati pomocu naredbe `.nbytes`. U nasem slucaju za za train set to iznosi 47040000 `byte`-a."
   ]
  },
  {
   "cell_type": "markdown",
   "metadata": {},
   "source": [
    "#### 3.1.5 Odgovorite na ista pitanja za testni skup podataka.\n",
    "\n",
    "- U `test_images` skupu podataka se nalazi 10000 slika. \n",
    "- Rezolucija slika u  je 28x28 pixela.\n",
    "- Osnovne informacije unutar slika su također tipa `uint8`, i sto kao testni skup u memoriji zauzimaju 1 `byte` odnosno 8 bita.\n",
    "- Čitav skup testnih podataka u memoriji zauzima 7840000 `byte`-a. "
   ]
  },
  {
   "cell_type": "markdown",
   "metadata": {},
   "source": [
    "### 3.2 Definisanje neuronske mreze"
   ]
  },
  {
   "cell_type": "code",
   "execution_count": 58,
   "metadata": {},
   "outputs": [
    {
     "name": "stdout",
     "output_type": "stream",
     "text": [
      "-- Train slike\n",
      "Tip podataka nakon pretvaranja: float32 i broj bita elemenata, nakon pretvaranja: 4 bytes\n",
      "Vrijednosti: \n",
      "[[0. 0. 0. ... 0. 0. 0.]\n",
      " [0. 0. 0. ... 0. 0. 0.]\n",
      " [0. 0. 0. ... 0. 0. 0.]\n",
      " ...\n",
      " [0. 0. 0. ... 0. 0. 0.]\n",
      " [0. 0. 0. ... 0. 0. 0.]\n",
      " [0. 0. 0. ... 0. 0. 0.]]\n",
      "\n",
      "-- Test slike\n",
      "Tip podataka nakon pretvaranja: float32 i broj bita elemenata nakon pretvaranja: 4 bytes\n",
      "Vrijednosti: \n",
      "[[0. 0. 0. ... 0. 0. 0.]\n",
      " [0. 0. 0. ... 0. 0. 0.]\n",
      " [0. 0. 0. ... 0. 0. 0.]\n",
      " ...\n",
      " [0. 0. 0. ... 0. 0. 0.]\n",
      " [0. 0. 0. ... 0. 0. 0.]\n",
      " [0. 0. 0. ... 0. 0. 0.]]\n",
      "\n"
     ]
    }
   ],
   "source": [
    "from keras import models\n",
    "from keras import layers\n",
    "from keras.utils import to_categorical\n",
    "\n",
    "network = models.Sequential()\n",
    "\n",
    "network = models.Sequential()\n",
    "network.add(layers.Dense(512, activation='relu', input_shape = (28 * 28,)))\n",
    "network.add(layers.Dense(10, activation = 'softmax'))\n",
    "\n",
    "network.compile(optimizer = 'rmsprop', loss = 'categorical_crossentropy', metrics = ['accuracy'])\n",
    "\n",
    "## preprocessing\n",
    "\n",
    "print(\"-- Train slike\")\n",
    "train_images = train_images.reshape((60000, 28 * 28))\n",
    "train_images = train_images.astype('float32') / 255\n",
    "\n",
    "print(*['Tip podataka nakon pretvaranja:', train_images.dtype, 'i broj bita elemenata, nakon pretvaranja:',\n",
    "        train_images.itemsize, 'bytes'])\n",
    "print('Vrijednosti: ')\n",
    "print(train_images)\n",
    "print('')\n",
    "\n",
    "print(\"-- Test slike\")\n",
    "\n",
    "test_images = test_images.reshape((10000, 28 * 28))\n",
    "test_images = test_images.astype('float32') / 255\n",
    "\n",
    "print(*['Tip podataka nakon pretvaranja:', test_images.dtype, 'i broj bita elemenata nakon pretvaranja:',\n",
    "        test_images.itemsize, 'bytes'])\n",
    "print('Vrijednosti: ')\n",
    "print(test_images)\n",
    "print('')\n",
    "\n",
    "## labele\n",
    "\n",
    "train_labels = to_categorical(train_labels)\n",
    "test_labels = to_categorical(test_labels)\n",
    "\n"
   ]
  },
  {
   "cell_type": "markdown",
   "metadata": {},
   "source": [
    "#### 3.2.1 Sta radi naredba reshape? A sta astype?\n",
    "\n",
    "- Naredba `reshape` mijenja sam niz i strukturu unutar njega. Prvi parametar predstavlja koliko nizova se zeli unutar vec postojeceg niza, dok drugi parametar predstavlja broj elemenata u tim istim nizovima unutar niza.\n",
    "- Naredba `astype` pretvara podatke u niz iz početnog tipa u navedeni tip podataka. U ovom slučaju, podaci su pretvoreni u tip `float32`."
   ]
  },
  {
   "cell_type": "markdown",
   "metadata": {},
   "source": [
    "#### 3.2.2 Koje vrijednosti su sada snimljene u `train_images` i `test_images`?\n",
    "\n",
    "- Sada imamo spremljene `float` vrijdnosti koje se nalaze u segmentu od [0, 1]."
   ]
  },
  {
   "cell_type": "markdown",
   "metadata": {},
   "source": [
    "#### 3.2.3 Koliko bita sada zauzima jedan pixel u memoriji?\n",
    "\n",
    "- Jedan podatak sada zauzima 4 `byte`-a odnosno 32 bita, jer je `float32` u pitanju."
   ]
  },
  {
   "cell_type": "markdown",
   "metadata": {},
   "source": [
    "### 3.3 Treniranje mreze"
   ]
  },
  {
   "cell_type": "code",
   "execution_count": 59,
   "metadata": {},
   "outputs": [
    {
     "name": "stdout",
     "output_type": "stream",
     "text": [
      "Epoch 1/5\n",
      "469/469 [==============================] - 1s 2ms/step - loss: 0.2561 - accuracy: 0.9266\n",
      "Epoch 2/5\n",
      "469/469 [==============================] - 1s 2ms/step - loss: 0.1043 - accuracy: 0.9692\n",
      "Epoch 3/5\n",
      "469/469 [==============================] - 1s 2ms/step - loss: 0.0689 - accuracy: 0.9793\n",
      "Epoch 4/5\n",
      "469/469 [==============================] - 1s 2ms/step - loss: 0.0504 - accuracy: 0.9849\n",
      "Epoch 5/5\n",
      "469/469 [==============================] - 1s 2ms/step - loss: 0.0376 - accuracy: 0.9887\n",
      "1875/1875 [==============================] - 1s 533us/step - loss: 0.0259 - accuracy: 0.9929\n",
      "\n",
      "Vrijednost tacnosti - train set: 0.9928833246231079\n",
      "Vrijednost funkcije gubitka - train set: 0.025942832231521606\n"
     ]
    }
   ],
   "source": [
    "network.fit(train_images, train_labels, epochs = 5, batch_size = 128)\n",
    "\n",
    "train_loss, train_acc = network.evaluate(train_images, train_labels)\n",
    "print('')\n",
    "print(*['Vrijednost tacnosti - train set:', train_acc])\n",
    "print(*['Vrijednost funkcije gubitka - train set:', train_loss])"
   ]
  },
  {
   "cell_type": "markdown",
   "metadata": {},
   "source": [
    "#### 3.3.1 Sta je epoha?\n",
    "\n",
    "- Epoha predstavlja broj kompletnih/full prolazaka kroz čitav skup podataka. Moze biti 1 ili n batcheva."
   ]
  },
  {
   "cell_type": "markdown",
   "metadata": {},
   "source": [
    "#### 3.3.2 Šta određuje parametar `batch_size` ?\n",
    "\n",
    "- Parametar `batch_size` odreduje broj uzoraka koji se koristi/procesira prije ažuriranja modela i njegovih internih stanja. "
   ]
  },
  {
   "cell_type": "markdown",
   "metadata": {},
   "source": [
    "#### 3.3.3 Koje vrijednosti vidite u konzoli u toku procesa treniranja?\n",
    "\n",
    "- Epoha koja je aktivna (Epoch 1/5 npr)\n",
    "- Vrijednost `batch_size` varijable (ispod epohe i desno od velicine skupa)\n",
    "- Velicina skupa koji se trenira (desno od varijable batch-a)\n",
    "- ETA: Estimated time of arrival, tj. vrijeme za koje ce se zavrsiti epoha\n",
    "- Preciznost (accuracy)\n",
    "- Vrijednost funkcije gubitka (loss)"
   ]
  },
  {
   "cell_type": "markdown",
   "metadata": {},
   "source": [
    "#### 3.3.4 Koja je tacnost i vrijednost funkcije gubitka? "
   ]
  },
  {
   "cell_type": "code",
   "execution_count": 60,
   "metadata": {},
   "outputs": [
    {
     "name": "stdout",
     "output_type": "stream",
     "text": [
      "Tacnost: 0.9928833246231079\n",
      "Vrijednost funkcije gubitka: 0.025942832231521606\n"
     ]
    }
   ],
   "source": [
    "print(*['Tacnost:', train_acc])\n",
    "print(*['Vrijednost funkcije gubitka:', train_loss])"
   ]
  },
  {
   "cell_type": "markdown",
   "metadata": {},
   "source": [
    "### 3.4 Evaluacija mreze"
   ]
  },
  {
   "cell_type": "code",
   "execution_count": 61,
   "metadata": {},
   "outputs": [
    {
     "name": "stdout",
     "output_type": "stream",
     "text": [
      "313/313 [==============================] - 0s 862us/step - loss: 0.0651 - accuracy: 0.9804\n",
      "\n",
      "Vrijednost tacnosti - test set: 0.980400025844574\n",
      "Vrijednost funkcije gubitka - test set: 0.0650714710354805\n"
     ]
    }
   ],
   "source": [
    "test_loss, test_acc = network.evaluate(test_images, test_labels)\n",
    "\n",
    "print('')\n",
    "print(*['Vrijednost tacnosti - test set:', test_acc])\n",
    "print(*['Vrijednost funkcije gubitka - test set:', test_loss])"
   ]
  },
  {
   "cell_type": "markdown",
   "metadata": {},
   "source": [
    "#### 3.4.1 Koja je tacnost i vrijednost funkcije gubitka u skupu testnih podataka? "
   ]
  },
  {
   "cell_type": "code",
   "execution_count": 62,
   "metadata": {},
   "outputs": [
    {
     "name": "stdout",
     "output_type": "stream",
     "text": [
      "Tacnost: 0.980400025844574\n",
      "Vrijednost funkcije gubitka: 0.0650714710354805\n"
     ]
    }
   ],
   "source": [
    "print(*['Tacnost:', test_acc])\n",
    "print(*['Vrijednost funkcije gubitka:', test_loss])"
   ]
  },
  {
   "cell_type": "markdown",
   "metadata": {},
   "source": [
    "## 4. Samostalni zadatak"
   ]
  },
  {
   "cell_type": "markdown",
   "metadata": {},
   "source": [
    "- Izvrseno je slikanje i fragmentiranje, kao sto je navedeno u postavci, te je u nastavku provjeren nas model u odnosu na novonastale slike.\n",
    "- Svaka slika u svom imenu sadrzi sljedeci pattern: `indikatorBroja_indexBrojaKrecuciOd1.png`.\n",
    "- Npr: `4_2.png` znaci da je to broj `4`, a da je to druga slika u nasem datasetu.\n",
    "- Slika koja sadrzi sve brojeve je uploadovana na `imgur` i u slucaju problema sa prikazom, mogu naknadno poslati istu.\n",
    "- Slike su obradjene unaprijed sa formatom `28x28`.\n",
    "- Slika koja sadrze sve slike je data u nastavku:\n",
    "\n",
    "![brojevi.png](https://i.imgur.com/WuGdQYx.png)"
   ]
  },
  {
   "cell_type": "code",
   "execution_count": 63,
   "metadata": {},
   "outputs": [
    {
     "name": "stdout",
     "output_type": "stream",
     "text": [
      "1/1 [==============================] - 0s 939us/step - loss: 27.9590 - accuracy: 0.1000\n",
      "\n",
      "Vrijednost tacnosti: 0.10000000149011612\n",
      "Vrijednost funkcije gubitka: 27.958982467651367\n"
     ]
    }
   ],
   "source": [
    "import numpy as np\n",
    "import glob\n",
    "import re\n",
    "\n",
    "from keras.utils import to_categorical\n",
    "from PIL import Image, ImageOps\n",
    "\n",
    "def loadImagesFromSlibeLocalFolder():\n",
    "    images = np.zeros((30,28,28), order = 'C', dtype = np.uint8)\n",
    "    directoryImages = glob.glob('./slibe/*.png')\n",
    "\n",
    "    labels = np.array([0,0,0,1,1,1,2,2,2,3,3,3,4,4,4,5,5,5,6,6,6,7,7,7,8,8,8,9,9,9])\n",
    "    \n",
    "    for imagePath in directoryImages:\n",
    "        new_image = Image.open(imagePath).convert('L')\n",
    "\n",
    "        numbers = re.findall(\"\\d+\", imagePath)\n",
    "        number_digit = int(numbers[0])\n",
    "        number_index = int(numbers[1]) - 1\n",
    "        \n",
    "        final_index = number_digit * 3 + number_index\n",
    "        # invertovanje boja\n",
    "        images[final_index] = ImageOps.invert(new_image)\n",
    "        \n",
    "    return images, labels\n",
    "    \n",
    "    \n",
    "images, labels = loadImagesFromSlibeLocalFolder()\n",
    "\n",
    "images = images.reshape((30, 28*28))\n",
    "images = images.astype('float32') / 255\n",
    "labels = to_categorical(labels)\n",
    "\n",
    "rd_loss, rd_acc = network.evaluate(images, labels)\n",
    "\n",
    "print('')\n",
    "print(*['Vrijednost tacnosti:', rd_acc])\n",
    "print(*['Vrijednost funkcije gubitka:', rd_loss])"
   ]
  },
  {
   "cell_type": "markdown",
   "metadata": {},
   "source": [
    "#### 4.1 Koja je tacnost i vrijednost funkcije gubitka? \n"
   ]
  },
  {
   "cell_type": "code",
   "execution_count": 64,
   "metadata": {},
   "outputs": [
    {
     "name": "stdout",
     "output_type": "stream",
     "text": [
      "Tacnost: 0.10000000149011612\n",
      "Vrijednost funkcije gubitka: 27.958982467651367\n"
     ]
    }
   ],
   "source": [
    "print(*['Tacnost:', rd_acc])\n",
    "print(*['Vrijednost funkcije gubitka:', rd_loss])"
   ]
  },
  {
   "cell_type": "markdown",
   "metadata": {},
   "source": [
    "### Komentar, zapazanja\n",
    "\n",
    "- Ako poredimo pocetni dataset (online prikaz) i slike postavljene, vidimo da u pocetnom datasetu je crno-bijela varijanta vecinski zastupljena, samim tim se pozadina drasticno razlikuje od kontura. Na slikama postavljenim sa moje strane je mala razlika background-a u odnosu na konture (sto se moze primijetiti ispisom i gledajuci u vrijednosti), shodno time nije ocekivana velika tacnost prilikom treniranja sa 5 epoha.\n",
    "- Probao sam isto sa 2 i 3 epohe, i dobio sam bolji rezultat, tj. u slucaju veceg offseta za gresku, daje bolju detekciju u odnosu na postavljene slike."
   ]
  }
 ],
 "metadata": {
  "kernelspec": {
   "display_name": "Python 3",
   "language": "python",
   "name": "python3"
  },
  "language_info": {
   "codemirror_mode": {
    "name": "ipython",
    "version": 3
   },
   "file_extension": ".py",
   "mimetype": "text/x-python",
   "name": "python",
   "nbconvert_exporter": "python",
   "pygments_lexer": "ipython3",
   "version": "3.8.5"
  }
 },
 "nbformat": 4,
 "nbformat_minor": 4
}
