{
 "cells": [
  {
   "cell_type": "markdown",
   "metadata": {},
   "source": [
    "#### Metode i primjena vjestacke inteligencije\n",
    "#### Laboratorijska vjezba 4\n",
    "#### Student: Masovic Haris\n",
    "#### Index: 1689/17993"
   ]
  },
  {
   "cell_type": "markdown",
   "metadata": {},
   "source": [
    "## 0. Dependencies"
   ]
  },
  {
   "cell_type": "code",
   "execution_count": 1,
   "metadata": {},
   "outputs": [
    {
     "name": "stdout",
     "output_type": "stream",
     "text": [
      "Requirement already satisfied: matplotlib in /Library/Frameworks/Python.framework/Versions/3.8/lib/python3.8/site-packages (3.3.2)\n",
      "Requirement already satisfied: python-dateutil>=2.1 in /Library/Frameworks/Python.framework/Versions/3.8/lib/python3.8/site-packages (from matplotlib) (2.8.1)\n",
      "Requirement already satisfied: numpy>=1.15 in /Library/Frameworks/Python.framework/Versions/3.8/lib/python3.8/site-packages (from matplotlib) (1.18.5)\n",
      "Requirement already satisfied: cycler>=0.10 in /Library/Frameworks/Python.framework/Versions/3.8/lib/python3.8/site-packages (from matplotlib) (0.10.0)\n",
      "Requirement already satisfied: pillow>=6.2.0 in /Library/Frameworks/Python.framework/Versions/3.8/lib/python3.8/site-packages (from matplotlib) (8.0.1)\n",
      "Requirement already satisfied: kiwisolver>=1.0.1 in /Library/Frameworks/Python.framework/Versions/3.8/lib/python3.8/site-packages (from matplotlib) (1.3.1)\n",
      "Requirement already satisfied: certifi>=2020.06.20 in /Library/Frameworks/Python.framework/Versions/3.8/lib/python3.8/site-packages (from matplotlib) (2020.6.20)\n",
      "Requirement already satisfied: pyparsing!=2.0.4,!=2.1.2,!=2.1.6,>=2.0.3 in /Library/Frameworks/Python.framework/Versions/3.8/lib/python3.8/site-packages (from matplotlib) (2.4.7)\n",
      "Requirement already satisfied: six>=1.5 in /Library/Frameworks/Python.framework/Versions/3.8/lib/python3.8/site-packages (from python-dateutil>=2.1->matplotlib) (1.15.0)\n",
      "\u001b[33mWARNING: You are using pip version 20.1.1; however, version 20.2.4 is available.\n",
      "You should consider upgrading via the '/Library/Frameworks/Python.framework/Versions/3.8/bin/python3.8 -m pip install --upgrade pip' command.\u001b[0m\n"
     ]
    }
   ],
   "source": [
    "import sys\n",
    "\n",
    "!{sys.executable} -m pip install matplotlib"
   ]
  },
  {
   "cell_type": "markdown",
   "metadata": {},
   "source": [
    "## 2. Dataset: IMDB"
   ]
  },
  {
   "cell_type": "markdown",
   "metadata": {},
   "source": [
    "### 2.1 Ucitavanje dataset-a"
   ]
  },
  {
   "cell_type": "code",
   "execution_count": 2,
   "metadata": {},
   "outputs": [],
   "source": [
    "from keras.datasets import imdb\n",
    "\n",
    "(train_data, train_labels), (test_data, test_labels) = imdb.load_data(num_words=10000)"
   ]
  },
  {
   "cell_type": "markdown",
   "metadata": {},
   "source": [
    "#### 2.1.1 Izlistajte vrijednosti iz `train_data[0]`."
   ]
  },
  {
   "cell_type": "code",
   "execution_count": 3,
   "metadata": {},
   "outputs": [
    {
     "name": "stdout",
     "output_type": "stream",
     "text": [
      "[1, 14, 22, 16, 43, 530, 973, 1622, 1385, 65, 458, 4468, 66, 3941, 4, 173, 36, 256, 5, 25, 100, 43, 838, 112, 50, 670, 2, 9, 35, 480, 284, 5, 150, 4, 172, 112, 167, 2, 336, 385, 39, 4, 172, 4536, 1111, 17, 546, 38, 13, 447, 4, 192, 50, 16, 6, 147, 2025, 19, 14, 22, 4, 1920, 4613, 469, 4, 22, 71, 87, 12, 16, 43, 530, 38, 76, 15, 13, 1247, 4, 22, 17, 515, 17, 12, 16, 626, 18, 2, 5, 62, 386, 12, 8, 316, 8, 106, 5, 4, 2223, 5244, 16, 480, 66, 3785, 33, 4, 130, 12, 16, 38, 619, 5, 25, 124, 51, 36, 135, 48, 25, 1415, 33, 6, 22, 12, 215, 28, 77, 52, 5, 14, 407, 16, 82, 2, 8, 4, 107, 117, 5952, 15, 256, 4, 2, 7, 3766, 5, 723, 36, 71, 43, 530, 476, 26, 400, 317, 46, 7, 4, 2, 1029, 13, 104, 88, 4, 381, 15, 297, 98, 32, 2071, 56, 26, 141, 6, 194, 7486, 18, 4, 226, 22, 21, 134, 476, 26, 480, 5, 144, 30, 5535, 18, 51, 36, 28, 224, 92, 25, 104, 4, 226, 65, 16, 38, 1334, 88, 12, 16, 283, 5, 16, 4472, 113, 103, 32, 15, 16, 5345, 19, 178, 32]\n"
     ]
    }
   ],
   "source": [
    "print(train_data[0])"
   ]
  },
  {
   "cell_type": "markdown",
   "metadata": {},
   "source": [
    "#### 2.1.2 Za prvih 15 sekvenci isprintati: a) broj elemenata u sekvenci, b) maksimalan i c) minimalan indeks u sekvenci. U izvjestaju napisati kod koji ste koristili za ovaj zadatak, kao i rezultate. Primjer rezultata dat je u ispisu koda ispod. (Koristiti for petlju.)"
   ]
  },
  {
   "cell_type": "code",
   "execution_count": 4,
   "metadata": {},
   "outputs": [
    {
     "name": "stdout",
     "output_type": "stream",
     "text": [
      "Broj elemenata u sekvenci train_data[0] je: (218,)\n",
      "Najveci index u sekvenci je: 7486\n",
      "Najmanji index u sekvenci je: 1\n",
      "Broj elemenata u sekvenci train_data[1] je: (189,)\n",
      "Najveci index u sekvenci je: 9837\n",
      "Najmanji index u sekvenci je: 1\n",
      "Broj elemenata u sekvenci train_data[2] je: (141,)\n",
      "Najveci index u sekvenci je: 6905\n",
      "Najmanji index u sekvenci je: 1\n",
      "Broj elemenata u sekvenci train_data[3] je: (550,)\n",
      "Najveci index u sekvenci je: 9941\n",
      "Najmanji index u sekvenci je: 1\n",
      "Broj elemenata u sekvenci train_data[4] je: (147,)\n",
      "Najveci index u sekvenci je: 7224\n",
      "Najmanji index u sekvenci je: 1\n",
      "Broj elemenata u sekvenci train_data[5] je: (43,)\n",
      "Najveci index u sekvenci je: 7982\n",
      "Najmanji index u sekvenci je: 1\n",
      "Broj elemenata u sekvenci train_data[6] je: (123,)\n",
      "Najveci index u sekvenci je: 9363\n",
      "Najmanji index u sekvenci je: 1\n",
      "Broj elemenata u sekvenci train_data[7] je: (562,)\n",
      "Najveci index u sekvenci je: 9820\n",
      "Najmanji index u sekvenci je: 1\n",
      "Broj elemenata u sekvenci train_data[8] je: (233,)\n",
      "Najveci index u sekvenci je: 7612\n",
      "Najmanji index u sekvenci je: 1\n",
      "Broj elemenata u sekvenci train_data[9] je: (130,)\n",
      "Najveci index u sekvenci je: 8419\n",
      "Najmanji index u sekvenci je: 1\n",
      "Broj elemenata u sekvenci train_data[10] je: (450,)\n",
      "Najveci index u sekvenci je: 8914\n",
      "Najmanji index u sekvenci je: 1\n",
      "Broj elemenata u sekvenci train_data[11] je: (99,)\n",
      "Najveci index u sekvenci je: 7412\n",
      "Najmanji index u sekvenci je: 1\n",
      "Broj elemenata u sekvenci train_data[12] je: (117,)\n",
      "Najveci index u sekvenci je: 9667\n",
      "Najmanji index u sekvenci je: 1\n",
      "Broj elemenata u sekvenci train_data[13] je: (238,)\n",
      "Najveci index u sekvenci je: 9106\n",
      "Najmanji index u sekvenci je: 1\n",
      "Broj elemenata u sekvenci train_data[14] je: (109,)\n",
      "Najveci index u sekvenci je: 6640\n",
      "Najmanji index u sekvenci je: 1\n"
     ]
    }
   ],
   "source": [
    "import numpy as np\n",
    "\n",
    "for i in range(0, 15):\n",
    "    print('Broj elemenata u sekvenci train_data[{0}] je: ({1},)'.format(i, len(train_data[i])))\n",
    "    print(*['Najveci index u sekvenci je:', np.max(train_data[i])])\n",
    "    print(*['Najmanji index u sekvenci je:', np.min(train_data[i])])"
   ]
  },
  {
   "cell_type": "markdown",
   "metadata": {},
   "source": [
    "#### 2.1.3 Koji opseg vrijednosti se nalazi u `train_labels` (min, max), a koji u `test_labels`?"
   ]
  },
  {
   "cell_type": "code",
   "execution_count": 5,
   "metadata": {},
   "outputs": [
    {
     "name": "stdout",
     "output_type": "stream",
     "text": [
      "Opseg vrijednosti za trazene labele:\n",
      "\n",
      "train_labels opseg (min,max): (0,1)\n",
      "test_labels opseg (min,max): (0,1)\n"
     ]
    }
   ],
   "source": [
    "import numpy as np\n",
    "\n",
    "print('Opseg vrijednosti za trazene labele:')\n",
    "print('')\n",
    "print(*['train_labels opseg (min,max):', '({0},{1})'.format(np.min(train_labels), np.max(train_labels))])\n",
    "print(*['test_labels opseg (min,max):', '({0},{1})'.format(np.min(test_labels), np.max(test_labels))])"
   ]
  },
  {
   "cell_type": "markdown",
   "metadata": {},
   "source": [
    "#### 2.1.4 Koju naredbu cete koristiti ukoliko zelite saznati maksimalni indeks u datom dataset-u? To ne mora biti broj vezan za `num_words`. Korisiti numpy paket (import numpy as np).\n",
    "\n",
    "- Koristit cemo `np.max` naredbu za pronalazak maximalnog indeksa unutar dataset-a. Posto je u pitanju lista listi, koristiti cemo istu komandu dva puta"
   ]
  },
  {
   "cell_type": "code",
   "execution_count": 6,
   "metadata": {},
   "outputs": [
    {
     "name": "stdout",
     "output_type": "stream",
     "text": [
      "Najveci index unutar liste lista: 9995\n"
     ]
    }
   ],
   "source": [
    "print(*['Najveci index unutar liste lista:', np.max(np.max(train_data))])"
   ]
  },
  {
   "cell_type": "markdown",
   "metadata": {},
   "source": [
    "#### 2.1.5 Na stanici `https://keras.io/datasets/` mozete naci sve parametre koje mozete korisiti u pozivu funkcije `load_data()`. Objasnite svaki od parametara.\n",
    "\n",
    "- `path` - putanja gdje ce se kesirati podaci (u odnosu na relativnu putanju `~/.keras/dataset`).\n",
    "- `num_words` - predstavlja broj najcesce koristenih rijeci koje ce biti uzete u razmatranje, a ako se ne posalje broj, defaultna vrijednost je da uzme sve rijeci.\n",
    "- `skip_top` - parametar koji govori koliko top N najvise frekventnih rijeci da se preskoci u uzimanju, default je nula.\n",
    "- `maxlen` - predstavlja maximalnu duzinu sekvence koja da se koristi, ako sekvenca postoji bice skracena, ukoliko se ne posalje nista, nema skracivanja.\n",
    "- `seed` - parametar koji se koristi za mijesanje ponavljajucih podataka.\n",
    "- `start_char` - parametar koji odredjuje karakter kojim je definisan pocetak sekvence.\n",
    "- `oov_char` - parametar kojim odredjuje karakter kojim ce biti zamijenjene rijeci koje su izbacene na osnovu `num_words` ili `skip_top` opcija.\n",
    "- `index_from` - parametar koji odredjuje rijeci kojecće se ideksirati, tj. rijeci vece ili jednake indeksu `index_from` ce biti indeksirane."
   ]
  },
  {
   "cell_type": "markdown",
   "metadata": {},
   "source": [
    "### 2.2 Rijecnik IMDB dataset-a"
   ]
  },
  {
   "cell_type": "code",
   "execution_count": 7,
   "metadata": {},
   "outputs": [
    {
     "name": "stdout",
     "output_type": "stream",
     "text": [
      "? this film was just brilliant casting location scenery story direction everyone's really suited the part they played and you could just imagine being there robert ? is an amazing actor and now the same being director ? father came from the same scottish island as myself so i loved the fact there was a real connection with this film the witty remarks throughout the film were great it was just brilliant so much that i bought the film as soon as it was released for ? and would recommend it to everyone to watch and the fly fishing was amazing really cried at the end it was so sad and you know what they say if you cry at a film it must have been good and this definitely was also ? to the two little boy's that played the ? of norman and paul they were just brilliant children are often left out of the ? list i think because the stars that play them all grown up are such a big profile for the whole film but these children are amazing and should be praised for what they have done don't you think the whole story was so lovely because it was true and was someone's life after all that was shared with us all\n"
     ]
    }
   ],
   "source": [
    "# word_index is a dictionary mapping words to an integer index\n",
    "word_index = imdb.get_word_index()\n",
    "\n",
    "# We reverse it, mapping integer indices to words\n",
    "reverse_word_index = dict([(value, key) for (key, value) in word_index.items()])\n",
    "\n",
    "# We decode the review; note that our indices were offset by 3\n",
    "# because 0, 1 and 2 are reserved indices for \"padding\", \"start of sequence\", and \"unknown\".\n",
    "decoded_review = ' '.join([reverse_word_index.get(i - 3, '?') for i in train_data[0]])\n",
    "\n",
    "print(decoded_review)"
   ]
  },
  {
   "cell_type": "markdown",
   "metadata": {},
   "source": [
    "#### 2.2.1 Detaljno objasnite kako dati kod radi.\n",
    "\n",
    "- Naredba `word_index = imdb.get_word_index()` omogucava spremanje mape podataka u varijablu `word_index`. Prva vrijednost predstavlja samu rijec, dok druga vrijednost predstavlja indeks i tako se mapira odredjena rijec u indeks.\n",
    "- Naredbom `reverse_word_index = dict([(value, key) for (key, value) in word_index.items()])` obrcemo nasu strukturu, i sad cemo za odredjeni indeks imati odredjenu rijec, a i dalje ce biti mapa.\n",
    "- Naredbom `decoded_review = ' '.join([reverse_word_index.get(i - 3, '?') for i in train_data[0]])` dekodiramo nase indekse i dobijamo rijeci iz nase mape. Koristi se `reverse_word_index.get(i - 3, '?')` metoda koja dohvata element koji ima indeks jednak vrijednosti `i-3` ili u slucaju da takav indeks ne postoji vrijednost defaultna za taj indeks je `?`. Takve rijeci se joinaju, a izmedju njih je space. Posto u svakoj sekvenci imamo `3` rezervisane rijeci (`padding`, `start of sequence`, `unknown`), vrijednost kljuca odnosno indeksa se mora umanjiti za `3` i zato je `i-3` umjesto `i`."
   ]
  },
  {
   "cell_type": "markdown",
   "metadata": {},
   "source": [
    "#### 2.2.2 Za prvih 15 sekvenci u `train_data` dekodirati recenzije i odrediti da li su one pozitivne ili negativne (na osnovu vec dostupnih podataka)."
   ]
  },
  {
   "cell_type": "code",
   "execution_count": 8,
   "metadata": {},
   "outputs": [
    {
     "name": "stdout",
     "output_type": "stream",
     "text": [
      "Recenzija 0 je: pozitivna\n",
      "? this film was just brilliant casting location scenery story direction everyone's really suited ...\n",
      "Recenzija 1 je: negativna\n",
      "? big hair big boobs bad music and a giant safety pin these are the words to best describe this t...\n",
      "Recenzija 2 je: negativna\n",
      "? this has to be one of the worst films of the 1990s when my friends i were watching this film be...\n",
      "Recenzija 3 je: pozitivna\n",
      "? the ? ? at storytelling the traditional sort many years after the event i can still see in my ?...\n",
      "Recenzija 4 je: negativna\n",
      "? worst mistake of my life br br i picked this movie up at target for 5 because i figured hey it'...\n",
      "Recenzija 5 je: negativna\n",
      "? begins better than it ends funny that the russian submarine crew ? all other actors it's like t...\n",
      "Recenzija 6 je: pozitivna\n",
      "? lavish production values and solid performances in this straightforward adaption of jane ? sati...\n",
      "Recenzija 7 je: negativna\n",
      "? the ? tells the story of the four hamilton siblings teenager francis ? ? twins ? joseph ? ? ? ?...\n",
      "Recenzija 8 je: pozitivna\n",
      "? just got out and cannot believe what a brilliant documentary this is rarely do you walk out of ...\n",
      "Recenzija 9 je: negativna\n",
      "? this movie has many problem associated with it that makes it come off like a low budget class p...\n",
      "Recenzija 10 je: pozitivna\n",
      "? french horror cinema has seen something of a revival over the last couple of years with great f...\n",
      "Recenzija 11 je: negativna\n",
      "? when i rented this movie i had very low expectations but when i saw it i realized that the movi...\n",
      "Recenzija 12 je: negativna\n",
      "? i love cheesy horror flicks i don't care if the acting is sub par or whether the monsters look ...\n",
      "Recenzija 13 je: negativna\n",
      "? anyone who could find redeeming value in this piece of crap ought to have their head examined w...\n",
      "Recenzija 14 je: negativna\n",
      "? b movie at best sound effects are pretty good lame concept decent execution i suppose it's a re...\n"
     ]
    }
   ],
   "source": [
    "def return_formatted_review(string, width=100):\n",
    "    if len(string) > width:\n",
    "        string = string[:width-3] + '...'\n",
    "    return \"{0:<{1}s}\".format(string, width)\n",
    "\n",
    "for i in range(0, 15):\n",
    "    decoded_review = ' '.join([reverse_word_index.get(i - 3, '?') for i in train_data[i]])\n",
    "    print(*['Recenzija', i, 'je:', 'negativna' if train_labels[i] == 0 else 'pozitivna'])\n",
    "    print(return_formatted_review(decoded_review))\n",
    "    "
   ]
  },
  {
   "cell_type": "markdown",
   "metadata": {},
   "source": [
    "#### 2.2.3 Za 10 nasumicnih (random) recenzija iz citavog dataset-a izvrsiti dekodiranje, te ih isprintati na ekran, po uzoru na kod dat ispod, zajedno sa informacijom o grupi kojoj pripadaju (0 ili 1). U ispisu su koristene \"...\" radi zauzimanje manjeg prostora. Koristiti naredbu randint(0, nekibroj), pri cemu je nekibroj maksimalan broj sekvenci u skupu `train_data`."
   ]
  },
  {
   "cell_type": "code",
   "execution_count": 9,
   "metadata": {},
   "outputs": [
    {
     "name": "stdout",
     "output_type": "stream",
     "text": [
      "Recenzija ID 24287 je definisana kao: \"? this film was just brilliant castin...\". Rijec je o recenziji iz grupe 0.\n",
      "Recenzija ID 14361 je definisana kao: \"? big hair big boobs bad music and a ...\". Rijec je o recenziji iz grupe 0.\n",
      "Recenzija ID 19841 je definisana kao: \"? this has to be one of the worst fil...\". Rijec je o recenziji iz grupe 1.\n",
      "Recenzija ID 8314 je definisana kao: \"? the ? ? at storytelling the traditi...\". Rijec je o recenziji iz grupe 0.\n",
      "Recenzija ID 16377 je definisana kao: \"? worst mistake of my life br br i pi...\". Rijec je o recenziji iz grupe 1.\n",
      "Recenzija ID 10629 je definisana kao: \"? begins better than it ends funny th...\". Rijec je o recenziji iz grupe 1.\n",
      "Recenzija ID 19741 je definisana kao: \"? lavish production values and solid ...\". Rijec je o recenziji iz grupe 1.\n",
      "Recenzija ID 41 je definisana kao: \"? the ? tells the story of the four h...\". Rijec je o recenziji iz grupe 0.\n",
      "Recenzija ID 21148 je definisana kao: \"? just got out and cannot believe wha...\". Rijec je o recenziji iz grupe 1.\n",
      "Recenzija ID 4006 je definisana kao: \"? this movie has many problem associa...\". Rijec je o recenziji iz grupe 1.\n"
     ]
    }
   ],
   "source": [
    "import numpy as np\n",
    "\n",
    "random_numbers = np.random.randint(0, len(train_data), size = 10)\n",
    "\n",
    "# u slucaju da ne zelite skracenu varijantu stringa, samo ispisati `decoded_review`\n",
    "\n",
    "for i in range(0, len(random_numbers)):\n",
    "    decoded_review = ' '.join([reverse_word_index.get(i - 3, '?') for i in train_data[i]])\n",
    "    print('Recenzija ID {0} je definisana kao: \\\"{1}\\\". Rijec je o recenziji iz grupe {2}.'\n",
    "          .format(random_numbers[i], return_formatted_review(decoded_review, 40), train_labels[random_numbers[i]]))\n"
   ]
  },
  {
   "cell_type": "markdown",
   "metadata": {},
   "source": [
    "#### 2.2.4 Zasto se u ispisu pojavljuju `?` ?\n",
    "\n",
    "- Za dekodiranje se koristi naredba `reverse_word_index.get(i - 3, '?')`, u slucaju da ne postoji kljuc sa vrijednoscu `i - 3`, vrijednost se mijenja sa drugim parametrom `?` koji je defaultni parametar. U slucaju naseg primjera, svi indeksi koji nisu pronadjeni, njihova vrijednost ce biti `?`."
   ]
  },
  {
   "cell_type": "markdown",
   "metadata": {},
   "source": [
    "### 2.3 Organizacija podataka"
   ]
  },
  {
   "cell_type": "code",
   "execution_count": 10,
   "metadata": {},
   "outputs": [],
   "source": [
    "import numpy as np\n",
    "\n",
    "def vectorize_sequences(sequences, dimension=10000):\n",
    "    results = np.zeros((len(sequences), dimension))\n",
    "    for i, sequence in enumerate(sequences):\n",
    "        results[i, sequence] = 1.\n",
    "    return results\n",
    "\n",
    "y_train = np.asarray(train_labels).astype('float32')\n",
    "y_test = np.asarray(test_labels).astype('float32')"
   ]
  },
  {
   "cell_type": "markdown",
   "metadata": {},
   "source": [
    "#### 2.3.1 Detaljno objasnite kako navedeni kodovi rade i razlike medu njima u smislu pretvaranja u razlicite vrste podataka.\n",
    "\n",
    "- Funkcija `vectorize_sequences` definise sekvencu od `dimension` broja elemenata, koji imaju vrijednost ili `1` ili `0`. Ukoliko je vrijednost `1` onda se indeks nalazi u odredjenoj sekveni koja je proslijedjena kroz prvi parametar, u protivnom se ne nalazi.\n",
    "- Prvo se u varijablu `results` definisu sve nule kroz uredjeni par `(len(sequences), dimension)`, onda prolaskom kroz sve sekvence, dodijeljuje se za svaku sekvencu enumeracija i postavlja se vrijednost na `1`. Na kraju se vraca matrica `results`.\n",
    "- Drugi kod koristi funkciju `np.asarray` koja pretvara ulazni parametar u numpy niz, te koristi cast naredbu `astype` koja pretvara elemente niza u tip `float32`. Razlika u pretvaranju podataka je sto funkcija `vectorize_sequences` elementima matrice direktno dodijeljuje vrijednosti `1.`, dok se u drugom slucaju koristi funkcija `astype` koja predstavlja cijelobrojne vrijednosti u `float32` tip podataka."
   ]
  },
  {
   "cell_type": "markdown",
   "metadata": {},
   "source": [
    "#### 2.3.2 Primijenite funkciju `vectorize_sequences()` na podatke iz skupa za treniranje i testiranje. Rezultate funkcije snimite u varijable `x_train` i `x_test`."
   ]
  },
  {
   "cell_type": "code",
   "execution_count": 11,
   "metadata": {},
   "outputs": [],
   "source": [
    "data_size = 10000\n",
    "\n",
    "x_train = vectorize_sequences(train_data, data_size)\n",
    "x_test = vectorize_sequences(test_data, data_size)"
   ]
  },
  {
   "cell_type": "markdown",
   "metadata": {},
   "source": [
    "#### 2.3.3 Utvrdite koja vrsta elemenata je snimljena u `x_train`, a koja u `y_train` (vektor, skalar, int, float i td.). Napisite naredbe koje ste koristili.\n",
    "\n",
    "- Koristene naredbe su naredba `type` i naredna `.dtype`.\n",
    "- Vidimo, na osnovu koda ispod, da su i `x_train` i `y_train` tipa numpy array `numpy.ndarray`, a elementi unutar array-a su `float64` u slucaju `x_train`, odnosno `float32` u slucaju `float32`."
   ]
  },
  {
   "cell_type": "code",
   "execution_count": 12,
   "metadata": {},
   "outputs": [
    {
     "name": "stdout",
     "output_type": "stream",
     "text": [
      "x_train <class 'numpy.ndarray'> tip elemenata float64\n",
      "y_train <class 'numpy.ndarray'> tip elemenata float32\n"
     ]
    }
   ],
   "source": [
    "print(*['x_train', type(x_train), 'tip elemenata', x_train.dtype])\n",
    "print(*['y_train', type(y_train), 'tip elemenata', y_train.dtype])"
   ]
  },
  {
   "cell_type": "markdown",
   "metadata": {},
   "source": [
    "#### 2.3.4 Za prvih 15 sekvenci isprintati: a) broj elemenata u sekvenci, b) vrijednosti elemenata (skraceni broj elemenata je dovoljan)."
   ]
  },
  {
   "cell_type": "code",
   "execution_count": 13,
   "metadata": {},
   "outputs": [
    {
     "name": "stdout",
     "output_type": "stream",
     "text": [
      "Za x_train[0], broj elemenata u sekvenci je: 10000\n",
      "Elementi u ovoj sekvenci: [0. 1. 1. ... 0. 0. 0.]\n",
      "Za x_train[1], broj elemenata u sekvenci je: 10000\n",
      "Elementi u ovoj sekvenci: [0. 1. 1. ... 0. 0. 0.]\n",
      "Za x_train[2], broj elemenata u sekvenci je: 10000\n",
      "Elementi u ovoj sekvenci: [0. 1. 1. ... 0. 0. 0.]\n",
      "Za x_train[3], broj elemenata u sekvenci je: 10000\n",
      "Elementi u ovoj sekvenci: [0. 1. 1. ... 0. 0. 0.]\n",
      "Za x_train[4], broj elemenata u sekvenci je: 10000\n",
      "Elementi u ovoj sekvenci: [0. 1. 1. ... 0. 0. 0.]\n",
      "Za x_train[5], broj elemenata u sekvenci je: 10000\n",
      "Elementi u ovoj sekvenci: [0. 1. 1. ... 0. 0. 0.]\n",
      "Za x_train[6], broj elemenata u sekvenci je: 10000\n",
      "Elementi u ovoj sekvenci: [0. 1. 1. ... 0. 0. 0.]\n",
      "Za x_train[7], broj elemenata u sekvenci je: 10000\n",
      "Elementi u ovoj sekvenci: [0. 1. 1. ... 0. 0. 0.]\n",
      "Za x_train[8], broj elemenata u sekvenci je: 10000\n",
      "Elementi u ovoj sekvenci: [0. 1. 1. ... 0. 0. 0.]\n",
      "Za x_train[9], broj elemenata u sekvenci je: 10000\n",
      "Elementi u ovoj sekvenci: [0. 1. 1. ... 0. 0. 0.]\n",
      "Za x_train[10], broj elemenata u sekvenci je: 10000\n",
      "Elementi u ovoj sekvenci: [0. 1. 1. ... 0. 0. 0.]\n",
      "Za x_train[11], broj elemenata u sekvenci je: 10000\n",
      "Elementi u ovoj sekvenci: [0. 1. 0. ... 0. 0. 0.]\n",
      "Za x_train[12], broj elemenata u sekvenci je: 10000\n",
      "Elementi u ovoj sekvenci: [0. 1. 1. ... 0. 0. 0.]\n",
      "Za x_train[13], broj elemenata u sekvenci je: 10000\n",
      "Elementi u ovoj sekvenci: [0. 1. 1. ... 0. 0. 0.]\n",
      "Za x_train[14], broj elemenata u sekvenci je: 10000\n",
      "Elementi u ovoj sekvenci: [0. 1. 1. ... 0. 0. 0.]\n",
      "y_train, broj elemenata: 25000 elementi: [1. 0. 0. ... 0. 1. 0.]\n"
     ]
    }
   ],
   "source": [
    "for i in range(0, 15):\n",
    "    print(*['Za x_train[{0}], broj elemenata u sekvenci je:'.format(i), len(x_train[i])])\n",
    "    print(*['Elementi u ovoj sekvenci:', x_train[i]])\n",
    "    \n",
    "print(*['y_train, broj elemenata:', len(y_train), 'elementi:', y_train])"
   ]
  },
  {
   "cell_type": "markdown",
   "metadata": {},
   "source": [
    "#### 2.3.5 Detaljno objasnite funkciju `np.asarray()`.\n",
    "\n",
    "Funkcija `np.asarray()` prima tri parametra, od kojih su drugi i treci parametri opcionalni. Kao izlaz vraca n-dimenzionalni array. Parametri su sljedeci:\n",
    "\n",
    "- Prvi parametar je ulazni podatak koji moze biti u bilo kojoj formi koju je moguce pretvoriti u niz.\n",
    "- Drugi parametar je `dtype` koji specificira kojeg ce tipa bit elementi vracenog niza. Ako nije specificiran, tip podatka ce biti isti kao i tip podataka elemenata iz pocetnog niza. Ukoliko se specificira, novi niz ce bi kreiran pretvaranjem elemenata iz ulaznog niza u specificirani `dtype` tip podataka.\n",
    "- Treci parametar je `order`. Ovaj parametar oznacava stil reprezentacije elemenata niza u memoriji. Postoje 2 moguce stila: `C stil` koji podrazumijeva memorijsku reprezentaciju kao u `C` programskom jeziku, i `F stil` koji podrazumijeva memorijsku reprezentaciju kao u `Fortran` programskom jeziku. Ukoliko nije specificiran, ovaj parametar ce za memorijsku reprezentaciju uzeti `C stil`."
   ]
  },
  {
   "cell_type": "markdown",
   "metadata": {},
   "source": [
    "## 3. Definisanje neuronske mreze"
   ]
  },
  {
   "cell_type": "markdown",
   "metadata": {},
   "source": [
    "### 3.1 Podesavanje slojeva"
   ]
  },
  {
   "cell_type": "markdown",
   "metadata": {},
   "source": [
    "#### 3.1.1 Objasnite sve argumente (10).\n",
    "\n",
    "Funkcija `Dense()` omogucava, pomocu odredjenih parametara, kreiranje sloja sa potpuno povezanim cvorovima. Argumenti koje ova funkcija prima su:\n",
    "- `units` – pozitivan cijeli broj koji odredjuje dimenzionalnost izlaza.\n",
    "- `activation` – odredjuje koja ce se aktivacijska funkcija koristiti. Ako nije navedena aktivacija, koristiti ce se linearna aktivacija `a(x) = x`.\n",
    "- `use_bias` – odredjuje se da li ce se sloj koristiti vektor bias.\n",
    "- `kernel_initializer` – ovaj parametar odredjuje nacin inicijalizacije nasumicnih vrijednosti elemenata kernel W matrice u sloju.\n",
    "- `bias_initializer` – ovaj parametar odredjuje nacin inicijalizacije nasumicnih vrijednosti elemenata bias vektora.\n",
    "- `kernel_regularizer` – ovaj parametar odredjuje funkciju regularizacije koja ce biti primijenjena na kernel tezinsku matricu.\n",
    "- `bias_regularizer` – ovaj parametar odredjuje funkciju regularizacije koja ce biti primijenjena na bias vektor.\n",
    "- `activity_regulizer` – ovaj parametar odredjuje funkciju regularizacije koja ce biti primijenjena na izlaz sloja.\n",
    "- `kernel_contraint` – ovaj parametar odredjuje funkciju ogranicenja na kernel tezinsku matricu. Funkcija se uzima iz `constraints` modula i dozvoljavala podesavanja ogranicenja parametara tokom optimizacije.\n",
    "- `bias_constraint` - ovaj parametar odredjuje funkciju ogranicenja na bias vektor."
   ]
  },
  {
   "cell_type": "markdown",
   "metadata": {},
   "source": [
    "#### 3.1.2 Ako ulazni vektor ima 10,000 elemenata, i takvih vektora ima 200, a sloj 32 skrivena neurona, koja je dimenzija matrice W?\n",
    "\n",
    "- Dimenzija matrice W druge ce biti `10000x32` odnosno `320k`."
   ]
  },
  {
   "cell_type": "markdown",
   "metadata": {},
   "source": [
    "### 3.2 Arhitektura mreze"
   ]
  },
  {
   "cell_type": "code",
   "execution_count": 14,
   "metadata": {},
   "outputs": [],
   "source": [
    "from keras import models\n",
    "from keras import layers\n",
    "\n",
    "model = models.Sequential()\n",
    "model.add(layers.Dense(16, activation='relu', input_shape=(10000,)))\n",
    "model.add(layers.Dense(16, activation='relu'))\n",
    "model.add(layers.Dense(1, activation='sigmoid'))\n",
    "\n",
    "model.compile(optimizer='rmsprop', loss='binary_crossentropy', metrics=['accuracy'])"
   ]
  },
  {
   "cell_type": "markdown",
   "metadata": {},
   "source": [
    "#### 3.2.1 Objasnite aktivacijske funkcije `relu` i `sigmoid`.\n",
    "\n",
    "- Aktivacijske funkcije se u neuronskim mrezama koriste da bi se uvela nelinearnost u mrezi, odnosno da se izlaz ne moze dobiti linearnom kombinacijom ulaza, i na ovaj nacin se daje modelu mogucnost ucenja kompleksnijih mapiranja na osnovu ulaznih podataka.\n",
    "- `relu` aktivacijska funkcija ima sljedeci oblik: `y(x) = max(0, x)`. Vidimo da ce na izlazu iz neurona uzeti veca vrijednost od `0` i `x` vrijednosti. Ovo takodjer govori da ce sve negativne vrijednosti biti `0`, sto moze biti lose zavisnosti od specificnog slucaja.\n",
    "- `sigmoid` aktivacijska funkcija ima sljedeci oblik: `y(z) = 1/(1 + e^(-z))`, koristi u slucaju binarne klasifikacije jer je range izmedju `[0-1]`."
   ]
  },
  {
   "cell_type": "markdown",
   "metadata": {},
   "source": [
    "#### 3.2.2 Objasnite na koji algoritam se misli kada se kaze `rmsprop`.\n",
    "\n",
    "- `rmsprop` znaci da optimizator mijenja vrijednost gradijenta tako da dijeli gradijent sa prosjecnom vrijednoscu kvadrata gradijenta svake tezine iz tezinske matrice. Na ovaj nacin omogucava veci korak ka manjim vrijednostima i bolje kretanje."
   ]
  },
  {
   "cell_type": "markdown",
   "metadata": {},
   "source": [
    "#### 3.2.3 Objasnite `binary_crossentropy`.\n",
    "\n",
    "- `binary_crossentropy` je funkcija gubitka koja omogucava donesenje binarnih odluka. U slucaju ako element pokusava da pripada vise od jedne klase, funkcija ce pokusati odluciti da li taj element pripada svakoj klasi ponazasebno. Racuna se vjerovatnoca pripadanja svakoj klasi, i onda se racuna prosjecna vrijednost gresaka za sve klase i finalno racuna se krajnja vrijednost funkcije gubitka."
   ]
  },
  {
   "cell_type": "markdown",
   "metadata": {},
   "source": [
    "### 3.3 Validacija modela"
   ]
  },
  {
   "cell_type": "markdown",
   "metadata": {},
   "source": [
    "#### 3.3.1 Koje naredbe cete koristiti za izdvajanje 10,000 uzoraka iz originalnog skupa za treniranje?"
   ]
  },
  {
   "cell_type": "code",
   "execution_count": 15,
   "metadata": {},
   "outputs": [],
   "source": [
    "x_val = x_train[:10000]\n",
    "y_val = y_train[:10000]\n",
    "partial_x_train = x_train[10000:]\n",
    "partial_y_train = y_train[10000:]"
   ]
  },
  {
   "cell_type": "markdown",
   "metadata": {},
   "source": [
    "### 3.4 Treniranje modela"
   ]
  },
  {
   "cell_type": "code",
   "execution_count": 16,
   "metadata": {},
   "outputs": [
    {
     "name": "stdout",
     "output_type": "stream",
     "text": [
      "Epoch 1/20\n",
      "30/30 [==============================] - 1s 21ms/step - loss: 0.5163 - accuracy: 0.7819 - val_loss: 0.3932 - val_accuracy: 0.8671\n",
      "Epoch 2/20\n",
      "30/30 [==============================] - 0s 11ms/step - loss: 0.3023 - accuracy: 0.9039 - val_loss: 0.3054 - val_accuracy: 0.8859\n",
      "Epoch 3/20\n",
      "30/30 [==============================] - 0s 11ms/step - loss: 0.2231 - accuracy: 0.9269 - val_loss: 0.2903 - val_accuracy: 0.8855\n",
      "Epoch 4/20\n",
      "30/30 [==============================] - 0s 11ms/step - loss: 0.1754 - accuracy: 0.9448 - val_loss: 0.2739 - val_accuracy: 0.8915\n",
      "Epoch 5/20\n",
      "30/30 [==============================] - 0s 11ms/step - loss: 0.1459 - accuracy: 0.9538 - val_loss: 0.2952 - val_accuracy: 0.8838\n",
      "Epoch 6/20\n",
      "30/30 [==============================] - 0s 11ms/step - loss: 0.1187 - accuracy: 0.9659 - val_loss: 0.2982 - val_accuracy: 0.8850\n",
      "Epoch 7/20\n",
      "30/30 [==============================] - 0s 11ms/step - loss: 0.1010 - accuracy: 0.9689 - val_loss: 0.3210 - val_accuracy: 0.8811\n",
      "Epoch 8/20\n",
      "30/30 [==============================] - 0s 10ms/step - loss: 0.0840 - accuracy: 0.9772 - val_loss: 0.3301 - val_accuracy: 0.8826\n",
      "Epoch 9/20\n",
      "30/30 [==============================] - 0s 11ms/step - loss: 0.0679 - accuracy: 0.9820 - val_loss: 0.3480 - val_accuracy: 0.8806\n",
      "Epoch 10/20\n",
      "30/30 [==============================] - 0s 10ms/step - loss: 0.0562 - accuracy: 0.9853 - val_loss: 0.3736 - val_accuracy: 0.8792\n",
      "Epoch 11/20\n",
      "30/30 [==============================] - 0s 10ms/step - loss: 0.0459 - accuracy: 0.9894 - val_loss: 0.3980 - val_accuracy: 0.8789\n",
      "Epoch 12/20\n",
      "30/30 [==============================] - 0s 11ms/step - loss: 0.0368 - accuracy: 0.9922 - val_loss: 0.4296 - val_accuracy: 0.8760\n",
      "Epoch 13/20\n",
      "30/30 [==============================] - 0s 11ms/step - loss: 0.0303 - accuracy: 0.9936 - val_loss: 0.4559 - val_accuracy: 0.8733\n",
      "Epoch 14/20\n",
      "30/30 [==============================] - 0s 9ms/step - loss: 0.0237 - accuracy: 0.9957 - val_loss: 0.4997 - val_accuracy: 0.8731\n",
      "Epoch 15/20\n",
      "30/30 [==============================] - 0s 10ms/step - loss: 0.0186 - accuracy: 0.9970 - val_loss: 0.5175 - val_accuracy: 0.8718\n",
      "Epoch 16/20\n",
      "30/30 [==============================] - 0s 10ms/step - loss: 0.0160 - accuracy: 0.9971 - val_loss: 0.5560 - val_accuracy: 0.8685\n",
      "Epoch 17/20\n",
      "30/30 [==============================] - 0s 9ms/step - loss: 0.0101 - accuracy: 0.9991 - val_loss: 0.6201 - val_accuracy: 0.8599\n",
      "Epoch 18/20\n",
      "30/30 [==============================] - 0s 10ms/step - loss: 0.0083 - accuracy: 0.9992 - val_loss: 0.6264 - val_accuracy: 0.8646\n",
      "Epoch 19/20\n",
      "30/30 [==============================] - 0s 9ms/step - loss: 0.0086 - accuracy: 0.9982 - val_loss: 0.6596 - val_accuracy: 0.8668\n",
      "Epoch 20/20\n",
      "30/30 [==============================] - 0s 10ms/step - loss: 0.0037 - accuracy: 0.9999 - val_loss: 0.6829 - val_accuracy: 0.8643\n"
     ]
    }
   ],
   "source": [
    "imdb_model = model.fit(partial_x_train, partial_y_train, epochs=20, batch_size=512, validation_data=(x_val, y_val))"
   ]
  },
  {
   "cell_type": "markdown",
   "metadata": {},
   "source": [
    "#### 3.4.1 Objasnite sve parametre `model.fit()` funkcije. Uz pomoc dokumentacije provjerite da li postoje jos neki parametri koji se mogu koristiti.\n",
    "\n",
    "Parametri u nasem primjeru:\n",
    "- `partial_x_train` - skup podataka za treniranje\n",
    "- `partial_y_train` - skup labela pridruzenim elementima za treniranje\n",
    "- `epochs` - broj epoha za treniranje, epoha je jedna interacija kroz cijeli skup podataka za treniranje\n",
    "- `batch_size` - broj uzoraka koji ce biti procesirani prije azuriranja modela\n",
    "- `validation_data` - podaci za validaciju pomocu koje ce odrediti funkcija gubitka i validiranje generalno modela\n",
    "\n",
    "Dodatni parametri (od mnogih) koji se mogu koristiti:\n",
    "- `verbose` - ispis logova tokom procesiranja\n",
    "- `callback` - funkcije koje ce se pozvati tokom treniranja\n",
    "- `shuffle` - da li da se skup za treniranje pomijesati (bool) prije svake epohe\n",
    "- `validation_split` - vrijednost od `0-1` koje odredjuje odredjenu frakciju skupa za treniranje koji ce se koristiti za validaciju\n",
    "- `steps_per_epoch` - broj koraka u svakoj epohi itd.."
   ]
  },
  {
   "cell_type": "markdown",
   "metadata": {},
   "source": [
    "### 3.5 Informacije o procesu treniranja i validacije"
   ]
  },
  {
   "cell_type": "code",
   "execution_count": 17,
   "metadata": {},
   "outputs": [
    {
     "name": "stdout",
     "output_type": "stream",
     "text": [
      "Dict keys: dict_keys(['loss', 'accuracy', 'val_loss', 'val_accuracy'])\n"
     ]
    },
    {
     "data": {
      "image/png": "[encoded data removed]",
      "text/plain": [
       "<Figure size 432x288 with 1 Axes>"
      ]
     },
     "metadata": {
      "needs_background": "light"
     },
     "output_type": "display_data"
    }
   ],
   "source": [
    "import matplotlib.pyplot as plt\n",
    "\n",
    "history_dict = imdb_model.history\n",
    "print(*['Dict keys:', history_dict.keys()])\n",
    "\n",
    "history_dict = imdb_model.history\n",
    "loss_values = history_dict['loss']\n",
    "val_loss_values = history_dict['val_loss']\n",
    "acc = history_dict['accuracy']\n",
    "val_acc_values = history_dict['val_accuracy']\n",
    "\n",
    "epochs = range(1, len(acc) + 1)\n",
    "plt.plot(epochs, loss_values, 'bo', label='Training loss')\n",
    "plt.plot(epochs, val_loss_values, 'b', label='Validation loss')\n",
    "plt.title('Training and validation loss')\n",
    "plt.xlabel('Epochs')\n",
    "plt.ylabel('Loss')\n",
    "plt.legend()\n",
    "plt.show()"
   ]
  },
  {
   "cell_type": "code",
   "execution_count": 18,
   "metadata": {},
   "outputs": [
    {
     "data": {
      "image/png": "[encoded data removed]",
      "text/plain": [
       "<Figure size 432x288 with 1 Axes>"
      ]
     },
     "metadata": {
      "needs_background": "light"
     },
     "output_type": "display_data"
    }
   ],
   "source": [
    "plt.clf()\n",
    "plt.plot(epochs, acc, 'bo', label='Training acc')\n",
    "plt.plot(epochs, val_acc_values, 'b', label='Validation acc')\n",
    "plt.title('Training and validation accuracy')\n",
    "plt.xlabel('Epochs')\n",
    "plt.ylabel('Loss')\n",
    "plt.legend()\n",
    "plt.show()"
   ]
  },
  {
   "cell_type": "markdown",
   "metadata": {},
   "source": [
    "#### 3.5.1 Objasnite sta predstavljaju: `u’acc’`, `u’loss’`, `u’val acc’`, `u’val loss’`.\n",
    "\n",
    "- `u'acc'` - vrijednosti funkcija tacnosti za skup podataka za treniranje\n",
    "- `u'loss'` - vrijednosti funkcija gubitka za skup podataka za treniranje\n",
    "- `u'val acc'` - vrijednosti funkcija tacnosti za skup podataka za validaciju\n",
    "- `u'val loss'` - vrijednosti funkcija gubitka za skup podataka za validaciju"
   ]
  },
  {
   "cell_type": "markdown",
   "metadata": {},
   "source": [
    "#### 3.5.2 Objasnite koje naredbe se koriste za crtanje gubitka i tacnosti.\n",
    "\n",
    "Koriste se naredbe iz biblioteke `matplotlib`.\n",
    "\n",
    "- `plt.plot` - ova naredba prima broj epoha i oznacava vrijednosti za iste, te broj tacaka koje ce se povezati linijom ili isprekidanim tackama samo. Mogu biti razne varijante prikaza, ali ovdje su prikazane `b` kao podebljana plava linija ili `bo` kao podebljana plava tacka u vrijednostima funkcije. Ovisnosti od poslanih x i y vrijednosti, specifican graf ce biti iscrtan. Moze se i `label` poslati za odredjenu funkciju.\n",
    "- `plt.title` - definisanje naslova za specifican graf.\n",
    "- `plt.xlabel` - definisanje vrijednosti koja ce biti ispisana ispod x ose.\n",
    "- `plt.ylabel` - definisanje vrijednosti koja ce biti ispisana pored y ose.\n",
    "- `plt.legend()` - ukljucivanje legende.\n",
    "- `plt.show()` - komanda za prikazivanje iscrtanog grafa na ekranu."
   ]
  },
  {
   "cell_type": "markdown",
   "metadata": {},
   "source": [
    "#### 3.5.3 Ponovo istrenirajte mrezu mijenjajuci broj epoha u 4."
   ]
  },
  {
   "cell_type": "code",
   "execution_count": 19,
   "metadata": {},
   "outputs": [
    {
     "name": "stdout",
     "output_type": "stream",
     "text": [
      "Epoch 1/4\n",
      "30/30 [==============================] - 1s 17ms/step - loss: 0.0091 - accuracy: 0.9979 - val_loss: 0.7187 - val_accuracy: 0.8660\n",
      "Epoch 2/4\n",
      "30/30 [==============================] - 0s 9ms/step - loss: 0.0022 - accuracy: 0.9999 - val_loss: 0.7404 - val_accuracy: 0.8635\n",
      "Epoch 3/4\n",
      "30/30 [==============================] - 0s 10ms/step - loss: 0.0048 - accuracy: 0.9989 - val_loss: 0.7798 - val_accuracy: 0.8626\n",
      "Epoch 4/4\n",
      "30/30 [==============================] - 0s 10ms/step - loss: 0.0014 - accuracy: 0.9999 - val_loss: 0.8036 - val_accuracy: 0.8633\n"
     ]
    }
   ],
   "source": [
    "four_epoch_model = model.fit(partial_x_train, partial_y_train, epochs=4, batch_size=512, validation_data=(x_val, y_val))"
   ]
  },
  {
   "cell_type": "markdown",
   "metadata": {},
   "source": [
    "#### 3.5.4 Objasnite i uporedite rezultate u odnosu na prethodna testiranja."
   ]
  },
  {
   "cell_type": "code",
   "execution_count": 20,
   "metadata": {},
   "outputs": [
    {
     "data": {
      "image/png": "[encoded data removed]",
      "text/plain": [
       "<Figure size 432x288 with 1 Axes>"
      ]
     },
     "metadata": {
      "needs_background": "light"
     },
     "output_type": "display_data"
    }
   ],
   "source": [
    "import matplotlib.pyplot as plt\n",
    "\n",
    "history_dict = four_epoch_model.history\n",
    "loss_values = history_dict['loss']\n",
    "val_loss_values = history_dict['val_loss']\n",
    "acc = history_dict['accuracy']\n",
    "val_acc_values = history_dict['val_accuracy']\n",
    "\n",
    "epochs = range(1, len(acc) + 1)\n",
    "plt.plot(epochs, loss_values, 'bo', label='Training loss')\n",
    "plt.plot(epochs, val_loss_values, 'b', label='Validation loss')\n",
    "plt.title('Training and validation loss')\n",
    "plt.xlabel('Epochs')\n",
    "plt.ylabel('Loss')\n",
    "plt.legend()\n",
    "plt.show()"
   ]
  },
  {
   "cell_type": "code",
   "execution_count": 21,
   "metadata": {},
   "outputs": [
    {
     "data": {
      "image/png": "[encoded data removed]",
      "text/plain": [
       "<Figure size 432x288 with 1 Axes>"
      ]
     },
     "metadata": {
      "needs_background": "light"
     },
     "output_type": "display_data"
    }
   ],
   "source": [
    "plt.clf()\n",
    "plt.plot(epochs, acc, 'bo', label='Training acc')\n",
    "plt.plot(epochs, val_acc_values, 'b', label='Validation acc')\n",
    "plt.title('Training and validation accuracy')\n",
    "plt.xlabel('Epochs')\n",
    "plt.ylabel('Loss')\n",
    "plt.legend()\n",
    "plt.show()"
   ]
  },
  {
   "cell_type": "markdown",
   "metadata": {},
   "source": [
    "Poredeci dobijene grafove za broj epoha 20, i za broj epoha 4, vidimo da se razlikuju grafovi, u slucaju sa 20 epoha validacijska tacnost opada nakon 4-5 epohe, dok u slucaju treniranja sa 4 epohe to nije slucaj. Takodjer validacijska greska odnosno `loss` se povecava u tom slucaju, dok u slucaju sa 4 epohe je manje vise konstantna. Sve navedeno govori da je model vise optorniji tj. generalniji ka validacijskim podacima, te ce se isti koristiti za testiranje nad testnim podacima."
   ]
  },
  {
   "cell_type": "markdown",
   "metadata": {},
   "source": [
    "### 3.6 Testiranje modela na testnim podacima"
   ]
  },
  {
   "cell_type": "code",
   "execution_count": 22,
   "metadata": {},
   "outputs": [],
   "source": [
    "test_prediction = model.predict(x_test)"
   ]
  },
  {
   "cell_type": "markdown",
   "metadata": {},
   "source": [
    "#### 3.6.1 Koja recenzija ima najvecu vjerovatnocu? a koja najmanju?"
   ]
  },
  {
   "cell_type": "code",
   "execution_count": 23,
   "metadata": {},
   "outputs": [
    {
     "name": "stdout",
     "output_type": "stream",
     "text": [
      "Recenzija sa najvecom vjerovatnocom: 1\n",
      "\n",
      "? this film requires a lot of patience because it focuses on mood and character development the plot is very simple and many of the scenes take place on the same set in frances ? the sandy dennis character apartment but the film builds to a disturbing climax br br the characters create an atmosph...\n",
      "\n",
      "Recenzija sa najmanjom vjerovatnocom: 14021\n",
      "\n",
      "? i'm a big horror film buff particularly of the 1980's name one  i've probably seen it last year a new little horror movie that seemed to slip under mainstream radar called saw was about to hit theaters i was moderately excited having not heard anything about it i thought it looked quite promis...\n"
     ]
    }
   ],
   "source": [
    "import numpy as np\n",
    "\n",
    "max_index = np.argmax(test_prediction)\n",
    "min_index = np.argmin(test_prediction)\n",
    "\n",
    "decoded_max = ' '.join([reverse_word_index.get(i - 3, '?') for i in test_data[max_index]])\n",
    "\n",
    "print(*['Recenzija sa najvecom vjerovatnocom:', max_index])\n",
    "print('')\n",
    "print(return_formatted_review(decoded_max, 300))\n",
    "\n",
    "decoded_min = ' '.join([reverse_word_index.get(i - 3, '?') for i in test_data[min_index]])\n",
    "\n",
    "print('')\n",
    "print(*['Recenzija sa najmanjom vjerovatnocom:', min_index])\n",
    "print('')\n",
    "print(return_formatted_review(decoded_min, 300))"
   ]
  },
  {
   "cell_type": "markdown",
   "metadata": {},
   "source": [
    "#### 3.6.2 Koliko recenzija ima vjerovatnocu vecu od 0.5?"
   ]
  },
  {
   "cell_type": "code",
   "execution_count": 24,
   "metadata": {},
   "outputs": [
    {
     "name": "stdout",
     "output_type": "stream",
     "text": [
      "Broj recenzija sa vjerovatnocom vecom od 0.5: 12364\n"
     ]
    }
   ],
   "source": [
    "import numpy as np\n",
    "\n",
    "print(*['Broj recenzija sa vjerovatnocom vecom od 0.5:', np.count_nonzero(test_prediction > 0.5)])"
   ]
  },
  {
   "cell_type": "markdown",
   "metadata": {},
   "source": [
    "#### 3.6.3 Koliko recenzija ima vjerovatnocu manju od 0.1?"
   ]
  },
  {
   "cell_type": "code",
   "execution_count": 25,
   "metadata": {},
   "outputs": [
    {
     "name": "stdout",
     "output_type": "stream",
     "text": [
      "Broj recenzija sa vjerovatnocom manjom od 0.1: 11362\n"
     ]
    }
   ],
   "source": [
    "import numpy as np\n",
    "\n",
    "print(*['Broj recenzija sa vjerovatnocom manjom od 0.1:', np.count_nonzero(test_prediction < 0.1)])"
   ]
  },
  {
   "cell_type": "markdown",
   "metadata": {},
   "source": [
    "#### 3.6.4 Koja je tacnost nad testnim skupom podataka, i koliki je gubitak?"
   ]
  },
  {
   "cell_type": "code",
   "execution_count": 26,
   "metadata": {},
   "outputs": [
    {
     "name": "stdout",
     "output_type": "stream",
     "text": [
      "782/782 [==============================] - 0s 608us/step - loss: 0.8781 - accuracy: 0.8475\n",
      "Tacnost:  0.8475199937820435 a gubitak: 0.8781014680862427\n"
     ]
    }
   ],
   "source": [
    "test_loss, test_acc = model.evaluate(x_test, y_test)\n",
    "\n",
    "print(*['Tacnost: ', test_acc, 'a gubitak:', test_loss])"
   ]
  },
  {
   "cell_type": "markdown",
   "metadata": {},
   "source": [
    "## 4. Dalja eksperimentiranja"
   ]
  },
  {
   "cell_type": "markdown",
   "metadata": {},
   "source": [
    "#### 4.0.1 U modelu ste koristili dva skrivena sloja. Pokusajte koristiti jedan ili tri skrivena sloja i utvrdite kako to utice na tacnost validacijskog i testnog skupa.\n",
    "\n",
    "- Mozemo primijetiti da je povecana tacnost u oba slucaja i za testni i za validacijski dataset, kada je u pitanju samo 1 sloj, ali takodjer da je smanjena funkcija gubitka.\n",
    "- Mozemo utvrditi gledajuci rezultate ispod i rezultate od prije."
   ]
  },
  {
   "cell_type": "code",
   "execution_count": 27,
   "metadata": {},
   "outputs": [
    {
     "name": "stdout",
     "output_type": "stream",
     "text": [
      "Epoch 1/4\n",
      "30/30 [==============================] - 1s 20ms/step - loss: 0.4925 - accuracy: 0.7942 - val_loss: 0.4085 - val_accuracy: 0.8395\n",
      "Epoch 2/4\n",
      "30/30 [==============================] - 0s 12ms/step - loss: 0.3118 - accuracy: 0.9035 - val_loss: 0.3263 - val_accuracy: 0.8769\n",
      "Epoch 3/4\n",
      "30/30 [==============================] - 0s 10ms/step - loss: 0.2409 - accuracy: 0.9284 - val_loss: 0.2876 - val_accuracy: 0.8889\n",
      "Epoch 4/4\n",
      "30/30 [==============================] - 0s 11ms/step - loss: 0.1962 - accuracy: 0.9404 - val_loss: 0.2791 - val_accuracy: 0.8904\n",
      "313/313 [==============================] - 0s 639us/step - loss: 0.2791 - accuracy: 0.8904\n",
      "782/782 [==============================] - 0s 574us/step - loss: 0.2943 - accuracy: 0.8826\n",
      "\n",
      "Tacnost validacijski: 0.8903999924659729 a gubitak val: 0.2791033089160919\n",
      "Tacnost test:  0.88264000415802 a gubitak test: 0.2942552864551544\n"
     ]
    }
   ],
   "source": [
    "from keras import models\n",
    "from keras import layers\n",
    "\n",
    "model = models.Sequential()\n",
    "model.add(layers.Dense(16, activation='relu', input_shape=(10000,)))\n",
    "model.add(layers.Dense(1, activation='sigmoid'))\n",
    "\n",
    "model.compile(optimizer='rmsprop', loss='binary_crossentropy', metrics=['accuracy'])\n",
    "\n",
    "one_layer_model = model.fit(partial_x_train, partial_y_train, epochs=4, batch_size=512, validation_data=(x_val, y_val))\n",
    "\n",
    "val_loss, val_acc = model.evaluate(x_val, y_val)\n",
    "test_loss, test_acc = model.evaluate(x_test, y_test)\n",
    "\n",
    "print('')\n",
    "print(*['Tacnost validacijski:', val_acc, 'a gubitak val:', val_loss])\n",
    "print(*['Tacnost test: ', test_acc, 'a gubitak test:', test_loss])"
   ]
  },
  {
   "cell_type": "markdown",
   "metadata": {},
   "source": [
    "#### 4.0.2 Pokusajte koristiti slojeve s vise skrivenih jedinica ili manje skrivenih jedinica, na primjer 8, 32, 64 jedinice."
   ]
  },
  {
   "cell_type": "code",
   "execution_count": 28,
   "metadata": {},
   "outputs": [
    {
     "name": "stdout",
     "output_type": "stream",
     "text": [
      "Epoch 1/4\n",
      "30/30 [==============================] - 1s 20ms/step - loss: 0.5062 - accuracy: 0.7834 - val_loss: 0.3709 - val_accuracy: 0.8719\n",
      "Epoch 2/4\n",
      "30/30 [==============================] - 0s 12ms/step - loss: 0.2916 - accuracy: 0.9035 - val_loss: 0.3018 - val_accuracy: 0.8852\n",
      "Epoch 3/4\n",
      "30/30 [==============================] - 0s 12ms/step - loss: 0.2128 - accuracy: 0.9281 - val_loss: 0.3006 - val_accuracy: 0.8781\n",
      "Epoch 4/4\n",
      "30/30 [==============================] - 0s 13ms/step - loss: 0.1654 - accuracy: 0.9449 - val_loss: 0.2772 - val_accuracy: 0.8902\n",
      "313/313 [==============================] - 0s 751us/step - loss: 0.2772 - accuracy: 0.8902\n",
      "782/782 [==============================] - 1s 683us/step - loss: 0.2954 - accuracy: 0.8812\n",
      "\n",
      "Tacnost validacijski: 0.8902000188827515 a gubitak val: 0.2771826684474945\n",
      "Tacnost test:  0.8812000155448914 a gubitak test: 0.29535922408103943\n"
     ]
    }
   ],
   "source": [
    "from keras import models\n",
    "from keras import layers\n",
    "\n",
    "model = models.Sequential()\n",
    "model.add(layers.Dense(32, activation='relu', input_shape=(10000,)))\n",
    "model.add(layers.Dense(32, activation='relu'))\n",
    "model.add(layers.Dense(1, activation='sigmoid'))\n",
    "\n",
    "model.compile(optimizer='rmsprop', loss='binary_crossentropy', metrics=['accuracy'])\n",
    "\n",
    "tries_dva_neurona_hidden = model.fit(partial_x_train, partial_y_train, epochs=4, batch_size=512, validation_data=(x_val, y_val))\n",
    "\n",
    "val_loss, val_acc = model.evaluate(x_val, y_val)\n",
    "test_loss, test_acc = model.evaluate(x_test, y_test)\n",
    "\n",
    "print('')\n",
    "print(*['Tacnost validacijski:', val_acc, 'a gubitak val:', val_loss])\n",
    "print(*['Tacnost test: ', test_acc, 'a gubitak test:', test_loss])"
   ]
  },
  {
   "cell_type": "markdown",
   "metadata": {},
   "source": [
    "#### 4.0.3 Pokusajte koristiti funkciju gubitka `mse` umjesto `binary_crossentropy`."
   ]
  },
  {
   "cell_type": "code",
   "execution_count": 29,
   "metadata": {},
   "outputs": [
    {
     "name": "stdout",
     "output_type": "stream",
     "text": [
      "Epoch 1/4\n",
      "30/30 [==============================] - 1s 32ms/step - loss: 0.1716 - accuracy: 0.7860 - val_loss: 0.1186 - val_accuracy: 0.8666\n",
      "Epoch 2/4\n",
      "30/30 [==============================] - 0s 12ms/step - loss: 0.0913 - accuracy: 0.9037 - val_loss: 0.0952 - val_accuracy: 0.8836\n",
      "Epoch 3/4\n",
      "30/30 [==============================] - 0s 12ms/step - loss: 0.0663 - accuracy: 0.9275 - val_loss: 0.0871 - val_accuracy: 0.8886\n",
      "Epoch 4/4\n",
      "30/30 [==============================] - 0s 10ms/step - loss: 0.0503 - accuracy: 0.9472 - val_loss: 0.0833 - val_accuracy: 0.8878\n",
      "313/313 [==============================] - 0s 691us/step - loss: 0.0833 - accuracy: 0.8878\n",
      "782/782 [==============================] - 1s 799us/step - loss: 0.0903 - accuracy: 0.8794\n",
      "\n",
      "Tacnost validacijski: 0.8877999782562256 a gubitak val: 0.08332684636116028\n",
      "Tacnost test:  0.879360020160675 a gubitak test: 0.09032688289880753\n"
     ]
    }
   ],
   "source": [
    "from keras import models\n",
    "from keras import layers\n",
    "\n",
    "model = models.Sequential()\n",
    "model.add(layers.Dense(16, activation='relu', input_shape=(10000,)))\n",
    "model.add(layers.Dense(16, activation='relu'))\n",
    "model.add(layers.Dense(1, activation='sigmoid'))\n",
    "\n",
    "model.compile(optimizer='rmsprop', loss='mse', metrics=['accuracy'])\n",
    "\n",
    "mse_model = model.fit(partial_x_train, partial_y_train, epochs=4, batch_size=512, validation_data=(x_val, y_val))\n",
    "\n",
    "val_loss, val_acc = model.evaluate(x_val, y_val)\n",
    "test_loss, test_acc = model.evaluate(x_test, y_test)\n",
    "\n",
    "print('')\n",
    "print(*['Tacnost validacijski:', val_acc, 'a gubitak val:', val_loss])\n",
    "print(*['Tacnost test: ', test_acc, 'a gubitak test:', test_loss])"
   ]
  },
  {
   "cell_type": "markdown",
   "metadata": {},
   "source": [
    "#### 4.0.4 Pokusajte koristiti aktivacijsku funkciju `tanh` (aktivacija koja je bila popularna u ranim danima neuronskih mreza) umjesto `relu`."
   ]
  },
  {
   "cell_type": "code",
   "execution_count": 31,
   "metadata": {},
   "outputs": [
    {
     "name": "stdout",
     "output_type": "stream",
     "text": [
      "Epoch 1/4\n",
      "30/30 [==============================] - 1s 19ms/step - loss: 0.5022 - accuracy: 0.7990 - val_loss: 0.3833 - val_accuracy: 0.8719\n",
      "Epoch 2/4\n",
      "30/30 [==============================] - 0s 9ms/step - loss: 0.3017 - accuracy: 0.9081 - val_loss: 0.3006 - val_accuracy: 0.8893\n",
      "Epoch 3/4\n",
      "30/30 [==============================] - 0s 10ms/step - loss: 0.2144 - accuracy: 0.9339 - val_loss: 0.2815 - val_accuracy: 0.8865\n",
      "Epoch 4/4\n",
      "30/30 [==============================] - 0s 9ms/step - loss: 0.1599 - accuracy: 0.9503 - val_loss: 0.2733 - val_accuracy: 0.8880\n",
      "313/313 [==============================] - 0s 602us/step - loss: 0.2733 - accuracy: 0.8880\n",
      "782/782 [==============================] - 0s 592us/step - loss: 0.2921 - accuracy: 0.8808\n",
      "\n",
      "Tacnost validacijski: 0.8880000114440918 a gubitak val: 0.27331361174583435\n",
      "Tacnost test:  0.8808000087738037 a gubitak test: 0.2921035885810852\n"
     ]
    }
   ],
   "source": [
    "from keras import models\n",
    "from keras import layers\n",
    "\n",
    "model = models.Sequential()\n",
    "model.add(layers.Dense(16, activation='tanh', input_shape=(10000,)))\n",
    "model.add(layers.Dense(16, activation='tanh'))\n",
    "model.add(layers.Dense(1, activation='sigmoid'))\n",
    "\n",
    "model.compile(optimizer='rmsprop', loss='binary_crossentropy', metrics=['accuracy'])\n",
    "\n",
    "tanh_model = model.fit(partial_x_train, partial_y_train, epochs=4, batch_size=512, validation_data=(x_val, y_val))\n",
    "\n",
    "val_loss, val_acc = model.evaluate(x_val, y_val)\n",
    "test_loss, test_acc = model.evaluate(x_test, y_test)\n",
    "\n",
    "print('')\n",
    "print(*['Tacnost validacijski:', val_acc, 'a gubitak val:', val_loss])\n",
    "print(*['Tacnost test: ', test_acc, 'a gubitak test:', test_loss])"
   ]
  }
 ],
 "metadata": {
  "kernelspec": {
   "display_name": "Python 3",
   "language": "python",
   "name": "python3"
  },
  "language_info": {
   "codemirror_mode": {
    "name": "ipython",
    "version": 3
   },
   "file_extension": ".py",
   "mimetype": "text/x-python",
   "name": "python",
   "nbconvert_exporter": "python",
   "pygments_lexer": "ipython3",
   "version": "3.8.5"
  }
 },
 "nbformat": 4,
 "nbformat_minor": 4
}
