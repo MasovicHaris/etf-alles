{
  "nbformat": 4,
  "nbformat_minor": 0,
  "metadata": {
    "kernelspec": {
      "display_name": "Python 3",
      "language": "python",
      "name": "python3"
    },
    "language_info": {
      "codemirror_mode": {
        "name": "ipython",
        "version": 3
      },
      "file_extension": ".py",
      "mimetype": "text/x-python",
      "name": "python",
      "nbconvert_exporter": "python",
      "pygments_lexer": "ipython3",
      "version": "3.8.5"
    },
    "colab": {
      "name": "haris.masovic.1689.17993.lab8.ipynb",
      "provenance": [],
      "collapsed_sections": []
    },
    "accelerator": "GPU"
  },
  "cells": [
    {
      "cell_type": "markdown",
      "metadata": {
        "id": "3UfPQw2D15si"
      },
      "source": [
        "#### Metode i primjena vjestacke inteligencije\n",
        "#### Laboratorijska vjezba 8\n",
        "#### Student: Masovic Haris\n",
        "#### Index: 1689/17993"
      ]
    },
    {
      "cell_type": "markdown",
      "metadata": {
        "id": "qKfvLJ2I15sm"
      },
      "source": [
        "## 0. Dependencies"
      ]
    },
    {
      "cell_type": "code",
      "metadata": {
        "colab": {
          "base_uri": "https://localhost:8080/"
        },
        "id": "9n0BALAn15sn",
        "outputId": "75beaea6-5184-4760-d079-0657587634ec"
      },
      "source": [
        "import sys\n",
        "from google.colab import drive \n",
        "\n",
        "drive.mount('/content/gdrive')\n",
        "\n",
        "!{sys.executable} -m pip install matplotlib Image"
      ],
      "execution_count": null,
      "outputs": [
        {
          "output_type": "stream",
          "text": [
            "Drive already mounted at /content/gdrive; to attempt to forcibly remount, call drive.mount(\"/content/gdrive\", force_remount=True).\n",
            "Requirement already satisfied: matplotlib in /usr/local/lib/python3.6/dist-packages (3.2.2)\n",
            "Requirement already satisfied: Image in /usr/local/lib/python3.6/dist-packages (1.5.33)\n",
            "Requirement already satisfied: python-dateutil>=2.1 in /usr/local/lib/python3.6/dist-packages (from matplotlib) (2.8.1)\n",
            "Requirement already satisfied: numpy>=1.11 in /usr/local/lib/python3.6/dist-packages (from matplotlib) (1.19.4)\n",
            "Requirement already satisfied: pyparsing!=2.0.4,!=2.1.2,!=2.1.6,>=2.0.1 in /usr/local/lib/python3.6/dist-packages (from matplotlib) (2.4.7)\n",
            "Requirement already satisfied: cycler>=0.10 in /usr/local/lib/python3.6/dist-packages (from matplotlib) (0.10.0)\n",
            "Requirement already satisfied: kiwisolver>=1.0.1 in /usr/local/lib/python3.6/dist-packages (from matplotlib) (1.3.1)\n",
            "Requirement already satisfied: django in /usr/local/lib/python3.6/dist-packages (from Image) (3.1.4)\n",
            "Requirement already satisfied: six in /usr/local/lib/python3.6/dist-packages (from Image) (1.15.0)\n",
            "Requirement already satisfied: pillow in /usr/local/lib/python3.6/dist-packages (from Image) (7.0.0)\n",
            "Requirement already satisfied: asgiref<4,>=3.2.10 in /usr/local/lib/python3.6/dist-packages (from django->Image) (3.3.1)\n",
            "Requirement already satisfied: pytz in /usr/local/lib/python3.6/dist-packages (from django->Image) (2018.9)\n",
            "Requirement already satisfied: sqlparse>=0.2.2 in /usr/local/lib/python3.6/dist-packages (from django->Image) (0.4.1)\n"
          ],
          "name": "stdout"
        }
      ]
    },
    {
      "cell_type": "markdown",
      "metadata": {
        "id": "GCrEiHUJ15so"
      },
      "source": [
        "## 2. Ekstrakcija znacajki"
      ]
    },
    {
      "cell_type": "markdown",
      "metadata": {
        "id": "zJhaoC7s15sp"
      },
      "source": [
        "### 2.1 Ucitavanje modela"
      ]
    },
    {
      "cell_type": "code",
      "metadata": {
        "id": "njvQxrMi15sp"
      },
      "source": [
        "from keras.applications import VGG16\n",
        "\n",
        "conv_base = VGG16(weights='imagenet', include_top=False, input_shape=(150, 150, 3))"
      ],
      "execution_count": null,
      "outputs": []
    },
    {
      "cell_type": "markdown",
      "metadata": {
        "id": "DICwCO1V15sp"
      },
      "source": [
        "#### 2.1.2 Koristenjem naredbe `conv base.summary()` isprintajte informacije o modelu. Objasnite strukturu modela, tj. vrste nivoa koji se koriste i kako izbor nivoa utice na izlaze iz svakog nivoa.\n",
        "\n",
        "- Na osnovu prikazanih informacija summary-a ispod, moze se vidjeti da se koriste sljedeci slojevi u modelu: `InputLayer`, `Conv2D`, `MaxPooling2D`.\n",
        "- Izbor sloja utice na izlaz iz svakog nivoa jer zavisno od parametara specificiranih u definicijni svakog sloja, desavaju se promjene nad dimenzijama slike, kao i o promjenama \"dubine\" informacija o znacajkama.\n",
        "- Polazni oblik znacajki je `(150, 150, 3)`, dok je finalni oblik nakon svih slojeva `(4, 4, 512)`."
      ]
    },
    {
      "cell_type": "code",
      "metadata": {
        "colab": {
          "base_uri": "https://localhost:8080/"
        },
        "id": "JP9NopLp15sq",
        "outputId": "5887deba-1b11-4b18-ea50-1588ef1fb147"
      },
      "source": [
        "conv_base.summary()"
      ],
      "execution_count": null,
      "outputs": [
        {
          "output_type": "stream",
          "text": [
            "Model: \"vgg16\"\n",
            "_________________________________________________________________\n",
            "Layer (type)                 Output Shape              Param #   \n",
            "=================================================================\n",
            "input_3 (InputLayer)         [(None, 150, 150, 3)]     0         \n",
            "_________________________________________________________________\n",
            "block1_conv1 (Conv2D)        (None, 150, 150, 64)      1792      \n",
            "_________________________________________________________________\n",
            "block1_conv2 (Conv2D)        (None, 150, 150, 64)      36928     \n",
            "_________________________________________________________________\n",
            "block1_pool (MaxPooling2D)   (None, 75, 75, 64)        0         \n",
            "_________________________________________________________________\n",
            "block2_conv1 (Conv2D)        (None, 75, 75, 128)       73856     \n",
            "_________________________________________________________________\n",
            "block2_conv2 (Conv2D)        (None, 75, 75, 128)       147584    \n",
            "_________________________________________________________________\n",
            "block2_pool (MaxPooling2D)   (None, 37, 37, 128)       0         \n",
            "_________________________________________________________________\n",
            "block3_conv1 (Conv2D)        (None, 37, 37, 256)       295168    \n",
            "_________________________________________________________________\n",
            "block3_conv2 (Conv2D)        (None, 37, 37, 256)       590080    \n",
            "_________________________________________________________________\n",
            "block3_conv3 (Conv2D)        (None, 37, 37, 256)       590080    \n",
            "_________________________________________________________________\n",
            "block3_pool (MaxPooling2D)   (None, 18, 18, 256)       0         \n",
            "_________________________________________________________________\n",
            "block4_conv1 (Conv2D)        (None, 18, 18, 512)       1180160   \n",
            "_________________________________________________________________\n",
            "block4_conv2 (Conv2D)        (None, 18, 18, 512)       2359808   \n",
            "_________________________________________________________________\n",
            "block4_conv3 (Conv2D)        (None, 18, 18, 512)       2359808   \n",
            "_________________________________________________________________\n",
            "block4_pool (MaxPooling2D)   (None, 9, 9, 512)         0         \n",
            "_________________________________________________________________\n",
            "block5_conv1 (Conv2D)        (None, 9, 9, 512)         2359808   \n",
            "_________________________________________________________________\n",
            "block5_conv2 (Conv2D)        (None, 9, 9, 512)         2359808   \n",
            "_________________________________________________________________\n",
            "block5_conv3 (Conv2D)        (None, 9, 9, 512)         2359808   \n",
            "_________________________________________________________________\n",
            "block5_pool (MaxPooling2D)   (None, 4, 4, 512)         0         \n",
            "=================================================================\n",
            "Total params: 14,714,688\n",
            "Trainable params: 14,714,688\n",
            "Non-trainable params: 0\n",
            "_________________________________________________________________\n"
          ],
          "name": "stdout"
        }
      ]
    },
    {
      "cell_type": "markdown",
      "metadata": {
        "id": "d3p_vAWA15sq"
      },
      "source": [
        "#### 2.1.4 Koji je oblik krajnje (izlazne) mape znacajki?\n",
        "\n",
        "- Oblik krajnje mape znacajki je `(4, 4, 512)`."
      ]
    },
    {
      "cell_type": "markdown",
      "metadata": {
        "id": "LFj1anYQ15sq"
      },
      "source": [
        "### 2.2 Brza ekstrakcija bez povecanja podataka (Prva tehnika)"
      ]
    },
    {
      "cell_type": "code",
      "metadata": {
        "colab": {
          "base_uri": "https://localhost:8080/"
        },
        "id": "DIU2R68E15sq",
        "outputId": "c6167601-d5eb-48e7-e1c7-dc87b6a35262"
      },
      "source": [
        "% tensorflow_version 2.x\n",
        "import tensorflow as tf\n",
        "from tensorflow import keras\n",
        "from keras.preprocessing.image import ImageDataGenerator\n",
        "\n",
        "import os\n",
        "import numpy as np\n",
        "\n",
        "base_dir = '/content/gdrive/MyDrive/Colab Notebooks/downsized/'\n",
        "train_dir = os.path.join(base_dir, 'train')\n",
        "validation_dir = os.path.join(base_dir, 'validation')\n",
        "test_dir = os.path.join(base_dir, 'test')\n",
        "\n",
        "datagen = ImageDataGenerator(rescale=1./255)\n",
        "batch_size = 20\n",
        "\n",
        "def extract_features(directory, sample_count):\n",
        "    features = np.zeros(shape=(sample_count, 4, 4, 512))\n",
        "    labels = np.zeros(shape=(sample_count))\n",
        "    generator = datagen.flow_from_directory(directory, target_size=(150, 150), batch_size=batch_size, class_mode='binary')\n",
        "    \n",
        "    i = 0\n",
        "    for inputs_batch, labels_batch in generator:\n",
        "        features_batch = conv_base.predict(inputs_batch)\n",
        "        features[i * batch_size : (i + 1) * batch_size] = features_batch\n",
        "        labels[i * batch_size : (i + 1) * batch_size] = labels_batch\n",
        "        i += 1\n",
        "        if i * batch_size >= sample_count:\n",
        "            # Note that since generators yield data indefinitely in a loop,\n",
        "            # we must ‘break‘ after every image has been seen once.\n",
        "            break\n",
        "    return features, labels\n",
        "\n",
        "train_features, train_labels = extract_features(train_dir, 2000)\n",
        "validation_features, validation_labels = extract_features(validation_dir, 1000)\n",
        "test_features, test_labels = extract_features(test_dir, 1000)"
      ],
      "execution_count": null,
      "outputs": [
        {
          "output_type": "stream",
          "text": [
            "Found 2000 images belonging to 2 classes.\n",
            "Found 1000 images belonging to 2 classes.\n",
            "Found 1005 images belonging to 2 classes.\n"
          ],
          "name": "stdout"
        }
      ]
    },
    {
      "cell_type": "markdown",
      "metadata": {
        "id": "HcmJ_o8115sr"
      },
      "source": [
        "#### 2.2.2 Koji su oblici izlaznih varijabli (ukupno 6 varijabli), koju vrsta podataka koriste i koliko memorije zauzimaju?"
      ]
    },
    {
      "cell_type": "code",
      "metadata": {
        "colab": {
          "base_uri": "https://localhost:8080/"
        },
        "id": "-4jQ70Z515sr",
        "outputId": "e496c14f-a67b-430a-b270-82df4199bb66"
      },
      "source": [
        "def print_data_info(name, dataset):\n",
        "    print(*[name, 'je tipa:', dataset.dtype, 'ima oblik:', dataset.shape, 'a zauzima:', dataset.nbytes, 'bajta memorije.'])\n",
        "    print('')\n",
        "    \n",
        "print_data_info('train_features', train_features)\n",
        "print_data_info('validation_features', validation_features)\n",
        "print_data_info('test_features', test_features)"
      ],
      "execution_count": null,
      "outputs": [
        {
          "output_type": "stream",
          "text": [
            "train_features je tipa: float64 ima oblik: (2000, 4, 4, 512) a zauzima: 131072000 bajta memorije.\n",
            "\n",
            "validation_features je tipa: float64 ima oblik: (1000, 4, 4, 512) a zauzima: 65536000 bajta memorije.\n",
            "\n",
            "test_features je tipa: float64 ima oblik: (1000, 4, 4, 512) a zauzima: 65536000 bajta memorije.\n",
            "\n"
          ],
          "name": "stdout"
        }
      ]
    },
    {
      "cell_type": "markdown",
      "metadata": {
        "id": "Om1CJtH415sr"
      },
      "source": [
        "#### 2.2.3 Posto `Dense()` nivo ocekuje 1D podatke, potrebno je nizove znacajki (ne odnosi se na oznake/labele) pretvoriti u 1D niz (reshape)."
      ]
    },
    {
      "cell_type": "code",
      "metadata": {
        "id": "vsgnI3Aa15ss"
      },
      "source": [
        "import numpy as np\n",
        "\n",
        "train_features = np.reshape(train_features, (2000, 4 * 4 * 512))\n",
        "validation_features = np.reshape(validation_features, (1000, 4 * 4 * 512))\n",
        "test_features = np.reshape(test_features, (1000, 4 * 4 * 512))"
      ],
      "execution_count": null,
      "outputs": []
    },
    {
      "cell_type": "markdown",
      "metadata": {
        "id": "NrhyM6HS15ss"
      },
      "source": [
        "#### 2.2.4 Obzirom da ekstrakcija znacajki traje znacajno dugo, te je nepotrebno pokretati ekstrakciju vise od jedan put, potrebno je ukljuciti `savetxt` iz numpy paketa i sacuvati sve znacajke i njihove labele u csv datoteke (njih 6). Napisite kod koji omogucava spasavanje sadrzaja zadnjih 6 varijabli na drive."
      ]
    },
    {
      "cell_type": "code",
      "metadata": {
        "id": "Y69lKNrg15ss"
      },
      "source": [
        "import numpy as np\n",
        "\n",
        "# change 4 user pref\n",
        "local_csv_uri = '/content/gdrive/MyDrive/Colab Notebooks/csv'\n",
        "\n",
        "def save_data_to_csv(name, dataset):\n",
        "    np.savetxt('{0}/{1}.csv'.format(local_csv_uri, name), dataset, delimiter=',')\n",
        "\n",
        "def load_data_from_csv(name):\n",
        "    return np.loadtxt('{0}/{1}.csv'.format(local_csv_uri, name), delimiter=',')\n",
        "\n",
        "\n",
        "save_data_to_csv('train_features', train_features)\n",
        "save_data_to_csv('validation_features', validation_features)\n",
        "save_data_to_csv('test_features', test_features)\n",
        "\n",
        "save_data_to_csv('train_labels', train_labels)\n",
        "save_data_to_csv('validation_labels', validation_labels)\n",
        "save_data_to_csv('test_labels', test_labels)"
      ],
      "execution_count": null,
      "outputs": []
    },
    {
      "cell_type": "markdown",
      "metadata": {
        "id": "LPcGaKiA15ss"
      },
      "source": [
        "### 2.2.1 Definisanje novog modela"
      ]
    },
    {
      "cell_type": "markdown",
      "metadata": {
        "id": "f4PGrSa715ss"
      },
      "source": [
        "#### 2.2.1.1 Po zadatom opisu i na osnovu primjera sa prethodnih vjezbi definisite novi model (u novoj datoteci)."
      ]
    },
    {
      "cell_type": "code",
      "metadata": {
        "id": "YjB4HnIN15ss"
      },
      "source": [
        "% tensorflow_version 2.x\n",
        "import tensorflow as tf\n",
        "from tensorflow import keras\n",
        "from tensorflow.keras import models\n",
        "from tensorflow.keras import layers\n",
        "import time\n",
        "\n",
        "model = models.Sequential()\n",
        "\n",
        "model.add(layers.Dense(256, activation='relu', input_dim = 4*4*512))\n",
        "model.add(layers.Dropout(0.5))\n",
        "model.add(layers.Dense(1, activation='sigmoid'))\n",
        "\n",
        "model.compile(optimizer=optimizers.RMSprop(lr=2e-5), loss='binary_crossentropy', metrics=['acc'])"
      ],
      "execution_count": null,
      "outputs": []
    },
    {
      "cell_type": "markdown",
      "metadata": {
        "id": "abq_IZzN15ss"
      },
      "source": [
        "#### 2.2.1.2 Podatke ucitati iz datoteka na drive-u uz pomoc `loadtxt`."
      ]
    },
    {
      "cell_type": "code",
      "metadata": {
        "id": "L4szO8G715st"
      },
      "source": [
        "train_features = load_data_from_csv('train_features')\n",
        "validation_features = load_data_from_csv('validation_features')\n",
        "test_features = load_data_from_csv('test_features')\n",
        "\n",
        "train_labels = load_data_from_csv('train_labels')\n",
        "validation_labels = load_data_from_csv('validation_labels')\n",
        "test_labels = load_data_from_csv('test_labels')"
      ],
      "execution_count": null,
      "outputs": []
    },
    {
      "cell_type": "markdown",
      "metadata": {
        "id": "DSaGSxEs15st"
      },
      "source": [
        "#### 2.2.1.3 Istrenirajte model sa znacajkama koje su dobijene iz prethodne sekcije. Koliko vremenski traje treniranje?"
      ]
    },
    {
      "cell_type": "code",
      "metadata": {
        "colab": {
          "base_uri": "https://localhost:8080/"
        },
        "id": "kj-_-HRN15st",
        "outputId": "3644c152-b5ee-4599-b98b-e66243d6eb56"
      },
      "source": [
        "first_timestamp = time.time()\n",
        "\n",
        "history = model.fit(train_features, train_labels, epochs=30, batch_size=20, validation_data=(validation_features, validation_labels))\n",
        "\n",
        "second_timestamp = time.time()\n",
        "\n",
        "training_time = second_timestamp - first_timestamp\n",
        "\n",
        "print(*['Treniranje traje:', training_time, 'sekundi.'])"
      ],
      "execution_count": null,
      "outputs": [
        {
          "output_type": "stream",
          "text": [
            "Epoch 1/30\n",
            "100/100 [==============================] - 1s 5ms/step - loss: 0.6940 - acc: 0.6094 - val_loss: 0.4275 - val_acc: 0.8400\n",
            "Epoch 2/30\n",
            "100/100 [==============================] - 0s 4ms/step - loss: 0.4314 - acc: 0.8115 - val_loss: 0.3512 - val_acc: 0.8740\n",
            "Epoch 3/30\n",
            "100/100 [==============================] - 0s 4ms/step - loss: 0.3715 - acc: 0.8307 - val_loss: 0.3157 - val_acc: 0.8840\n",
            "Epoch 4/30\n",
            "100/100 [==============================] - 0s 4ms/step - loss: 0.3002 - acc: 0.8840 - val_loss: 0.3322 - val_acc: 0.8510\n",
            "Epoch 5/30\n",
            "100/100 [==============================] - 0s 4ms/step - loss: 0.2744 - acc: 0.8922 - val_loss: 0.2771 - val_acc: 0.8860\n",
            "Epoch 6/30\n",
            "100/100 [==============================] - 0s 4ms/step - loss: 0.2646 - acc: 0.9013 - val_loss: 0.2689 - val_acc: 0.8950\n",
            "Epoch 7/30\n",
            "100/100 [==============================] - 0s 4ms/step - loss: 0.2556 - acc: 0.8982 - val_loss: 0.2614 - val_acc: 0.9010\n",
            "Epoch 8/30\n",
            "100/100 [==============================] - 0s 4ms/step - loss: 0.2325 - acc: 0.9089 - val_loss: 0.2566 - val_acc: 0.8900\n",
            "Epoch 9/30\n",
            "100/100 [==============================] - 0s 4ms/step - loss: 0.2015 - acc: 0.9275 - val_loss: 0.2511 - val_acc: 0.8920\n",
            "Epoch 10/30\n",
            "100/100 [==============================] - 0s 4ms/step - loss: 0.1947 - acc: 0.9289 - val_loss: 0.2476 - val_acc: 0.8990\n",
            "Epoch 11/30\n",
            "100/100 [==============================] - 0s 4ms/step - loss: 0.1814 - acc: 0.9412 - val_loss: 0.2525 - val_acc: 0.8860\n",
            "Epoch 12/30\n",
            "100/100 [==============================] - 0s 4ms/step - loss: 0.1877 - acc: 0.9348 - val_loss: 0.2424 - val_acc: 0.9010\n",
            "Epoch 13/30\n",
            "100/100 [==============================] - 0s 4ms/step - loss: 0.1819 - acc: 0.9267 - val_loss: 0.2400 - val_acc: 0.9010\n",
            "Epoch 14/30\n",
            "100/100 [==============================] - 0s 4ms/step - loss: 0.1643 - acc: 0.9441 - val_loss: 0.2388 - val_acc: 0.8990\n",
            "Epoch 15/30\n",
            "100/100 [==============================] - 0s 4ms/step - loss: 0.1493 - acc: 0.9494 - val_loss: 0.2382 - val_acc: 0.9040\n",
            "Epoch 16/30\n",
            "100/100 [==============================] - 0s 4ms/step - loss: 0.1545 - acc: 0.9516 - val_loss: 0.2372 - val_acc: 0.9000\n",
            "Epoch 17/30\n",
            "100/100 [==============================] - 0s 4ms/step - loss: 0.1348 - acc: 0.9538 - val_loss: 0.2352 - val_acc: 0.9030\n",
            "Epoch 18/30\n",
            "100/100 [==============================] - 0s 4ms/step - loss: 0.1337 - acc: 0.9519 - val_loss: 0.2348 - val_acc: 0.9000\n",
            "Epoch 19/30\n",
            "100/100 [==============================] - 0s 4ms/step - loss: 0.1299 - acc: 0.9602 - val_loss: 0.2403 - val_acc: 0.8980\n",
            "Epoch 20/30\n",
            "100/100 [==============================] - 0s 4ms/step - loss: 0.1311 - acc: 0.9550 - val_loss: 0.2429 - val_acc: 0.8980\n",
            "Epoch 21/30\n",
            "100/100 [==============================] - 0s 5ms/step - loss: 0.1295 - acc: 0.9453 - val_loss: 0.2548 - val_acc: 0.8940\n",
            "Epoch 22/30\n",
            "100/100 [==============================] - 0s 4ms/step - loss: 0.1111 - acc: 0.9609 - val_loss: 0.2394 - val_acc: 0.8990\n",
            "Epoch 23/30\n",
            "100/100 [==============================] - 0s 4ms/step - loss: 0.1070 - acc: 0.9664 - val_loss: 0.2379 - val_acc: 0.9020\n",
            "Epoch 24/30\n",
            "100/100 [==============================] - 0s 4ms/step - loss: 0.0985 - acc: 0.9683 - val_loss: 0.2409 - val_acc: 0.8970\n",
            "Epoch 25/30\n",
            "100/100 [==============================] - 0s 4ms/step - loss: 0.0973 - acc: 0.9697 - val_loss: 0.2354 - val_acc: 0.9020\n",
            "Epoch 26/30\n",
            "100/100 [==============================] - 0s 4ms/step - loss: 0.1000 - acc: 0.9720 - val_loss: 0.2471 - val_acc: 0.8920\n",
            "Epoch 27/30\n",
            "100/100 [==============================] - 0s 4ms/step - loss: 0.0988 - acc: 0.9695 - val_loss: 0.2381 - val_acc: 0.9010\n",
            "Epoch 28/30\n",
            "100/100 [==============================] - 0s 4ms/step - loss: 0.0918 - acc: 0.9720 - val_loss: 0.2449 - val_acc: 0.8950\n",
            "Epoch 29/30\n",
            "100/100 [==============================] - 0s 4ms/step - loss: 0.0898 - acc: 0.9691 - val_loss: 0.2390 - val_acc: 0.8980\n",
            "Epoch 30/30\n",
            "100/100 [==============================] - 0s 4ms/step - loss: 0.0911 - acc: 0.9682 - val_loss: 0.2404 - val_acc: 0.8980\n",
            "Treniranje traje: 12.039896249771118 sekundi.\n"
          ],
          "name": "stdout"
        }
      ]
    },
    {
      "cell_type": "markdown",
      "metadata": {
        "id": "zcm_jQuu15st"
      },
      "source": [
        "#### 2.2.1.4 Graficki prikazite tacnost i funkciju gubitka na skupovima za treniranje i validaciju. Napisite kod i prokomentarisite rezultate.\n",
        "\n",
        "- Kod je dat ispod, zajedno sa graficima.\n",
        "- Vidimo da se dostize tacnost oko 90%, te da je ovaj rezultat bolji no rezultata iz prosle vjezbe.\n",
        "- Takodjer vidimo iako je koristen `dropout` sloj, imamo overfitting koji nastane veoma brzo."
      ]
    },
    {
      "cell_type": "code",
      "metadata": {
        "colab": {
          "base_uri": "https://localhost:8080/",
          "height": 545
        },
        "id": "KhsWPisG15su",
        "outputId": "c1a13a69-0f66-4d91-b3e8-3297d5986f5a"
      },
      "source": [
        "import matplotlib.pyplot as plt\n",
        "\n",
        "acc = history.history['acc']\n",
        "val_acc = history.history['val_acc']\n",
        "loss = history.history['loss']\n",
        "val_loss = history.history['val_loss']\n",
        "\n",
        "epochs = range(len(acc))\n",
        "\n",
        "plt.plot(epochs, acc, 'bo', label='Training acc')\n",
        "plt.plot(epochs, val_acc, 'b', label='Validation acc')\n",
        "plt.title('Training and validation accuracy')\n",
        "plt.legend()\n",
        "plt.figure()\n",
        "plt.plot(epochs, loss, 'bo', label='Training loss')\n",
        "plt.plot(epochs, val_loss, 'b', label='Validation loss')\n",
        "plt.title('Training and validation loss')\n",
        "plt.legend()\n",
        "plt.show()"
      ],
      "execution_count": null,
      "outputs": [
        {
          "output_type": "display_data",
          "data": {
            "image/png": "[encoded data removed]",
            "text/plain": [
              "<Figure size 432x288 with 1 Axes>"
            ]
          },
          "metadata": {
            "tags": [],
            "needs_background": "light"
          }
        },
        {
          "output_type": "display_data",
          "data": {
            "image/png": "[encoded data removed]",
            "text/plain": [
              "<Figure size 432x288 with 1 Axes>"
            ]
          },
          "metadata": {
            "tags": [],
            "needs_background": "light"
          }
        }
      ]
    },
    {
      "cell_type": "markdown",
      "metadata": {
        "id": "LO6bCu9B15su"
      },
      "source": [
        "### 2.3 Ekstrakcija sa povecanjem podataka (Druga tehnika)"
      ]
    },
    {
      "cell_type": "code",
      "metadata": {
        "id": "NTZdmFBy15sv"
      },
      "source": [
        "% tensorflow_version 2.x\n",
        "import tensorflow as tf\n",
        "from tensorflow import keras\n",
        "from tensorflow.keras import optimizers\n",
        "from tensorflow.keras import models\n",
        "from tensorflow.keras import layers\n",
        "\n",
        "model = models.Sequential()\n",
        "model.add(conv_base)\n",
        "model.add(layers.Flatten())\n",
        "model.add(layers.Dense(256, activation='relu'))\n",
        "model.add(layers.Dense(1, activation='sigmoid'))\n",
        "\n",
        "conv_base.trainable = False\n",
        "\n",
        "model.compile(optimizer=optimizers.RMSprop(lr=2e-5), loss='binary_crossentropy', metrics=['acc'])"
      ],
      "execution_count": null,
      "outputs": []
    },
    {
      "cell_type": "markdown",
      "metadata": {
        "id": "Ie6t7lOO15sv"
      },
      "source": [
        "#### 2.3.1 Isprintati `model.summary()` i objasniti strukturu mreze, kao i broj parametara.\n",
        "\n",
        "- Vidimo da postoj istrenirani `vgg16` model i slojevi u tom modelu, postoje takodjer jedan `Flatten` sloj i dva `Dense` sloja.\n",
        "- Ukupan broj parametara modela `vgg16` je `14714688`. Takodjer oblik izlaznih podataka `vgg16` iznosi `(None, 4, 4, 512)`.\n",
        "- Oblik izlaznih podataka nakon `Flatten` sloja je `(None, 8192)` odnosno `(None, 4*4*512)`.\n",
        "- Nakon prvog `Dense` sloja oblik podataka je `(None, 256)`, a broj parametara je: `(8192 + 1) * 256 = 2097408`.\n",
        "- Nakon drugog `Dense` sloja oblik podataka je `(None, 1)`, a broj parametara je `(256 + 1) * 1 = 257`.\n",
        "- Ukupan broj parametara definisanog modela je: `16812353`."
      ]
    },
    {
      "cell_type": "code",
      "metadata": {
        "colab": {
          "base_uri": "https://localhost:8080/"
        },
        "id": "vPbGZLU415sv",
        "outputId": "60a879d3-12b4-4a0b-b0b2-f4ecbbd7526a"
      },
      "source": [
        "model.summary()"
      ],
      "execution_count": null,
      "outputs": [
        {
          "output_type": "stream",
          "text": [
            "Model: \"sequential_3\"\n",
            "_________________________________________________________________\n",
            "Layer (type)                 Output Shape              Param #   \n",
            "=================================================================\n",
            "vgg16 (Functional)           (None, 4, 4, 512)         14714688  \n",
            "_________________________________________________________________\n",
            "flatten_2 (Flatten)          (None, 8192)              0         \n",
            "_________________________________________________________________\n",
            "dense_6 (Dense)              (None, 256)               2097408   \n",
            "_________________________________________________________________\n",
            "dense_7 (Dense)              (None, 1)                 257       \n",
            "=================================================================\n",
            "Total params: 16,812,353\n",
            "Trainable params: 2,097,665\n",
            "Non-trainable params: 14,714,688\n",
            "_________________________________________________________________\n"
          ],
          "name": "stdout"
        }
      ]
    },
    {
      "cell_type": "markdown",
      "metadata": {
        "id": "iB5nRPcx15sv"
      },
      "source": [
        "### 2.4 Definisanje generatora za povecanje podataka"
      ]
    },
    {
      "cell_type": "markdown",
      "metadata": {
        "id": "r-NEFrWP15sv"
      },
      "source": [
        "#### 2.4.1 Dodajte kod za definisanje generatora na osnovu informacija datih u Lab 7, sekcija 4.2."
      ]
    },
    {
      "cell_type": "code",
      "metadata": {
        "colab": {
          "base_uri": "https://localhost:8080/"
        },
        "id": "jl1LFBjo15sv",
        "outputId": "cbf5c9e7-562a-4866-def9-2669dd9b61e2"
      },
      "source": [
        "% tensorflow_version 2.x\n",
        "import tensorflow as tf\n",
        "from tensorflow import keras\n",
        "from tensorflow.keras import optimizers\n",
        "from tensorflow.keras import models\n",
        "from tensorflow.keras import layers\n",
        "import os \n",
        "\n",
        "base_dir = '/content/gdrive/MyDrive/Colab Notebooks/downsized/'\n",
        "train_dir = os.path.join(base_dir, 'train')\n",
        "\n",
        "train_datagen = ImageDataGenerator(rescale=1./255, rotation_range=40, width_shift_range=0.2, height_shift_range=0.2, shear_range=0.2, zoom_range=0.2, horizontal_flip=True, fill_mode='nearest')\n",
        "test_datagen = ImageDataGenerator(rescale=1./255)\n",
        "\n",
        "train_generator = train_datagen.flow_from_directory(train_dir, target_size=(150, 150), batch_size=20, class_mode='binary')\n",
        "validation_generator = test_datagen.flow_from_directory(validation_dir, target_size=(150, 150), batch_size=20, class_mode='binary')\n",
        "\n",
        "# training\n",
        "\n",
        "first_timestamp = time.time()\n",
        "\n",
        "history = model.fit_generator(train_generator, steps_per_epoch=100, epochs=100, validation_data=validation_generator, validation_steps=50)\n",
        "\n",
        "second_timestamp = time.time()\n",
        "\n",
        "training_time = second_timestamp - first_timestamp\n",
        "\n",
        "print(*['Treniranje traje:', training_time, 'sekundi.'])"
      ],
      "execution_count": null,
      "outputs": [
        {
          "output_type": "stream",
          "text": [
            "Found 2000 images belonging to 2 classes.\n",
            "Found 1000 images belonging to 2 classes.\n"
          ],
          "name": "stdout"
        },
        {
          "output_type": "stream",
          "text": [
            "/usr/local/lib/python3.6/dist-packages/tensorflow/python/keras/engine/training.py:1844: UserWarning: `Model.fit_generator` is deprecated and will be removed in a future version. Please use `Model.fit`, which supports generators.\n",
            "  warnings.warn('`Model.fit_generator` is deprecated and '\n"
          ],
          "name": "stderr"
        },
        {
          "output_type": "stream",
          "text": [
            "Epoch 1/100\n",
            "100/100 [==============================] - 23s 224ms/step - loss: 0.6216 - acc: 0.6516 - val_loss: 0.4501 - val_acc: 0.8250\n",
            "Epoch 2/100\n",
            "100/100 [==============================] - 22s 216ms/step - loss: 0.5039 - acc: 0.7757 - val_loss: 0.3721 - val_acc: 0.8580\n",
            "Epoch 3/100\n",
            "100/100 [==============================] - 22s 215ms/step - loss: 0.4595 - acc: 0.7927 - val_loss: 0.3338 - val_acc: 0.8740\n",
            "Epoch 4/100\n",
            "100/100 [==============================] - 21s 215ms/step - loss: 0.4408 - acc: 0.7864 - val_loss: 0.3106 - val_acc: 0.8770\n",
            "Epoch 5/100\n",
            "100/100 [==============================] - 22s 220ms/step - loss: 0.3895 - acc: 0.8312 - val_loss: 0.2952 - val_acc: 0.8820\n",
            "Epoch 6/100\n",
            "100/100 [==============================] - 21s 213ms/step - loss: 0.3774 - acc: 0.8153 - val_loss: 0.3047 - val_acc: 0.8740\n",
            "Epoch 7/100\n",
            "100/100 [==============================] - 21s 213ms/step - loss: 0.3598 - acc: 0.8518 - val_loss: 0.2761 - val_acc: 0.8880\n",
            "Epoch 8/100\n",
            "100/100 [==============================] - 21s 215ms/step - loss: 0.3603 - acc: 0.8425 - val_loss: 0.2709 - val_acc: 0.8890\n",
            "Epoch 9/100\n",
            "100/100 [==============================] - 21s 212ms/step - loss: 0.3403 - acc: 0.8502 - val_loss: 0.2657 - val_acc: 0.8980\n",
            "Epoch 10/100\n",
            "100/100 [==============================] - 21s 214ms/step - loss: 0.3624 - acc: 0.8368 - val_loss: 0.2655 - val_acc: 0.8900\n",
            "Epoch 11/100\n",
            "100/100 [==============================] - 21s 213ms/step - loss: 0.3324 - acc: 0.8546 - val_loss: 0.2640 - val_acc: 0.8890\n",
            "Epoch 12/100\n",
            "100/100 [==============================] - 21s 212ms/step - loss: 0.3442 - acc: 0.8417 - val_loss: 0.2561 - val_acc: 0.8960\n",
            "Epoch 13/100\n",
            "100/100 [==============================] - 21s 212ms/step - loss: 0.3236 - acc: 0.8584 - val_loss: 0.2532 - val_acc: 0.9010\n",
            "Epoch 14/100\n",
            "100/100 [==============================] - 21s 212ms/step - loss: 0.2998 - acc: 0.8734 - val_loss: 0.2514 - val_acc: 0.9010\n",
            "Epoch 15/100\n",
            "100/100 [==============================] - 21s 210ms/step - loss: 0.3311 - acc: 0.8617 - val_loss: 0.2502 - val_acc: 0.8990\n",
            "Epoch 16/100\n",
            "100/100 [==============================] - 21s 211ms/step - loss: 0.3341 - acc: 0.8408 - val_loss: 0.2463 - val_acc: 0.9000\n",
            "Epoch 17/100\n",
            "100/100 [==============================] - 21s 212ms/step - loss: 0.3139 - acc: 0.8562 - val_loss: 0.2476 - val_acc: 0.8980\n",
            "Epoch 18/100\n",
            "100/100 [==============================] - 21s 211ms/step - loss: 0.3061 - acc: 0.8710 - val_loss: 0.2449 - val_acc: 0.9010\n",
            "Epoch 19/100\n",
            "100/100 [==============================] - 22s 216ms/step - loss: 0.3049 - acc: 0.8691 - val_loss: 0.2596 - val_acc: 0.8840\n",
            "Epoch 20/100\n",
            "100/100 [==============================] - 21s 214ms/step - loss: 0.3179 - acc: 0.8548 - val_loss: 0.2517 - val_acc: 0.9020\n",
            "Epoch 21/100\n",
            "100/100 [==============================] - 21s 212ms/step - loss: 0.2899 - acc: 0.8749 - val_loss: 0.2522 - val_acc: 0.8950\n",
            "Epoch 22/100\n",
            "100/100 [==============================] - 21s 213ms/step - loss: 0.3066 - acc: 0.8750 - val_loss: 0.2445 - val_acc: 0.8990\n",
            "Epoch 23/100\n",
            "100/100 [==============================] - 21s 213ms/step - loss: 0.3071 - acc: 0.8758 - val_loss: 0.2476 - val_acc: 0.8990\n",
            "Epoch 24/100\n",
            "100/100 [==============================] - 21s 211ms/step - loss: 0.3017 - acc: 0.8841 - val_loss: 0.2456 - val_acc: 0.8980\n",
            "Epoch 25/100\n",
            "100/100 [==============================] - 21s 212ms/step - loss: 0.2671 - acc: 0.8919 - val_loss: 0.2406 - val_acc: 0.9000\n",
            "Epoch 26/100\n",
            "100/100 [==============================] - 21s 211ms/step - loss: 0.2712 - acc: 0.8810 - val_loss: 0.2381 - val_acc: 0.9010\n",
            "Epoch 27/100\n",
            "100/100 [==============================] - 21s 211ms/step - loss: 0.3052 - acc: 0.8674 - val_loss: 0.2396 - val_acc: 0.8990\n",
            "Epoch 28/100\n",
            "100/100 [==============================] - 21s 211ms/step - loss: 0.2791 - acc: 0.8837 - val_loss: 0.2426 - val_acc: 0.9000\n",
            "Epoch 29/100\n",
            "100/100 [==============================] - 21s 210ms/step - loss: 0.2874 - acc: 0.8654 - val_loss: 0.2429 - val_acc: 0.9000\n",
            "Epoch 30/100\n",
            "100/100 [==============================] - 21s 210ms/step - loss: 0.3086 - acc: 0.8724 - val_loss: 0.2396 - val_acc: 0.8980\n",
            "Epoch 31/100\n",
            "100/100 [==============================] - 21s 213ms/step - loss: 0.3011 - acc: 0.8731 - val_loss: 0.2471 - val_acc: 0.8990\n",
            "Epoch 32/100\n",
            "100/100 [==============================] - 21s 210ms/step - loss: 0.2704 - acc: 0.8941 - val_loss: 0.2397 - val_acc: 0.9050\n",
            "Epoch 33/100\n",
            "100/100 [==============================] - 21s 210ms/step - loss: 0.2668 - acc: 0.8957 - val_loss: 0.2400 - val_acc: 0.9070\n",
            "Epoch 34/100\n",
            "100/100 [==============================] - 21s 215ms/step - loss: 0.2757 - acc: 0.8885 - val_loss: 0.2396 - val_acc: 0.9020\n",
            "Epoch 35/100\n",
            "100/100 [==============================] - 21s 212ms/step - loss: 0.2763 - acc: 0.8760 - val_loss: 0.2396 - val_acc: 0.9040\n",
            "Epoch 36/100\n",
            "100/100 [==============================] - 21s 212ms/step - loss: 0.2489 - acc: 0.8924 - val_loss: 0.2394 - val_acc: 0.9020\n",
            "Epoch 37/100\n",
            "100/100 [==============================] - 21s 212ms/step - loss: 0.2716 - acc: 0.8802 - val_loss: 0.2420 - val_acc: 0.9040\n",
            "Epoch 38/100\n",
            "100/100 [==============================] - 21s 211ms/step - loss: 0.2720 - acc: 0.8821 - val_loss: 0.2458 - val_acc: 0.8960\n",
            "Epoch 39/100\n",
            "100/100 [==============================] - 21s 212ms/step - loss: 0.2839 - acc: 0.8673 - val_loss: 0.2437 - val_acc: 0.9040\n",
            "Epoch 40/100\n",
            "100/100 [==============================] - 21s 210ms/step - loss: 0.2442 - acc: 0.9003 - val_loss: 0.2392 - val_acc: 0.9030\n",
            "Epoch 41/100\n",
            "100/100 [==============================] - 21s 210ms/step - loss: 0.2760 - acc: 0.8856 - val_loss: 0.2407 - val_acc: 0.9050\n",
            "Epoch 42/100\n",
            "100/100 [==============================] - 21s 212ms/step - loss: 0.2659 - acc: 0.8779 - val_loss: 0.2394 - val_acc: 0.9020\n",
            "Epoch 43/100\n",
            "100/100 [==============================] - 21s 211ms/step - loss: 0.2693 - acc: 0.8847 - val_loss: 0.2436 - val_acc: 0.8970\n",
            "Epoch 44/100\n",
            "100/100 [==============================] - 22s 217ms/step - loss: 0.2812 - acc: 0.8777 - val_loss: 0.2475 - val_acc: 0.8990\n",
            "Epoch 45/100\n",
            "100/100 [==============================] - 21s 214ms/step - loss: 0.2694 - acc: 0.8837 - val_loss: 0.2415 - val_acc: 0.9010\n",
            "Epoch 46/100\n",
            "100/100 [==============================] - 21s 212ms/step - loss: 0.2601 - acc: 0.8903 - val_loss: 0.2389 - val_acc: 0.9030\n",
            "Epoch 47/100\n",
            "100/100 [==============================] - 21s 210ms/step - loss: 0.2683 - acc: 0.8793 - val_loss: 0.2376 - val_acc: 0.8980\n",
            "Epoch 48/100\n",
            "100/100 [==============================] - 21s 210ms/step - loss: 0.2838 - acc: 0.8820 - val_loss: 0.2466 - val_acc: 0.8970\n",
            "Epoch 49/100\n",
            "100/100 [==============================] - 21s 212ms/step - loss: 0.2378 - acc: 0.8980 - val_loss: 0.2394 - val_acc: 0.9060\n",
            "Epoch 50/100\n",
            "100/100 [==============================] - 21s 211ms/step - loss: 0.2792 - acc: 0.8799 - val_loss: 0.2430 - val_acc: 0.9040\n",
            "Epoch 51/100\n",
            "100/100 [==============================] - 21s 210ms/step - loss: 0.2606 - acc: 0.8886 - val_loss: 0.2440 - val_acc: 0.9010\n",
            "Epoch 52/100\n",
            "100/100 [==============================] - 21s 208ms/step - loss: 0.2510 - acc: 0.8881 - val_loss: 0.2447 - val_acc: 0.8990\n",
            "Epoch 53/100\n",
            "100/100 [==============================] - 21s 209ms/step - loss: 0.2763 - acc: 0.8839 - val_loss: 0.2389 - val_acc: 0.9040\n",
            "Epoch 54/100\n",
            "100/100 [==============================] - 21s 211ms/step - loss: 0.2497 - acc: 0.8870 - val_loss: 0.2391 - val_acc: 0.9040\n",
            "Epoch 55/100\n",
            "100/100 [==============================] - 21s 209ms/step - loss: 0.2705 - acc: 0.8715 - val_loss: 0.2403 - val_acc: 0.9030\n",
            "Epoch 56/100\n",
            "100/100 [==============================] - 21s 209ms/step - loss: 0.2531 - acc: 0.8976 - val_loss: 0.2383 - val_acc: 0.9080\n",
            "Epoch 57/100\n",
            "100/100 [==============================] - 21s 209ms/step - loss: 0.2831 - acc: 0.8713 - val_loss: 0.2412 - val_acc: 0.9060\n",
            "Epoch 58/100\n",
            "100/100 [==============================] - 21s 210ms/step - loss: 0.2421 - acc: 0.9015 - val_loss: 0.2451 - val_acc: 0.9000\n",
            "Epoch 59/100\n",
            "100/100 [==============================] - 21s 208ms/step - loss: 0.2655 - acc: 0.8868 - val_loss: 0.2400 - val_acc: 0.9050\n",
            "Epoch 60/100\n",
            "100/100 [==============================] - 21s 207ms/step - loss: 0.2710 - acc: 0.8908 - val_loss: 0.2390 - val_acc: 0.9010\n",
            "Epoch 61/100\n",
            "100/100 [==============================] - 21s 209ms/step - loss: 0.2414 - acc: 0.9030 - val_loss: 0.2480 - val_acc: 0.9000\n",
            "Epoch 62/100\n",
            "100/100 [==============================] - 21s 210ms/step - loss: 0.2300 - acc: 0.9090 - val_loss: 0.2409 - val_acc: 0.9060\n",
            "Epoch 63/100\n",
            "100/100 [==============================] - 21s 210ms/step - loss: 0.2650 - acc: 0.8767 - val_loss: 0.2407 - val_acc: 0.9010\n",
            "Epoch 64/100\n",
            "100/100 [==============================] - 21s 210ms/step - loss: 0.2603 - acc: 0.8892 - val_loss: 0.2407 - val_acc: 0.9040\n",
            "Epoch 65/100\n",
            "100/100 [==============================] - 21s 210ms/step - loss: 0.2341 - acc: 0.9020 - val_loss: 0.2385 - val_acc: 0.9020\n",
            "Epoch 66/100\n",
            "100/100 [==============================] - 21s 209ms/step - loss: 0.2502 - acc: 0.8917 - val_loss: 0.2403 - val_acc: 0.9030\n",
            "Epoch 67/100\n",
            "100/100 [==============================] - 21s 208ms/step - loss: 0.2659 - acc: 0.8813 - val_loss: 0.2404 - val_acc: 0.9030\n",
            "Epoch 68/100\n",
            "100/100 [==============================] - 21s 211ms/step - loss: 0.2586 - acc: 0.8797 - val_loss: 0.2391 - val_acc: 0.8950\n",
            "Epoch 69/100\n",
            "100/100 [==============================] - 21s 209ms/step - loss: 0.2513 - acc: 0.8908 - val_loss: 0.2403 - val_acc: 0.9020\n",
            "Epoch 70/100\n",
            "100/100 [==============================] - 21s 209ms/step - loss: 0.2652 - acc: 0.8861 - val_loss: 0.2391 - val_acc: 0.8960\n",
            "Epoch 71/100\n",
            "100/100 [==============================] - 21s 209ms/step - loss: 0.2518 - acc: 0.8819 - val_loss: 0.2558 - val_acc: 0.8990\n",
            "Epoch 72/100\n",
            "100/100 [==============================] - 21s 210ms/step - loss: 0.2408 - acc: 0.8938 - val_loss: 0.2427 - val_acc: 0.9030\n",
            "Epoch 73/100\n",
            "100/100 [==============================] - 21s 211ms/step - loss: 0.2423 - acc: 0.8978 - val_loss: 0.2472 - val_acc: 0.9000\n",
            "Epoch 74/100\n",
            "100/100 [==============================] - 21s 211ms/step - loss: 0.2884 - acc: 0.8747 - val_loss: 0.2697 - val_acc: 0.8920\n",
            "Epoch 75/100\n",
            "100/100 [==============================] - 21s 212ms/step - loss: 0.2419 - acc: 0.8956 - val_loss: 0.2462 - val_acc: 0.9040\n",
            "Epoch 76/100\n",
            "100/100 [==============================] - 21s 210ms/step - loss: 0.2588 - acc: 0.8903 - val_loss: 0.2445 - val_acc: 0.9030\n",
            "Epoch 77/100\n",
            "100/100 [==============================] - 21s 211ms/step - loss: 0.2342 - acc: 0.9121 - val_loss: 0.2558 - val_acc: 0.8930\n",
            "Epoch 78/100\n",
            "100/100 [==============================] - 21s 213ms/step - loss: 0.2460 - acc: 0.8974 - val_loss: 0.2413 - val_acc: 0.9010\n",
            "Epoch 79/100\n",
            "100/100 [==============================] - 21s 212ms/step - loss: 0.2335 - acc: 0.9037 - val_loss: 0.2452 - val_acc: 0.9020\n",
            "Epoch 80/100\n",
            "100/100 [==============================] - 21s 211ms/step - loss: 0.2442 - acc: 0.8908 - val_loss: 0.2397 - val_acc: 0.9010\n",
            "Epoch 81/100\n",
            "100/100 [==============================] - 21s 211ms/step - loss: 0.2583 - acc: 0.8845 - val_loss: 0.2413 - val_acc: 0.8980\n",
            "Epoch 82/100\n",
            "100/100 [==============================] - 21s 211ms/step - loss: 0.2370 - acc: 0.8995 - val_loss: 0.2394 - val_acc: 0.9040\n",
            "Epoch 83/100\n",
            "100/100 [==============================] - 21s 213ms/step - loss: 0.2530 - acc: 0.9022 - val_loss: 0.2539 - val_acc: 0.9000\n",
            "Epoch 84/100\n",
            "100/100 [==============================] - 21s 212ms/step - loss: 0.2370 - acc: 0.8870 - val_loss: 0.2571 - val_acc: 0.8930\n",
            "Epoch 85/100\n",
            "100/100 [==============================] - 21s 212ms/step - loss: 0.2331 - acc: 0.8995 - val_loss: 0.2449 - val_acc: 0.9070\n",
            "Epoch 86/100\n",
            "100/100 [==============================] - 21s 211ms/step - loss: 0.2536 - acc: 0.8866 - val_loss: 0.2505 - val_acc: 0.8970\n",
            "Epoch 87/100\n",
            "100/100 [==============================] - 21s 213ms/step - loss: 0.2809 - acc: 0.8911 - val_loss: 0.2391 - val_acc: 0.9070\n",
            "Epoch 88/100\n",
            "100/100 [==============================] - 21s 211ms/step - loss: 0.2427 - acc: 0.8969 - val_loss: 0.2390 - val_acc: 0.9060\n",
            "Epoch 89/100\n",
            "100/100 [==============================] - 21s 211ms/step - loss: 0.2026 - acc: 0.9221 - val_loss: 0.2456 - val_acc: 0.9020\n",
            "Epoch 90/100\n",
            "100/100 [==============================] - 21s 209ms/step - loss: 0.2407 - acc: 0.8928 - val_loss: 0.2404 - val_acc: 0.8980\n",
            "Epoch 91/100\n",
            "100/100 [==============================] - 21s 210ms/step - loss: 0.2445 - acc: 0.8962 - val_loss: 0.2438 - val_acc: 0.9040\n",
            "Epoch 92/100\n",
            "100/100 [==============================] - 21s 211ms/step - loss: 0.2477 - acc: 0.8819 - val_loss: 0.2501 - val_acc: 0.8980\n",
            "Epoch 93/100\n",
            "100/100 [==============================] - 21s 214ms/step - loss: 0.2308 - acc: 0.8968 - val_loss: 0.2433 - val_acc: 0.9060\n",
            "Epoch 94/100\n",
            "100/100 [==============================] - 21s 209ms/step - loss: 0.2675 - acc: 0.8725 - val_loss: 0.2459 - val_acc: 0.9030\n",
            "Epoch 95/100\n",
            "100/100 [==============================] - 21s 210ms/step - loss: 0.2546 - acc: 0.9012 - val_loss: 0.2410 - val_acc: 0.9030\n",
            "Epoch 96/100\n",
            "100/100 [==============================] - 21s 212ms/step - loss: 0.2125 - acc: 0.9135 - val_loss: 0.2439 - val_acc: 0.9050\n",
            "Epoch 97/100\n",
            "100/100 [==============================] - 21s 211ms/step - loss: 0.2499 - acc: 0.8944 - val_loss: 0.2462 - val_acc: 0.9040\n",
            "Epoch 98/100\n",
            "100/100 [==============================] - 21s 210ms/step - loss: 0.2354 - acc: 0.8936 - val_loss: 0.2498 - val_acc: 0.8950\n",
            "Epoch 99/100\n",
            "100/100 [==============================] - 21s 210ms/step - loss: 0.2456 - acc: 0.8999 - val_loss: 0.2602 - val_acc: 0.8930\n",
            "Epoch 100/100\n",
            "100/100 [==============================] - 21s 210ms/step - loss: 0.2231 - acc: 0.9047 - val_loss: 0.2537 - val_acc: 0.8960\n",
            "Treniranje traje: 2114.8367943763733 sekundi.\n"
          ],
          "name": "stdout"
        }
      ]
    },
    {
      "cell_type": "markdown",
      "metadata": {
        "id": "RKTc0rN615sw"
      },
      "source": [
        "#### 2.4.2 Dodajte kod za prikazivanje tacnosti i funkcije gubitka."
      ]
    },
    {
      "cell_type": "code",
      "metadata": {
        "colab": {
          "base_uri": "https://localhost:8080/",
          "height": 545
        },
        "id": "H1TE1Cbz15sw",
        "outputId": "ca8e54ee-447d-4b23-8179-d4fea00fe5bf"
      },
      "source": [
        "import matplotlib.pyplot as plt\n",
        "\n",
        "acc = history.history['acc']\n",
        "val_acc = history.history['val_acc']\n",
        "loss = history.history['loss']\n",
        "val_loss = history.history['val_loss']\n",
        "\n",
        "epochs = range(len(acc))\n",
        "\n",
        "plt.plot(epochs, acc, 'bo', label='Training acc')\n",
        "plt.plot(epochs, val_acc, 'b', label='Validation acc')\n",
        "plt.title('Training and validation accuracy')\n",
        "plt.legend()\n",
        "plt.figure()\n",
        "plt.plot(epochs, loss, 'bo', label='Training loss')\n",
        "plt.plot(epochs, val_loss, 'b', label='Validation loss')\n",
        "plt.title('Training and validation loss')\n",
        "plt.legend()\n",
        "plt.show()"
      ],
      "execution_count": null,
      "outputs": [
        {
          "output_type": "display_data",
          "data": {
            "image/png": "[encoded data removed]",
            "text/plain": [
              "<Figure size 432x288 with 1 Axes>"
            ]
          },
          "metadata": {
            "tags": [],
            "needs_background": "light"
          }
        },
        {
          "output_type": "display_data",
          "data": {
            "image/png": "[encoded data removed]",
            "text/plain": [
              "<Figure size 432x288 with 1 Axes>"
            ]
          },
          "metadata": {
            "tags": [],
            "needs_background": "light"
          }
        }
      ]
    },
    {
      "cell_type": "markdown",
      "metadata": {
        "id": "uNNJi3AX15sw"
      },
      "source": [
        "#### 2.4.3 Pokrenite treniranje mreze sa istim parametrima kao sto je dato u sekciji 2.2.1. Objasnite rezultate.\n",
        "\n",
        "- Batch size je isti tj `20`, optimizator ima vrijednost `lr=2e-5`, a broj epoha je stavljen na `30`.\n",
        "- Kod je dat ispod, prikazani su grafici ispod.\n",
        "- Vidimo da je postignuta tacnost oko `96.7%`, sto je dosta bolje nego u prosloj vjezbi. Takodjer na grafovima se moze primijetiti da nema overfitting-a s obzirom da validacijske krive i grafik treniranja se poklapaju."
      ]
    },
    {
      "cell_type": "code",
      "metadata": {
        "colab": {
          "base_uri": "https://localhost:8080/"
        },
        "id": "lBrvPfr815sw",
        "outputId": "f77d02ce-8a43-4518-e4be-32d3313e581f"
      },
      "source": [
        "first_timestamp = time.time()\n",
        "\n",
        "history = model.fit_generator(train_generator, steps_per_epoch=100, epochs=30, validation_data=validation_generator, validation_steps=50)\n",
        "\n",
        "second_timestamp = time.time()\n",
        "\n",
        "training_time = second_timestamp - first_timestamp\n",
        "\n",
        "print(*['Treniranje traje:', training_time, 'sekundi.'])"
      ],
      "execution_count": null,
      "outputs": [
        {
          "output_type": "stream",
          "text": [
            "/usr/local/lib/python3.6/dist-packages/tensorflow/python/keras/engine/training.py:1844: UserWarning: `Model.fit_generator` is deprecated and will be removed in a future version. Please use `Model.fit`, which supports generators.\n",
            "  warnings.warn('`Model.fit_generator` is deprecated and '\n"
          ],
          "name": "stderr"
        },
        {
          "output_type": "stream",
          "text": [
            "Epoch 1/30\n",
            "100/100 [==============================] - 21s 211ms/step - loss: 0.2220 - acc: 0.9140 - val_loss: 0.2474 - val_acc: 0.9050\n",
            "Epoch 2/30\n",
            "100/100 [==============================] - 21s 208ms/step - loss: 0.2304 - acc: 0.9070 - val_loss: 0.2484 - val_acc: 0.9000\n",
            "Epoch 3/30\n",
            "100/100 [==============================] - 21s 210ms/step - loss: 0.2403 - acc: 0.8975 - val_loss: 0.2440 - val_acc: 0.9050\n",
            "Epoch 4/30\n",
            "100/100 [==============================] - 21s 210ms/step - loss: 0.2216 - acc: 0.9075 - val_loss: 0.2475 - val_acc: 0.9070\n",
            "Epoch 5/30\n",
            "100/100 [==============================] - 21s 211ms/step - loss: 0.2393 - acc: 0.8985 - val_loss: 0.2473 - val_acc: 0.9030\n",
            "Epoch 6/30\n",
            "100/100 [==============================] - 21s 210ms/step - loss: 0.2276 - acc: 0.8990 - val_loss: 0.2453 - val_acc: 0.9040\n",
            "Epoch 7/30\n",
            "100/100 [==============================] - 21s 215ms/step - loss: 0.2408 - acc: 0.8945 - val_loss: 0.2433 - val_acc: 0.8980\n",
            "Epoch 8/30\n",
            "100/100 [==============================] - 21s 210ms/step - loss: 0.2305 - acc: 0.9040 - val_loss: 0.2445 - val_acc: 0.9050\n",
            "Epoch 9/30\n",
            "100/100 [==============================] - 21s 210ms/step - loss: 0.2217 - acc: 0.9045 - val_loss: 0.2536 - val_acc: 0.9040\n",
            "Epoch 10/30\n",
            "100/100 [==============================] - 21s 210ms/step - loss: 0.2346 - acc: 0.8970 - val_loss: 0.2471 - val_acc: 0.9030\n",
            "Epoch 11/30\n",
            "100/100 [==============================] - 21s 212ms/step - loss: 0.2300 - acc: 0.9055 - val_loss: 0.2449 - val_acc: 0.9000\n",
            "Epoch 12/30\n",
            "100/100 [==============================] - 21s 209ms/step - loss: 0.2143 - acc: 0.9180 - val_loss: 0.2458 - val_acc: 0.9040\n",
            "Epoch 13/30\n",
            "100/100 [==============================] - 21s 211ms/step - loss: 0.2246 - acc: 0.9095 - val_loss: 0.2456 - val_acc: 0.9080\n",
            "Epoch 14/30\n",
            "100/100 [==============================] - 21s 209ms/step - loss: 0.2262 - acc: 0.9005 - val_loss: 0.2466 - val_acc: 0.9060\n",
            "Epoch 15/30\n",
            "100/100 [==============================] - 21s 209ms/step - loss: 0.2272 - acc: 0.9055 - val_loss: 0.2443 - val_acc: 0.9030\n",
            "Epoch 16/30\n",
            "100/100 [==============================] - 21s 209ms/step - loss: 0.2185 - acc: 0.8995 - val_loss: 0.2592 - val_acc: 0.8960\n",
            "Epoch 17/30\n",
            "100/100 [==============================] - 21s 208ms/step - loss: 0.2195 - acc: 0.9120 - val_loss: 0.2494 - val_acc: 0.8980\n",
            "Epoch 18/30\n",
            "100/100 [==============================] - 21s 209ms/step - loss: 0.2327 - acc: 0.8960 - val_loss: 0.2453 - val_acc: 0.9040\n",
            "Epoch 19/30\n",
            "100/100 [==============================] - 21s 209ms/step - loss: 0.2111 - acc: 0.9190 - val_loss: 0.2496 - val_acc: 0.9020\n",
            "Epoch 20/30\n",
            "100/100 [==============================] - 21s 208ms/step - loss: 0.2242 - acc: 0.9020 - val_loss: 0.2466 - val_acc: 0.9050\n",
            "Epoch 21/30\n",
            "100/100 [==============================] - 21s 209ms/step - loss: 0.2269 - acc: 0.9110 - val_loss: 0.2469 - val_acc: 0.9030\n",
            "Epoch 22/30\n",
            "100/100 [==============================] - 21s 214ms/step - loss: 0.2309 - acc: 0.8950 - val_loss: 0.2449 - val_acc: 0.9010\n",
            "Epoch 23/30\n",
            "100/100 [==============================] - 21s 208ms/step - loss: 0.2090 - acc: 0.9085 - val_loss: 0.2476 - val_acc: 0.9030\n",
            "Epoch 24/30\n",
            "100/100 [==============================] - 21s 209ms/step - loss: 0.2230 - acc: 0.9055 - val_loss: 0.2480 - val_acc: 0.9040\n",
            "Epoch 25/30\n",
            "100/100 [==============================] - 21s 209ms/step - loss: 0.2154 - acc: 0.9160 - val_loss: 0.2531 - val_acc: 0.9050\n",
            "Epoch 26/30\n",
            "100/100 [==============================] - 21s 212ms/step - loss: 0.2335 - acc: 0.9020 - val_loss: 0.2496 - val_acc: 0.9020\n",
            "Epoch 27/30\n",
            "100/100 [==============================] - 21s 209ms/step - loss: 0.2212 - acc: 0.8970 - val_loss: 0.2609 - val_acc: 0.8940\n",
            "Epoch 28/30\n",
            "100/100 [==============================] - 21s 208ms/step - loss: 0.2119 - acc: 0.9135 - val_loss: 0.2491 - val_acc: 0.9010\n",
            "Epoch 29/30\n",
            "100/100 [==============================] - 21s 211ms/step - loss: 0.2137 - acc: 0.9110 - val_loss: 0.2501 - val_acc: 0.9010\n",
            "Epoch 30/30\n",
            "100/100 [==============================] - 21s 210ms/step - loss: 0.2225 - acc: 0.9040 - val_loss: 0.2651 - val_acc: 0.8950\n",
            "Treniranje traje: 629.9083185195923 sekundi.\n"
          ],
          "name": "stdout"
        }
      ]
    },
    {
      "cell_type": "code",
      "metadata": {
        "colab": {
          "base_uri": "https://localhost:8080/",
          "height": 545
        },
        "id": "mPhJh-7s15sw",
        "outputId": "d2eb3aea-1d0d-43ad-cd1b-3455b3ede258"
      },
      "source": [
        "import matplotlib.pyplot as plt\n",
        "\n",
        "acc = history.history['acc']\n",
        "val_acc = history.history['val_acc']\n",
        "loss = history.history['loss']\n",
        "val_loss = history.history['val_loss']\n",
        "\n",
        "epochs = range(len(acc))\n",
        "\n",
        "plt.plot(epochs, acc, 'bo', label='Training acc')\n",
        "plt.plot(epochs, val_acc, 'b', label='Validation acc')\n",
        "plt.title('Training and validation accuracy')\n",
        "plt.legend()\n",
        "plt.figure()\n",
        "plt.plot(epochs, loss, 'bo', label='Training loss')\n",
        "plt.plot(epochs, val_loss, 'b', label='Validation loss')\n",
        "plt.title('Training and validation loss')\n",
        "plt.legend()\n",
        "plt.show()"
      ],
      "execution_count": null,
      "outputs": [
        {
          "output_type": "display_data",
          "data": {
            "image/png": "[encoded data removed]",
            "text/plain": [
              "<Figure size 432x288 with 1 Axes>"
            ]
          },
          "metadata": {
            "tags": [],
            "needs_background": "light"
          }
        },
        {
          "output_type": "display_data",
          "data": {
            "image/png": "[encoded data removed]",
            "text/plain": [
              "<Figure size 432x288 with 1 Axes>"
            ]
          },
          "metadata": {
            "tags": [],
            "needs_background": "light"
          }
        }
      ]
    },
    {
      "cell_type": "markdown",
      "metadata": {
        "id": "TNhqVVsc15sx"
      },
      "source": [
        "## 3. Fino podesavanje ili Fine-tuning"
      ]
    },
    {
      "cell_type": "markdown",
      "metadata": {
        "id": "wkeWDT4Z15sx"
      },
      "source": [
        "#### 3.1 Na osnovu svih uputa definisite model u novoj datoteci."
      ]
    },
    {
      "cell_type": "code",
      "metadata": {
        "colab": {
          "base_uri": "https://localhost:8080/"
        },
        "id": "okpnkuyWP5Vx",
        "outputId": "6bf21cd7-eac0-48d5-c806-54f59b457726"
      },
      "source": [
        "% tensorflow_version 2.x\n",
        "import tensorflow as tf\n",
        "from tensorflow import keras\n",
        "from tensorflow.keras import optimizers\n",
        "from tensorflow.keras import models\n",
        "from tensorflow.keras import layers\n",
        "import os \n",
        "\n",
        "conv_base.trainable = True\n",
        "\n",
        "set_trainable = False\n",
        "for layer in conv_base.layers:\n",
        "  if layer.name == 'block5_conv1':\n",
        "    set_trainable = True\n",
        "  if set_trainable:\n",
        "    layer.trainable = True\n",
        "  else:\n",
        "    layer.trainable = False\n",
        "\n",
        "model = models.Sequential()\n",
        "model.add(conv_base)\n",
        "model.add(layers.Flatten())\n",
        "model.add(layers.Dense(256, activation='relu'))\n",
        "model.add(layers.Dense(1, activation='sigmoid'))\n",
        "\n",
        "model.compile(optimizer=optimizers.RMSprop(lr=2e-5), loss='binary_crossentropy', metrics=['acc'])\n",
        "\n",
        "# training\n",
        "\n",
        "first_timestamp = time.time()\n",
        "\n",
        "history = model.fit_generator(train_generator, steps_per_epoch=100, epochs=100, validation_data=validation_generator, validation_steps=50)\n",
        "\n",
        "second_timestamp = time.time()\n",
        "\n",
        "training_time = second_timestamp - first_timestamp\n",
        "\n",
        "print(*['Treniranje traje:', training_time, 'sekundi.'])"
      ],
      "execution_count": 40,
      "outputs": [
        {
          "output_type": "stream",
          "text": [
            "/usr/local/lib/python3.6/dist-packages/tensorflow/python/keras/engine/training.py:1844: UserWarning: `Model.fit_generator` is deprecated and will be removed in a future version. Please use `Model.fit`, which supports generators.\n",
            "  warnings.warn('`Model.fit_generator` is deprecated and '\n"
          ],
          "name": "stderr"
        },
        {
          "output_type": "stream",
          "text": [
            "Epoch 1/100\n",
            "100/100 [==============================] - 23s 221ms/step - loss: 0.5685 - acc: 0.6865 - val_loss: 0.2697 - val_acc: 0.8910\n",
            "Epoch 2/100\n",
            "100/100 [==============================] - 22s 218ms/step - loss: 0.3541 - acc: 0.8438 - val_loss: 0.2265 - val_acc: 0.9000\n",
            "Epoch 3/100\n",
            "100/100 [==============================] - 22s 220ms/step - loss: 0.3078 - acc: 0.8622 - val_loss: 0.2199 - val_acc: 0.9130\n",
            "Epoch 4/100\n",
            "100/100 [==============================] - 22s 223ms/step - loss: 0.2583 - acc: 0.8952 - val_loss: 0.1886 - val_acc: 0.9140\n",
            "Epoch 5/100\n",
            "100/100 [==============================] - 22s 222ms/step - loss: 0.2559 - acc: 0.8943 - val_loss: 0.1859 - val_acc: 0.9250\n",
            "Epoch 6/100\n",
            "100/100 [==============================] - 22s 221ms/step - loss: 0.2245 - acc: 0.9045 - val_loss: 0.2044 - val_acc: 0.9170\n",
            "Epoch 7/100\n",
            "100/100 [==============================] - 22s 223ms/step - loss: 0.2473 - acc: 0.8944 - val_loss: 0.1721 - val_acc: 0.9260\n",
            "Epoch 8/100\n",
            "100/100 [==============================] - 22s 221ms/step - loss: 0.1661 - acc: 0.9376 - val_loss: 0.1736 - val_acc: 0.9290\n",
            "Epoch 9/100\n",
            "100/100 [==============================] - 22s 224ms/step - loss: 0.1823 - acc: 0.9271 - val_loss: 0.1742 - val_acc: 0.9300\n",
            "Epoch 10/100\n",
            "100/100 [==============================] - 22s 220ms/step - loss: 0.1670 - acc: 0.9363 - val_loss: 0.2151 - val_acc: 0.9220\n",
            "Epoch 11/100\n",
            "100/100 [==============================] - 22s 221ms/step - loss: 0.1671 - acc: 0.9284 - val_loss: 0.1615 - val_acc: 0.9350\n",
            "Epoch 12/100\n",
            "100/100 [==============================] - 22s 219ms/step - loss: 0.1811 - acc: 0.9316 - val_loss: 0.1633 - val_acc: 0.9280\n",
            "Epoch 13/100\n",
            "100/100 [==============================] - 22s 222ms/step - loss: 0.1307 - acc: 0.9414 - val_loss: 0.2631 - val_acc: 0.9130\n",
            "Epoch 14/100\n",
            "100/100 [==============================] - 22s 220ms/step - loss: 0.1300 - acc: 0.9494 - val_loss: 0.1659 - val_acc: 0.9380\n",
            "Epoch 15/100\n",
            "100/100 [==============================] - 22s 220ms/step - loss: 0.1214 - acc: 0.9541 - val_loss: 0.1627 - val_acc: 0.9370\n",
            "Epoch 16/100\n",
            "100/100 [==============================] - 22s 219ms/step - loss: 0.1254 - acc: 0.9497 - val_loss: 0.2087 - val_acc: 0.9250\n",
            "Epoch 17/100\n",
            "100/100 [==============================] - 22s 219ms/step - loss: 0.1105 - acc: 0.9578 - val_loss: 0.2181 - val_acc: 0.9240\n",
            "Epoch 18/100\n",
            "100/100 [==============================] - 22s 222ms/step - loss: 0.0956 - acc: 0.9595 - val_loss: 0.2471 - val_acc: 0.9260\n",
            "Epoch 19/100\n",
            "100/100 [==============================] - 22s 219ms/step - loss: 0.0971 - acc: 0.9580 - val_loss: 0.2495 - val_acc: 0.9220\n",
            "Epoch 20/100\n",
            "100/100 [==============================] - 22s 218ms/step - loss: 0.0973 - acc: 0.9647 - val_loss: 0.4076 - val_acc: 0.8920\n",
            "Epoch 21/100\n",
            "100/100 [==============================] - 22s 219ms/step - loss: 0.1061 - acc: 0.9625 - val_loss: 0.2228 - val_acc: 0.9210\n",
            "Epoch 22/100\n",
            "100/100 [==============================] - 22s 218ms/step - loss: 0.0861 - acc: 0.9685 - val_loss: 0.2017 - val_acc: 0.9290\n",
            "Epoch 23/100\n",
            "100/100 [==============================] - 22s 216ms/step - loss: 0.0855 - acc: 0.9607 - val_loss: 0.1967 - val_acc: 0.9370\n",
            "Epoch 24/100\n",
            "100/100 [==============================] - 22s 218ms/step - loss: 0.0844 - acc: 0.9684 - val_loss: 0.1953 - val_acc: 0.9370\n",
            "Epoch 25/100\n",
            "100/100 [==============================] - 22s 217ms/step - loss: 0.0798 - acc: 0.9687 - val_loss: 0.2212 - val_acc: 0.9280\n",
            "Epoch 26/100\n",
            "100/100 [==============================] - 22s 216ms/step - loss: 0.0707 - acc: 0.9745 - val_loss: 0.2448 - val_acc: 0.9220\n",
            "Epoch 27/100\n",
            "100/100 [==============================] - 22s 217ms/step - loss: 0.0666 - acc: 0.9760 - val_loss: 0.2254 - val_acc: 0.9270\n",
            "Epoch 28/100\n",
            "100/100 [==============================] - 22s 218ms/step - loss: 0.0636 - acc: 0.9774 - val_loss: 0.2901 - val_acc: 0.9200\n",
            "Epoch 29/100\n",
            "100/100 [==============================] - 22s 217ms/step - loss: 0.0637 - acc: 0.9761 - val_loss: 0.2254 - val_acc: 0.9330\n",
            "Epoch 30/100\n",
            "100/100 [==============================] - 22s 217ms/step - loss: 0.0599 - acc: 0.9766 - val_loss: 0.1720 - val_acc: 0.9390\n",
            "Epoch 31/100\n",
            "100/100 [==============================] - 22s 217ms/step - loss: 0.0409 - acc: 0.9868 - val_loss: 0.1900 - val_acc: 0.9390\n",
            "Epoch 32/100\n",
            "100/100 [==============================] - 22s 220ms/step - loss: 0.0640 - acc: 0.9747 - val_loss: 0.2092 - val_acc: 0.9390\n",
            "Epoch 33/100\n",
            "100/100 [==============================] - 22s 218ms/step - loss: 0.0649 - acc: 0.9787 - val_loss: 0.2402 - val_acc: 0.9350\n",
            "Epoch 34/100\n",
            "100/100 [==============================] - 22s 217ms/step - loss: 0.0685 - acc: 0.9760 - val_loss: 0.1804 - val_acc: 0.9430\n",
            "Epoch 35/100\n",
            "100/100 [==============================] - 22s 218ms/step - loss: 0.0513 - acc: 0.9818 - val_loss: 0.2837 - val_acc: 0.9280\n",
            "Epoch 36/100\n",
            "100/100 [==============================] - 22s 217ms/step - loss: 0.0531 - acc: 0.9804 - val_loss: 0.2676 - val_acc: 0.9340\n",
            "Epoch 37/100\n",
            "100/100 [==============================] - 22s 217ms/step - loss: 0.0512 - acc: 0.9805 - val_loss: 0.2801 - val_acc: 0.9280\n",
            "Epoch 38/100\n",
            "100/100 [==============================] - 22s 216ms/step - loss: 0.0707 - acc: 0.9760 - val_loss: 0.2197 - val_acc: 0.9340\n",
            "Epoch 39/100\n",
            "100/100 [==============================] - 22s 216ms/step - loss: 0.0559 - acc: 0.9802 - val_loss: 0.2630 - val_acc: 0.9370\n",
            "Epoch 40/100\n",
            "100/100 [==============================] - 22s 218ms/step - loss: 0.0428 - acc: 0.9856 - val_loss: 0.2327 - val_acc: 0.9320\n",
            "Epoch 41/100\n",
            "100/100 [==============================] - 22s 219ms/step - loss: 0.0331 - acc: 0.9905 - val_loss: 0.2295 - val_acc: 0.9460\n",
            "Epoch 42/100\n",
            "100/100 [==============================] - 22s 221ms/step - loss: 0.0465 - acc: 0.9834 - val_loss: 0.2698 - val_acc: 0.9350\n",
            "Epoch 43/100\n",
            "100/100 [==============================] - 22s 222ms/step - loss: 0.0306 - acc: 0.9892 - val_loss: 0.4015 - val_acc: 0.9180\n",
            "Epoch 44/100\n",
            "100/100 [==============================] - 22s 220ms/step - loss: 0.0407 - acc: 0.9835 - val_loss: 0.2535 - val_acc: 0.9350\n",
            "Epoch 45/100\n",
            "100/100 [==============================] - 22s 220ms/step - loss: 0.0458 - acc: 0.9827 - val_loss: 0.3078 - val_acc: 0.9340\n",
            "Epoch 46/100\n",
            "100/100 [==============================] - 22s 223ms/step - loss: 0.0661 - acc: 0.9808 - val_loss: 0.2703 - val_acc: 0.9350\n",
            "Epoch 47/100\n",
            "100/100 [==============================] - 22s 223ms/step - loss: 0.0419 - acc: 0.9859 - val_loss: 0.2770 - val_acc: 0.9290\n",
            "Epoch 48/100\n",
            "100/100 [==============================] - 22s 220ms/step - loss: 0.0411 - acc: 0.9845 - val_loss: 0.3063 - val_acc: 0.9290\n",
            "Epoch 49/100\n",
            "100/100 [==============================] - 22s 221ms/step - loss: 0.0310 - acc: 0.9916 - val_loss: 0.3627 - val_acc: 0.9210\n",
            "Epoch 50/100\n",
            "100/100 [==============================] - 22s 221ms/step - loss: 0.0479 - acc: 0.9830 - val_loss: 0.3099 - val_acc: 0.9360\n",
            "Epoch 51/100\n",
            "100/100 [==============================] - 22s 218ms/step - loss: 0.0564 - acc: 0.9837 - val_loss: 0.2962 - val_acc: 0.9270\n",
            "Epoch 52/100\n",
            "100/100 [==============================] - 22s 218ms/step - loss: 0.0488 - acc: 0.9835 - val_loss: 0.3066 - val_acc: 0.9340\n",
            "Epoch 53/100\n",
            "100/100 [==============================] - 22s 218ms/step - loss: 0.0242 - acc: 0.9892 - val_loss: 0.3142 - val_acc: 0.9390\n",
            "Epoch 54/100\n",
            "100/100 [==============================] - 22s 218ms/step - loss: 0.0387 - acc: 0.9863 - val_loss: 0.2896 - val_acc: 0.9360\n",
            "Epoch 55/100\n",
            "100/100 [==============================] - 22s 217ms/step - loss: 0.0269 - acc: 0.9929 - val_loss: 0.3250 - val_acc: 0.9240\n",
            "Epoch 56/100\n",
            "100/100 [==============================] - 22s 217ms/step - loss: 0.0283 - acc: 0.9842 - val_loss: 0.4223 - val_acc: 0.9260\n",
            "Epoch 57/100\n",
            "100/100 [==============================] - 22s 217ms/step - loss: 0.0350 - acc: 0.9882 - val_loss: 0.4077 - val_acc: 0.9290\n",
            "Epoch 58/100\n",
            "100/100 [==============================] - 22s 218ms/step - loss: 0.0268 - acc: 0.9903 - val_loss: 0.2696 - val_acc: 0.9380\n",
            "Epoch 59/100\n",
            "100/100 [==============================] - 22s 217ms/step - loss: 0.0347 - acc: 0.9836 - val_loss: 0.3017 - val_acc: 0.9350\n",
            "Epoch 60/100\n",
            "100/100 [==============================] - 22s 219ms/step - loss: 0.0234 - acc: 0.9904 - val_loss: 0.2657 - val_acc: 0.9410\n",
            "Epoch 61/100\n",
            "100/100 [==============================] - 22s 220ms/step - loss: 0.0232 - acc: 0.9909 - val_loss: 0.3550 - val_acc: 0.9380\n",
            "Epoch 62/100\n",
            "100/100 [==============================] - 22s 216ms/step - loss: 0.0265 - acc: 0.9890 - val_loss: 0.3536 - val_acc: 0.9370\n",
            "Epoch 63/100\n",
            "100/100 [==============================] - 22s 219ms/step - loss: 0.0289 - acc: 0.9924 - val_loss: 0.2992 - val_acc: 0.9520\n",
            "Epoch 64/100\n",
            "100/100 [==============================] - 22s 217ms/step - loss: 0.0325 - acc: 0.9889 - val_loss: 0.3036 - val_acc: 0.9380\n",
            "Epoch 65/100\n",
            "100/100 [==============================] - 22s 217ms/step - loss: 0.0275 - acc: 0.9929 - val_loss: 0.2933 - val_acc: 0.9420\n",
            "Epoch 66/100\n",
            "100/100 [==============================] - 22s 218ms/step - loss: 0.0235 - acc: 0.9949 - val_loss: 0.3080 - val_acc: 0.9380\n",
            "Epoch 67/100\n",
            "100/100 [==============================] - 22s 218ms/step - loss: 0.0415 - acc: 0.9906 - val_loss: 0.3407 - val_acc: 0.9390\n",
            "Epoch 68/100\n",
            "100/100 [==============================] - 22s 219ms/step - loss: 0.0338 - acc: 0.9944 - val_loss: 0.3310 - val_acc: 0.9340\n",
            "Epoch 69/100\n",
            "100/100 [==============================] - 22s 217ms/step - loss: 0.0306 - acc: 0.9922 - val_loss: 0.5392 - val_acc: 0.9220\n",
            "Epoch 70/100\n",
            "100/100 [==============================] - 22s 216ms/step - loss: 0.0226 - acc: 0.9910 - val_loss: 0.3238 - val_acc: 0.9380\n",
            "Epoch 71/100\n",
            "100/100 [==============================] - 22s 216ms/step - loss: 0.0415 - acc: 0.9850 - val_loss: 0.3069 - val_acc: 0.9370\n",
            "Epoch 72/100\n",
            "100/100 [==============================] - 22s 216ms/step - loss: 0.0215 - acc: 0.9919 - val_loss: 0.2800 - val_acc: 0.9390\n",
            "Epoch 73/100\n",
            "100/100 [==============================] - 22s 215ms/step - loss: 0.0198 - acc: 0.9954 - val_loss: 0.8944 - val_acc: 0.8990\n",
            "Epoch 74/100\n",
            "100/100 [==============================] - 22s 215ms/step - loss: 0.0391 - acc: 0.9886 - val_loss: 0.2744 - val_acc: 0.9410\n",
            "Epoch 75/100\n",
            "100/100 [==============================] - 22s 220ms/step - loss: 0.0326 - acc: 0.9892 - val_loss: 0.3560 - val_acc: 0.9360\n",
            "Epoch 76/100\n",
            "100/100 [==============================] - 22s 217ms/step - loss: 0.0314 - acc: 0.9866 - val_loss: 0.3114 - val_acc: 0.9440\n",
            "Epoch 77/100\n",
            "100/100 [==============================] - 22s 218ms/step - loss: 0.0208 - acc: 0.9904 - val_loss: 0.4916 - val_acc: 0.9300\n",
            "Epoch 78/100\n",
            "100/100 [==============================] - 22s 215ms/step - loss: 0.0188 - acc: 0.9946 - val_loss: 0.3410 - val_acc: 0.9340\n",
            "Epoch 79/100\n",
            "100/100 [==============================] - 22s 216ms/step - loss: 0.0169 - acc: 0.9952 - val_loss: 0.4842 - val_acc: 0.9350\n",
            "Epoch 80/100\n",
            "100/100 [==============================] - 21s 215ms/step - loss: 0.0356 - acc: 0.9942 - val_loss: 0.3524 - val_acc: 0.9350\n",
            "Epoch 81/100\n",
            "100/100 [==============================] - 21s 214ms/step - loss: 0.0250 - acc: 0.9924 - val_loss: 0.5030 - val_acc: 0.9330\n",
            "Epoch 82/100\n",
            "100/100 [==============================] - 22s 215ms/step - loss: 0.0343 - acc: 0.9916 - val_loss: 0.3458 - val_acc: 0.9400\n",
            "Epoch 83/100\n",
            "100/100 [==============================] - 22s 220ms/step - loss: 0.0190 - acc: 0.9942 - val_loss: 0.8830 - val_acc: 0.9060\n",
            "Epoch 84/100\n",
            "100/100 [==============================] - 22s 219ms/step - loss: 0.0181 - acc: 0.9948 - val_loss: 0.4478 - val_acc: 0.9410\n",
            "Epoch 85/100\n",
            "100/100 [==============================] - 22s 218ms/step - loss: 0.0319 - acc: 0.9887 - val_loss: 0.3216 - val_acc: 0.9380\n",
            "Epoch 86/100\n",
            "100/100 [==============================] - 21s 215ms/step - loss: 0.0243 - acc: 0.9946 - val_loss: 0.3781 - val_acc: 0.9350\n",
            "Epoch 87/100\n",
            "100/100 [==============================] - 22s 216ms/step - loss: 0.0203 - acc: 0.9967 - val_loss: 0.3712 - val_acc: 0.9360\n",
            "Epoch 88/100\n",
            "100/100 [==============================] - 22s 217ms/step - loss: 0.0342 - acc: 0.9928 - val_loss: 0.3195 - val_acc: 0.9410\n",
            "Epoch 89/100\n",
            "100/100 [==============================] - 22s 222ms/step - loss: 0.0209 - acc: 0.9933 - val_loss: 0.3694 - val_acc: 0.9440\n",
            "Epoch 90/100\n",
            "100/100 [==============================] - 22s 222ms/step - loss: 0.0181 - acc: 0.9944 - val_loss: 0.4587 - val_acc: 0.9360\n",
            "Epoch 91/100\n",
            "100/100 [==============================] - 22s 220ms/step - loss: 0.0259 - acc: 0.9912 - val_loss: 0.4748 - val_acc: 0.9340\n",
            "Epoch 92/100\n",
            "100/100 [==============================] - 21s 215ms/step - loss: 0.0148 - acc: 0.9957 - val_loss: 0.4714 - val_acc: 0.9310\n",
            "Epoch 93/100\n",
            "100/100 [==============================] - 23s 228ms/step - loss: 0.0264 - acc: 0.9928 - val_loss: 0.5034 - val_acc: 0.9260\n",
            "Epoch 94/100\n",
            "100/100 [==============================] - 22s 218ms/step - loss: 0.0165 - acc: 0.9947 - val_loss: 0.3710 - val_acc: 0.9390\n",
            "Epoch 95/100\n",
            "100/100 [==============================] - 22s 220ms/step - loss: 0.0185 - acc: 0.9946 - val_loss: 0.3612 - val_acc: 0.9400\n",
            "Epoch 96/100\n",
            "100/100 [==============================] - 22s 219ms/step - loss: 0.0140 - acc: 0.9959 - val_loss: 0.3931 - val_acc: 0.9370\n",
            "Epoch 97/100\n",
            "100/100 [==============================] - 22s 217ms/step - loss: 0.0205 - acc: 0.9933 - val_loss: 0.5335 - val_acc: 0.9290\n",
            "Epoch 98/100\n",
            "100/100 [==============================] - 22s 219ms/step - loss: 0.0107 - acc: 0.9955 - val_loss: 0.4413 - val_acc: 0.9410\n",
            "Epoch 99/100\n",
            "100/100 [==============================] - 22s 216ms/step - loss: 0.0249 - acc: 0.9913 - val_loss: 0.4129 - val_acc: 0.9360\n",
            "Epoch 100/100\n",
            "100/100 [==============================] - 22s 216ms/step - loss: 0.0448 - acc: 0.9894 - val_loss: 0.4511 - val_acc: 0.9420\n",
            "Treniranje traje: 2187.6120121479034 sekundi.\n"
          ],
          "name": "stdout"
        }
      ]
    },
    {
      "cell_type": "markdown",
      "metadata": {
        "id": "Ybm5Du0A15sx"
      },
      "source": [
        "#### 3.2 Dodajte kod za crtanje grafika tacnosti i funkcije gubitka. Pokrenite treniranje modela. Koliko treniranje traje? Nacrtajte tacnost i funkciju gubitka. Napravite zakljucke na osnovu rezultata.\n",
        "\n",
        "- Vidimo da u slucaju kada se koristi fino podesavanje parametara, dobijamo vecu tacnost i bolje rezultate, u odnosu na slucaj kada ne koristimo fino podesavanje."
      ]
    },
    {
      "cell_type": "code",
      "metadata": {
        "id": "DrLGhH1NQ2rm",
        "colab": {
          "base_uri": "https://localhost:8080/",
          "height": 545
        },
        "outputId": "185604ad-c10f-4a18-8c1a-ab4df849c68a"
      },
      "source": [
        "import matplotlib.pyplot as plt\n",
        "\n",
        "acc = history.history['acc']\n",
        "val_acc = history.history['val_acc']\n",
        "loss = history.history['loss']\n",
        "val_loss = history.history['val_loss']\n",
        "\n",
        "epochs = range(len(acc))\n",
        "\n",
        "plt.plot(epochs, acc, 'bo', label='Training acc')\n",
        "plt.plot(epochs, val_acc, 'b', label='Validation acc')\n",
        "plt.title('Training and validation accuracy')\n",
        "plt.legend()\n",
        "plt.figure()\n",
        "plt.plot(epochs, loss, 'bo', label='Training loss')\n",
        "plt.plot(epochs, val_loss, 'b', label='Validation loss')\n",
        "plt.title('Training and validation loss')\n",
        "plt.legend()\n",
        "plt.show()"
      ],
      "execution_count": 42,
      "outputs": [
        {
          "output_type": "display_data",
          "data": {
            "image/png": "[encoded data removed]",
            "text/plain": [
              "<Figure size 432x288 with 1 Axes>"
            ]
          },
          "metadata": {
            "tags": [],
            "needs_background": "light"
          }
        },
        {
          "output_type": "display_data",
          "data": {
            "image/png": "[encoded data removed]",
            "text/plain": [
              "<Figure size 432x288 with 1 Axes>"
            ]
          },
          "metadata": {
            "tags": [],
            "needs_background": "light"
          }
        }
      ]
    },
    {
      "cell_type": "markdown",
      "metadata": {
        "id": "d65GedJ715sx"
      },
      "source": [
        "#### 3.3 Koja metoda/tehnika daje najbolje rezultate (donesite zakljucak na osnovu sadrzaja cijele vjezbe)?\n",
        "\n",
        "- Kod malih dataseto-va najveci je problem pojava overfitting-a, kao sto je vidjeno na graficima.\n",
        "- Najbolji rezultat daje zadnji model koji ima oko `94%` tacnosti odnosno model sa finim podesavanjem parametara, takodjer isti ima mogucnost napredovanja po pitanju vece tacnosti."
      ]
    }
  ]
}