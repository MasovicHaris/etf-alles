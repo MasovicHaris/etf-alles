{
  "nbformat": 4,
  "nbformat_minor": 0,
  "metadata": {
    "kernelspec": {
      "display_name": "Python 3",
      "language": "python",
      "name": "python3"
    },
    "language_info": {
      "codemirror_mode": {
        "name": "ipython",
        "version": 3
      },
      "file_extension": ".py",
      "mimetype": "text/x-python",
      "name": "python",
      "nbconvert_exporter": "python",
      "pygments_lexer": "ipython3",
      "version": "3.8.5"
    },
    "colab": {
      "name": "haris.masovic.1689.17993.lab10.ipynb",
      "provenance": []
    },
    "accelerator": "GPU"
  },
  "cells": [
    {
      "cell_type": "markdown",
      "metadata": {
        "id": "h1rm4QHo7inW"
      },
      "source": [
        "#### Metode i primjena vjestacke inteligencije\n",
        "#### Laboratorijska vjezba 10\n",
        "#### Student: Masovic Haris\n",
        "#### Index: 1689/17993"
      ]
    },
    {
      "cell_type": "markdown",
      "metadata": {
        "id": "5JicYNTQDj8y"
      },
      "source": [
        "## 0. Dependencies \n",
        "\n"
      ]
    },
    {
      "cell_type": "code",
      "metadata": {
        "colab": {
          "base_uri": "https://localhost:8080/"
        },
        "id": "OUPR50h6DmQx",
        "outputId": "a4ed87a7-4fa6-4f9b-cc89-0755201ebb86"
      },
      "source": [
        "import sys\n",
        "from google.colab import drive \n",
        "\n",
        "drive.mount('/content/gdrive')\n",
        "!{sys.executable} -m pip install matplotlib Image"
      ],
      "execution_count": null,
      "outputs": [
        {
          "output_type": "stream",
          "text": [
            "Drive already mounted at /content/gdrive; to attempt to forcibly remount, call drive.mount(\"/content/gdrive\", force_remount=True).\n",
            "Requirement already satisfied: matplotlib in /usr/local/lib/python3.6/dist-packages (3.2.2)\n",
            "Requirement already satisfied: Image in /usr/local/lib/python3.6/dist-packages (1.5.33)\n",
            "Requirement already satisfied: pyparsing!=2.0.4,!=2.1.2,!=2.1.6,>=2.0.1 in /usr/local/lib/python3.6/dist-packages (from matplotlib) (2.4.7)\n",
            "Requirement already satisfied: numpy>=1.11 in /usr/local/lib/python3.6/dist-packages (from matplotlib) (1.19.4)\n",
            "Requirement already satisfied: kiwisolver>=1.0.1 in /usr/local/lib/python3.6/dist-packages (from matplotlib) (1.3.1)\n",
            "Requirement already satisfied: python-dateutil>=2.1 in /usr/local/lib/python3.6/dist-packages (from matplotlib) (2.8.1)\n",
            "Requirement already satisfied: cycler>=0.10 in /usr/local/lib/python3.6/dist-packages (from matplotlib) (0.10.0)\n",
            "Requirement already satisfied: pillow in /usr/local/lib/python3.6/dist-packages (from Image) (7.0.0)\n",
            "Requirement already satisfied: six in /usr/local/lib/python3.6/dist-packages (from Image) (1.15.0)\n",
            "Requirement already satisfied: django in /usr/local/lib/python3.6/dist-packages (from Image) (3.1.4)\n",
            "Requirement already satisfied: pytz in /usr/local/lib/python3.6/dist-packages (from django->Image) (2018.9)\n",
            "Requirement already satisfied: asgiref<4,>=3.2.10 in /usr/local/lib/python3.6/dist-packages (from django->Image) (3.3.1)\n",
            "Requirement already satisfied: sqlparse>=0.2.2 in /usr/local/lib/python3.6/dist-packages (from django->Image) (0.4.1)\n"
          ],
          "name": "stdout"
        }
      ]
    },
    {
      "cell_type": "markdown",
      "metadata": {
        "id": "ng5lZzJE7ine"
      },
      "source": [
        "## 4. Implementacija"
      ]
    },
    {
      "cell_type": "markdown",
      "metadata": {
        "id": "eIkk1CUn7ine"
      },
      "source": [
        "### 4.1 Model generatora"
      ]
    },
    {
      "cell_type": "code",
      "metadata": {
        "colab": {
          "base_uri": "https://localhost:8080/"
        },
        "id": "CVYB7Gu_7inf",
        "outputId": "1d976951-f3d8-4508-da2f-643d28b5e326"
      },
      "source": [
        "import keras\n",
        "from keras import layers\n",
        "import numpy as np\n",
        "\n",
        "latent_dim = 32\n",
        "height = 32\n",
        "width = 32\n",
        "channels = 3\n",
        "\n",
        "generator_input = keras.Input(shape = (latent_dim,))\n",
        "x = layers.Dense(128 * 16 * 16)(generator_input)\n",
        "x = layers.LeakyReLU()(x)\n",
        "x = layers.Reshape((16, 16, 128))(x)\n",
        "x = layers.Conv2D(256, 5, padding = 'same')(x)\n",
        "x = layers.LeakyReLU()(x)\n",
        "x = layers.Conv2DTranspose(256, 4, strides = 2, padding = 'same')(x)\n",
        "x = layers.LeakyReLU()(x)\n",
        "x = layers.Conv2D(256, 5, padding = 'same')(x)\n",
        "x = layers.LeakyReLU()(x)\n",
        "x = layers.Conv2D(256, 5, padding = 'same')(x)\n",
        "x = layers.LeakyReLU()(x)\n",
        "x = layers.Conv2D(channels, 7, activation = 'tanh', padding = 'same')(x)\n",
        "generator = keras.models.Model(generator_input, x)\n",
        "generator.summary()"
      ],
      "execution_count": null,
      "outputs": [
        {
          "output_type": "stream",
          "text": [
            "Model: \"model\"\n",
            "_________________________________________________________________\n",
            "Layer (type)                 Output Shape              Param #   \n",
            "=================================================================\n",
            "input_1 (InputLayer)         [(None, 32)]              0         \n",
            "_________________________________________________________________\n",
            "dense (Dense)                (None, 32768)             1081344   \n",
            "_________________________________________________________________\n",
            "leaky_re_lu (LeakyReLU)      (None, 32768)             0         \n",
            "_________________________________________________________________\n",
            "reshape (Reshape)            (None, 16, 16, 128)       0         \n",
            "_________________________________________________________________\n",
            "conv2d (Conv2D)              (None, 16, 16, 256)       819456    \n",
            "_________________________________________________________________\n",
            "leaky_re_lu_1 (LeakyReLU)    (None, 16, 16, 256)       0         \n",
            "_________________________________________________________________\n",
            "conv2d_transpose (Conv2DTran (None, 32, 32, 256)       1048832   \n",
            "_________________________________________________________________\n",
            "leaky_re_lu_2 (LeakyReLU)    (None, 32, 32, 256)       0         \n",
            "_________________________________________________________________\n",
            "conv2d_1 (Conv2D)            (None, 32, 32, 256)       1638656   \n",
            "_________________________________________________________________\n",
            "leaky_re_lu_3 (LeakyReLU)    (None, 32, 32, 256)       0         \n",
            "_________________________________________________________________\n",
            "conv2d_2 (Conv2D)            (None, 32, 32, 256)       1638656   \n",
            "_________________________________________________________________\n",
            "leaky_re_lu_4 (LeakyReLU)    (None, 32, 32, 256)       0         \n",
            "_________________________________________________________________\n",
            "conv2d_3 (Conv2D)            (None, 32, 32, 3)         37635     \n",
            "=================================================================\n",
            "Total params: 6,264,579\n",
            "Trainable params: 6,264,579\n",
            "Non-trainable params: 0\n",
            "_________________________________________________________________\n"
          ],
          "name": "stdout"
        }
      ]
    },
    {
      "cell_type": "markdown",
      "metadata": {
        "id": "-ubxd5bH7ing"
      },
      "source": [
        "### 4.2 Model diskriminatora"
      ]
    },
    {
      "cell_type": "code",
      "metadata": {
        "colab": {
          "base_uri": "https://localhost:8080/"
        },
        "id": "Hmz7PQY87inh",
        "outputId": "b87a787f-a46e-4edf-91c0-73963c900261"
      },
      "source": [
        "discriminator_input = layers.Input(shape=(height, width, channels))\n",
        "x = layers.Conv2D(128, 3)(discriminator_input)\n",
        "x = layers.LeakyReLU()(x)\n",
        "x = layers.Conv2D(128, 4, strides=2)(x)\n",
        "x = layers.LeakyReLU()(x)\n",
        "x = layers.Conv2D(128, 4, strides=2)(x)\n",
        "x = layers.LeakyReLU()(x)\n",
        "x = layers.Conv2D(128, 4, strides=2)(x)\n",
        "x = layers.LeakyReLU()(x)\n",
        "x = layers.Flatten()(x)\n",
        "x = layers.Dropout(0.4)(x)\n",
        "x = layers.Dense(1, activation = 'sigmoid')(x)\n",
        "discriminator = keras.models.Model(discriminator_input, x)\n",
        "discriminator.summary()\n",
        "\n",
        "discriminator_optimizer = keras.optimizers.RMSprop(lr=0.0008, clipvalue=1.0, decay=1e-8)\n",
        "discriminator.compile(optimizer=discriminator_optimizer, loss='binary_crossentropy')"
      ],
      "execution_count": null,
      "outputs": [
        {
          "output_type": "stream",
          "text": [
            "Model: \"model_2\"\n",
            "_________________________________________________________________\n",
            "Layer (type)                 Output Shape              Param #   \n",
            "=================================================================\n",
            "input_3 (InputLayer)         [(None, 32, 32, 3)]       0         \n",
            "_________________________________________________________________\n",
            "conv2d_8 (Conv2D)            (None, 30, 30, 128)       3584      \n",
            "_________________________________________________________________\n",
            "leaky_re_lu_9 (LeakyReLU)    (None, 30, 30, 128)       0         \n",
            "_________________________________________________________________\n",
            "conv2d_9 (Conv2D)            (None, 14, 14, 128)       262272    \n",
            "_________________________________________________________________\n",
            "leaky_re_lu_10 (LeakyReLU)   (None, 14, 14, 128)       0         \n",
            "_________________________________________________________________\n",
            "conv2d_10 (Conv2D)           (None, 6, 6, 128)         262272    \n",
            "_________________________________________________________________\n",
            "leaky_re_lu_11 (LeakyReLU)   (None, 6, 6, 128)         0         \n",
            "_________________________________________________________________\n",
            "conv2d_11 (Conv2D)           (None, 2, 2, 128)         262272    \n",
            "_________________________________________________________________\n",
            "leaky_re_lu_12 (LeakyReLU)   (None, 2, 2, 128)         0         \n",
            "_________________________________________________________________\n",
            "flatten_1 (Flatten)          (None, 512)               0         \n",
            "_________________________________________________________________\n",
            "dropout_1 (Dropout)          (None, 512)               0         \n",
            "_________________________________________________________________\n",
            "dense_2 (Dense)              (None, 1)                 513       \n",
            "=================================================================\n",
            "Total params: 790,913\n",
            "Trainable params: 790,913\n",
            "Non-trainable params: 0\n",
            "_________________________________________________________________\n"
          ],
          "name": "stdout"
        }
      ]
    },
    {
      "cell_type": "markdown",
      "metadata": {
        "id": "Q5nA4af_7inh"
      },
      "source": [
        "### 4.3 Povezivanje u sistem i treniranje"
      ]
    },
    {
      "cell_type": "code",
      "metadata": {
        "colab": {
          "base_uri": "https://localhost:8080/"
        },
        "id": "WmiOb0U87ini",
        "outputId": "33824964-aca6-4ea8-d634-f9d000d2edf0"
      },
      "source": [
        "import os\n",
        "from keras.preprocessing import image\n",
        "\n",
        "discriminator.trainable = False\n",
        "gan_input = keras.Input(shape=(latent_dim,))\n",
        "gan_output = discriminator(generator(gan_input))\n",
        "gan = keras.models.Model(gan_input, gan_output)\n",
        "gan_optimizer = keras.optimizers.RMSprop(lr = 0.0004, clipvalue = 1.0, decay = 1e-8)\n",
        "gan.compile(optimizer = gan_optimizer, loss = 'binary_crossentropy')\n",
        "\n",
        "(x_train, y_train), (_, _) = keras.datasets.cifar10.load_data()\n",
        "\n",
        "x_train = x_train[y_train.flatten() == 6]\n",
        "x_train = x_train.reshape((x_train.shape[0],) + (height, width, channels)).astype('float32') / 255.\n",
        "\n",
        "iterations = 10000\n",
        "batch_size = 20\n",
        "save_dir = '/content/gdrive/MyDrive/Colab Notebooks/saved_frogs'\n",
        "start = 0\n",
        "\n",
        "for step in range(iterations):\n",
        "    random_latent_vectors = np.random.normal(size = (batch_size, latent_dim))\n",
        "    generated_images = generator.predict(random_latent_vectors)\n",
        "    \n",
        "    stop = start + batch_size\n",
        "    real_images = x_train[start: stop]\n",
        "    combined_images = np.concatenate([generated_images, real_images])\n",
        "    \n",
        "    labels = np.concatenate([np.ones((batch_size, 1)), np.zeros((batch_size, 1))])\n",
        "    labels += 0.05 * np.random.random(labels.shape)\n",
        "    d_loss = discriminator.train_on_batch(combined_images, labels)\n",
        "    \n",
        "    random_latent_vectors = np.random.normal(size=(batch_size, latent_dim))\n",
        "    \n",
        "    misleading_targets = np.zeros((batch_size, 1))\n",
        "    \n",
        "    a_loss = gan.train_on_batch(random_latent_vectors, misleading_targets)\n",
        "    start += batch_size\n",
        "    \n",
        "    if start > len(x_train) - batch_size:\n",
        "        start = 0\n",
        "    \n",
        "    if step % 100 == 0:\n",
        "        gan.save_weights('gan.h5')\n",
        "        print('discriminator loss:', d_loss)\n",
        "        print('adversarial loss:', a_loss)\n",
        "            \n",
        "        img = image.array_to_img(generated_images[0] * 255., scale=False)\n",
        "        img.save(os.path.join(save_dir,'generated_frog' + str(step) + '.png'))\n",
        "            \n",
        "        img = image.array_to_img(real_images[0] * 255., scale=False)\n",
        "        img.save(os.path.join(save_dir, 'real_frog' + str(step) + '.png'))"
      ],
      "execution_count": null,
      "outputs": [
        {
          "output_type": "stream",
          "text": [
            "discriminator loss: 6.304964065551758\n",
            "adversarial loss: 8.318703651428223\n",
            "discriminator loss: 0.10974375158548355\n",
            "adversarial loss: 1.9302780628204346\n",
            "discriminator loss: -2.056602716445923\n",
            "adversarial loss: 150.48727416992188\n",
            "discriminator loss: 0.7964155673980713\n",
            "adversarial loss: 1.5259902477264404\n",
            "discriminator loss: 0.302849143743515\n",
            "adversarial loss: 5.863648414611816\n",
            "discriminator loss: 0.7684347033500671\n",
            "adversarial loss: 1.0409116744995117\n",
            "discriminator loss: 0.7037466764450073\n",
            "adversarial loss: 1.1192209720611572\n",
            "discriminator loss: 0.6834160089492798\n",
            "adversarial loss: 0.7261267304420471\n",
            "discriminator loss: 0.716108500957489\n",
            "adversarial loss: 0.7231886386871338\n",
            "discriminator loss: 0.6888271570205688\n",
            "adversarial loss: 0.7416106462478638\n",
            "discriminator loss: 0.7219308614730835\n",
            "adversarial loss: 0.7946231961250305\n",
            "discriminator loss: 0.6959607005119324\n",
            "adversarial loss: 0.7668138742446899\n",
            "discriminator loss: 0.6786139607429504\n",
            "adversarial loss: 0.7790461778640747\n",
            "discriminator loss: 0.726407527923584\n",
            "adversarial loss: 0.8007164001464844\n",
            "discriminator loss: 0.6933919191360474\n",
            "adversarial loss: 0.7395645976066589\n",
            "discriminator loss: 0.6977773904800415\n",
            "adversarial loss: 0.7478122711181641\n",
            "discriminator loss: 0.6857544779777527\n",
            "adversarial loss: 1.1855111122131348\n",
            "discriminator loss: 0.6830710172653198\n",
            "adversarial loss: 0.7689878940582275\n",
            "discriminator loss: 0.6869587898254395\n",
            "adversarial loss: 0.7472052574157715\n",
            "discriminator loss: 0.6991456747055054\n",
            "adversarial loss: 0.7384933233261108\n",
            "discriminator loss: 0.6807852387428284\n",
            "adversarial loss: 0.7527273893356323\n",
            "discriminator loss: 0.6831838488578796\n",
            "adversarial loss: 0.84590083360672\n",
            "discriminator loss: 0.7175763845443726\n",
            "adversarial loss: 0.740963339805603\n",
            "discriminator loss: 0.6866410374641418\n",
            "adversarial loss: 0.7552380561828613\n",
            "discriminator loss: 0.692319929599762\n",
            "adversarial loss: 0.7256672978401184\n",
            "discriminator loss: 0.6823208928108215\n",
            "adversarial loss: 0.5641123056411743\n",
            "discriminator loss: 0.8119708299636841\n",
            "adversarial loss: 0.7712373733520508\n",
            "discriminator loss: 0.6839313507080078\n",
            "adversarial loss: 0.7476823925971985\n",
            "discriminator loss: 0.7153995633125305\n",
            "adversarial loss: 0.7893924117088318\n",
            "discriminator loss: 0.6826466917991638\n",
            "adversarial loss: 0.759536862373352\n",
            "discriminator loss: 0.7527936100959778\n",
            "adversarial loss: 0.7246530652046204\n",
            "discriminator loss: 0.7034531235694885\n",
            "adversarial loss: 0.7584208250045776\n",
            "discriminator loss: 0.6808786988258362\n",
            "adversarial loss: 0.7197611331939697\n",
            "discriminator loss: 0.694842517375946\n",
            "adversarial loss: 0.7897204756736755\n",
            "discriminator loss: 0.6930773258209229\n",
            "adversarial loss: 0.728696346282959\n",
            "discriminator loss: 0.6907760500907898\n",
            "adversarial loss: 0.7597910165786743\n",
            "discriminator loss: 0.6963006854057312\n",
            "adversarial loss: 0.7544382810592651\n",
            "discriminator loss: 0.6967377662658691\n",
            "adversarial loss: 0.7877591252326965\n",
            "discriminator loss: 0.6989597082138062\n",
            "adversarial loss: 0.7308903932571411\n",
            "discriminator loss: 0.6974406838417053\n",
            "adversarial loss: 0.7464756965637207\n",
            "discriminator loss: 0.6929365396499634\n",
            "adversarial loss: 0.7390543222427368\n",
            "discriminator loss: 0.676576554775238\n",
            "adversarial loss: 0.74235999584198\n",
            "discriminator loss: 0.6994243860244751\n",
            "adversarial loss: 0.7671366930007935\n",
            "discriminator loss: 0.6959325075149536\n",
            "adversarial loss: 0.656289279460907\n",
            "discriminator loss: 0.7097083330154419\n",
            "adversarial loss: 0.80476313829422\n",
            "discriminator loss: 0.7017585039138794\n",
            "adversarial loss: 0.7311235666275024\n",
            "discriminator loss: 0.7188655138015747\n",
            "adversarial loss: 0.7756304144859314\n",
            "discriminator loss: 0.6911578178405762\n",
            "adversarial loss: 0.7465955018997192\n",
            "discriminator loss: 0.6954349875450134\n",
            "adversarial loss: 0.7262474894523621\n",
            "discriminator loss: 0.6892627477645874\n",
            "adversarial loss: 0.7518190145492554\n",
            "discriminator loss: 0.7007562518119812\n",
            "adversarial loss: 0.7728472352027893\n",
            "discriminator loss: 0.6852467060089111\n",
            "adversarial loss: 0.7799791097640991\n",
            "discriminator loss: 0.7040497660636902\n",
            "adversarial loss: 0.7481536865234375\n",
            "discriminator loss: 0.7081226110458374\n",
            "adversarial loss: 0.7920647859573364\n",
            "discriminator loss: 0.6940619349479675\n",
            "adversarial loss: 0.7130388617515564\n",
            "discriminator loss: 0.7010899782180786\n",
            "adversarial loss: 0.756573498249054\n",
            "discriminator loss: 0.6822516918182373\n",
            "adversarial loss: 0.6927940249443054\n",
            "discriminator loss: 0.7013015151023865\n",
            "adversarial loss: 0.7786878347396851\n",
            "discriminator loss: 0.6807422637939453\n",
            "adversarial loss: 0.7307531237602234\n",
            "discriminator loss: 0.6781842708587646\n",
            "adversarial loss: 0.7982715368270874\n",
            "discriminator loss: 0.692715048789978\n",
            "adversarial loss: 0.7540310621261597\n",
            "discriminator loss: 0.7019451260566711\n",
            "adversarial loss: 0.7600992918014526\n",
            "discriminator loss: 0.7068979740142822\n",
            "adversarial loss: 0.7905956506729126\n",
            "discriminator loss: 0.6940377950668335\n",
            "adversarial loss: 0.7611133456230164\n",
            "discriminator loss: 0.6977251768112183\n",
            "adversarial loss: 0.7520760297775269\n",
            "discriminator loss: 0.6718094944953918\n",
            "adversarial loss: 0.8604601621627808\n",
            "discriminator loss: 0.6772768497467041\n",
            "adversarial loss: 0.7875704169273376\n",
            "discriminator loss: 0.7217734456062317\n",
            "adversarial loss: 0.7787455320358276\n",
            "discriminator loss: 0.7208675146102905\n",
            "adversarial loss: 0.8547296524047852\n",
            "discriminator loss: 0.6726065874099731\n",
            "adversarial loss: 0.7894366979598999\n",
            "discriminator loss: 0.682195782661438\n",
            "adversarial loss: 0.796517014503479\n",
            "discriminator loss: 0.6818564534187317\n",
            "adversarial loss: 0.7230192422866821\n",
            "discriminator loss: 0.6912198066711426\n",
            "adversarial loss: 0.770849883556366\n",
            "discriminator loss: 0.6839268207550049\n",
            "adversarial loss: 0.7897399663925171\n",
            "discriminator loss: 0.6978575587272644\n",
            "adversarial loss: 0.7807846069335938\n",
            "discriminator loss: 0.7866870164871216\n",
            "adversarial loss: 0.9473474621772766\n",
            "discriminator loss: 0.6670140027999878\n",
            "adversarial loss: 0.8013235330581665\n",
            "discriminator loss: 0.6691533923149109\n",
            "adversarial loss: 0.910998523235321\n",
            "discriminator loss: 0.6892215609550476\n",
            "adversarial loss: 0.8526766896247864\n",
            "discriminator loss: 0.6867691278457642\n",
            "adversarial loss: 1.0080807209014893\n",
            "discriminator loss: 0.6815298795700073\n",
            "adversarial loss: 1.0096118450164795\n",
            "discriminator loss: 0.6767401695251465\n",
            "adversarial loss: 0.8350319862365723\n",
            "discriminator loss: 0.6668668985366821\n",
            "adversarial loss: 0.7423624992370605\n",
            "discriminator loss: 0.656109631061554\n",
            "adversarial loss: 1.0413092374801636\n",
            "discriminator loss: 0.676728367805481\n",
            "adversarial loss: 0.8291881680488586\n",
            "discriminator loss: 0.657352089881897\n",
            "adversarial loss: 0.803943932056427\n",
            "discriminator loss: 0.7154457569122314\n",
            "adversarial loss: 0.8493488430976868\n",
            "discriminator loss: 0.655698299407959\n",
            "adversarial loss: 0.8121451139450073\n",
            "discriminator loss: 0.6618335247039795\n",
            "adversarial loss: 0.7929003238677979\n",
            "discriminator loss: 0.6823190450668335\n",
            "adversarial loss: 0.8511205911636353\n",
            "discriminator loss: 0.668114185333252\n",
            "adversarial loss: 0.837969183921814\n",
            "discriminator loss: 0.6946659088134766\n",
            "adversarial loss: 0.8047201037406921\n",
            "discriminator loss: 0.6829778552055359\n",
            "adversarial loss: 0.7476934194564819\n",
            "discriminator loss: 0.6804800033569336\n",
            "adversarial loss: 0.9042190313339233\n",
            "discriminator loss: 0.6951048970222473\n",
            "adversarial loss: 0.7602447271347046\n",
            "discriminator loss: 0.6872624158859253\n",
            "adversarial loss: 0.7876929044723511\n",
            "discriminator loss: 0.6776727437973022\n",
            "adversarial loss: 0.9386504888534546\n",
            "discriminator loss: 0.6835960149765015\n",
            "adversarial loss: 0.8667535781860352\n",
            "discriminator loss: 0.7253230810165405\n",
            "adversarial loss: 0.8728176355361938\n",
            "discriminator loss: 0.7204450368881226\n",
            "adversarial loss: 0.6734078526496887\n"
          ],
          "name": "stdout"
        }
      ]
    },
    {
      "cell_type": "markdown",
      "metadata": {
        "id": "Q4VoAsHj7ini"
      },
      "source": [
        "## 5. Zadatak"
      ]
    },
    {
      "cell_type": "markdown",
      "metadata": {
        "id": "Bw7uhrEj7inj"
      },
      "source": [
        "#### 5.0.1 Detaljno proucite kod u for petlji u listingu broj 3 i prepoznajte dijelove koda koji se podudaraju sa koracima u pseudokodu (Algoritam 1), te iste ispisite u izvjestaju u formatu komanda iz pseudeokoda - linija koda\n",
        "\n",
        "Dijelovi koda koji se podudaraju sa koracima su:\n",
        "- Uzorkovanje od skupa m clanova suma - 29\n",
        "- Uzorkovanje skupa od m uzoraka iz distribucije skupa podataka za trening - 34\n",
        "- Azuriranje modela diskriminatora metodom uzlaznog stohasticnog gradijenta - 35\n",
        "- Uzorkovanje od skupa m clanova suma - [37,39]\n",
        "- Azuriranje modela generatora metodom silaznog stohasticnog gradijenta - 41"
      ]
    },
    {
      "cell_type": "markdown",
      "metadata": {
        "id": "x7uiMFFn7inj"
      },
      "source": [
        "#### 5.0.2 Iskoristite prilozeni kod i istrenirajte sistem generativnih protivnickih mreza, a zatim iskoristite dobijeni model generatora za generisanje deset novih slika zaba. Prokomentarisite realisticnost generisanih uzoraka.\n",
        "\n",
        "- Istreniran je sistem generativnih protivnickih mreza, te je isti model iskoristen za generisanje 10 novih slika zaba, te slike su prikazane ispod.\n",
        "- Gledajuci dobijene uzorke, nije toliko realisticno da se usporedi sa pravom zabom, poredeci prave slike koje se koristi u train dataset-u."
      ]
    },
    {
      "cell_type": "code",
      "metadata": {
        "colab": {
          "base_uri": "https://localhost:8080/",
          "height": 266
        },
        "id": "8WVmrbsb7inj",
        "outputId": "ba106e88-09bc-4293-a6b2-69c4e742758c"
      },
      "source": [
        "import matplotlib.pyplot as plt\n",
        "\n",
        "def generate_image():\n",
        "    random_latent_vectors = np.random.normal(size = (batch_size, latent_dim))\n",
        "    gen_images = generator.predict(random_latent_vectors)\n",
        "    img = image.array_to_img(gen_images[0] * 255., scale=False)\n",
        "    plt.imshow(img)\n",
        "    plt.show()\n",
        "\n",
        "\n",
        "generate_image()"
      ],
      "execution_count": null,
      "outputs": [
        {
          "output_type": "display_data",
          "data": {
            "image/png": "[encoded data removed]",
            "text/plain": [
              "<Figure size 432x288 with 1 Axes>"
            ]
          },
          "metadata": {
            "tags": [],
            "needs_background": "light"
          }
        }
      ]
    },
    {
      "cell_type": "code",
      "metadata": {
        "colab": {
          "base_uri": "https://localhost:8080/",
          "height": 266
        },
        "id": "nLfCmruMEXzQ",
        "outputId": "52a94ae2-17e9-4a4a-bad4-c49ef60c412a"
      },
      "source": [
        "generate_image()"
      ],
      "execution_count": null,
      "outputs": [
        {
          "output_type": "display_data",
          "data": {
            "image/png": "[encoded data removed]",
            "text/plain": [
              "<Figure size 432x288 with 1 Axes>"
            ]
          },
          "metadata": {
            "tags": [],
            "needs_background": "light"
          }
        }
      ]
    },
    {
      "cell_type": "code",
      "metadata": {
        "colab": {
          "base_uri": "https://localhost:8080/",
          "height": 266
        },
        "id": "CYOsFbiSEb1c",
        "outputId": "17bd2396-8516-42d1-f8e1-62bf47f2f165"
      },
      "source": [
        "generate_image()"
      ],
      "execution_count": null,
      "outputs": [
        {
          "output_type": "display_data",
          "data": {
            "image/png": "[encoded data removed]",
            "text/plain": [
              "<Figure size 432x288 with 1 Axes>"
            ]
          },
          "metadata": {
            "tags": [],
            "needs_background": "light"
          }
        }
      ]
    },
    {
      "cell_type": "code",
      "metadata": {
        "colab": {
          "base_uri": "https://localhost:8080/",
          "height": 266
        },
        "id": "m_znOzM-EcTu",
        "outputId": "323dabfd-fa67-4003-b72f-44f4a9805e1b"
      },
      "source": [
        "generate_image()"
      ],
      "execution_count": null,
      "outputs": [
        {
          "output_type": "display_data",
          "data": {
            "image/png": "[encoded data removed]",
            "text/plain": [
              "<Figure size 432x288 with 1 Axes>"
            ]
          },
          "metadata": {
            "tags": [],
            "needs_background": "light"
          }
        }
      ]
    },
    {
      "cell_type": "code",
      "metadata": {
        "colab": {
          "base_uri": "https://localhost:8080/",
          "height": 266
        },
        "id": "ovzghKD7EchV",
        "outputId": "e7a8656a-6fa7-42aa-8601-a30eb5bab509"
      },
      "source": [
        "generate_image()"
      ],
      "execution_count": null,
      "outputs": [
        {
          "output_type": "display_data",
          "data": {
            "image/png": "[encoded data removed]",
            "text/plain": [
              "<Figure size 432x288 with 1 Axes>"
            ]
          },
          "metadata": {
            "tags": [],
            "needs_background": "light"
          }
        }
      ]
    },
    {
      "cell_type": "code",
      "metadata": {
        "colab": {
          "base_uri": "https://localhost:8080/",
          "height": 266
        },
        "id": "R23AUUxFEcxD",
        "outputId": "e7d68df8-3969-401c-d3ec-817d0143c14e"
      },
      "source": [
        "generate_image()"
      ],
      "execution_count": null,
      "outputs": [
        {
          "output_type": "display_data",
          "data": {
            "image/png": "[encoded data removed]",
            "text/plain": [
              "<Figure size 432x288 with 1 Axes>"
            ]
          },
          "metadata": {
            "tags": [],
            "needs_background": "light"
          }
        }
      ]
    },
    {
      "cell_type": "code",
      "metadata": {
        "colab": {
          "base_uri": "https://localhost:8080/",
          "height": 266
        },
        "id": "xfWf8yh1Ec-5",
        "outputId": "d180dbb9-7e22-42f4-a824-8843ccb87d7e"
      },
      "source": [
        "generate_image()"
      ],
      "execution_count": null,
      "outputs": [
        {
          "output_type": "display_data",
          "data": {
            "image/png": "[encoded data removed]",
            "text/plain": [
              "<Figure size 432x288 with 1 Axes>"
            ]
          },
          "metadata": {
            "tags": [],
            "needs_background": "light"
          }
        }
      ]
    },
    {
      "cell_type": "code",
      "metadata": {
        "colab": {
          "base_uri": "https://localhost:8080/",
          "height": 266
        },
        "id": "6V4hluEPEdOB",
        "outputId": "6615149b-72e6-4f3b-ce3a-39c8bd170384"
      },
      "source": [
        "generate_image()"
      ],
      "execution_count": null,
      "outputs": [
        {
          "output_type": "display_data",
          "data": {
            "image/png": "[encoded data removed]",
            "text/plain": [
              "<Figure size 432x288 with 1 Axes>"
            ]
          },
          "metadata": {
            "tags": [],
            "needs_background": "light"
          }
        }
      ]
    },
    {
      "cell_type": "code",
      "metadata": {
        "colab": {
          "base_uri": "https://localhost:8080/",
          "height": 266
        },
        "id": "v59CWlOJEdfJ",
        "outputId": "da872bc5-ee60-4c87-e719-080a723ec1b4"
      },
      "source": [
        "generate_image()"
      ],
      "execution_count": null,
      "outputs": [
        {
          "output_type": "display_data",
          "data": {
            "image/png": "[encoded data removed]",
            "text/plain": [
              "<Figure size 432x288 with 1 Axes>"
            ]
          },
          "metadata": {
            "tags": [],
            "needs_background": "light"
          }
        }
      ]
    },
    {
      "cell_type": "code",
      "metadata": {
        "colab": {
          "base_uri": "https://localhost:8080/",
          "height": 266
        },
        "id": "9bDyRRi2EdrX",
        "outputId": "59bc4342-478d-4bcb-e2b4-5a273b9c5b5c"
      },
      "source": [
        "generate_image()"
      ],
      "execution_count": null,
      "outputs": [
        {
          "output_type": "display_data",
          "data": {
            "image/png": "[encoded data removed]",
            "text/plain": [
              "<Figure size 432x288 with 1 Axes>"
            ]
          },
          "metadata": {
            "tags": [],
            "needs_background": "light"
          }
        }
      ]
    }
  ]
}