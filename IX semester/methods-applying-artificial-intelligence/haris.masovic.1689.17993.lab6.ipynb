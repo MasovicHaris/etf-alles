{
 "cells": [
  {
   "cell_type": "markdown",
   "metadata": {},
   "source": [
    "#### Metode i primjena vjestacke inteligencije\n",
    "#### Laboratorijska vjezba 6\n",
    "#### Student: Masovic Haris\n",
    "#### Index: 1689/17993"
   ]
  },
  {
   "cell_type": "markdown",
   "metadata": {},
   "source": [
    "## 0. Dependencies"
   ]
  },
  {
   "cell_type": "code",
   "execution_count": 1,
   "metadata": {},
   "outputs": [
    {
     "name": "stdout",
     "output_type": "stream",
     "text": [
      "Requirement already satisfied: matplotlib in /Library/Frameworks/Python.framework/Versions/3.8/lib/python3.8/site-packages (3.3.2)\n",
      "Requirement already satisfied: pyparsing!=2.0.4,!=2.1.2,!=2.1.6,>=2.0.3 in /Library/Frameworks/Python.framework/Versions/3.8/lib/python3.8/site-packages (from matplotlib) (2.4.7)\n",
      "Requirement already satisfied: pillow>=6.2.0 in /Library/Frameworks/Python.framework/Versions/3.8/lib/python3.8/site-packages (from matplotlib) (8.0.1)\n",
      "Requirement already satisfied: certifi>=2020.06.20 in /Library/Frameworks/Python.framework/Versions/3.8/lib/python3.8/site-packages (from matplotlib) (2020.6.20)\n",
      "Requirement already satisfied: cycler>=0.10 in /Library/Frameworks/Python.framework/Versions/3.8/lib/python3.8/site-packages (from matplotlib) (0.10.0)\n",
      "Requirement already satisfied: python-dateutil>=2.1 in /Library/Frameworks/Python.framework/Versions/3.8/lib/python3.8/site-packages (from matplotlib) (2.8.1)\n",
      "Requirement already satisfied: kiwisolver>=1.0.1 in /Library/Frameworks/Python.framework/Versions/3.8/lib/python3.8/site-packages (from matplotlib) (1.3.1)\n",
      "Requirement already satisfied: numpy>=1.15 in /Library/Frameworks/Python.framework/Versions/3.8/lib/python3.8/site-packages (from matplotlib) (1.18.5)\n",
      "Requirement already satisfied: six in /Library/Frameworks/Python.framework/Versions/3.8/lib/python3.8/site-packages (from cycler>=0.10->matplotlib) (1.15.0)\n",
      "\u001b[33mWARNING: You are using pip version 20.1.1; however, version 20.2.4 is available.\n",
      "You should consider upgrading via the '/Library/Frameworks/Python.framework/Versions/3.8/bin/python3.8 -m pip install --upgrade pip' command.\u001b[0m\n"
     ]
    }
   ],
   "source": [
    "import sys\n",
    "\n",
    "!{sys.executable} -m pip install matplotlib"
   ]
  },
  {
   "cell_type": "markdown",
   "metadata": {},
   "source": [
    "## 2. Dataset: The Boston Housing Price"
   ]
  },
  {
   "cell_type": "markdown",
   "metadata": {},
   "source": [
    "### 2.1 Ucitavanje dataset-a"
   ]
  },
  {
   "cell_type": "code",
   "execution_count": 2,
   "metadata": {},
   "outputs": [],
   "source": [
    "from keras.datasets import boston_housing\n",
    "\n",
    "(train_data, train_targets), (test_data, test_targets) = boston_housing.load_data()"
   ]
  },
  {
   "cell_type": "markdown",
   "metadata": {},
   "source": [
    "#### 2.1.3 Za prvih 15 sekvenci isprintati: a) broj elemenata u sekvenci, b) vrijednost target-a, c) maksimalan i d) minimalan indeks u sekvenci. U izvjestaju napisati kod koji ste koristili za ovaj zadatak, kao i rezultate. Primjer rezultata dat je u ispisu ispod. (Koristiti for petlju.)"
   ]
  },
  {
   "cell_type": "code",
   "execution_count": 3,
   "metadata": {},
   "outputs": [
    {
     "name": "stdout",
     "output_type": "stream",
     "text": [
      "Broj elemenata u sekvenci train_data[0]: 13, a oznaka (target) je: 15.2\n",
      "Maksimalan element u sekvenci je: 396.9\n",
      "Minimalan element u sekvenci je: 0.0\n",
      "Broj elemenata u sekvenci train_data[1]: 13, a oznaka (target) je: 42.3\n",
      "Maksimalan element u sekvenci je: 395.38\n",
      "Minimalan element u sekvenci je: 0.0\n",
      "Broj elemenata u sekvenci train_data[2]: 13, a oznaka (target) je: 50.0\n",
      "Maksimalan element u sekvenci je: 666.0\n",
      "Minimalan element u sekvenci je: 0.0\n",
      "Broj elemenata u sekvenci train_data[3]: 13, a oznaka (target) je: 21.1\n",
      "Maksimalan element u sekvenci je: 396.9\n",
      "Minimalan element u sekvenci je: 0.0\n",
      "Broj elemenata u sekvenci train_data[4]: 13, a oznaka (target) je: 17.7\n",
      "Maksimalan element u sekvenci je: 666.0\n",
      "Minimalan element u sekvenci je: 0.0\n",
      "Broj elemenata u sekvenci train_data[5]: 13, a oznaka (target) je: 18.5\n",
      "Maksimalan element u sekvenci je: 391.13\n",
      "Minimalan element u sekvenci je: 0.0\n",
      "Broj elemenata u sekvenci train_data[6]: 13, a oznaka (target) je: 11.3\n",
      "Maksimalan element u sekvenci je: 666.0\n",
      "Minimalan element u sekvenci je: 0.0\n",
      "Broj elemenata u sekvenci train_data[7]: 13, a oznaka (target) je: 15.6\n",
      "Maksimalan element u sekvenci je: 403.0\n",
      "Minimalan element u sekvenci je: 0.0\n",
      "Broj elemenata u sekvenci train_data[8]: 13, a oznaka (target) je: 15.6\n",
      "Maksimalan element u sekvenci je: 403.0\n",
      "Minimalan element u sekvenci je: 0.0\n",
      "Broj elemenata u sekvenci train_data[9]: 13, a oznaka (target) je: 14.4\n",
      "Maksimalan element u sekvenci je: 437.0\n",
      "Minimalan element u sekvenci je: 0.0\n",
      "Broj elemenata u sekvenci train_data[10]: 13, a oznaka (target) je: 12.1\n",
      "Maksimalan element u sekvenci je: 666.0\n",
      "Minimalan element u sekvenci je: 0.0\n",
      "Broj elemenata u sekvenci train_data[11]: 13, a oznaka (target) je: 17.9\n",
      "Maksimalan element u sekvenci je: 666.0\n",
      "Minimalan element u sekvenci je: 0.0\n",
      "Broj elemenata u sekvenci train_data[12]: 13, a oznaka (target) je: 23.1\n",
      "Maksimalan element u sekvenci je: 396.9\n",
      "Minimalan element u sekvenci je: 0.0\n",
      "Broj elemenata u sekvenci train_data[13]: 13, a oznaka (target) je: 19.9\n",
      "Maksimalan element u sekvenci je: 666.0\n",
      "Minimalan element u sekvenci je: 0.0\n",
      "Broj elemenata u sekvenci train_data[14]: 13, a oznaka (target) je: 15.7\n",
      "Maksimalan element u sekvenci je: 359.29\n",
      "Minimalan element u sekvenci je: 0.0\n"
     ]
    }
   ],
   "source": [
    "import numpy as np\n",
    "\n",
    "for i in range(0, 15):\n",
    "    print('Broj elemenata u sekvenci train_data[{0}]: {1}, a oznaka (target) je: {2}'.format(i, len(train_data[i]), train_targets[i]))\n",
    "    print(*['Maksimalan element u sekvenci je:', np.max(train_data[i])])\n",
    "    print(*['Minimalan element u sekvenci je:', np.min(train_data[i])])"
   ]
  },
  {
   "cell_type": "markdown",
   "metadata": {},
   "source": [
    "#### 2.1.4 Koji je opseg vrijednosti (min i max ) za svaki feature u dataset-u?"
   ]
  },
  {
   "cell_type": "code",
   "execution_count": 4,
   "metadata": {},
   "outputs": [
    {
     "name": "stdout",
     "output_type": "stream",
     "text": [
      "Opseg vrijednosti za trazene labele:\n",
      "\n",
      "train_targets opseg (min,max): (5.0,50.0)\n",
      "test_targets opseg (min,max): (5.6,50.0)\n"
     ]
    }
   ],
   "source": [
    "import numpy as np\n",
    "\n",
    "print('Opseg vrijednosti za trazene labele:')\n",
    "print('')\n",
    "print(*['train_targets opseg (min,max):', '({0},{1})'.format(np.min(train_targets), np.max(train_targets))])\n",
    "print(*['test_targets opseg (min,max):', '({0},{1})'.format(np.min(test_targets), np.max(test_targets))])"
   ]
  },
  {
   "cell_type": "markdown",
   "metadata": {},
   "source": [
    "### 2.2 Organizacija podataka"
   ]
  },
  {
   "cell_type": "markdown",
   "metadata": {},
   "source": [
    "#### 2.2.1 Normalizirati sekvence iz skupa za treniranje na nacin kako je objasnjeno iznad. Napisati kod po uzoru na rezultate date ispod."
   ]
  },
  {
   "cell_type": "code",
   "execution_count": 5,
   "metadata": {},
   "outputs": [
    {
     "name": "stdout",
     "output_type": "stream",
     "text": [
      "Srednja vrijednost: [3.74511057e+00 1.14801980e+01 1.11044307e+01 6.18811881e-02\n",
      " 5.57355941e-01 6.26708168e+00 6.90106436e+01 3.74027079e+00\n",
      " 9.44059406e+00 4.05898515e+02 1.84759901e+01 3.54783168e+02\n",
      " 1.27408168e+01]\n",
      "Standardna devijacija: [9.22929073e+00 2.37382770e+01 6.80287253e+00 2.40939633e-01\n",
      " 1.17147847e-01 7.08908627e-01 2.79060634e+01 2.02770050e+00\n",
      " 8.68758849e+00 1.66168506e+02 2.19765689e+00 9.39946015e+01\n",
      " 7.24556085e+00]\n",
      "Primjer prvog vektora u train_data prije normalizacije: [  1.23247   0.        8.14      0.        0.538     6.142    91.7\n",
      "   3.9769    4.      307.       21.      396.9      18.72   ]\n",
      "Primjer prvog vektora iz test_data prije normalizacije: [ 18.0846   0.      18.1      0.       0.679    6.434  100.       1.8347\n",
      "  24.     666.      20.2     27.25    29.05  ]\n",
      "Primjer prvog vektora iz train_data poslije normalizacije: [-0.27224633 -0.48361547 -0.43576161 -0.25683275 -0.1652266  -0.1764426\n",
      "  0.81306188  0.1166983  -0.62624905 -0.59517003  1.14850044  0.44807713\n",
      "  0.8252202 ]\n",
      "Primjer prvog vektora iz test_data poslije normalizacije: [ 1.55369355 -0.48361547  1.0283258  -0.25683275  1.03838067  0.23545815\n",
      "  1.11048828 -0.93976936  1.67588577  1.5652875   0.78447637 -3.48459553\n",
      "  2.25092074]\n"
     ]
    }
   ],
   "source": [
    "import numpy as np\n",
    "\n",
    "mean_value = np.mean(train_data, axis = 0)\n",
    "std_value = np.std(train_data, axis = 0)\n",
    "\n",
    "print(*['Srednja vrijednost:', mean_value])\n",
    "print(*['Standardna devijacija:', std_value])\n",
    "\n",
    "print(*['Primjer prvog vektora u train_data prije normalizacije:', train_data[0]])\n",
    "print(*['Primjer prvog vektora iz test_data prije normalizacije:', test_data[0]])\n",
    "\n",
    "train_data -= mean_value\n",
    "train_data /= std_value\n",
    "\n",
    "# 2.2.2\n",
    "test_data -= mean_value\n",
    "test_data /= std_value\n",
    "\n",
    "print(*['Primjer prvog vektora iz train_data poslije normalizacije:', train_data[0]])\n",
    "print(*['Primjer prvog vektora iz test_data poslije normalizacije:', test_data[0]])"
   ]
  },
  {
   "cell_type": "markdown",
   "metadata": {},
   "source": [
    "#### 2.2.2 Normalizirati sekvence iz skupa za testiranje oduzimajuci srednju vrijednost dobijenu iz skupa za treniranje i djeljenjem sa standardnom devijacijom skupa za treniranje. Napisati kod po uzoru na rezultate date ispod.\n",
    "\n",
    "- Uradjeno u kodu iznad i napisano `# 2.2.2`."
   ]
  },
  {
   "cell_type": "markdown",
   "metadata": {},
   "source": [
    "## 3. Definisanje neuronske mreze"
   ]
  },
  {
   "cell_type": "markdown",
   "metadata": {},
   "source": [
    "### 3.2 Arhitektura mreze"
   ]
  },
  {
   "cell_type": "markdown",
   "metadata": {},
   "source": [
    "#### 3.2.1 Napisati kod za definisanje arhitekture mreze. Kako ce se model ove mreze pozivati nekoliko puta definisati mrezu u funkciji (`def model_mreze():`), koja na izlazu vraca model mreze (`return model`)."
   ]
  },
  {
   "cell_type": "code",
   "execution_count": 6,
   "metadata": {},
   "outputs": [],
   "source": [
    "from keras import models\n",
    "from keras import layers\n",
    "\n",
    "def model_mreze():\n",
    "    model = models.Sequential()\n",
    "    model.add(layers.Dense(64, activation='relu'))\n",
    "    model.add(layers.Dense(64, activation='relu'))\n",
    "    model.add(layers.Dense(1))\n",
    "    \n",
    "    # 3.2.2\n",
    "    model.compile(optimizer='rmsprop', loss='mse', metrics=['mae'])\n",
    "    \n",
    "    return model\n",
    "\n",
    "\n",
    "model = model_mreze()"
   ]
  },
  {
   "cell_type": "markdown",
   "metadata": {},
   "source": [
    "#### 3.2.2 Napisati kod za definisanje optimizatora, funkcije gubitka i mjere greske (definise se u istoj funkciji).\n",
    "\n",
    "- Uradjeno vec i naglaseno u kodu kao `# 3.2.2`."
   ]
  },
  {
   "cell_type": "markdown",
   "metadata": {},
   "source": [
    "#### 3.2.4 Objasnite zasto koristimo `mae`. Objasnite kako tumacimo rezultate ove funkcije.\n",
    "\n",
    "- `mae` mjeri prosjecnu pozitivnu gresku u definisanom setu predikcija, bez poznavanja samih direkcija. Ovo koristimo jer je u pitanju regresija i jer ce na osnovu velicine greske odredjivati se direkcija za regresiju.\n",
    "- Rezultate tumacimo tako da ukoliko se dobije vrijednost `mae = 0.5` to se tumaci kao da predvidanja odstupaju u prosjeku za 500 USD od predvidjene regresije."
   ]
  },
  {
   "cell_type": "markdown",
   "metadata": {},
   "source": [
    "### 3.3 Validacija modela uz koristenje K-fold validacije"
   ]
  },
  {
   "cell_type": "code",
   "execution_count": 7,
   "metadata": {},
   "outputs": [
    {
     "name": "stdout",
     "output_type": "stream",
     "text": [
      "processing fold # 0\n",
      "processing fold # 1\n",
      "processing fold # 2\n",
      "processing fold # 3\n"
     ]
    }
   ],
   "source": [
    "import numpy as np\n",
    "k = 4\n",
    "num_val_samples = len(train_data) // k\n",
    "num_epochs = 100\n",
    "all_scores = []\n",
    "\n",
    "for i in range(k):\n",
    "    print(\"processing fold #\", i)\n",
    "    \n",
    "    val_data = train_data[i * num_val_samples: (i + 1) * num_val_samples]\n",
    "    val_targets = train_targets[i * num_val_samples: (i + 1) * num_val_samples]\n",
    "    \n",
    "    partial_train_data = np.concatenate( [train_data[:i * num_val_samples], train_data[(i + 1) * num_val_samples:]], axis=0)\n",
    "    partial_train_targets = np.concatenate([train_targets[:i * num_val_samples], train_targets[(i + 1) * num_val_samples:]], axis=0)\n",
    "\n",
    "    model = model_mreze()\n",
    "\n",
    "    model.fit(partial_train_data, partial_train_targets, epochs=num_epochs, batch_size=1, verbose=0)\n",
    "\n",
    "    val_mse, val_mae = model.evaluate(val_data, val_targets, verbose=0)\n",
    "\n",
    "    all_scores.append(val_mae)"
   ]
  },
  {
   "cell_type": "markdown",
   "metadata": {},
   "source": [
    "#### 3.3.1 Detaljno objasnite kod za implementiranje K-fold validacije.\n",
    "\n",
    "- Prije svega se dataset za treniranje dijeli na `sample`-ove kojih ima `k`.\n",
    "- Zatim se prolazi kroz `k` iteracija petljom i formiraju se k foldovi, tj. formiraju se respektivno `val_data`, `val_targets`, `partial_train_data` i `partial_train_targets` nizovi koji se koriste za treniranje trenutnog folda. \n",
    "- Svaki fold ima svoj `1` validacijski dataset i preostali dio dataset-a je za treniranje. Za svaki fold se radi treniranje mreze sa batchom velicine `1` i validira na osnovu tog jednog validacijskog dataseta.\n",
    "- Finalno tacnost za svaki fold se dodaje u `all_scores` dataset."
   ]
  },
  {
   "cell_type": "markdown",
   "metadata": {},
   "source": [
    "### 3.4 Povecanje broja epoha"
   ]
  },
  {
   "cell_type": "code",
   "execution_count": 8,
   "metadata": {},
   "outputs": [
    {
     "name": "stdout",
     "output_type": "stream",
     "text": [
      "processing fold # 0\n",
      "processing fold # 1\n",
      "processing fold # 2\n",
      "processing fold # 3\n"
     ]
    },
    {
     "data": {
      "image/png": "[encoded data removed]",
      "text/plain": [
       "<Figure size 432x288 with 1 Axes>"
      ]
     },
     "metadata": {
      "needs_background": "light"
     },
     "output_type": "display_data"
    }
   ],
   "source": [
    "from keras import backend as K\n",
    "import matplotlib.pyplot as plt\n",
    "\n",
    "# Some memory clean-up\n",
    "K.clear_session()\n",
    "num_epochs = 500\n",
    "all_mae_histories = []\n",
    "\n",
    "for i in range(k):\n",
    "    print('processing fold #', i)\n",
    "    \n",
    "    # Prepare the validation data: data from partition # k\n",
    "    val_data = train_data[i * num_val_samples: (i + 1) * num_val_samples]\n",
    "    val_targets = train_targets[i * num_val_samples: (i + 1) * num_val_samples]\n",
    "    \n",
    "    # Prepare the training data: data from all other partitions\n",
    "    partial_train_data = np.concatenate([train_data[:i * num_val_samples], train_data[(i + 1) * num_val_samples:]], axis=0)\n",
    "    partial_train_targets = np.concatenate([train_targets[:i * num_val_samples], train_targets[(i + 1) * num_val_samples:]], axis=0)\n",
    "\n",
    "    # Build the Keras model (already compiled)\n",
    "    model = model_mreze()\n",
    "    # Train the model (in silent mode, verbose=0)\n",
    "\n",
    "    history = model.fit(partial_train_data, partial_train_targets, validation_data=(val_data, val_targets), epochs=num_epochs, batch_size=1, verbose=0)\n",
    "\n",
    "    mae_history = history.history[\"val_mae\"]\n",
    "\n",
    "    all_mae_histories.append(mae_history)\n",
    "\n",
    "average_mae_history = [np.mean([x[i] for x in all_mae_histories]) for i in range(num_epochs)]\n",
    "\n",
    "plt.plot(range(1, len(average_mae_history) + 1), average_mae_history)\n",
    "\n",
    "plt.xlabel('Epochs')\n",
    "\n",
    "plt.ylabel('Validation MAE')\n",
    "\n",
    "plt.show()"
   ]
  },
  {
   "cell_type": "markdown",
   "metadata": {},
   "source": [
    "#### 3.4.1 Detaljno objasnite sta je postignuto sa datim kodom.\n",
    "\n",
    "- Pored vec objasnjene `k-fold` varijante, jer se i ovdje koristi, sada se dodatno u `all_mae_histories` cuvaju za svaku iteraciju folda validacijske srednje vrijednosti apsolutne greske.\n",
    "- Na ovaj nacin ce se za svaku epohu imati `validation MAE` koji je ujedno srednja vrijednost kroz sve iteracije. \n",
    "- Naravno sada je povecan broj epoha u svakoj iteraciji, od prijasnjih `100`, sada se pri svakoj iteraciji koristi `500` epoha.\n",
    "- Na kraju imamo grafik koji predstavlja `validaiton MAE` vrijednost po epohi, te se na osnovu ovog grafika moze odrediti broj optimalnih epoha."
   ]
  },
  {
   "cell_type": "markdown",
   "metadata": {},
   "source": [
    "### 3.4.1 Tumacenje rezultata "
   ]
  },
  {
   "cell_type": "code",
   "execution_count": 9,
   "metadata": {},
   "outputs": [
    {
     "data": {
      "image/png": "[encoded data removed]",
      "text/plain": [
       "<Figure size 432x288 with 1 Axes>"
      ]
     },
     "metadata": {
      "needs_background": "light"
     },
     "output_type": "display_data"
    }
   ],
   "source": [
    "def smooth_curve(points, factor=0.9):\n",
    "    smoothed_points = []\n",
    "    for point in points:\n",
    "        if smoothed_points:\n",
    "            previous = smoothed_points[-1]\n",
    "            smoothed_points.append(previous * factor + point * (1 - factor))\n",
    "        else:\n",
    "            smoothed_points.append(point)\n",
    "    \n",
    "    return smoothed_points\n",
    "\n",
    "smooth_mae_history = smooth_curve(average_mae_history[10:])\n",
    "\n",
    "plt.plot(range(1, len(smooth_mae_history) + 1), smooth_mae_history)\n",
    "plt.xlabel(\"Epochs\")\n",
    "plt.ylabel(\"Validation MAE\")\n",
    "\n",
    "plt.show()"
   ]
  },
  {
   "cell_type": "markdown",
   "metadata": {},
   "source": [
    "#### 3.4.1.1 Sa zadnjeg grafa (slika 4) moguce je donijeti zakljucak o optimalnom broju epoha koje treba koristiti u ovom slucaju. Objasnite na koji nacin je izvrsen prikaz informacija.\n",
    "\n",
    "- Dobijeni `validation MAE` po epohama dataset-a je proslijedjen funkciji `smooth_curve` koja prima grafik tj. podatke za grafik i odredjeni `factor` koji je po defaultu `0.9`. Treba napomenuti da se ne salju prvih 10 vrijednosti jer na osnovu grafa imaju vecu `y` vrijednost od svih ostalih tacaka.\n",
    "- Prolaskom kroz sve tacke (`points`), ako je prva tacka u pitanju ona se dodaje u `smoothed_points`, a ako nije uzima se prethodna tacka i na osnovu formule `previous * factor + point * (1 - factor)` se racuna naredna tacka. Ovakva transformacija se naziva eksponencijalni pomicni prosjek.\n",
    "- Zavrsetkom se salju nove tacke po pitanju srednje vrijednosti `mae` historije. Ovo nam omogucava precizniji prikaz sa manjom varijansom, te pomocu ovog moze se preciznije odrediti optimalan broj epoha."
   ]
  },
  {
   "cell_type": "markdown",
   "metadata": {},
   "source": [
    "#### 3.4.1.2 Koji je optimalan broja epoha koji se treba koristiti u ovom slucaju?\n",
    "\n",
    "- Optimalan broj epoha u ovom slucaju je `50`."
   ]
  }
 ],
 "metadata": {
  "kernelspec": {
   "display_name": "Python 3",
   "language": "python",
   "name": "python3"
  },
  "language_info": {
   "codemirror_mode": {
    "name": "ipython",
    "version": 3
   },
   "file_extension": ".py",
   "mimetype": "text/x-python",
   "name": "python",
   "nbconvert_exporter": "python",
   "pygments_lexer": "ipython3",
   "version": "3.8.5"
  }
 },
 "nbformat": 4,
 "nbformat_minor": 4
}
