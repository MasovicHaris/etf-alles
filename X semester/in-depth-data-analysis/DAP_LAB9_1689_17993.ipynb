{
  "nbformat": 4,
  "nbformat_minor": 5,
  "metadata": {
    "accelerator": "GPU",
    "colab": {
      "name": "DAP_LAB9_1689_17993.ipynb",
      "provenance": [],
      "collapsed_sections": []
    },
    "kernelspec": {
      "display_name": "Python 3",
      "language": "python",
      "name": "python3"
    },
    "language_info": {
      "codemirror_mode": {
        "name": "ipython",
        "version": 3
      },
      "file_extension": ".py",
      "mimetype": "text/x-python",
      "name": "python",
      "nbconvert_exporter": "python",
      "pygments_lexer": "ipython3",
      "version": "3.9.1"
    }
  },
  "cells": [
    {
      "cell_type": "markdown",
      "metadata": {
        "id": "built-subdivision"
      },
      "source": [
        "Univerzitet u Sarajevu\n",
        "\n",
        "Elektrotehnički fakultet\n",
        "\n",
        "#### **Dubinska analiza podataka**\n",
        "\n",
        "# Laboratorijska vježba 9. - Klasifikacija Teksta Koristeći Metode Dubinskog Učenja\n",
        "\n",
        "---"
      ],
      "id": "built-subdivision"
    },
    {
      "cell_type": "markdown",
      "metadata": {
        "id": "educational-farmer"
      },
      "source": [
        "Izrada laboratorijske vježbe vrši se u ovom *Jupyter Notebook*-u. Isti je potrebno konvertovati u PDF dokument i predati na email adresu ekrupalija1@etf.unsa.ba."
      ],
      "id": "educational-farmer"
    },
    {
      "cell_type": "markdown",
      "metadata": {
        "id": "anticipated-shoulder"
      },
      "source": [
        "Ime i prezime studenta, broj indeksa:"
      ],
      "id": "anticipated-shoulder"
    },
    {
      "cell_type": "markdown",
      "metadata": {
        "id": "young-geometry"
      },
      "source": [
        "Haris Masovic, 1689/17993"
      ],
      "id": "young-geometry"
    },
    {
      "cell_type": "markdown",
      "metadata": {
        "id": "handed-principal"
      },
      "source": [
        "Datum izrade izvještaja:"
      ],
      "id": "handed-principal"
    },
    {
      "cell_type": "markdown",
      "metadata": {
        "id": "equal-opening"
      },
      "source": [
        "23.05.2021"
      ],
      "id": "equal-opening"
    },
    {
      "cell_type": "markdown",
      "metadata": {
        "id": "focused-curve"
      },
      "source": [
        "**Za pomoć pri izradi izvještaja koristiti materijale za rad na predmetu *Predavanje 9*.**"
      ],
      "id": "focused-curve"
    },
    {
      "cell_type": "code",
      "metadata": {
        "colab": {
          "base_uri": "https://localhost:8080/"
        },
        "id": "m0jdwMGsllfZ",
        "outputId": "f0bb8b08-ef3b-4c26-9b85-bedf884b4ba1"
      },
      "source": [
        "from google.colab import drive\n",
        "\n",
        "drive.mount('/content/drive')"
      ],
      "id": "m0jdwMGsllfZ",
      "execution_count": 1,
      "outputs": [
        {
          "output_type": "stream",
          "text": [
            "Drive already mounted at /content/drive; to attempt to forcibly remount, call drive.mount(\"/content/drive\", force_remount=True).\n"
          ],
          "name": "stdout"
        }
      ]
    },
    {
      "cell_type": "markdown",
      "metadata": {
        "id": "funky-crown"
      },
      "source": [
        "----\n",
        "\n",
        "### Zadatak 1. - Učitavanje *dataseta*\n",
        "\n",
        "U okviru ovog zadatka potrebno je izvršiti učitavanje svih prethodno formiranih prezentacija *dataseta* u varijable koje će se iskoristiti za klasifikaciju teksta."
      ],
      "id": "funky-crown"
    },
    {
      "cell_type": "markdown",
      "metadata": {
        "id": "binary-speed"
      },
      "source": [
        "**Zadatak:**\n",
        "    \n",
        "> Preuzeti *dataset* koji se nalazi na [sljedećem linku](https://drive.google.com/file/d/1jpLVnCHZB68DBKv_gDsUaLFDPefEWEz6/view?usp=sharing).\n",
        ">\n",
        "> *Dataset* ima sljedeći oblik:\n",
        ">\n",
        "> ![](https://docs.google.com/uc?export=download&id=1TArmNDDqr_Od4mHSyMVw1nOfYu3UbxhL)\n",
        ">\n",
        "> Potrebno je učitati sve kolone iz *dataseta*.\n",
        ">\n",
        "> Ispisati cijeli *dataset* ili prvi red podataka nakon učitavanja."
      ],
      "id": "binary-speed"
    },
    {
      "cell_type": "code",
      "metadata": {
        "colab": {
          "base_uri": "https://localhost:8080/",
          "height": 1000
        },
        "id": "sunset-newspaper",
        "outputId": "19166006-298a-4909-8dc4-5a0821a79483"
      },
      "source": [
        "import pandas\n",
        "\n",
        "path_to_csv = \"/content/drive/MyDrive/dap-lab9/\"\n",
        "\n",
        "full_economic_news_df = pandas.read_csv(path_to_csv + \"Full-Economic-News-DFE-839861.csv\")\n",
        "\n",
        "full_economic_news_df"
      ],
      "id": "sunset-newspaper",
      "execution_count": 2,
      "outputs": [
        {
          "output_type": "execute_result",
          "data": {
            "text/html": [
              "<div>\n",
              "<style scoped>\n",
              "    .dataframe tbody tr th:only-of-type {\n",
              "        vertical-align: middle;\n",
              "    }\n",
              "\n",
              "    .dataframe tbody tr th {\n",
              "        vertical-align: top;\n",
              "    }\n",
              "\n",
              "    .dataframe thead th {\n",
              "        text-align: right;\n",
              "    }\n",
              "</style>\n",
              "<table border=\"1\" class=\"dataframe\">\n",
              "  <thead>\n",
              "    <tr style=\"text-align: right;\">\n",
              "      <th></th>\n",
              "      <th>_unit_id</th>\n",
              "      <th>_golden</th>\n",
              "      <th>_unit_state</th>\n",
              "      <th>_trusted_judgments</th>\n",
              "      <th>_last_judgment_at</th>\n",
              "      <th>positivity</th>\n",
              "      <th>positivity:confidence</th>\n",
              "      <th>relevance</th>\n",
              "      <th>relevance:confidence</th>\n",
              "      <th>articleid</th>\n",
              "      <th>date</th>\n",
              "      <th>headline</th>\n",
              "      <th>positivity_gold</th>\n",
              "      <th>relevance_gold</th>\n",
              "      <th>text</th>\n",
              "    </tr>\n",
              "  </thead>\n",
              "  <tbody>\n",
              "    <tr>\n",
              "      <th>0</th>\n",
              "      <td>842613455</td>\n",
              "      <td>False</td>\n",
              "      <td>finalized</td>\n",
              "      <td>3</td>\n",
              "      <td>12/5/2015 17:48:27</td>\n",
              "      <td>3.0</td>\n",
              "      <td>0.6400</td>\n",
              "      <td>yes</td>\n",
              "      <td>0.6400</td>\n",
              "      <td>wsj_398217788</td>\n",
              "      <td>1991-08-14</td>\n",
              "      <td>Yields on CDs Fell in the Latest Week</td>\n",
              "      <td>NaN</td>\n",
              "      <td>NaN</td>\n",
              "      <td>NEW YORK -- Yields on most certificates of dep...</td>\n",
              "    </tr>\n",
              "    <tr>\n",
              "      <th>1</th>\n",
              "      <td>842613456</td>\n",
              "      <td>False</td>\n",
              "      <td>finalized</td>\n",
              "      <td>3</td>\n",
              "      <td>12/5/2015 16:54:25</td>\n",
              "      <td>NaN</td>\n",
              "      <td>NaN</td>\n",
              "      <td>no</td>\n",
              "      <td>1.0000</td>\n",
              "      <td>wsj_399019502</td>\n",
              "      <td>2007-08-21</td>\n",
              "      <td>The Morning Brief: White House Seeks to Limit ...</td>\n",
              "      <td>NaN</td>\n",
              "      <td>NaN</td>\n",
              "      <td>The Wall Street Journal Online&lt;/br&gt;&lt;/br&gt;The Mo...</td>\n",
              "    </tr>\n",
              "    <tr>\n",
              "      <th>2</th>\n",
              "      <td>842613457</td>\n",
              "      <td>False</td>\n",
              "      <td>finalized</td>\n",
              "      <td>3</td>\n",
              "      <td>12/5/2015 01:59:03</td>\n",
              "      <td>NaN</td>\n",
              "      <td>NaN</td>\n",
              "      <td>no</td>\n",
              "      <td>1.0000</td>\n",
              "      <td>wsj_398284048</td>\n",
              "      <td>1991-11-14</td>\n",
              "      <td>Banking Bill Negotiators Set Compromise --- Pl...</td>\n",
              "      <td>NaN</td>\n",
              "      <td>NaN</td>\n",
              "      <td>WASHINGTON -- In an effort to achieve banking ...</td>\n",
              "    </tr>\n",
              "    <tr>\n",
              "      <th>3</th>\n",
              "      <td>842613458</td>\n",
              "      <td>False</td>\n",
              "      <td>finalized</td>\n",
              "      <td>3</td>\n",
              "      <td>12/5/2015 02:19:39</td>\n",
              "      <td>NaN</td>\n",
              "      <td>0.0000</td>\n",
              "      <td>no</td>\n",
              "      <td>0.6750</td>\n",
              "      <td>wsj_397959018</td>\n",
              "      <td>1986-06-16</td>\n",
              "      <td>Manager's Journal: Sniffing Out Drug Abusers I...</td>\n",
              "      <td>NaN</td>\n",
              "      <td>NaN</td>\n",
              "      <td>The statistics on the enormous costs of employ...</td>\n",
              "    </tr>\n",
              "    <tr>\n",
              "      <th>4</th>\n",
              "      <td>842613459</td>\n",
              "      <td>False</td>\n",
              "      <td>finalized</td>\n",
              "      <td>3</td>\n",
              "      <td>12/5/2015 17:48:27</td>\n",
              "      <td>3.0</td>\n",
              "      <td>0.3257</td>\n",
              "      <td>yes</td>\n",
              "      <td>0.6400</td>\n",
              "      <td>wsj_398838054</td>\n",
              "      <td>2002-10-04</td>\n",
              "      <td>Currency Trading: Dollar Remains in Tight Rang...</td>\n",
              "      <td>NaN</td>\n",
              "      <td>NaN</td>\n",
              "      <td>NEW YORK -- Indecision marked the dollar's ton...</td>\n",
              "    </tr>\n",
              "    <tr>\n",
              "      <th>...</th>\n",
              "      <td>...</td>\n",
              "      <td>...</td>\n",
              "      <td>...</td>\n",
              "      <td>...</td>\n",
              "      <td>...</td>\n",
              "      <td>...</td>\n",
              "      <td>...</td>\n",
              "      <td>...</td>\n",
              "      <td>...</td>\n",
              "      <td>...</td>\n",
              "      <td>...</td>\n",
              "      <td>...</td>\n",
              "      <td>...</td>\n",
              "      <td>...</td>\n",
              "      <td>...</td>\n",
              "    </tr>\n",
              "    <tr>\n",
              "      <th>7995</th>\n",
              "      <td>830985632</td>\n",
              "      <td>False</td>\n",
              "      <td>finalized</td>\n",
              "      <td>3</td>\n",
              "      <td>11/17/2015 18:16:29</td>\n",
              "      <td>7.0</td>\n",
              "      <td>0.3511</td>\n",
              "      <td>yes</td>\n",
              "      <td>0.6641</td>\n",
              "      <td>wapo_152454634</td>\n",
              "      <td>1952-02-11</td>\n",
              "      <td>Sawyer Sees Strong Economy For 2 Years, Truce ...</td>\n",
              "      <td>NaN</td>\n",
              "      <td>NaN</td>\n",
              "      <td>Secretary of Commerce Charles W. Sawyer said y...</td>\n",
              "    </tr>\n",
              "    <tr>\n",
              "      <th>7996</th>\n",
              "      <td>830985633</td>\n",
              "      <td>False</td>\n",
              "      <td>finalized</td>\n",
              "      <td>3</td>\n",
              "      <td>11/18/2015 08:10:02</td>\n",
              "      <td>NaN</td>\n",
              "      <td>NaN</td>\n",
              "      <td>no</td>\n",
              "      <td>1.0000</td>\n",
              "      <td>wapo_410349039</td>\n",
              "      <td>2009-12-13</td>\n",
              "      <td>Oil's losses are airlines' gains</td>\n",
              "      <td>NaN</td>\n",
              "      <td>NaN</td>\n",
              "      <td>U.S. stocks inched up last week, overcoming co...</td>\n",
              "    </tr>\n",
              "    <tr>\n",
              "      <th>7997</th>\n",
              "      <td>830985634</td>\n",
              "      <td>False</td>\n",
              "      <td>finalized</td>\n",
              "      <td>3</td>\n",
              "      <td>11/18/2015 12:12:00</td>\n",
              "      <td>NaN</td>\n",
              "      <td>NaN</td>\n",
              "      <td>no</td>\n",
              "      <td>1.0000</td>\n",
              "      <td>wapo_410346237</td>\n",
              "      <td>2009-12-18</td>\n",
              "      <td>Full Senate to vote on Bernanke; PANEL ADVANCE...</td>\n",
              "      <td>NaN</td>\n",
              "      <td>NaN</td>\n",
              "      <td>Ben S. Bernanke cleared a key hurdle Thursday ...</td>\n",
              "    </tr>\n",
              "    <tr>\n",
              "      <th>7998</th>\n",
              "      <td>830985635</td>\n",
              "      <td>False</td>\n",
              "      <td>finalized</td>\n",
              "      <td>3</td>\n",
              "      <td>11/18/2015 07:17:44</td>\n",
              "      <td>NaN</td>\n",
              "      <td>0.0000</td>\n",
              "      <td>no</td>\n",
              "      <td>0.6855</td>\n",
              "      <td>wapo_307808606</td>\n",
              "      <td>1995-01-10</td>\n",
              "      <td>Reinventing Opportunities</td>\n",
              "      <td>NaN</td>\n",
              "      <td>NaN</td>\n",
              "      <td>The White House's push to contract out many fe...</td>\n",
              "    </tr>\n",
              "    <tr>\n",
              "      <th>7999</th>\n",
              "      <td>830985636</td>\n",
              "      <td>False</td>\n",
              "      <td>finalized</td>\n",
              "      <td>3</td>\n",
              "      <td>11/18/2015 11:05:43</td>\n",
              "      <td>NaN</td>\n",
              "      <td>NaN</td>\n",
              "      <td>no</td>\n",
              "      <td>1.0000</td>\n",
              "      <td>wapo_143151328</td>\n",
              "      <td>1967-04-18</td>\n",
              "      <td>Stocks Rise On News of Auto Output: Dow Climbs...</td>\n",
              "      <td>NaN</td>\n",
              "      <td>NaN</td>\n",
              "      <td>NEW YORK. April 17-Automobile stocks put on th...</td>\n",
              "    </tr>\n",
              "  </tbody>\n",
              "</table>\n",
              "<p>8000 rows × 15 columns</p>\n",
              "</div>"
            ],
            "text/plain": [
              "       _unit_id  ...                                               text\n",
              "0     842613455  ...  NEW YORK -- Yields on most certificates of dep...\n",
              "1     842613456  ...  The Wall Street Journal Online</br></br>The Mo...\n",
              "2     842613457  ...  WASHINGTON -- In an effort to achieve banking ...\n",
              "3     842613458  ...  The statistics on the enormous costs of employ...\n",
              "4     842613459  ...  NEW YORK -- Indecision marked the dollar's ton...\n",
              "...         ...  ...                                                ...\n",
              "7995  830985632  ...  Secretary of Commerce Charles W. Sawyer said y...\n",
              "7996  830985633  ...  U.S. stocks inched up last week, overcoming co...\n",
              "7997  830985634  ...  Ben S. Bernanke cleared a key hurdle Thursday ...\n",
              "7998  830985635  ...  The White House's push to contract out many fe...\n",
              "7999  830985636  ...  NEW YORK. April 17-Automobile stocks put on th...\n",
              "\n",
              "[8000 rows x 15 columns]"
            ]
          },
          "metadata": {
            "tags": []
          },
          "execution_count": 2
        }
      ]
    },
    {
      "cell_type": "markdown",
      "metadata": {
        "id": "hydraulic-responsibility"
      },
      "source": [
        "**Zadatak:**\n",
        "    \n",
        "> Preuzeti *dataset* koji se nalazi na [sljedećem linku](https://drive.google.com/file/d/1ExLtx9kKHdaBg2lBG1lmLVLQiyS9oh8P/view?usp=sharing).\n",
        ">\n",
        "> *Dataset* ima sljedeći oblik:\n",
        ">\n",
        "> ![](https://docs.google.com/uc?export=download&id=1rslXJQSyF5ND9xTK89q63qt9ZqrB3i1i)\n",
        ">\n",
        "> Potrebno je učitati sve kolone iz *dataseta*. Voditi računa o tome da se podaci ne učitaju kao jedan veliki string, nego kao lista float varijabli, na isti način na koji su bili reprezentirani prije spašavanja u *file* u prethodnim laboratorijskim vježbama.\n",
        ">\n",
        "> Kako ne sadrže svi redovi isti broj varijabli (zbog varijabilne dužine i različitog broja riječi), pri formiranju <code>DataFrame</code> objekta doći će do pojave velikog broja NaN vrijednosti. Te vrijednosti potrebno je pretvoriti u 0, korištenjem <code>numpy</code> biblioteke ili na drugi željeni način.\n",
        ">\n",
        "> Ispisati cijeli *dataset* ili prvi red podataka nakon učitavanja."
      ],
      "id": "hydraulic-responsibility"
    },
    {
      "cell_type": "code",
      "metadata": {
        "colab": {
          "base_uri": "https://localhost:8080/",
          "height": 439
        },
        "id": "biDRf-BAm_sy",
        "outputId": "55e976c4-2e95-4c32-ba56-6cecc860ecbd"
      },
      "source": [
        "import ast\n",
        "import numpy as np\n",
        "\n",
        "# ucitavanje dataseta\n",
        "cbow_representation_df = pandas.read_csv(path_to_csv + \"cbow_representation.csv\")\n",
        "\n",
        "cbow_representation_df['original_tokens'] = cbow_representation_df['original_tokens'].apply(lambda x: ast.literal_eval(x))\n",
        "\n",
        "data_float = []\n",
        "for row in cbow_representation_df['vector_cbow']:\n",
        "    floats = row.split(\" \")\n",
        "    row_of_floats = []\n",
        "    for f in floats:\n",
        "        row_of_floats.append(float(f))\n",
        "    \n",
        "    data_float.append(row_of_floats)\n",
        "\n",
        "\n",
        "data_float = pandas.DataFrame(data_float)\n",
        "data_float = data_float.replace(np.nan, 0)\n",
        "\n",
        "# ispisivanje dataseta\n",
        "data_float\n"
      ],
      "id": "biDRf-BAm_sy",
      "execution_count": 3,
      "outputs": [
        {
          "output_type": "execute_result",
          "data": {
            "text/html": [
              "<div>\n",
              "<style scoped>\n",
              "    .dataframe tbody tr th:only-of-type {\n",
              "        vertical-align: middle;\n",
              "    }\n",
              "\n",
              "    .dataframe tbody tr th {\n",
              "        vertical-align: top;\n",
              "    }\n",
              "\n",
              "    .dataframe thead th {\n",
              "        text-align: right;\n",
              "    }\n",
              "</style>\n",
              "<table border=\"1\" class=\"dataframe\">\n",
              "  <thead>\n",
              "    <tr style=\"text-align: right;\">\n",
              "      <th></th>\n",
              "      <th>0</th>\n",
              "      <th>1</th>\n",
              "      <th>2</th>\n",
              "      <th>3</th>\n",
              "      <th>4</th>\n",
              "      <th>5</th>\n",
              "      <th>6</th>\n",
              "      <th>7</th>\n",
              "      <th>8</th>\n",
              "      <th>9</th>\n",
              "      <th>10</th>\n",
              "      <th>11</th>\n",
              "      <th>12</th>\n",
              "      <th>13</th>\n",
              "      <th>14</th>\n",
              "      <th>15</th>\n",
              "      <th>16</th>\n",
              "      <th>17</th>\n",
              "      <th>18</th>\n",
              "      <th>19</th>\n",
              "      <th>20</th>\n",
              "      <th>21</th>\n",
              "      <th>22</th>\n",
              "      <th>23</th>\n",
              "      <th>24</th>\n",
              "      <th>25</th>\n",
              "      <th>26</th>\n",
              "      <th>27</th>\n",
              "      <th>28</th>\n",
              "      <th>29</th>\n",
              "      <th>30</th>\n",
              "      <th>31</th>\n",
              "      <th>32</th>\n",
              "      <th>33</th>\n",
              "      <th>34</th>\n",
              "      <th>35</th>\n",
              "      <th>36</th>\n",
              "      <th>37</th>\n",
              "      <th>38</th>\n",
              "      <th>39</th>\n",
              "      <th>...</th>\n",
              "      <th>4750</th>\n",
              "      <th>4751</th>\n",
              "      <th>4752</th>\n",
              "      <th>4753</th>\n",
              "      <th>4754</th>\n",
              "      <th>4755</th>\n",
              "      <th>4756</th>\n",
              "      <th>4757</th>\n",
              "      <th>4758</th>\n",
              "      <th>4759</th>\n",
              "      <th>4760</th>\n",
              "      <th>4761</th>\n",
              "      <th>4762</th>\n",
              "      <th>4763</th>\n",
              "      <th>4764</th>\n",
              "      <th>4765</th>\n",
              "      <th>4766</th>\n",
              "      <th>4767</th>\n",
              "      <th>4768</th>\n",
              "      <th>4769</th>\n",
              "      <th>4770</th>\n",
              "      <th>4771</th>\n",
              "      <th>4772</th>\n",
              "      <th>4773</th>\n",
              "      <th>4774</th>\n",
              "      <th>4775</th>\n",
              "      <th>4776</th>\n",
              "      <th>4777</th>\n",
              "      <th>4778</th>\n",
              "      <th>4779</th>\n",
              "      <th>4780</th>\n",
              "      <th>4781</th>\n",
              "      <th>4782</th>\n",
              "      <th>4783</th>\n",
              "      <th>4784</th>\n",
              "      <th>4785</th>\n",
              "      <th>4786</th>\n",
              "      <th>4787</th>\n",
              "      <th>4788</th>\n",
              "      <th>4789</th>\n",
              "    </tr>\n",
              "  </thead>\n",
              "  <tbody>\n",
              "    <tr>\n",
              "      <th>0</th>\n",
              "      <td>1.284636</td>\n",
              "      <td>0.652393</td>\n",
              "      <td>-2.405397</td>\n",
              "      <td>2.669240</td>\n",
              "      <td>3.965975</td>\n",
              "      <td>3.469808</td>\n",
              "      <td>3.324732</td>\n",
              "      <td>2.170538</td>\n",
              "      <td>-2.391253</td>\n",
              "      <td>4.441098</td>\n",
              "      <td>1.284636</td>\n",
              "      <td>0.652393</td>\n",
              "      <td>-2.405397</td>\n",
              "      <td>2.669240</td>\n",
              "      <td>3.965975</td>\n",
              "      <td>3.469808</td>\n",
              "      <td>3.324732</td>\n",
              "      <td>2.170538</td>\n",
              "      <td>-2.391253</td>\n",
              "      <td>4.441098</td>\n",
              "      <td>1.650084</td>\n",
              "      <td>-6.494556</td>\n",
              "      <td>-4.387665</td>\n",
              "      <td>-2.437482</td>\n",
              "      <td>-4.027659</td>\n",
              "      <td>-9.843685</td>\n",
              "      <td>-1.521189</td>\n",
              "      <td>6.273397</td>\n",
              "      <td>-0.847346</td>\n",
              "      <td>6.389258</td>\n",
              "      <td>1.650084</td>\n",
              "      <td>-6.494556</td>\n",
              "      <td>-4.387665</td>\n",
              "      <td>-2.437482</td>\n",
              "      <td>-4.027659</td>\n",
              "      <td>-9.843685</td>\n",
              "      <td>-1.521189</td>\n",
              "      <td>6.273397</td>\n",
              "      <td>-0.847346</td>\n",
              "      <td>6.389258</td>\n",
              "      <td>...</td>\n",
              "      <td>0.0</td>\n",
              "      <td>0.0</td>\n",
              "      <td>0.0</td>\n",
              "      <td>0.0</td>\n",
              "      <td>0.0</td>\n",
              "      <td>0.0</td>\n",
              "      <td>0.0</td>\n",
              "      <td>0.0</td>\n",
              "      <td>0.0</td>\n",
              "      <td>0.0</td>\n",
              "      <td>0.0</td>\n",
              "      <td>0.0</td>\n",
              "      <td>0.0</td>\n",
              "      <td>0.0</td>\n",
              "      <td>0.0</td>\n",
              "      <td>0.0</td>\n",
              "      <td>0.0</td>\n",
              "      <td>0.0</td>\n",
              "      <td>0.0</td>\n",
              "      <td>0.0</td>\n",
              "      <td>0.0</td>\n",
              "      <td>0.0</td>\n",
              "      <td>0.0</td>\n",
              "      <td>0.0</td>\n",
              "      <td>0.0</td>\n",
              "      <td>0.0</td>\n",
              "      <td>0.0</td>\n",
              "      <td>0.0</td>\n",
              "      <td>0.0</td>\n",
              "      <td>0.0</td>\n",
              "      <td>0.0</td>\n",
              "      <td>0.0</td>\n",
              "      <td>0.0</td>\n",
              "      <td>0.0</td>\n",
              "      <td>0.0</td>\n",
              "      <td>0.0</td>\n",
              "      <td>0.0</td>\n",
              "      <td>0.0</td>\n",
              "      <td>0.0</td>\n",
              "      <td>0.0</td>\n",
              "    </tr>\n",
              "    <tr>\n",
              "      <th>1</th>\n",
              "      <td>-0.385507</td>\n",
              "      <td>0.294450</td>\n",
              "      <td>-1.660104</td>\n",
              "      <td>1.720707</td>\n",
              "      <td>-0.566837</td>\n",
              "      <td>-1.797949</td>\n",
              "      <td>2.821771</td>\n",
              "      <td>2.456715</td>\n",
              "      <td>-1.114054</td>\n",
              "      <td>3.344746</td>\n",
              "      <td>-0.385507</td>\n",
              "      <td>0.294450</td>\n",
              "      <td>-1.660104</td>\n",
              "      <td>1.720707</td>\n",
              "      <td>-0.566837</td>\n",
              "      <td>-1.797949</td>\n",
              "      <td>2.821771</td>\n",
              "      <td>2.456715</td>\n",
              "      <td>-1.114054</td>\n",
              "      <td>3.344746</td>\n",
              "      <td>-0.385507</td>\n",
              "      <td>0.294450</td>\n",
              "      <td>-1.660104</td>\n",
              "      <td>1.720707</td>\n",
              "      <td>-0.566837</td>\n",
              "      <td>-1.797949</td>\n",
              "      <td>2.821771</td>\n",
              "      <td>2.456715</td>\n",
              "      <td>-1.114054</td>\n",
              "      <td>3.344746</td>\n",
              "      <td>-4.285338</td>\n",
              "      <td>-2.566572</td>\n",
              "      <td>-2.721272</td>\n",
              "      <td>1.060466</td>\n",
              "      <td>-1.342107</td>\n",
              "      <td>-3.791157</td>\n",
              "      <td>-4.267499</td>\n",
              "      <td>-1.604124</td>\n",
              "      <td>-2.700957</td>\n",
              "      <td>9.397190</td>\n",
              "      <td>...</td>\n",
              "      <td>0.0</td>\n",
              "      <td>0.0</td>\n",
              "      <td>0.0</td>\n",
              "      <td>0.0</td>\n",
              "      <td>0.0</td>\n",
              "      <td>0.0</td>\n",
              "      <td>0.0</td>\n",
              "      <td>0.0</td>\n",
              "      <td>0.0</td>\n",
              "      <td>0.0</td>\n",
              "      <td>0.0</td>\n",
              "      <td>0.0</td>\n",
              "      <td>0.0</td>\n",
              "      <td>0.0</td>\n",
              "      <td>0.0</td>\n",
              "      <td>0.0</td>\n",
              "      <td>0.0</td>\n",
              "      <td>0.0</td>\n",
              "      <td>0.0</td>\n",
              "      <td>0.0</td>\n",
              "      <td>0.0</td>\n",
              "      <td>0.0</td>\n",
              "      <td>0.0</td>\n",
              "      <td>0.0</td>\n",
              "      <td>0.0</td>\n",
              "      <td>0.0</td>\n",
              "      <td>0.0</td>\n",
              "      <td>0.0</td>\n",
              "      <td>0.0</td>\n",
              "      <td>0.0</td>\n",
              "      <td>0.0</td>\n",
              "      <td>0.0</td>\n",
              "      <td>0.0</td>\n",
              "      <td>0.0</td>\n",
              "      <td>0.0</td>\n",
              "      <td>0.0</td>\n",
              "      <td>0.0</td>\n",
              "      <td>0.0</td>\n",
              "      <td>0.0</td>\n",
              "      <td>0.0</td>\n",
              "    </tr>\n",
              "    <tr>\n",
              "      <th>2</th>\n",
              "      <td>-0.231812</td>\n",
              "      <td>-0.681910</td>\n",
              "      <td>-1.859726</td>\n",
              "      <td>0.406435</td>\n",
              "      <td>1.973416</td>\n",
              "      <td>-2.743707</td>\n",
              "      <td>2.524849</td>\n",
              "      <td>-0.505982</td>\n",
              "      <td>-0.476066</td>\n",
              "      <td>3.692495</td>\n",
              "      <td>-1.079705</td>\n",
              "      <td>1.138343</td>\n",
              "      <td>-1.428930</td>\n",
              "      <td>2.004181</td>\n",
              "      <td>0.528427</td>\n",
              "      <td>-2.991364</td>\n",
              "      <td>1.559202</td>\n",
              "      <td>2.432396</td>\n",
              "      <td>-1.957070</td>\n",
              "      <td>2.212273</td>\n",
              "      <td>-1.423961</td>\n",
              "      <td>0.623235</td>\n",
              "      <td>-0.400766</td>\n",
              "      <td>-2.770990</td>\n",
              "      <td>-0.189297</td>\n",
              "      <td>-0.638085</td>\n",
              "      <td>4.501299</td>\n",
              "      <td>0.761166</td>\n",
              "      <td>-2.941585</td>\n",
              "      <td>2.350682</td>\n",
              "      <td>-1.423961</td>\n",
              "      <td>0.623235</td>\n",
              "      <td>-0.400766</td>\n",
              "      <td>-2.770990</td>\n",
              "      <td>-0.189297</td>\n",
              "      <td>-0.638085</td>\n",
              "      <td>4.501299</td>\n",
              "      <td>0.761166</td>\n",
              "      <td>-2.941585</td>\n",
              "      <td>2.350682</td>\n",
              "      <td>...</td>\n",
              "      <td>0.0</td>\n",
              "      <td>0.0</td>\n",
              "      <td>0.0</td>\n",
              "      <td>0.0</td>\n",
              "      <td>0.0</td>\n",
              "      <td>0.0</td>\n",
              "      <td>0.0</td>\n",
              "      <td>0.0</td>\n",
              "      <td>0.0</td>\n",
              "      <td>0.0</td>\n",
              "      <td>0.0</td>\n",
              "      <td>0.0</td>\n",
              "      <td>0.0</td>\n",
              "      <td>0.0</td>\n",
              "      <td>0.0</td>\n",
              "      <td>0.0</td>\n",
              "      <td>0.0</td>\n",
              "      <td>0.0</td>\n",
              "      <td>0.0</td>\n",
              "      <td>0.0</td>\n",
              "      <td>0.0</td>\n",
              "      <td>0.0</td>\n",
              "      <td>0.0</td>\n",
              "      <td>0.0</td>\n",
              "      <td>0.0</td>\n",
              "      <td>0.0</td>\n",
              "      <td>0.0</td>\n",
              "      <td>0.0</td>\n",
              "      <td>0.0</td>\n",
              "      <td>0.0</td>\n",
              "      <td>0.0</td>\n",
              "      <td>0.0</td>\n",
              "      <td>0.0</td>\n",
              "      <td>0.0</td>\n",
              "      <td>0.0</td>\n",
              "      <td>0.0</td>\n",
              "      <td>0.0</td>\n",
              "      <td>0.0</td>\n",
              "      <td>0.0</td>\n",
              "      <td>0.0</td>\n",
              "    </tr>\n",
              "    <tr>\n",
              "      <th>3</th>\n",
              "      <td>-0.385507</td>\n",
              "      <td>0.294450</td>\n",
              "      <td>-1.660104</td>\n",
              "      <td>1.720707</td>\n",
              "      <td>-0.566837</td>\n",
              "      <td>-1.797949</td>\n",
              "      <td>2.821771</td>\n",
              "      <td>2.456715</td>\n",
              "      <td>-1.114054</td>\n",
              "      <td>3.344746</td>\n",
              "      <td>-0.385507</td>\n",
              "      <td>0.294450</td>\n",
              "      <td>-1.660104</td>\n",
              "      <td>1.720707</td>\n",
              "      <td>-0.566837</td>\n",
              "      <td>-1.797949</td>\n",
              "      <td>2.821771</td>\n",
              "      <td>2.456715</td>\n",
              "      <td>-1.114054</td>\n",
              "      <td>3.344746</td>\n",
              "      <td>-0.385507</td>\n",
              "      <td>0.294450</td>\n",
              "      <td>-1.660104</td>\n",
              "      <td>1.720707</td>\n",
              "      <td>-0.566837</td>\n",
              "      <td>-1.797949</td>\n",
              "      <td>2.821771</td>\n",
              "      <td>2.456715</td>\n",
              "      <td>-1.114054</td>\n",
              "      <td>3.344746</td>\n",
              "      <td>-1.707319</td>\n",
              "      <td>-0.153519</td>\n",
              "      <td>-1.740621</td>\n",
              "      <td>1.877497</td>\n",
              "      <td>0.968782</td>\n",
              "      <td>-3.199626</td>\n",
              "      <td>3.178267</td>\n",
              "      <td>-0.790824</td>\n",
              "      <td>0.106983</td>\n",
              "      <td>3.397945</td>\n",
              "      <td>...</td>\n",
              "      <td>0.0</td>\n",
              "      <td>0.0</td>\n",
              "      <td>0.0</td>\n",
              "      <td>0.0</td>\n",
              "      <td>0.0</td>\n",
              "      <td>0.0</td>\n",
              "      <td>0.0</td>\n",
              "      <td>0.0</td>\n",
              "      <td>0.0</td>\n",
              "      <td>0.0</td>\n",
              "      <td>0.0</td>\n",
              "      <td>0.0</td>\n",
              "      <td>0.0</td>\n",
              "      <td>0.0</td>\n",
              "      <td>0.0</td>\n",
              "      <td>0.0</td>\n",
              "      <td>0.0</td>\n",
              "      <td>0.0</td>\n",
              "      <td>0.0</td>\n",
              "      <td>0.0</td>\n",
              "      <td>0.0</td>\n",
              "      <td>0.0</td>\n",
              "      <td>0.0</td>\n",
              "      <td>0.0</td>\n",
              "      <td>0.0</td>\n",
              "      <td>0.0</td>\n",
              "      <td>0.0</td>\n",
              "      <td>0.0</td>\n",
              "      <td>0.0</td>\n",
              "      <td>0.0</td>\n",
              "      <td>0.0</td>\n",
              "      <td>0.0</td>\n",
              "      <td>0.0</td>\n",
              "      <td>0.0</td>\n",
              "      <td>0.0</td>\n",
              "      <td>0.0</td>\n",
              "      <td>0.0</td>\n",
              "      <td>0.0</td>\n",
              "      <td>0.0</td>\n",
              "      <td>0.0</td>\n",
              "    </tr>\n",
              "    <tr>\n",
              "      <th>4</th>\n",
              "      <td>1.284636</td>\n",
              "      <td>0.652393</td>\n",
              "      <td>-2.405397</td>\n",
              "      <td>2.669240</td>\n",
              "      <td>3.965975</td>\n",
              "      <td>3.469808</td>\n",
              "      <td>3.324732</td>\n",
              "      <td>2.170538</td>\n",
              "      <td>-2.391253</td>\n",
              "      <td>4.441098</td>\n",
              "      <td>1.284636</td>\n",
              "      <td>0.652393</td>\n",
              "      <td>-2.405397</td>\n",
              "      <td>2.669240</td>\n",
              "      <td>3.965975</td>\n",
              "      <td>3.469808</td>\n",
              "      <td>3.324732</td>\n",
              "      <td>2.170538</td>\n",
              "      <td>-2.391253</td>\n",
              "      <td>4.441098</td>\n",
              "      <td>1.284636</td>\n",
              "      <td>0.652393</td>\n",
              "      <td>-2.405397</td>\n",
              "      <td>2.669240</td>\n",
              "      <td>3.965975</td>\n",
              "      <td>3.469808</td>\n",
              "      <td>3.324732</td>\n",
              "      <td>2.170538</td>\n",
              "      <td>-2.391253</td>\n",
              "      <td>4.441098</td>\n",
              "      <td>1.284636</td>\n",
              "      <td>0.652393</td>\n",
              "      <td>-2.405397</td>\n",
              "      <td>2.669240</td>\n",
              "      <td>3.965975</td>\n",
              "      <td>3.469808</td>\n",
              "      <td>3.324732</td>\n",
              "      <td>2.170538</td>\n",
              "      <td>-2.391253</td>\n",
              "      <td>4.441098</td>\n",
              "      <td>...</td>\n",
              "      <td>0.0</td>\n",
              "      <td>0.0</td>\n",
              "      <td>0.0</td>\n",
              "      <td>0.0</td>\n",
              "      <td>0.0</td>\n",
              "      <td>0.0</td>\n",
              "      <td>0.0</td>\n",
              "      <td>0.0</td>\n",
              "      <td>0.0</td>\n",
              "      <td>0.0</td>\n",
              "      <td>0.0</td>\n",
              "      <td>0.0</td>\n",
              "      <td>0.0</td>\n",
              "      <td>0.0</td>\n",
              "      <td>0.0</td>\n",
              "      <td>0.0</td>\n",
              "      <td>0.0</td>\n",
              "      <td>0.0</td>\n",
              "      <td>0.0</td>\n",
              "      <td>0.0</td>\n",
              "      <td>0.0</td>\n",
              "      <td>0.0</td>\n",
              "      <td>0.0</td>\n",
              "      <td>0.0</td>\n",
              "      <td>0.0</td>\n",
              "      <td>0.0</td>\n",
              "      <td>0.0</td>\n",
              "      <td>0.0</td>\n",
              "      <td>0.0</td>\n",
              "      <td>0.0</td>\n",
              "      <td>0.0</td>\n",
              "      <td>0.0</td>\n",
              "      <td>0.0</td>\n",
              "      <td>0.0</td>\n",
              "      <td>0.0</td>\n",
              "      <td>0.0</td>\n",
              "      <td>0.0</td>\n",
              "      <td>0.0</td>\n",
              "      <td>0.0</td>\n",
              "      <td>0.0</td>\n",
              "    </tr>\n",
              "    <tr>\n",
              "      <th>...</th>\n",
              "      <td>...</td>\n",
              "      <td>...</td>\n",
              "      <td>...</td>\n",
              "      <td>...</td>\n",
              "      <td>...</td>\n",
              "      <td>...</td>\n",
              "      <td>...</td>\n",
              "      <td>...</td>\n",
              "      <td>...</td>\n",
              "      <td>...</td>\n",
              "      <td>...</td>\n",
              "      <td>...</td>\n",
              "      <td>...</td>\n",
              "      <td>...</td>\n",
              "      <td>...</td>\n",
              "      <td>...</td>\n",
              "      <td>...</td>\n",
              "      <td>...</td>\n",
              "      <td>...</td>\n",
              "      <td>...</td>\n",
              "      <td>...</td>\n",
              "      <td>...</td>\n",
              "      <td>...</td>\n",
              "      <td>...</td>\n",
              "      <td>...</td>\n",
              "      <td>...</td>\n",
              "      <td>...</td>\n",
              "      <td>...</td>\n",
              "      <td>...</td>\n",
              "      <td>...</td>\n",
              "      <td>...</td>\n",
              "      <td>...</td>\n",
              "      <td>...</td>\n",
              "      <td>...</td>\n",
              "      <td>...</td>\n",
              "      <td>...</td>\n",
              "      <td>...</td>\n",
              "      <td>...</td>\n",
              "      <td>...</td>\n",
              "      <td>...</td>\n",
              "      <td>...</td>\n",
              "      <td>...</td>\n",
              "      <td>...</td>\n",
              "      <td>...</td>\n",
              "      <td>...</td>\n",
              "      <td>...</td>\n",
              "      <td>...</td>\n",
              "      <td>...</td>\n",
              "      <td>...</td>\n",
              "      <td>...</td>\n",
              "      <td>...</td>\n",
              "      <td>...</td>\n",
              "      <td>...</td>\n",
              "      <td>...</td>\n",
              "      <td>...</td>\n",
              "      <td>...</td>\n",
              "      <td>...</td>\n",
              "      <td>...</td>\n",
              "      <td>...</td>\n",
              "      <td>...</td>\n",
              "      <td>...</td>\n",
              "      <td>...</td>\n",
              "      <td>...</td>\n",
              "      <td>...</td>\n",
              "      <td>...</td>\n",
              "      <td>...</td>\n",
              "      <td>...</td>\n",
              "      <td>...</td>\n",
              "      <td>...</td>\n",
              "      <td>...</td>\n",
              "      <td>...</td>\n",
              "      <td>...</td>\n",
              "      <td>...</td>\n",
              "      <td>...</td>\n",
              "      <td>...</td>\n",
              "      <td>...</td>\n",
              "      <td>...</td>\n",
              "      <td>...</td>\n",
              "      <td>...</td>\n",
              "      <td>...</td>\n",
              "      <td>...</td>\n",
              "    </tr>\n",
              "    <tr>\n",
              "      <th>7995</th>\n",
              "      <td>0.676480</td>\n",
              "      <td>-4.300832</td>\n",
              "      <td>0.133499</td>\n",
              "      <td>-1.545591</td>\n",
              "      <td>4.453439</td>\n",
              "      <td>-2.310340</td>\n",
              "      <td>5.071320</td>\n",
              "      <td>-0.738893</td>\n",
              "      <td>1.063919</td>\n",
              "      <td>6.754840</td>\n",
              "      <td>-1.018491</td>\n",
              "      <td>-0.624528</td>\n",
              "      <td>-2.475693</td>\n",
              "      <td>4.199625</td>\n",
              "      <td>1.074303</td>\n",
              "      <td>-4.687655</td>\n",
              "      <td>5.531223</td>\n",
              "      <td>-0.020581</td>\n",
              "      <td>0.135256</td>\n",
              "      <td>4.526173</td>\n",
              "      <td>-1.277399</td>\n",
              "      <td>-2.668886</td>\n",
              "      <td>-1.446241</td>\n",
              "      <td>-1.238744</td>\n",
              "      <td>3.168825</td>\n",
              "      <td>-1.204686</td>\n",
              "      <td>1.646368</td>\n",
              "      <td>0.228665</td>\n",
              "      <td>-0.915976</td>\n",
              "      <td>2.234641</td>\n",
              "      <td>-1.256765</td>\n",
              "      <td>-2.238027</td>\n",
              "      <td>-1.231871</td>\n",
              "      <td>-1.956277</td>\n",
              "      <td>3.970164</td>\n",
              "      <td>-1.308272</td>\n",
              "      <td>2.173005</td>\n",
              "      <td>0.470640</td>\n",
              "      <td>-0.637385</td>\n",
              "      <td>2.287953</td>\n",
              "      <td>...</td>\n",
              "      <td>0.0</td>\n",
              "      <td>0.0</td>\n",
              "      <td>0.0</td>\n",
              "      <td>0.0</td>\n",
              "      <td>0.0</td>\n",
              "      <td>0.0</td>\n",
              "      <td>0.0</td>\n",
              "      <td>0.0</td>\n",
              "      <td>0.0</td>\n",
              "      <td>0.0</td>\n",
              "      <td>0.0</td>\n",
              "      <td>0.0</td>\n",
              "      <td>0.0</td>\n",
              "      <td>0.0</td>\n",
              "      <td>0.0</td>\n",
              "      <td>0.0</td>\n",
              "      <td>0.0</td>\n",
              "      <td>0.0</td>\n",
              "      <td>0.0</td>\n",
              "      <td>0.0</td>\n",
              "      <td>0.0</td>\n",
              "      <td>0.0</td>\n",
              "      <td>0.0</td>\n",
              "      <td>0.0</td>\n",
              "      <td>0.0</td>\n",
              "      <td>0.0</td>\n",
              "      <td>0.0</td>\n",
              "      <td>0.0</td>\n",
              "      <td>0.0</td>\n",
              "      <td>0.0</td>\n",
              "      <td>0.0</td>\n",
              "      <td>0.0</td>\n",
              "      <td>0.0</td>\n",
              "      <td>0.0</td>\n",
              "      <td>0.0</td>\n",
              "      <td>0.0</td>\n",
              "      <td>0.0</td>\n",
              "      <td>0.0</td>\n",
              "      <td>0.0</td>\n",
              "      <td>0.0</td>\n",
              "    </tr>\n",
              "    <tr>\n",
              "      <th>7996</th>\n",
              "      <td>-0.353666</td>\n",
              "      <td>0.581364</td>\n",
              "      <td>-1.517663</td>\n",
              "      <td>1.078529</td>\n",
              "      <td>-1.718577</td>\n",
              "      <td>-0.947948</td>\n",
              "      <td>3.724285</td>\n",
              "      <td>0.335286</td>\n",
              "      <td>-2.919079</td>\n",
              "      <td>4.415144</td>\n",
              "      <td>-0.353666</td>\n",
              "      <td>0.581364</td>\n",
              "      <td>-1.517663</td>\n",
              "      <td>1.078529</td>\n",
              "      <td>-1.718577</td>\n",
              "      <td>-0.947948</td>\n",
              "      <td>3.724285</td>\n",
              "      <td>0.335286</td>\n",
              "      <td>-2.919079</td>\n",
              "      <td>4.415144</td>\n",
              "      <td>-0.353666</td>\n",
              "      <td>0.581364</td>\n",
              "      <td>-1.517663</td>\n",
              "      <td>1.078529</td>\n",
              "      <td>-1.718577</td>\n",
              "      <td>-0.947948</td>\n",
              "      <td>3.724285</td>\n",
              "      <td>0.335286</td>\n",
              "      <td>-2.919079</td>\n",
              "      <td>4.415144</td>\n",
              "      <td>-0.820728</td>\n",
              "      <td>-1.980196</td>\n",
              "      <td>-3.956568</td>\n",
              "      <td>1.048923</td>\n",
              "      <td>-3.740613</td>\n",
              "      <td>1.000334</td>\n",
              "      <td>-0.716436</td>\n",
              "      <td>7.382529</td>\n",
              "      <td>-3.341250</td>\n",
              "      <td>7.142457</td>\n",
              "      <td>...</td>\n",
              "      <td>0.0</td>\n",
              "      <td>0.0</td>\n",
              "      <td>0.0</td>\n",
              "      <td>0.0</td>\n",
              "      <td>0.0</td>\n",
              "      <td>0.0</td>\n",
              "      <td>0.0</td>\n",
              "      <td>0.0</td>\n",
              "      <td>0.0</td>\n",
              "      <td>0.0</td>\n",
              "      <td>0.0</td>\n",
              "      <td>0.0</td>\n",
              "      <td>0.0</td>\n",
              "      <td>0.0</td>\n",
              "      <td>0.0</td>\n",
              "      <td>0.0</td>\n",
              "      <td>0.0</td>\n",
              "      <td>0.0</td>\n",
              "      <td>0.0</td>\n",
              "      <td>0.0</td>\n",
              "      <td>0.0</td>\n",
              "      <td>0.0</td>\n",
              "      <td>0.0</td>\n",
              "      <td>0.0</td>\n",
              "      <td>0.0</td>\n",
              "      <td>0.0</td>\n",
              "      <td>0.0</td>\n",
              "      <td>0.0</td>\n",
              "      <td>0.0</td>\n",
              "      <td>0.0</td>\n",
              "      <td>0.0</td>\n",
              "      <td>0.0</td>\n",
              "      <td>0.0</td>\n",
              "      <td>0.0</td>\n",
              "      <td>0.0</td>\n",
              "      <td>0.0</td>\n",
              "      <td>0.0</td>\n",
              "      <td>0.0</td>\n",
              "      <td>0.0</td>\n",
              "      <td>0.0</td>\n",
              "    </tr>\n",
              "    <tr>\n",
              "      <th>7997</th>\n",
              "      <td>-0.532238</td>\n",
              "      <td>-1.668212</td>\n",
              "      <td>0.642972</td>\n",
              "      <td>-1.916876</td>\n",
              "      <td>1.651430</td>\n",
              "      <td>0.126289</td>\n",
              "      <td>4.367362</td>\n",
              "      <td>1.088129</td>\n",
              "      <td>-0.216521</td>\n",
              "      <td>3.104465</td>\n",
              "      <td>-1.247495</td>\n",
              "      <td>-4.191024</td>\n",
              "      <td>-2.085975</td>\n",
              "      <td>-0.350354</td>\n",
              "      <td>3.561789</td>\n",
              "      <td>-1.096153</td>\n",
              "      <td>3.586510</td>\n",
              "      <td>1.916773</td>\n",
              "      <td>-0.042266</td>\n",
              "      <td>2.366063</td>\n",
              "      <td>-0.443348</td>\n",
              "      <td>-1.655801</td>\n",
              "      <td>0.928152</td>\n",
              "      <td>-2.205793</td>\n",
              "      <td>1.195143</td>\n",
              "      <td>0.244926</td>\n",
              "      <td>4.270977</td>\n",
              "      <td>0.690107</td>\n",
              "      <td>-0.106013</td>\n",
              "      <td>3.216669</td>\n",
              "      <td>-0.443348</td>\n",
              "      <td>-1.655801</td>\n",
              "      <td>0.928152</td>\n",
              "      <td>-2.205793</td>\n",
              "      <td>1.195143</td>\n",
              "      <td>0.244926</td>\n",
              "      <td>4.270977</td>\n",
              "      <td>0.690107</td>\n",
              "      <td>-0.106013</td>\n",
              "      <td>3.216669</td>\n",
              "      <td>...</td>\n",
              "      <td>0.0</td>\n",
              "      <td>0.0</td>\n",
              "      <td>0.0</td>\n",
              "      <td>0.0</td>\n",
              "      <td>0.0</td>\n",
              "      <td>0.0</td>\n",
              "      <td>0.0</td>\n",
              "      <td>0.0</td>\n",
              "      <td>0.0</td>\n",
              "      <td>0.0</td>\n",
              "      <td>0.0</td>\n",
              "      <td>0.0</td>\n",
              "      <td>0.0</td>\n",
              "      <td>0.0</td>\n",
              "      <td>0.0</td>\n",
              "      <td>0.0</td>\n",
              "      <td>0.0</td>\n",
              "      <td>0.0</td>\n",
              "      <td>0.0</td>\n",
              "      <td>0.0</td>\n",
              "      <td>0.0</td>\n",
              "      <td>0.0</td>\n",
              "      <td>0.0</td>\n",
              "      <td>0.0</td>\n",
              "      <td>0.0</td>\n",
              "      <td>0.0</td>\n",
              "      <td>0.0</td>\n",
              "      <td>0.0</td>\n",
              "      <td>0.0</td>\n",
              "      <td>0.0</td>\n",
              "      <td>0.0</td>\n",
              "      <td>0.0</td>\n",
              "      <td>0.0</td>\n",
              "      <td>0.0</td>\n",
              "      <td>0.0</td>\n",
              "      <td>0.0</td>\n",
              "      <td>0.0</td>\n",
              "      <td>0.0</td>\n",
              "      <td>0.0</td>\n",
              "      <td>0.0</td>\n",
              "    </tr>\n",
              "    <tr>\n",
              "      <th>7998</th>\n",
              "      <td>-0.385507</td>\n",
              "      <td>0.294450</td>\n",
              "      <td>-1.660104</td>\n",
              "      <td>1.720707</td>\n",
              "      <td>-0.566837</td>\n",
              "      <td>-1.797949</td>\n",
              "      <td>2.821771</td>\n",
              "      <td>2.456715</td>\n",
              "      <td>-1.114054</td>\n",
              "      <td>3.344746</td>\n",
              "      <td>-1.107298</td>\n",
              "      <td>1.380070</td>\n",
              "      <td>-0.872389</td>\n",
              "      <td>-1.749853</td>\n",
              "      <td>4.271501</td>\n",
              "      <td>-2.087827</td>\n",
              "      <td>2.938710</td>\n",
              "      <td>1.430734</td>\n",
              "      <td>0.341772</td>\n",
              "      <td>5.512845</td>\n",
              "      <td>-0.157432</td>\n",
              "      <td>1.186865</td>\n",
              "      <td>1.740487</td>\n",
              "      <td>-1.841081</td>\n",
              "      <td>2.052111</td>\n",
              "      <td>-3.330301</td>\n",
              "      <td>3.195530</td>\n",
              "      <td>1.402220</td>\n",
              "      <td>-2.258900</td>\n",
              "      <td>4.513127</td>\n",
              "      <td>-1.522314</td>\n",
              "      <td>0.808802</td>\n",
              "      <td>-1.257421</td>\n",
              "      <td>-0.469336</td>\n",
              "      <td>-2.794488</td>\n",
              "      <td>0.183894</td>\n",
              "      <td>3.400615</td>\n",
              "      <td>3.596618</td>\n",
              "      <td>-2.468280</td>\n",
              "      <td>3.184742</td>\n",
              "      <td>...</td>\n",
              "      <td>0.0</td>\n",
              "      <td>0.0</td>\n",
              "      <td>0.0</td>\n",
              "      <td>0.0</td>\n",
              "      <td>0.0</td>\n",
              "      <td>0.0</td>\n",
              "      <td>0.0</td>\n",
              "      <td>0.0</td>\n",
              "      <td>0.0</td>\n",
              "      <td>0.0</td>\n",
              "      <td>0.0</td>\n",
              "      <td>0.0</td>\n",
              "      <td>0.0</td>\n",
              "      <td>0.0</td>\n",
              "      <td>0.0</td>\n",
              "      <td>0.0</td>\n",
              "      <td>0.0</td>\n",
              "      <td>0.0</td>\n",
              "      <td>0.0</td>\n",
              "      <td>0.0</td>\n",
              "      <td>0.0</td>\n",
              "      <td>0.0</td>\n",
              "      <td>0.0</td>\n",
              "      <td>0.0</td>\n",
              "      <td>0.0</td>\n",
              "      <td>0.0</td>\n",
              "      <td>0.0</td>\n",
              "      <td>0.0</td>\n",
              "      <td>0.0</td>\n",
              "      <td>0.0</td>\n",
              "      <td>0.0</td>\n",
              "      <td>0.0</td>\n",
              "      <td>0.0</td>\n",
              "      <td>0.0</td>\n",
              "      <td>0.0</td>\n",
              "      <td>0.0</td>\n",
              "      <td>0.0</td>\n",
              "      <td>0.0</td>\n",
              "      <td>0.0</td>\n",
              "      <td>0.0</td>\n",
              "    </tr>\n",
              "    <tr>\n",
              "      <th>7999</th>\n",
              "      <td>1.284636</td>\n",
              "      <td>0.652393</td>\n",
              "      <td>-2.405397</td>\n",
              "      <td>2.669240</td>\n",
              "      <td>3.965975</td>\n",
              "      <td>3.469808</td>\n",
              "      <td>3.324732</td>\n",
              "      <td>2.170538</td>\n",
              "      <td>-2.391253</td>\n",
              "      <td>4.441098</td>\n",
              "      <td>1.650084</td>\n",
              "      <td>-6.494556</td>\n",
              "      <td>-4.387665</td>\n",
              "      <td>-2.437482</td>\n",
              "      <td>-4.027659</td>\n",
              "      <td>-9.843685</td>\n",
              "      <td>-1.521189</td>\n",
              "      <td>6.273397</td>\n",
              "      <td>-0.847346</td>\n",
              "      <td>6.389258</td>\n",
              "      <td>-1.645654</td>\n",
              "      <td>-0.434613</td>\n",
              "      <td>-1.879840</td>\n",
              "      <td>4.163252</td>\n",
              "      <td>-0.360605</td>\n",
              "      <td>-1.844913</td>\n",
              "      <td>3.439661</td>\n",
              "      <td>3.617694</td>\n",
              "      <td>-1.240045</td>\n",
              "      <td>2.767488</td>\n",
              "      <td>-1.645654</td>\n",
              "      <td>-0.434613</td>\n",
              "      <td>-1.879840</td>\n",
              "      <td>4.163252</td>\n",
              "      <td>-0.360605</td>\n",
              "      <td>-1.844913</td>\n",
              "      <td>3.439661</td>\n",
              "      <td>3.617694</td>\n",
              "      <td>-1.240045</td>\n",
              "      <td>2.767488</td>\n",
              "      <td>...</td>\n",
              "      <td>0.0</td>\n",
              "      <td>0.0</td>\n",
              "      <td>0.0</td>\n",
              "      <td>0.0</td>\n",
              "      <td>0.0</td>\n",
              "      <td>0.0</td>\n",
              "      <td>0.0</td>\n",
              "      <td>0.0</td>\n",
              "      <td>0.0</td>\n",
              "      <td>0.0</td>\n",
              "      <td>0.0</td>\n",
              "      <td>0.0</td>\n",
              "      <td>0.0</td>\n",
              "      <td>0.0</td>\n",
              "      <td>0.0</td>\n",
              "      <td>0.0</td>\n",
              "      <td>0.0</td>\n",
              "      <td>0.0</td>\n",
              "      <td>0.0</td>\n",
              "      <td>0.0</td>\n",
              "      <td>0.0</td>\n",
              "      <td>0.0</td>\n",
              "      <td>0.0</td>\n",
              "      <td>0.0</td>\n",
              "      <td>0.0</td>\n",
              "      <td>0.0</td>\n",
              "      <td>0.0</td>\n",
              "      <td>0.0</td>\n",
              "      <td>0.0</td>\n",
              "      <td>0.0</td>\n",
              "      <td>0.0</td>\n",
              "      <td>0.0</td>\n",
              "      <td>0.0</td>\n",
              "      <td>0.0</td>\n",
              "      <td>0.0</td>\n",
              "      <td>0.0</td>\n",
              "      <td>0.0</td>\n",
              "      <td>0.0</td>\n",
              "      <td>0.0</td>\n",
              "      <td>0.0</td>\n",
              "    </tr>\n",
              "  </tbody>\n",
              "</table>\n",
              "<p>8000 rows × 4790 columns</p>\n",
              "</div>"
            ],
            "text/plain": [
              "          0         1         2         3     ...  4786  4787  4788  4789\n",
              "0     1.284636  0.652393 -2.405397  2.669240  ...   0.0   0.0   0.0   0.0\n",
              "1    -0.385507  0.294450 -1.660104  1.720707  ...   0.0   0.0   0.0   0.0\n",
              "2    -0.231812 -0.681910 -1.859726  0.406435  ...   0.0   0.0   0.0   0.0\n",
              "3    -0.385507  0.294450 -1.660104  1.720707  ...   0.0   0.0   0.0   0.0\n",
              "4     1.284636  0.652393 -2.405397  2.669240  ...   0.0   0.0   0.0   0.0\n",
              "...        ...       ...       ...       ...  ...   ...   ...   ...   ...\n",
              "7995  0.676480 -4.300832  0.133499 -1.545591  ...   0.0   0.0   0.0   0.0\n",
              "7996 -0.353666  0.581364 -1.517663  1.078529  ...   0.0   0.0   0.0   0.0\n",
              "7997 -0.532238 -1.668212  0.642972 -1.916876  ...   0.0   0.0   0.0   0.0\n",
              "7998 -0.385507  0.294450 -1.660104  1.720707  ...   0.0   0.0   0.0   0.0\n",
              "7999  1.284636  0.652393 -2.405397  2.669240  ...   0.0   0.0   0.0   0.0\n",
              "\n",
              "[8000 rows x 4790 columns]"
            ]
          },
          "metadata": {
            "tags": []
          },
          "execution_count": 3
        }
      ]
    },
    {
      "cell_type": "markdown",
      "metadata": {
        "id": "patent-jonathan"
      },
      "source": [
        "**Zadatak:**\n",
        "\n",
        "> Izvršiti kreiranje dvije vrste ulaznih i izlaznih podataka na sličan način kao u prethodnoj laboratorijskoj vježbi.\n",
        ">\n",
        "> Kako modeli dubinskog učenja kao izlazne varijable generišu brojeve, potrebno je da izlazni skup podataka sadrži labele mapirane kako slijedi: <code>no -> 0, yes -> 1, maybe -> 2</code>.\n",
        ">\n",
        "> Formirati trening, validacijske i testne skupove podataka. Koristiti distribuciju 60% - 20% - 20% podataka. Kreirati dvije vrste skupova:\n",
        ">\n",
        "> 1. Originalni tekst koji je vektoriziran (kolona <code>text</code> iz prvog učitanog *dataseta* pri uputstvu iz predavanja);\n",
        ">\n",
        "> 2. Skalirani podaci (<code>vector_cbow</code> kolona iz drugog učitanog *dataseta* pretvorena u numeričke vrijednosti i skalirana tako da nema negativnih vrijednosti).\n",
        ">\n",
        "> Zbog nemogućnosti rada sa negativnim brojevima za neke modele dubinskog učenja, neskalirani podaci neće biti korišteni u ovoj laboratorijskoj vježbi.\n",
        ">\n",
        "> Neuralne mreže kao ulaz očekuju liste listi. Iz tog razloga nad podacima je potrebno izvršiti funkciju <code>tolist()</code>.\n",
        ">\n",
        "> Dodatno je neophodno sačuvati podatke o broju kolona (za dvije vrste skupova su različite) kako bi se ti podaci mogli koristiti u nastavku laboratorijske vježbe."
      ],
      "id": "patent-jonathan"
    },
    {
      "cell_type": "code",
      "metadata": {
        "id": "nasty-progress"
      },
      "source": [
        "from string import punctuation\n",
        "from sklearn.preprocessing import MinMaxScaler\n",
        "\n",
        "scaler = MinMaxScaler()\n",
        "\n",
        "vector_cbow_scaled = data_float.copy()\n",
        "\n",
        "vector_cbow_scaled = scaler.fit_transform(vector_cbow_scaled)"
      ],
      "id": "nasty-progress",
      "execution_count": 4,
      "outputs": []
    },
    {
      "cell_type": "code",
      "metadata": {
        "id": "0rk-6qwRnjOB"
      },
      "source": [
        "from sklearn.feature_extraction.text import CountVectorizer\n",
        "\n",
        "vect = CountVectorizer(stop_words=\"english\", max_features=1000)\n",
        "\n",
        "y = full_economic_news_df['relevance']\n",
        "\n",
        "label_mapping = {\n",
        "    \"no\": 0,\n",
        "    \"yes\": 1,\n",
        "    \"not sure\": 2\n",
        "}\n",
        "\n",
        "y = [label_mapping[i] for i in y]\n",
        "\n",
        "y_train = y[0:4800]\n",
        "y_validation = y[4800:6400]\n",
        "y_test = y[6400:8000]\n",
        "\n",
        "data_as_lists = vect.fit_transform(full_economic_news_df['text']).toarray().tolist()\n",
        "\n",
        "vector_cbow_scaled_data_as_lists = vector_cbow_scaled.tolist()\n",
        "\n",
        "text_train = data_as_lists[0:4800]\n",
        "text_validation = data_as_lists[4800:6400]\n",
        "text_test = data_as_lists[6400:8000]\n",
        "\n",
        "vector_cbow_scaled_train = vector_cbow_scaled_data_as_lists[0:4800]\n",
        "vector_cbow_scaled_validation = vector_cbow_scaled_data_as_lists[4800:6400]\n",
        "vector_cbow_scaled_test = vector_cbow_scaled_data_as_lists[6400:8000]"
      ],
      "id": "0rk-6qwRnjOB",
      "execution_count": 5,
      "outputs": []
    },
    {
      "cell_type": "markdown",
      "metadata": {
        "id": "configured-fireplace"
      },
      "source": [
        "----\n",
        "\n",
        "### Zadatak 2. - CNN (Konvolucijske Neuralne Mreže)\n",
        "\n",
        "U okviru ovog zadatka potrebno je izvršiti treniranje konvolucijske neuralne mreže koristeći prethodno učitane podatke.\n",
        "\n",
        "**NAPOMENA**: Zbog dužeg trajanja procesa i veće potrošnje memorije, preporučuje se da se ova laboratorijska vježba radi u okruženju koje podržava GPU paralelizaciju ili online na platformi [Google Colab](http:colab.research.google.com).\n",
        "\n",
        "**Zadatak:**\n",
        "    \n",
        "> Formirati <code>Embedding</code> sloj neuralne mreže. Može se iskoristiti kod koji je prikazan ispod, pri čemu je <code>col1</code> potrebno zamijeniti sa brojem kolona za prvi skup podataka, a <code>col2</code> sa brojem kolona za drugi skup podataka."
      ],
      "id": "configured-fireplace"
    },
    {
      "cell_type": "code",
      "metadata": {
        "id": "general-graph"
      },
      "source": [
        "from tensorflow.keras.layers import Embedding\n",
        "\n",
        "num_words = 57000\n",
        "EMBEDDING_DIM = 8\n",
        "MAX_SEQUENCE_LENGTH1 = len(text_train[0])\n",
        "MAX_SEQUENCE_LENGTH2 = len(vector_cbow_scaled_train[0])\n",
        "\n",
        "embedding_layer1 = Embedding(num_words, EMBEDDING_DIM, input_length=MAX_SEQUENCE_LENGTH1)\n",
        "\n",
        "embedding_layer2 = Embedding(num_words, EMBEDDING_DIM, input_length=MAX_SEQUENCE_LENGTH2)"
      ],
      "id": "general-graph",
      "execution_count": 6,
      "outputs": []
    },
    {
      "cell_type": "markdown",
      "metadata": {
        "id": "falling-buffer"
      },
      "source": [
        "**Zadatak:**\n",
        "    \n",
        "> Izvršiti kod koji je prikazan ispod kako bi se definisala struktura neuralne mreže."
      ],
      "id": "falling-buffer"
    },
    {
      "cell_type": "code",
      "metadata": {
        "id": "common-packaging"
      },
      "source": [
        "from tensorflow.keras import Sequential\n",
        "from tensorflow.keras.layers import Conv1D, MaxPooling1D, GlobalMaxPooling1D, Dense\n",
        "import numpy as np\n",
        "\n",
        "cnnmodel = Sequential()\n",
        "cnnmodel.add(embedding_layer1)\n",
        "cnnmodel.add(Conv1D(128, 5, activation='relu'))\n",
        "cnnmodel.add(MaxPooling1D(5))\n",
        "cnnmodel.add(Conv1D(128, 5, activation='relu'))\n",
        "cnnmodel.add(MaxPooling1D(5))\n",
        "cnnmodel.add(Conv1D(128, 5, activation='relu'))\n",
        "cnnmodel.add(GlobalMaxPooling1D())\n",
        "cnnmodel.add(Dense(128, activation='relu'))\n",
        "cnnmodel.add(Dense(1, activation='softmax'))"
      ],
      "id": "common-packaging",
      "execution_count": 7,
      "outputs": []
    },
    {
      "cell_type": "code",
      "metadata": {
        "id": "AAf6OphyuIo3"
      },
      "source": [
        "cnnmodel2 = Sequential()\n",
        "cnnmodel2.add(embedding_layer2)\n",
        "cnnmodel2.add(Conv1D(128, 5, activation='relu'))\n",
        "cnnmodel2.add(MaxPooling1D(5))\n",
        "cnnmodel2.add(Conv1D(128, 5, activation='relu'))\n",
        "cnnmodel2.add(MaxPooling1D(5))\n",
        "cnnmodel2.add(Conv1D(128, 5, activation='relu'))\n",
        "cnnmodel2.add(GlobalMaxPooling1D())\n",
        "cnnmodel2.add(Dense(128, activation='relu'))\n",
        "cnnmodel2.add(Dense(1, activation='softmax'))"
      ],
      "id": "AAf6OphyuIo3",
      "execution_count": 8,
      "outputs": []
    },
    {
      "cell_type": "markdown",
      "metadata": {
        "id": "injured-profile"
      },
      "source": [
        "**Zadatak:**\n",
        "    \n",
        "> Izvršiti kod koji je prikazan ispod, pri čemu je potrebno nepoznate vrijednosti zamijeniti sa trening, validacijskim i testnim ulaznim i izlaznim podskupovima podataka.\n",
        ">\n",
        "> Voditi računa o tome da se ovaj programski kod treba dvaput izvršiti za dva različita skupa podataka - vektorizirani i skalirani, učitani u prvom zadatku.\n",
        ">\n",
        "> Informacije o treniranju trebaju se sačuvati u varijablu <code>history</code> koja će se koristiti u nastavku laboratorijske vježbe, kao i informacije o tačnosti klasifikacije sačuvane u varijablama <code>score</code> i <code>acc</code>.\n",
        ">\n",
        "> Sve informacije trebaju se sačuvati u zasebne varijable kako bi se u nastavku mogle koristiti."
      ],
      "id": "injured-profile"
    },
    {
      "cell_type": "code",
      "metadata": {
        "colab": {
          "base_uri": "https://localhost:8080/"
        },
        "id": "bored-isaac",
        "outputId": "15f69d37-ffba-4989-bec9-56acbc6a3887"
      },
      "source": [
        "cnnmodel.compile(loss='binary_crossentropy', optimizer='rmsprop', metrics=['acc'])\n",
        "history_text_1 = cnnmodel.fit(text_train, y_train, batch_size=256, epochs=10, validation_data=(text_validation, y_validation), verbose=1)\n",
        "score, acc_text_1 = cnnmodel.evaluate(text_test, y_test)\n",
        "\n",
        "print('Text test accuracy with CNN:', acc_text_1)\n",
        "\n",
        "cnnmodel2.compile(loss='binary_crossentropy', optimizer='rmsprop', metrics=['acc'])\n",
        "history_cbow_1 = cnnmodel2.fit(vector_cbow_scaled_train, y_train, batch_size=256, epochs=10, validation_data=(vector_cbow_scaled_validation, y_validation), verbose=1)\n",
        "score, acc_cbow_1 = cnnmodel2.evaluate(vector_cbow_scaled_test, y_test)\n",
        "\n",
        "print('Cbow test accuracy with CNN:', acc_cbow_1)"
      ],
      "id": "bored-isaac",
      "execution_count": 9,
      "outputs": [
        {
          "output_type": "stream",
          "text": [
            "Epoch 1/10\n",
            "19/19 [==============================] - 39s 329ms/step - loss: 0.5783 - acc: 0.2149 - val_loss: 0.4063 - val_acc: 0.1156\n",
            "Epoch 2/10\n",
            "19/19 [==============================] - 1s 46ms/step - loss: 0.5228 - acc: 0.2106 - val_loss: 0.3638 - val_acc: 0.1156\n",
            "Epoch 3/10\n",
            "19/19 [==============================] - 1s 46ms/step - loss: 0.5360 - acc: 0.2179 - val_loss: 0.3654 - val_acc: 0.1156\n",
            "Epoch 4/10\n",
            "19/19 [==============================] - 1s 46ms/step - loss: 0.5428 - acc: 0.2208 - val_loss: 0.4049 - val_acc: 0.1156\n",
            "Epoch 5/10\n",
            "19/19 [==============================] - 1s 46ms/step - loss: 0.5348 - acc: 0.2216 - val_loss: 0.4343 - val_acc: 0.1156\n",
            "Epoch 6/10\n",
            "19/19 [==============================] - 1s 47ms/step - loss: 0.5249 - acc: 0.2159 - val_loss: 0.3822 - val_acc: 0.1156\n",
            "Epoch 7/10\n",
            "19/19 [==============================] - 1s 47ms/step - loss: 0.5171 - acc: 0.2066 - val_loss: 0.3844 - val_acc: 0.1156\n",
            "Epoch 8/10\n",
            "19/19 [==============================] - 1s 47ms/step - loss: 0.5287 - acc: 0.2182 - val_loss: 0.3615 - val_acc: 0.1156\n",
            "Epoch 9/10\n",
            "19/19 [==============================] - 1s 47ms/step - loss: 0.5281 - acc: 0.2120 - val_loss: 0.4050 - val_acc: 0.1156\n",
            "Epoch 10/10\n",
            "19/19 [==============================] - 1s 47ms/step - loss: 0.5296 - acc: 0.2251 - val_loss: 0.3718 - val_acc: 0.1156\n",
            "50/50 [==============================] - 0s 5ms/step - loss: 0.3890 - acc: 0.1275\n",
            "Text test accuracy with CNN: 0.1274999976158142\n",
            "Epoch 1/10\n",
            "19/19 [==============================] - 24s 1s/step - loss: 0.5725 - acc: 0.2127 - val_loss: 0.4237 - val_acc: 0.1156\n",
            "Epoch 2/10\n",
            "19/19 [==============================] - 4s 194ms/step - loss: 0.5311 - acc: 0.2177 - val_loss: 0.4431 - val_acc: 0.1156\n",
            "Epoch 3/10\n",
            "19/19 [==============================] - 4s 195ms/step - loss: 0.5327 - acc: 0.2164 - val_loss: 0.4088 - val_acc: 0.1156\n",
            "Epoch 4/10\n",
            "19/19 [==============================] - 4s 195ms/step - loss: 0.5336 - acc: 0.2190 - val_loss: 0.3840 - val_acc: 0.1156\n",
            "Epoch 5/10\n",
            "19/19 [==============================] - 4s 196ms/step - loss: 0.5282 - acc: 0.2134 - val_loss: 0.3817 - val_acc: 0.1156\n",
            "Epoch 6/10\n",
            "19/19 [==============================] - 4s 197ms/step - loss: 0.5413 - acc: 0.2265 - val_loss: 0.4443 - val_acc: 0.1156\n",
            "Epoch 7/10\n",
            "19/19 [==============================] - 4s 197ms/step - loss: 0.5186 - acc: 0.2049 - val_loss: 0.3958 - val_acc: 0.1156\n",
            "Epoch 8/10\n",
            "19/19 [==============================] - 4s 197ms/step - loss: 0.5213 - acc: 0.2111 - val_loss: 0.4250 - val_acc: 0.1156\n",
            "Epoch 9/10\n",
            "19/19 [==============================] - 4s 197ms/step - loss: 0.5131 - acc: 0.2014 - val_loss: 0.4451 - val_acc: 0.1156\n",
            "Epoch 10/10\n",
            "19/19 [==============================] - 4s 197ms/step - loss: 0.5256 - acc: 0.2146 - val_loss: 0.3969 - val_acc: 0.1156\n",
            "50/50 [==============================] - 1s 11ms/step - loss: 0.4105 - acc: 0.1275\n",
            "Cbow test accuracy with CNN: 0.1274999976158142\n"
          ],
          "name": "stdout"
        }
      ]
    },
    {
      "cell_type": "markdown",
      "metadata": {
        "id": "palestinian-virginia"
      },
      "source": [
        "**Zadatak:**\n",
        "    \n",
        "> Ponoviti treniranje barem 3 puta (po 3 puta za oba skupa podataka), pritom mijenjajući vrijednosti parametara <code>loss, optimizer, epochs</code>."
      ],
      "id": "palestinian-virginia"
    },
    {
      "cell_type": "code",
      "metadata": {
        "colab": {
          "base_uri": "https://localhost:8080/"
        },
        "id": "xTBZgVO0Olpr",
        "outputId": "ae2a5de5-4acb-4be4-a62e-62e1c77d4009"
      },
      "source": [
        "cnnmodel.compile(loss='binary_crossentropy', optimizer='rmsprop', metrics=['acc'])\n",
        "history_text_2 = cnnmodel.fit(text_train, y_train, batch_size=256, epochs=20, validation_data=(text_validation, y_validation), verbose=1)\n",
        "score, acc_text_2 = cnnmodel.evaluate(text_test, y_test)\n",
        "\n",
        "print('Text test accuracy with CNN, epochs: 20:', acc_text_2)\n",
        "\n",
        "cnnmodel.compile(loss='binary_crossentropy', optimizer='adam', metrics=['acc'])\n",
        "history_text_3 = cnnmodel.fit(text_train, y_train, batch_size=256, epochs=10, validation_data=(text_validation, y_validation), verbose=1)\n",
        "score, acc_text_3 = cnnmodel.evaluate(text_test, y_test)\n",
        "\n",
        "print('Text test accuracy with CNN, optimizer: adam:', acc_text_3)\n",
        "\n",
        "cnnmodel.compile(loss='mean_squared_error', optimizer='rmsprop', metrics=['acc'])\n",
        "history_text_4 = cnnmodel.fit(text_train, y_train, batch_size=256, epochs=10, validation_data=(text_validation, y_validation), verbose=1)\n",
        "score, acc_text_4 = cnnmodel.evaluate(text_test, y_test)\n",
        "\n",
        "print('Text test accuracy with CNN, loss: mean_squared_error:', acc_text_4)"
      ],
      "id": "xTBZgVO0Olpr",
      "execution_count": 10,
      "outputs": [
        {
          "output_type": "stream",
          "text": [
            "Epoch 1/20\n",
            "19/19 [==============================] - 6s 266ms/step - loss: 0.5319 - acc: 0.2194 - val_loss: 0.3588 - val_acc: 0.1156\n",
            "Epoch 2/20\n",
            "19/19 [==============================] - 1s 49ms/step - loss: 0.5372 - acc: 0.2205 - val_loss: 0.3696 - val_acc: 0.1156\n",
            "Epoch 3/20\n",
            "19/19 [==============================] - 1s 47ms/step - loss: 0.5113 - acc: 0.2143 - val_loss: 0.3760 - val_acc: 0.1156\n",
            "Epoch 4/20\n",
            "19/19 [==============================] - 1s 47ms/step - loss: 0.5119 - acc: 0.2164 - val_loss: 0.3665 - val_acc: 0.1156\n",
            "Epoch 5/20\n",
            "19/19 [==============================] - 1s 47ms/step - loss: 0.5046 - acc: 0.2159 - val_loss: 0.3915 - val_acc: 0.1156\n",
            "Epoch 6/20\n",
            "19/19 [==============================] - 1s 46ms/step - loss: 0.5053 - acc: 0.2183 - val_loss: 0.3802 - val_acc: 0.1156\n",
            "Epoch 7/20\n",
            "19/19 [==============================] - 1s 46ms/step - loss: 0.4992 - acc: 0.2216 - val_loss: 0.3822 - val_acc: 0.1156\n",
            "Epoch 8/20\n",
            "19/19 [==============================] - 1s 47ms/step - loss: 0.4876 - acc: 0.2116 - val_loss: 0.3596 - val_acc: 0.1156\n",
            "Epoch 9/20\n",
            "19/19 [==============================] - 1s 46ms/step - loss: 0.4761 - acc: 0.2102 - val_loss: 0.3730 - val_acc: 0.1156\n",
            "Epoch 10/20\n",
            "19/19 [==============================] - 1s 46ms/step - loss: 0.4770 - acc: 0.2128 - val_loss: 0.3937 - val_acc: 0.1156\n",
            "Epoch 11/20\n",
            "19/19 [==============================] - 1s 47ms/step - loss: 0.4784 - acc: 0.2169 - val_loss: 0.3948 - val_acc: 0.1156\n",
            "Epoch 12/20\n",
            "19/19 [==============================] - 1s 47ms/step - loss: 0.4741 - acc: 0.2136 - val_loss: 0.3972 - val_acc: 0.1156\n",
            "Epoch 13/20\n",
            "19/19 [==============================] - 1s 46ms/step - loss: 0.4658 - acc: 0.2181 - val_loss: 0.3928 - val_acc: 0.1156\n",
            "Epoch 14/20\n",
            "19/19 [==============================] - 1s 47ms/step - loss: 0.4790 - acc: 0.2193 - val_loss: 0.3553 - val_acc: 0.1156\n",
            "Epoch 15/20\n",
            "19/19 [==============================] - 1s 47ms/step - loss: 0.4670 - acc: 0.2189 - val_loss: 0.3961 - val_acc: 0.1156\n",
            "Epoch 16/20\n",
            "19/19 [==============================] - 1s 47ms/step - loss: 0.4548 - acc: 0.2169 - val_loss: 0.3651 - val_acc: 0.1156\n",
            "Epoch 17/20\n",
            "19/19 [==============================] - 1s 47ms/step - loss: 0.4468 - acc: 0.2168 - val_loss: 0.4164 - val_acc: 0.1156\n",
            "Epoch 18/20\n",
            "19/19 [==============================] - 1s 48ms/step - loss: 0.4386 - acc: 0.2131 - val_loss: 0.4364 - val_acc: 0.1156\n",
            "Epoch 19/20\n",
            "19/19 [==============================] - 1s 47ms/step - loss: 0.4484 - acc: 0.2169 - val_loss: 0.4872 - val_acc: 0.1156\n",
            "Epoch 20/20\n",
            "19/19 [==============================] - 1s 46ms/step - loss: 0.4386 - acc: 0.2076 - val_loss: 0.3816 - val_acc: 0.1156\n",
            "50/50 [==============================] - 0s 4ms/step - loss: 0.4059 - acc: 0.1275\n",
            "Text test accuracy with CNN, epochs: 20: 0.1274999976158142\n",
            "Epoch 1/10\n",
            "19/19 [==============================] - 5s 266ms/step - loss: 0.4004 - acc: 0.2090 - val_loss: 0.4240 - val_acc: 0.1156\n",
            "Epoch 2/10\n",
            "19/19 [==============================] - 1s 51ms/step - loss: 0.3895 - acc: 0.2171 - val_loss: 0.4048 - val_acc: 0.1156\n",
            "Epoch 3/10\n",
            "19/19 [==============================] - 1s 49ms/step - loss: 0.3669 - acc: 0.2121 - val_loss: 0.4224 - val_acc: 0.1156\n",
            "Epoch 4/10\n",
            "19/19 [==============================] - 1s 48ms/step - loss: 0.3606 - acc: 0.2105 - val_loss: 0.4699 - val_acc: 0.1156\n",
            "Epoch 5/10\n",
            "19/19 [==============================] - 1s 49ms/step - loss: 0.3406 - acc: 0.2181 - val_loss: 0.4479 - val_acc: 0.1156\n",
            "Epoch 6/10\n",
            "19/19 [==============================] - 1s 49ms/step - loss: 0.3073 - acc: 0.2246 - val_loss: 0.4206 - val_acc: 0.1156\n",
            "Epoch 7/10\n",
            "19/19 [==============================] - 1s 49ms/step - loss: 0.2725 - acc: 0.2133 - val_loss: 0.4413 - val_acc: 0.1156\n",
            "Epoch 8/10\n",
            "19/19 [==============================] - 1s 49ms/step - loss: 0.2454 - acc: 0.2160 - val_loss: 0.4574 - val_acc: 0.1156\n",
            "Epoch 9/10\n",
            "19/19 [==============================] - 1s 49ms/step - loss: 0.2169 - acc: 0.2284 - val_loss: 0.5669 - val_acc: 0.1156\n",
            "Epoch 10/10\n",
            "19/19 [==============================] - 1s 49ms/step - loss: 0.1812 - acc: 0.2029 - val_loss: 0.5630 - val_acc: 0.1156\n",
            "50/50 [==============================] - 0s 4ms/step - loss: 0.6104 - acc: 0.1275\n",
            "Text test accuracy with CNN, optimizer: adam: 0.1274999976158142\n",
            "Epoch 1/10\n",
            "19/19 [==============================] - 6s 265ms/step - loss: 0.7876 - acc: 0.2124 - val_loss: 0.8844 - val_acc: 0.1156\n",
            "Epoch 2/10\n",
            "19/19 [==============================] - 1s 48ms/step - loss: 0.7894 - acc: 0.2106 - val_loss: 0.8844 - val_acc: 0.1156\n",
            "Epoch 3/10\n",
            "19/19 [==============================] - 1s 48ms/step - loss: 0.7827 - acc: 0.2173 - val_loss: 0.8844 - val_acc: 0.1156\n",
            "Epoch 4/10\n",
            "19/19 [==============================] - 1s 47ms/step - loss: 0.7873 - acc: 0.2127 - val_loss: 0.8844 - val_acc: 0.1156\n",
            "Epoch 5/10\n",
            "19/19 [==============================] - 1s 47ms/step - loss: 0.7869 - acc: 0.2131 - val_loss: 0.8844 - val_acc: 0.1156\n",
            "Epoch 6/10\n",
            "19/19 [==============================] - 1s 47ms/step - loss: 0.7865 - acc: 0.2135 - val_loss: 0.8844 - val_acc: 0.1156\n",
            "Epoch 7/10\n",
            "19/19 [==============================] - 1s 46ms/step - loss: 0.7885 - acc: 0.2115 - val_loss: 0.8844 - val_acc: 0.1156\n",
            "Epoch 8/10\n",
            "19/19 [==============================] - 1s 46ms/step - loss: 0.7800 - acc: 0.2200 - val_loss: 0.8844 - val_acc: 0.1156\n",
            "Epoch 9/10\n",
            "19/19 [==============================] - 1s 47ms/step - loss: 0.7800 - acc: 0.2200 - val_loss: 0.8844 - val_acc: 0.1156\n",
            "Epoch 10/10\n",
            "19/19 [==============================] - 1s 46ms/step - loss: 0.7942 - acc: 0.2058 - val_loss: 0.8844 - val_acc: 0.1156\n",
            "50/50 [==============================] - 0s 4ms/step - loss: 0.8725 - acc: 0.1275\n",
            "Text test accuracy with CNN, loss: mean_squared_error: 0.1274999976158142\n"
          ],
          "name": "stdout"
        }
      ]
    },
    {
      "cell_type": "code",
      "metadata": {
        "colab": {
          "base_uri": "https://localhost:8080/"
        },
        "id": "qCw_eoNdSyQ0",
        "outputId": "beda4420-ca67-4f5a-9f07-3ef3287c9009"
      },
      "source": [
        "cnnmodel2.compile(loss='binary_crossentropy', optimizer='rmsprop', metrics=['acc'])\n",
        "history_cbow_2 = cnnmodel2.fit(vector_cbow_scaled_train, y_train, batch_size=256, epochs=20, validation_data=(vector_cbow_scaled_validation, y_validation), verbose=1)\n",
        "score, acc_cbow_2 = cnnmodel2.evaluate(vector_cbow_scaled_test, y_test)\n",
        "\n",
        "print('Cbow test accuracy with CNN, epochs: 20:', acc_cbow_2)\n",
        "\n",
        "cnnmodel2.compile(loss='binary_crossentropy', optimizer='rmsprop', metrics=['acc'])\n",
        "history_cbow_3 = cnnmodel2.fit(vector_cbow_scaled_train, y_train, batch_size=256, epochs=10, validation_data=(vector_cbow_scaled_validation, y_validation), verbose=1)\n",
        "score, acc_cbow_3 = cnnmodel2.evaluate(vector_cbow_scaled_test, y_test)\n",
        "\n",
        "print('Cbow test accuracy with CNN, optimizer: adam:', acc_cbow_3)\n",
        "\n",
        "cnnmodel2.compile(loss='mean_squared_error', optimizer='rmsprop', metrics=['acc'])\n",
        "history_cbow_4 = cnnmodel2.fit(vector_cbow_scaled_train, y_train, batch_size=256, epochs=10, validation_data=(vector_cbow_scaled_validation, y_validation), verbose=1)\n",
        "score, acc_cbow_4 = cnnmodel2.evaluate(vector_cbow_scaled_test, y_test)\n",
        "\n",
        "print('Cbow test accuracy with CNN, loss: mean_squared_error:', acc_cbow_4)"
      ],
      "id": "qCw_eoNdSyQ0",
      "execution_count": 11,
      "outputs": [
        {
          "output_type": "stream",
          "text": [
            "Epoch 1/20\n",
            "19/19 [==============================] - 22s 1s/step - loss: 0.5331 - acc: 0.2107 - val_loss: 0.3842 - val_acc: 0.1156\n",
            "Epoch 2/20\n",
            "19/19 [==============================] - 4s 198ms/step - loss: 0.5336 - acc: 0.2214 - val_loss: 0.3690 - val_acc: 0.1156\n",
            "Epoch 3/20\n",
            "19/19 [==============================] - 4s 198ms/step - loss: 0.5265 - acc: 0.2129 - val_loss: 0.4213 - val_acc: 0.1156\n",
            "Epoch 4/20\n",
            "19/19 [==============================] - 4s 199ms/step - loss: 0.5138 - acc: 0.2033 - val_loss: 0.3836 - val_acc: 0.1156\n",
            "Epoch 5/20\n",
            "19/19 [==============================] - 4s 199ms/step - loss: 0.5229 - acc: 0.2120 - val_loss: 0.4133 - val_acc: 0.1156\n",
            "Epoch 6/20\n",
            "19/19 [==============================] - 4s 199ms/step - loss: 0.5253 - acc: 0.2130 - val_loss: 0.3925 - val_acc: 0.1156\n",
            "Epoch 7/20\n",
            "19/19 [==============================] - 4s 201ms/step - loss: 0.5199 - acc: 0.2116 - val_loss: 0.3693 - val_acc: 0.1156\n",
            "Epoch 8/20\n",
            "19/19 [==============================] - 4s 200ms/step - loss: 0.5289 - acc: 0.2168 - val_loss: 0.4090 - val_acc: 0.1156\n",
            "Epoch 9/20\n",
            "19/19 [==============================] - 4s 227ms/step - loss: 0.5223 - acc: 0.2138 - val_loss: 0.3969 - val_acc: 0.1156\n",
            "Epoch 10/20\n",
            "19/19 [==============================] - 4s 199ms/step - loss: 0.5251 - acc: 0.2130 - val_loss: 0.4033 - val_acc: 0.1156\n",
            "Epoch 11/20\n",
            "19/19 [==============================] - 4s 198ms/step - loss: 0.5263 - acc: 0.2145 - val_loss: 0.4366 - val_acc: 0.1156\n",
            "Epoch 12/20\n",
            "19/19 [==============================] - 4s 198ms/step - loss: 0.5420 - acc: 0.2253 - val_loss: 0.3815 - val_acc: 0.1156\n",
            "Epoch 13/20\n",
            "19/19 [==============================] - 4s 198ms/step - loss: 0.5170 - acc: 0.2091 - val_loss: 0.4366 - val_acc: 0.1156\n",
            "Epoch 14/20\n",
            "19/19 [==============================] - 4s 197ms/step - loss: 0.5206 - acc: 0.2084 - val_loss: 0.3966 - val_acc: 0.1156\n",
            "Epoch 15/20\n",
            "19/19 [==============================] - 4s 196ms/step - loss: 0.5224 - acc: 0.2122 - val_loss: 0.3989 - val_acc: 0.1156\n",
            "Epoch 16/20\n",
            "19/19 [==============================] - 4s 197ms/step - loss: 0.5247 - acc: 0.2152 - val_loss: 0.4261 - val_acc: 0.1156\n",
            "Epoch 17/20\n",
            "19/19 [==============================] - 4s 197ms/step - loss: 0.5324 - acc: 0.2189 - val_loss: 0.3910 - val_acc: 0.1156\n",
            "Epoch 18/20\n",
            "19/19 [==============================] - 4s 197ms/step - loss: 0.5222 - acc: 0.2124 - val_loss: 0.3767 - val_acc: 0.1156\n",
            "Epoch 19/20\n",
            "19/19 [==============================] - 4s 198ms/step - loss: 0.5320 - acc: 0.2199 - val_loss: 0.3906 - val_acc: 0.1156\n",
            "Epoch 20/20\n",
            "19/19 [==============================] - 4s 197ms/step - loss: 0.5280 - acc: 0.2171 - val_loss: 0.3959 - val_acc: 0.1156\n",
            "50/50 [==============================] - 1s 11ms/step - loss: 0.4095 - acc: 0.1275\n",
            "Cbow test accuracy with CNN, epochs: 20: 0.1274999976158142\n",
            "Epoch 1/10\n",
            "19/19 [==============================] - 22s 1s/step - loss: 0.5330 - acc: 0.2175 - val_loss: 0.4093 - val_acc: 0.1156\n",
            "Epoch 2/10\n",
            "19/19 [==============================] - 4s 197ms/step - loss: 0.5347 - acc: 0.2228 - val_loss: 0.3664 - val_acc: 0.1156\n",
            "Epoch 3/10\n",
            "19/19 [==============================] - 4s 196ms/step - loss: 0.5442 - acc: 0.2234 - val_loss: 0.3953 - val_acc: 0.1156\n",
            "Epoch 4/10\n",
            "19/19 [==============================] - 4s 196ms/step - loss: 0.5254 - acc: 0.2162 - val_loss: 0.4011 - val_acc: 0.1156\n",
            "Epoch 5/10\n",
            "19/19 [==============================] - 4s 196ms/step - loss: 0.5349 - acc: 0.2212 - val_loss: 0.3771 - val_acc: 0.1156\n",
            "Epoch 6/10\n",
            "19/19 [==============================] - 4s 199ms/step - loss: 0.5222 - acc: 0.2140 - val_loss: 0.3700 - val_acc: 0.1156\n",
            "Epoch 7/10\n",
            "19/19 [==============================] - 4s 199ms/step - loss: 0.5260 - acc: 0.2131 - val_loss: 0.3940 - val_acc: 0.1156\n",
            "Epoch 8/10\n",
            "19/19 [==============================] - 4s 198ms/step - loss: 0.5261 - acc: 0.2169 - val_loss: 0.4040 - val_acc: 0.1156\n",
            "Epoch 9/10\n",
            "19/19 [==============================] - 4s 200ms/step - loss: 0.5290 - acc: 0.2185 - val_loss: 0.3895 - val_acc: 0.1156\n",
            "Epoch 10/10\n",
            "19/19 [==============================] - 4s 199ms/step - loss: 0.5237 - acc: 0.2148 - val_loss: 0.4003 - val_acc: 0.1156\n",
            "50/50 [==============================] - 1s 11ms/step - loss: 0.4135 - acc: 0.1275\n",
            "Cbow test accuracy with CNN, optimizer: adam: 0.1274999976158142\n",
            "Epoch 1/10\n",
            "19/19 [==============================] - 22s 1s/step - loss: 0.7762 - acc: 0.2238 - val_loss: 0.8844 - val_acc: 0.1156\n",
            "Epoch 2/10\n",
            "19/19 [==============================] - 4s 195ms/step - loss: 0.7798 - acc: 0.2202 - val_loss: 0.8844 - val_acc: 0.1156\n",
            "Epoch 3/10\n",
            "19/19 [==============================] - 4s 195ms/step - loss: 0.7802 - acc: 0.2198 - val_loss: 0.8844 - val_acc: 0.1156\n",
            "Epoch 4/10\n",
            "19/19 [==============================] - 4s 195ms/step - loss: 0.7857 - acc: 0.2143 - val_loss: 0.8844 - val_acc: 0.1156\n",
            "Epoch 5/10\n",
            "19/19 [==============================] - 4s 195ms/step - loss: 0.7835 - acc: 0.2165 - val_loss: 0.8844 - val_acc: 0.1156\n",
            "Epoch 6/10\n",
            "19/19 [==============================] - 4s 197ms/step - loss: 0.7801 - acc: 0.2199 - val_loss: 0.8844 - val_acc: 0.1156\n",
            "Epoch 7/10\n",
            "19/19 [==============================] - 4s 198ms/step - loss: 0.7853 - acc: 0.2147 - val_loss: 0.8844 - val_acc: 0.1156\n",
            "Epoch 8/10\n",
            "19/19 [==============================] - 4s 197ms/step - loss: 0.7834 - acc: 0.2166 - val_loss: 0.8844 - val_acc: 0.1156\n",
            "Epoch 9/10\n",
            "19/19 [==============================] - 4s 198ms/step - loss: 0.7853 - acc: 0.2147 - val_loss: 0.8844 - val_acc: 0.1156\n",
            "Epoch 10/10\n",
            "19/19 [==============================] - 4s 197ms/step - loss: 0.7884 - acc: 0.2116 - val_loss: 0.8844 - val_acc: 0.1156\n",
            "50/50 [==============================] - 1s 11ms/step - loss: 0.8725 - acc: 0.1275\n",
            "Cbow test accuracy with CNN, loss: mean_squared_error: 0.1274999976158142\n"
          ],
          "name": "stdout"
        }
      ]
    },
    {
      "cell_type": "markdown",
      "metadata": {
        "id": "raised-amino"
      },
      "source": [
        "**Zadatak:**\n",
        "    \n",
        "> Za sve dobivene rezultate izvršiti programski kod, u okviru kojeg se vrši vizualizacija dobivenih rezultata."
      ],
      "id": "raised-amino"
    },
    {
      "cell_type": "code",
      "metadata": {
        "id": "great-charge"
      },
      "source": [
        "import matplotlib.pyplot as plt\n",
        "\n",
        "def print_rez(history):\n",
        "  acc = history.history['acc']\n",
        "  val_acc = history.history['val_acc']\n",
        "  loss = history.history['loss']\n",
        "  val_loss = history.history['val_loss']\n",
        "  epochs = range(1, len(acc) + 1)\n",
        "  plt.plot(epochs, acc, 'bo', label='Training acc')\n",
        "  plt.plot(epochs, val_acc, 'b', label='Validation acc')\n",
        "  plt.title('Training and validation accuracy')\n",
        "  plt.legend()\n",
        "  plt.figure()\n",
        "  plt.plot(epochs, loss, 'bo', label='Training loss')\n",
        "  plt.plot(epochs, val_loss, 'b', label='Validation loss')\n",
        "  plt.title('Training and validation loss')\n",
        "  plt.legend()\n",
        "  plt.show()"
      ],
      "id": "great-charge",
      "execution_count": 12,
      "outputs": []
    },
    {
      "cell_type": "code",
      "metadata": {
        "id": "RhzLTNjuVH2V",
        "colab": {
          "base_uri": "https://localhost:8080/",
          "height": 1000
        },
        "outputId": "6d18d826-18ca-4777-b8d9-eedf15ddda66"
      },
      "source": [
        "print('History text 1:')\n",
        "print_rez(history_text_1)\n",
        "print('History text 2:')\n",
        "print_rez(history_text_2)\n",
        "print('History text 3:')\n",
        "print_rez(history_text_3)\n",
        "print('History text 4:')\n",
        "print_rez(history_text_4)\n",
        "\n",
        "print('')\n",
        "print('History cbow 1:')\n",
        "print_rez(history_cbow_1)\n",
        "print('History cbow 2:')\n",
        "print_rez(history_cbow_2)\n",
        "print('History cbow 3:')\n",
        "print_rez(history_cbow_3)\n",
        "print('History cbow 4:')\n",
        "print_rez(history_cbow_4)"
      ],
      "id": "RhzLTNjuVH2V",
      "execution_count": 13,
      "outputs": [
        {
          "output_type": "stream",
          "text": [
            "History text 1:\n"
          ],
          "name": "stdout"
        },
        {
          "output_type": "display_data",
          "data": {
            "image/png": "[encoded data removed]",
            "text/plain": [
              "<Figure size 432x288 with 1 Axes>"
            ]
          },
          "metadata": {
            "tags": [],
            "needs_background": "light"
          }
        },
        {
          "output_type": "display_data",
          "data": {
            "image/png": "[encoded data removed]",
            "text/plain": [
              "<Figure size 432x288 with 1 Axes>"
            ]
          },
          "metadata": {
            "tags": [],
            "needs_background": "light"
          }
        },
        {
          "output_type": "stream",
          "text": [
            "History text 2:\n"
          ],
          "name": "stdout"
        },
        {
          "output_type": "display_data",
          "data": {
            "image/png": "[encoded data removed]",
            "text/plain": [
              "<Figure size 432x288 with 1 Axes>"
            ]
          },
          "metadata": {
            "tags": [],
            "needs_background": "light"
          }
        },
        {
          "output_type": "display_data",
          "data": {
            "image/png": "[encoded data removed]",
            "text/plain": [
              "<Figure size 432x288 with 1 Axes>"
            ]
          },
          "metadata": {
            "tags": [],
            "needs_background": "light"
          }
        },
        {
          "output_type": "stream",
          "text": [
            "History text 3:\n"
          ],
          "name": "stdout"
        },
        {
          "output_type": "display_data",
          "data": {
            "image/png": "[encoded data removed]",
            "text/plain": [
              "<Figure size 432x288 with 1 Axes>"
            ]
          },
          "metadata": {
            "tags": [],
            "needs_background": "light"
          }
        },
        {
          "output_type": "display_data",
          "data": {
            "image/png": "[encoded data removed]",
            "text/plain": [
              "<Figure size 432x288 with 1 Axes>"
            ]
          },
          "metadata": {
            "tags": [],
            "needs_background": "light"
          }
        },
        {
          "output_type": "stream",
          "text": [
            "History text 4:\n"
          ],
          "name": "stdout"
        },
        {
          "output_type": "display_data",
          "data": {
            "image/png": "[encoded data removed]",
            "text/plain": [
              "<Figure size 432x288 with 1 Axes>"
            ]
          },
          "metadata": {
            "tags": [],
            "needs_background": "light"
          }
        },
        {
          "output_type": "display_data",
          "data": {
            "image/png": "[encoded data removed]",
            "text/plain": [
              "<Figure size 432x288 with 1 Axes>"
            ]
          },
          "metadata": {
            "tags": [],
            "needs_background": "light"
          }
        },
        {
          "output_type": "stream",
          "text": [
            "\n",
            "History cbow 1:\n"
          ],
          "name": "stdout"
        },
        {
          "output_type": "display_data",
          "data": {
            "image/png": "[encoded data removed]",
            "text/plain": [
              "<Figure size 432x288 with 1 Axes>"
            ]
          },
          "metadata": {
            "tags": [],
            "needs_background": "light"
          }
        },
        {
          "output_type": "display_data",
          "data": {
            "image/png": "[encoded data removed]",
            "text/plain": [
              "<Figure size 432x288 with 1 Axes>"
            ]
          },
          "metadata": {
            "tags": [],
            "needs_background": "light"
          }
        },
        {
          "output_type": "stream",
          "text": [
            "History cbow 2:\n"
          ],
          "name": "stdout"
        },
        {
          "output_type": "display_data",
          "data": {
            "image/png": "[encoded data removed]",
            "text/plain": [
              "<Figure size 432x288 with 1 Axes>"
            ]
          },
          "metadata": {
            "tags": [],
            "needs_background": "light"
          }
        },
        {
          "output_type": "display_data",
          "data": {
            "image/png": "[encoded data removed]",
            "text/plain": [
              "<Figure size 432x288 with 1 Axes>"
            ]
          },
          "metadata": {
            "tags": [],
            "needs_background": "light"
          }
        },
        {
          "output_type": "stream",
          "text": [
            "History cbow 3:\n"
          ],
          "name": "stdout"
        },
        {
          "output_type": "display_data",
          "data": {
            "image/png": "[encoded data removed]",
            "text/plain": [
              "<Figure size 432x288 with 1 Axes>"
            ]
          },
          "metadata": {
            "tags": [],
            "needs_background": "light"
          }
        },
        {
          "output_type": "display_data",
          "data": {
            "image/png": "[encoded data removed]",
            "text/plain": [
              "<Figure size 432x288 with 1 Axes>"
            ]
          },
          "metadata": {
            "tags": [],
            "needs_background": "light"
          }
        },
        {
          "output_type": "stream",
          "text": [
            "History cbow 4:\n"
          ],
          "name": "stdout"
        },
        {
          "output_type": "display_data",
          "data": {
            "image/png": "[encoded data removed]",
            "text/plain": [
              "<Figure size 432x288 with 1 Axes>"
            ]
          },
          "metadata": {
            "tags": [],
            "needs_background": "light"
          }
        },
        {
          "output_type": "display_data",
          "data": {
            "image/png": "[encoded data removed]",
            "text/plain": [
              "<Figure size 432x288 with 1 Axes>"
            ]
          },
          "metadata": {
            "tags": [],
            "needs_background": "light"
          }
        }
      ]
    },
    {
      "cell_type": "markdown",
      "metadata": {
        "id": "proper-granny"
      },
      "source": [
        "**Zadatak:**\n",
        "    \n",
        "> Izvršiti analizu svih prethodno dobivenih rezultata. Šta se može zaključiti o različitim vrijednostima parametara i reprezentacijama podataka? Detaljno objasniti sve dobivene rezultate, prikaze i tačnosti nad testnim skupovima podataka."
      ],
      "id": "proper-granny"
    },
    {
      "cell_type": "markdown",
      "metadata": {
        "id": "accompanied-daughter"
      },
      "source": [
        "- Razlicite vrijednosti parametara se ne razlikuju toliko u postignutim rezultatima.\n",
        "- Razlike se ocituju u velicini lossa i preciznoscu nad train/validacijskim setom podataka, dok za testni set se dobijaju isti rezultati.\n",
        "- Razlog predstavlja veliki overfitting nad ovim datasetom, te razlicite reprezentacije podataka ne igraju toliku ulogu (text or cbow)."
      ],
      "id": "accompanied-daughter"
    },
    {
      "cell_type": "markdown",
      "metadata": {
        "id": "surprised-romantic"
      },
      "source": [
        "----\n",
        "\n",
        "### Zadatak 3. - LSTM RNN (*Long-Short Term Memory* Rekurentne Neuralne Mreže)\n",
        "\n",
        "U okviru ovog zadatka potrebno je izvršiti treniranje regresijske neuralne mreže koristeći prethodno učitane podatke.\n",
        "\n",
        "**NAPOMENA**: Zbog dužeg trajanja procesa i veće potrošnje memorije, preporučuje se da se ova laboratorijska vježba radi u okruženju koje podržava GPU paralelizaciju ili online na platformi [Google Colab](http:colab.research.google.com).\n",
        "\n",
        "**Zadatak:**\n",
        "    \n",
        "> Izvršiti kod koji je prikazan ispod kako bi se definisala struktura neuralne mreže."
      ],
      "id": "surprised-romantic"
    },
    {
      "cell_type": "code",
      "metadata": {
        "id": "VTNBwZRINaCW"
      },
      "source": [
        "# smanjenje dataseta i postavki da bi se resursi zadovoljili\n",
        "y_train = y[0:400]\n",
        "y_validation = y[400:600]\n",
        "y_test = y[600:800]\n",
        "\n",
        "text_train = data_as_lists[0:400]\n",
        "text_validation = data_as_lists[400:600]\n",
        "text_test = data_as_lists[600:800]\n",
        "\n",
        "vector_cbow_scaled_train = vector_cbow_scaled_data_as_lists[0:400]\n",
        "vector_cbow_scaled_validation = vector_cbow_scaled_data_as_lists[400:600]\n",
        "vector_cbow_scaled_test = vector_cbow_scaled_data_as_lists[600:800]"
      ],
      "id": "VTNBwZRINaCW",
      "execution_count": 7,
      "outputs": []
    },
    {
      "cell_type": "code",
      "metadata": {
        "id": "bizarre-vegetable"
      },
      "source": [
        "from tensorflow.keras.layers import LSTM\n",
        "from tensorflow.keras import Sequential\n",
        "from tensorflow.keras.layers import Conv1D, MaxPooling1D, GlobalMaxPooling1D, Dense\n",
        "import numpy as np\n",
        "\n",
        "\n",
        "rnnmodel = Sequential()\n",
        "rnnmodel.add(embedding_layer1)\n",
        "rnnmodel.add(LSTM(128, dropout=0.2, recurrent_dropout=0.2))\n",
        "rnnmodel.add(Dense(1, activation='sigmoid'))"
      ],
      "id": "bizarre-vegetable",
      "execution_count": 8,
      "outputs": []
    },
    {
      "cell_type": "code",
      "metadata": {
        "id": "uUEPrEZbagbT"
      },
      "source": [
        "rnnmodel2 = Sequential()\n",
        "rnnmodel2.add(embedding_layer2)\n",
        "rnnmodel2.add(LSTM(128, dropout=0.2, recurrent_dropout=0.2))\n",
        "rnnmodel2.add(Dense(1, activation='sigmoid'))"
      ],
      "id": "uUEPrEZbagbT",
      "execution_count": 9,
      "outputs": []
    },
    {
      "cell_type": "markdown",
      "metadata": {
        "id": "random-carroll"
      },
      "source": [
        "**Zadatak:**\n",
        "    \n",
        "> Izvršiti kod koji je prikazan ispod, pri čemu je potrebno nepoznate vrijednosti zamijeniti sa trening, validacijskim i testnim ulaznim i izlaznim podskupovima podataka.\n",
        ">\n",
        "> Voditi računa o tome da se ovaj programski kod treba dvaput izvršiti za dva različita skupa podataka - vektorizirani i skalirani, učitani u prvom zadatku.\n",
        ">\n",
        "> Informacije o treniranju trebaju se sačuvati u varijablu <code>history</code> koja će se koristiti u nastavku laboratorijske vježbe, kao i informacije o tačnosti klasifikacije sačuvane u varijablama <code>score</code> i <code>acc</code>.\n",
        ">\n",
        "> Sve informacije trebaju se sačuvati u zasebne varijable kako bi se u nastavku mogle koristiti."
      ],
      "id": "random-carroll"
    },
    {
      "cell_type": "code",
      "metadata": {
        "colab": {
          "base_uri": "https://localhost:8080/"
        },
        "id": "fresh-grace",
        "outputId": "707b691d-405a-40db-b217-ae6c102c0268"
      },
      "source": [
        "rnnmodel.compile(loss='binary_crossentropy', optimizer='adam', metrics=['acc'])\n",
        "history_rnn_text_1 = rnnmodel.fit(text_train, y_train, batch_size=32, epochs=4, validation_data=(text_validation, y_validation), verbose=1)\n",
        "score, acc_rnn_text_1 = rnnmodel.evaluate(text_test, y_test)\n",
        "\n",
        "print('Text test accuracy with RNN:', acc_rnn_text_1)\n",
        "\n",
        "rnnmodel2.compile(loss='binary_crossentropy', optimizer='adam', metrics=['acc'])\n",
        "history_rnn_cbow_1 = rnnmodel2.fit(vector_cbow_scaled_train, y_train, batch_size=32, epochs=4, validation_data=(vector_cbow_scaled_validation, y_validation), verbose=1)\n",
        "score, acc_rnn_cbow_1 = rnnmodel2.evaluate(vector_cbow_scaled_test, y_test)\n",
        "\n",
        "print('Cbow test accuracy with RNN:', acc_rnn_cbow_1)"
      ],
      "id": "fresh-grace",
      "execution_count": 10,
      "outputs": [
        {
          "output_type": "stream",
          "text": [
            "Epoch 1/4\n",
            "13/13 [==============================] - 34s 2s/step - loss: 0.6601 - acc: 0.7600 - val_loss: 0.5823 - val_acc: 0.7500\n",
            "Epoch 2/4\n",
            "13/13 [==============================] - 29s 2s/step - loss: 0.5652 - acc: 0.7784 - val_loss: 0.5728 - val_acc: 0.7500\n",
            "Epoch 3/4\n",
            "13/13 [==============================] - 29s 2s/step - loss: 0.5603 - acc: 0.7531 - val_loss: 0.5716 - val_acc: 0.7500\n",
            "Epoch 4/4\n",
            "13/13 [==============================] - 29s 2s/step - loss: 0.5656 - acc: 0.7495 - val_loss: 0.5666 - val_acc: 0.7500\n",
            "7/7 [==============================] - 2s 228ms/step - loss: 0.5827 - acc: 0.7300\n",
            "Text test accuracy with RNN: 0.7300000190734863\n",
            "Epoch 1/4\n",
            "13/13 [==============================] - 169s 13s/step - loss: 0.6654 - acc: 0.7050 - val_loss: 0.5857 - val_acc: 0.7500\n",
            "Epoch 2/4\n",
            "13/13 [==============================] - 171s 13s/step - loss: 0.5654 - acc: 0.7717 - val_loss: 0.5686 - val_acc: 0.7500\n",
            "Epoch 3/4\n",
            "13/13 [==============================] - 183s 14s/step - loss: 0.5607 - acc: 0.7538 - val_loss: 0.5698 - val_acc: 0.7500\n",
            "Epoch 4/4\n",
            "13/13 [==============================] - 173s 13s/step - loss: 0.5705 - acc: 0.7449 - val_loss: 0.5706 - val_acc: 0.7500\n",
            "7/7 [==============================] - 7s 1s/step - loss: 0.5893 - acc: 0.7300\n",
            "Cbow test accuracy with RNN: 0.7300000190734863\n"
          ],
          "name": "stdout"
        }
      ]
    },
    {
      "cell_type": "markdown",
      "metadata": {
        "id": "mental-donor"
      },
      "source": [
        "**Zadatak:**\n",
        "    \n",
        "> Ponoviti treniranje barem 3 puta (po 3 puta za oba skupa podataka), pritom mijenjajući vrijednosti parametara <code>loss, optimizer, epochs</code>."
      ],
      "id": "mental-donor"
    },
    {
      "cell_type": "code",
      "metadata": {
        "id": "opening-greene",
        "colab": {
          "base_uri": "https://localhost:8080/"
        },
        "outputId": "6644c699-a740-4391-eee0-e5200715c927"
      },
      "source": [
        "rnnmodel.compile(loss='binary_crossentropy', optimizer='adam', metrics=['acc'])\n",
        "history_rnn_text_2 = rnnmodel.fit(text_train, y_train, batch_size=32, epochs=8, validation_data=(text_validation, y_validation), verbose=1)\n",
        "score, acc_rnn_text_2 = rnnmodel.evaluate(text_test, y_test)\n",
        "\n",
        "print('Text test accuracy with RNN, epochs: 8:', acc_rnn_text_2)\n",
        "\n",
        "rnnmodel.compile(loss='binary_crossentropy', optimizer='rmsprop', metrics=['acc'])\n",
        "history_rnn_text_3 = rnnmodel.fit(text_train, y_train, batch_size=32, epochs=4, validation_data=(text_validation, y_validation), verbose=1)\n",
        "score, acc_rnn_text_3 = rnnmodel.evaluate(text_test, y_test)\n",
        "\n",
        "print('Text test accuracy with RNN, optimizer: rmsprop:', acc_rnn_text_3)\n",
        "\n",
        "rnnmodel.compile(loss='mean_squared_error', optimizer='adam', metrics=['acc'])\n",
        "history_rnn_text_4 = rnnmodel.fit(text_train, y_train, batch_size=32, epochs=4, validation_data=(text_validation, y_validation), verbose=1)\n",
        "score, acc_rnn_text_4 = rnnmodel.evaluate(text_test, y_test)\n",
        "\n",
        "print('Text test accuracy with RNN, loss: mean_squared_error:', acc_rnn_text_4)"
      ],
      "id": "opening-greene",
      "execution_count": 11,
      "outputs": [
        {
          "output_type": "stream",
          "text": [
            "Epoch 1/8\n",
            "13/13 [==============================] - 34s 2s/step - loss: 0.5306 - acc: 0.7883 - val_loss: 0.5881 - val_acc: 0.7500\n",
            "Epoch 2/8\n",
            "13/13 [==============================] - 30s 2s/step - loss: 0.6083 - acc: 0.7058 - val_loss: 0.5694 - val_acc: 0.7500\n",
            "Epoch 3/8\n",
            "13/13 [==============================] - 30s 2s/step - loss: 0.5576 - acc: 0.7588 - val_loss: 0.5667 - val_acc: 0.7500\n",
            "Epoch 4/8\n",
            "13/13 [==============================] - 30s 2s/step - loss: 0.5060 - acc: 0.8019 - val_loss: 0.5671 - val_acc: 0.7500\n",
            "Epoch 5/8\n",
            "13/13 [==============================] - 30s 2s/step - loss: 0.5835 - acc: 0.7308 - val_loss: 0.5675 - val_acc: 0.7500\n",
            "Epoch 6/8\n",
            "13/13 [==============================] - 30s 2s/step - loss: 0.5767 - acc: 0.7379 - val_loss: 0.5669 - val_acc: 0.7500\n",
            "Epoch 7/8\n",
            "13/13 [==============================] - 30s 2s/step - loss: 0.5485 - acc: 0.7614 - val_loss: 0.5671 - val_acc: 0.7500\n",
            "Epoch 8/8\n",
            "13/13 [==============================] - 30s 2s/step - loss: 0.5619 - acc: 0.7516 - val_loss: 0.5663 - val_acc: 0.7500\n",
            "7/7 [==============================] - 2s 231ms/step - loss: 0.5833 - acc: 0.7300\n",
            "Text test accuracy with RNN, epochs: 8: 0.7300000190734863\n",
            "Epoch 1/4\n",
            "13/13 [==============================] - 33s 2s/step - loss: 0.5706 - acc: 0.7565 - val_loss: 0.5737 - val_acc: 0.7500\n",
            "Epoch 2/4\n",
            "13/13 [==============================] - 30s 2s/step - loss: 0.5465 - acc: 0.7624 - val_loss: 0.5827 - val_acc: 0.7500\n",
            "Epoch 3/4\n",
            "13/13 [==============================] - 30s 2s/step - loss: 0.5644 - acc: 0.7540 - val_loss: 0.5662 - val_acc: 0.7500\n",
            "Epoch 4/4\n",
            "13/13 [==============================] - 30s 2s/step - loss: 0.5517 - acc: 0.7591 - val_loss: 0.5888 - val_acc: 0.7500\n",
            "7/7 [==============================] - 2s 230ms/step - loss: 0.6127 - acc: 0.7300\n",
            "Text test accuracy with RNN, optimizer: rmsprop: 0.7300000190734863\n",
            "Epoch 1/4\n",
            "13/13 [==============================] - 33s 2s/step - loss: 0.1907 - acc: 0.7490 - val_loss: 0.1993 - val_acc: 0.7500\n",
            "Epoch 2/4\n",
            "13/13 [==============================] - 30s 2s/step - loss: 0.1804 - acc: 0.7626 - val_loss: 0.1997 - val_acc: 0.7500\n",
            "Epoch 3/4\n",
            "13/13 [==============================] - 30s 2s/step - loss: 0.1887 - acc: 0.7467 - val_loss: 0.1992 - val_acc: 0.7500\n",
            "Epoch 4/4\n",
            "13/13 [==============================] - 30s 2s/step - loss: 0.1889 - acc: 0.7454 - val_loss: 0.2003 - val_acc: 0.7500\n",
            "7/7 [==============================] - 2s 225ms/step - loss: 0.1984 - acc: 0.7300\n",
            "Text test accuracy with RNN, loss: mean_squared_error: 0.7300000190734863\n"
          ],
          "name": "stdout"
        }
      ]
    },
    {
      "cell_type": "code",
      "metadata": {
        "id": "HRHPM7_3bCzH",
        "colab": {
          "base_uri": "https://localhost:8080/"
        },
        "outputId": "1d8fbf09-d2fd-42fd-b7fb-3290b0d2fe12"
      },
      "source": [
        "rnnmodel2.compile(loss='binary_crossentropy', optimizer='adam', metrics=['acc'])\n",
        "history_rnn_cbow_2 = rnnmodel2.fit(vector_cbow_scaled_train, y_train, batch_size=32, epochs=4, validation_data=(vector_cbow_scaled_validation, y_validation), verbose=1)\n",
        "score, acc_rnn_cbow_2 = rnnmodel2.evaluate(vector_cbow_scaled_test, y_test)\n",
        "\n",
        "print('Cbow test accuracy with RNN, epochs: 4:', acc_rnn_cbow_2)\n",
        "\n",
        "rnnmodel2.compile(loss='binary_crossentropy', optimizer='rmsprop', metrics=['acc'])\n",
        "history_rnn_cbow_3 = rnnmodel2.fit(vector_cbow_scaled_train, y_train, batch_size=32, epochs=2, validation_data=(vector_cbow_scaled_validation, y_validation), verbose=1)\n",
        "score, acc_rnn_cbow_3 = rnnmodel2.evaluate(vector_cbow_scaled_test, y_test)\n",
        "\n",
        "print('Cbow test accuracy with RNN, optimizer: rmsprop:', acc_rnn_cbow_3)\n",
        "\n",
        "rnnmodel2.compile(loss='mean_squared_error', optimizer='adam', metrics=['acc'])\n",
        "history_rnn_cbow_4 = rnnmodel2.fit(vector_cbow_scaled_train, y_train, batch_size=32, epochs=2, validation_data=(vector_cbow_scaled_validation, y_validation), verbose=1)\n",
        "score, acc_rnn_cbow_4 = rnnmodel2.evaluate(vector_cbow_scaled_test, y_test)\n",
        "\n",
        "print('Cbow test accuracy with RNN, loss: mean_squared_error:', acc_rnn_cbow_4)"
      ],
      "id": "HRHPM7_3bCzH",
      "execution_count": 12,
      "outputs": [
        {
          "output_type": "stream",
          "text": [
            "Epoch 1/4\n",
            "13/13 [==============================] - 170s 13s/step - loss: 0.5731 - acc: 0.7474 - val_loss: 0.5692 - val_acc: 0.7500\n",
            "Epoch 2/4\n",
            "13/13 [==============================] - 164s 13s/step - loss: 0.5090 - acc: 0.7958 - val_loss: 0.5788 - val_acc: 0.7500\n",
            "Epoch 3/4\n",
            "13/13 [==============================] - 173s 13s/step - loss: 0.5906 - acc: 0.7476 - val_loss: 0.5812 - val_acc: 0.7500\n",
            "Epoch 4/4\n",
            "13/13 [==============================] - 173s 13s/step - loss: 0.5839 - acc: 0.7280 - val_loss: 0.5936 - val_acc: 0.7500\n",
            "7/7 [==============================] - 7s 1s/step - loss: 0.6179 - acc: 0.7300\n",
            "Cbow test accuracy with RNN, epochs: 4: 0.7300000190734863\n",
            "Epoch 1/2\n",
            "13/13 [==============================] - 171s 13s/step - loss: 0.5756 - acc: 0.7744 - val_loss: 0.5678 - val_acc: 0.7500\n",
            "Epoch 2/2\n",
            "13/13 [==============================] - 173s 13s/step - loss: 0.5423 - acc: 0.7719 - val_loss: 0.5703 - val_acc: 0.7500\n",
            "7/7 [==============================] - 7s 1s/step - loss: 0.5840 - acc: 0.7300\n",
            "Cbow test accuracy with RNN, optimizer: rmsprop: 0.7300000190734863\n",
            "Epoch 1/2\n",
            "13/13 [==============================] - 169s 13s/step - loss: 0.1810 - acc: 0.7708 - val_loss: 0.2000 - val_acc: 0.7500\n",
            "Epoch 2/2\n",
            "13/13 [==============================] - 173s 13s/step - loss: 0.1880 - acc: 0.7504 - val_loss: 0.2018 - val_acc: 0.7500\n",
            "7/7 [==============================] - 7s 1s/step - loss: 0.2005 - acc: 0.7300\n",
            "Cbow test accuracy with RNN, loss: mean_squared_error: 0.7300000190734863\n"
          ],
          "name": "stdout"
        }
      ]
    },
    {
      "cell_type": "markdown",
      "metadata": {
        "id": "eastern-depth"
      },
      "source": [
        "**Zadatak:**\n",
        "    \n",
        "> Za sve dobivene rezultate izvršiti programski kod, u okviru kojeg se vrši vizualizacija dobivenih rezultata."
      ],
      "id": "eastern-depth"
    },
    {
      "cell_type": "code",
      "metadata": {
        "id": "unlike-conviction"
      },
      "source": [
        "import matplotlib.pyplot as plt\n",
        "\n",
        "def print_rez_rnn(history):\n",
        "  acc = history.history['acc']\n",
        "  val_acc = history.history['val_acc']\n",
        "  loss = history.history['loss']\n",
        "  val_loss = history.history['val_loss']\n",
        "  epochs = range(1, len(acc) + 1)\n",
        "  plt.plot(epochs, acc, 'bo', label='Training acc')\n",
        "  plt.plot(epochs, val_acc, 'b', label='Validation acc')\n",
        "  plt.title('Training and validation accuracy')\n",
        "  plt.legend()\n",
        "  plt.figure()\n",
        "  plt.plot(epochs, loss, 'bo', label='Training loss')\n",
        "  plt.plot(epochs, val_loss, 'b', label='Validation loss')\n",
        "  plt.title('Training and validation loss')\n",
        "  plt.legend()\n",
        "  plt.show()"
      ],
      "id": "unlike-conviction",
      "execution_count": 13,
      "outputs": []
    },
    {
      "cell_type": "code",
      "metadata": {
        "id": "RUBESOiKdC_k",
        "colab": {
          "base_uri": "https://localhost:8080/",
          "height": 1000
        },
        "outputId": "a75171ef-3d7b-4bfc-ed16-9dddb64aac42"
      },
      "source": [
        "print('History rnn text 1:')\n",
        "print_rez_rnn(history_rnn_text_1)\n",
        "print('History rnn text 2:')\n",
        "print_rez_rnn(history_rnn_text_2)\n",
        "print('History rnn text 3:')\n",
        "print_rez_rnn(history_rnn_text_3)\n",
        "print('History rnn text 4:')\n",
        "print_rez_rnn(history_rnn_text_4)\n",
        "\n",
        "print('')\n",
        "print('History rnn cbow 1:')\n",
        "print_rez_rnn(history_rnn_cbow_1)\n",
        "print('History rnn cbow 2:')\n",
        "print_rez_rnn(history_rnn_cbow_2)\n",
        "print('History rnn cbow 3:')\n",
        "print_rez_rnn(history_rnn_cbow_3)\n",
        "print('History rnn cbow 4:')\n",
        "print_rez_rnn(history_rnn_cbow_4)"
      ],
      "id": "RUBESOiKdC_k",
      "execution_count": 14,
      "outputs": [
        {
          "output_type": "stream",
          "text": [
            "History rnn text 1:\n"
          ],
          "name": "stdout"
        },
        {
          "output_type": "display_data",
          "data": {
            "image/png": "[encoded data removed]",
            "text/plain": [
              "<Figure size 432x288 with 1 Axes>"
            ]
          },
          "metadata": {
            "tags": [],
            "needs_background": "light"
          }
        },
        {
          "output_type": "display_data",
          "data": {
            "image/png": "[encoded data removed]",
            "text/plain": [
              "<Figure size 432x288 with 1 Axes>"
            ]
          },
          "metadata": {
            "tags": [],
            "needs_background": "light"
          }
        },
        {
          "output_type": "stream",
          "text": [
            "History rnn text 2:\n"
          ],
          "name": "stdout"
        },
        {
          "output_type": "display_data",
          "data": {
            "image/png": "[encoded data removed]",
            "text/plain": [
              "<Figure size 432x288 with 1 Axes>"
            ]
          },
          "metadata": {
            "tags": [],
            "needs_background": "light"
          }
        },
        {
          "output_type": "display_data",
          "data": {
            "image/png": "[encoded data removed]",
            "text/plain": [
              "<Figure size 432x288 with 1 Axes>"
            ]
          },
          "metadata": {
            "tags": [],
            "needs_background": "light"
          }
        },
        {
          "output_type": "stream",
          "text": [
            "History rnn text 3:\n"
          ],
          "name": "stdout"
        },
        {
          "output_type": "display_data",
          "data": {
            "image/png": "[encoded data removed]",
            "text/plain": [
              "<Figure size 432x288 with 1 Axes>"
            ]
          },
          "metadata": {
            "tags": [],
            "needs_background": "light"
          }
        },
        {
          "output_type": "display_data",
          "data": {
            "image/png": "[encoded data removed]",
            "text/plain": [
              "<Figure size 432x288 with 1 Axes>"
            ]
          },
          "metadata": {
            "tags": [],
            "needs_background": "light"
          }
        },
        {
          "output_type": "stream",
          "text": [
            "History rnn text 4:\n"
          ],
          "name": "stdout"
        },
        {
          "output_type": "display_data",
          "data": {
            "image/png": "[encoded data removed]",
            "text/plain": [
              "<Figure size 432x288 with 1 Axes>"
            ]
          },
          "metadata": {
            "tags": [],
            "needs_background": "light"
          }
        },
        {
          "output_type": "display_data",
          "data": {
            "image/png": "[encoded data removed]",
            "text/plain": [
              "<Figure size 432x288 with 1 Axes>"
            ]
          },
          "metadata": {
            "tags": [],
            "needs_background": "light"
          }
        },
        {
          "output_type": "stream",
          "text": [
            "\n",
            "History rnn cbow 1:\n"
          ],
          "name": "stdout"
        },
        {
          "output_type": "display_data",
          "data": {
            "image/png": "[encoded data removed]",
            "text/plain": [
              "<Figure size 432x288 with 1 Axes>"
            ]
          },
          "metadata": {
            "tags": [],
            "needs_background": "light"
          }
        },
        {
          "output_type": "display_data",
          "data": {
            "image/png": "[encoded data removed]",
            "text/plain": [
              "<Figure size 432x288 with 1 Axes>"
            ]
          },
          "metadata": {
            "tags": [],
            "needs_background": "light"
          }
        },
        {
          "output_type": "stream",
          "text": [
            "History rnn cbow 2:\n"
          ],
          "name": "stdout"
        },
        {
          "output_type": "display_data",
          "data": {
            "image/png": "[encoded data removed]",
            "text/plain": [
              "<Figure size 432x288 with 1 Axes>"
            ]
          },
          "metadata": {
            "tags": [],
            "needs_background": "light"
          }
        },
        {
          "output_type": "display_data",
          "data": {
            "image/png": "[encoded data removed]",
            "text/plain": [
              "<Figure size 432x288 with 1 Axes>"
            ]
          },
          "metadata": {
            "tags": [],
            "needs_background": "light"
          }
        },
        {
          "output_type": "stream",
          "text": [
            "History rnn cbow 3:\n"
          ],
          "name": "stdout"
        },
        {
          "output_type": "display_data",
          "data": {
            "image/png": "[encoded data removed]",
            "text/plain": [
              "<Figure size 432x288 with 1 Axes>"
            ]
          },
          "metadata": {
            "tags": [],
            "needs_background": "light"
          }
        },
        {
          "output_type": "display_data",
          "data": {
            "image/png": "[encoded data removed]",
            "text/plain": [
              "<Figure size 432x288 with 1 Axes>"
            ]
          },
          "metadata": {
            "tags": [],
            "needs_background": "light"
          }
        },
        {
          "output_type": "stream",
          "text": [
            "History rnn cbow 4:\n"
          ],
          "name": "stdout"
        },
        {
          "output_type": "display_data",
          "data": {
            "image/png": "[encoded data removed]",
            "text/plain": [
              "<Figure size 432x288 with 1 Axes>"
            ]
          },
          "metadata": {
            "tags": [],
            "needs_background": "light"
          }
        },
        {
          "output_type": "display_data",
          "data": {
            "image/png": "[encoded data removed]",
            "text/plain": [
              "<Figure size 432x288 with 1 Axes>"
            ]
          },
          "metadata": {
            "tags": [],
            "needs_background": "light"
          }
        }
      ]
    },
    {
      "cell_type": "markdown",
      "metadata": {
        "id": "returning-surge"
      },
      "source": [
        "**Zadatak:**\n",
        "    \n",
        "> Izvršiti analizu svih prethodno dobivenih rezultata. Šta se može zaključiti o različitim vrijednostima parametara i reprezentacijama podataka? Detaljno objasniti sve dobivene rezultate, prikaze i tačnosti nad testnim skupovima podataka. Usporediti dvije vrste neuralnih mreža, odrediti model koji daje najveću tačnost i objasniti zašto."
      ],
      "id": "returning-surge"
    },
    {
      "cell_type": "markdown",
      "metadata": {
        "id": "criminal-evanescence"
      },
      "source": [
        "- Moze se zakljuciti da za ovakve vrste problema, RNN mreze su prikladnije i  da daju bolje rezultate. Naravno kada je RNN mrezea u pitanju sporije je treniranje i potrebno je dosta vise resursa u odnosu na CNN mreze, a pogotovo za `cbow` reprezentaciju podataka u odnosu na `text`.\n",
        "- Bolje rezultate su dale RNN mreze u odnosu na CNN, jer CNN mreze su namijenjene za prepoznavanja patterna u skladu vise dimenzija, dok RNN mreze su namijenjenje za prepoznavanje patterna u nekoj sekvenci vremena. Pristup modeliranju tj. NLP je pogodniji za RNN mreze, shodno time su dobijeni i bolji rezultati."
      ],
      "id": "criminal-evanescence"
    }
  ]
}